{
 "cells": [
  {
   "cell_type": "code",
   "execution_count": 12,
   "metadata": {},
   "outputs": [
    {
     "data": {
      "text/plain": [
       "Index(['Jd', 'mlat', 'mlt'], dtype='object')"
      ]
     },
     "execution_count": 12,
     "metadata": {},
     "output_type": "execute_result"
    }
   ],
   "source": [
    "import matplotlib.pyplot as plt\n",
    "import pandas as pd\n",
    "import numpy as np\n",
    "import matplotlib.gridspec as gridspec\n",
    "\n",
    "output = pd.read_csv('pyamp_Control.csv', delim_whitespace = True)\n",
    "\n",
    "output.keys()\n"
   ]
  },
  {
   "cell_type": "code",
   "execution_count": 15,
   "metadata": {},
   "outputs": [],
   "source": [
    "\n",
    "\n",
    "#fig = plt.figure()\n",
    "gs = gridspec.GridSpec(1, 2, width_ratios=[10,1])\n",
    "#gs = gridspec.GridSpec(2, 1)\n",
    "ax2 = plt.subplot(gs[0], projection=\"polar\", aspect=1.)\n",
    "#phi_plot = phi + (np.pi / 3)          # rotate by ninety-degrees so noon is at the top\n",
    "#theta_plot = theta*181/np.pi\n",
    "\n",
    "mask = (np.array(output['mlat']) > 0)\n",
    "\n",
    "MLT = np.array(output['mlt'])[mask]\n",
    "MLAT = np.array(output['mlat'])[mask]\n",
    "J = np.array(output['Jd'])[mask]    # units?\n",
    "\n",
    "phi_plot = MLT * 360 / 24.\n",
    "theta_plot = 91. - MLAT \n",
    "phi_plot = phi_plot.reshape([100,100]) - 90. \n",
    "theta_plot = theta_plot.reshape([100,100])\n",
    "J = J.reshape([100,100])\n",
    "\n",
    "\n",
    "if np.nanmin(theta_plot) > 91:\n",
    "    theta_plot = 181 - theta_plot\n",
    "#im = ax2.pcolormesh(phi_plot*np.pi / 180, np.abs(theta_plot), J,\n",
    "#                    cmap='bwr', shading='auto')            # north pole\n",
    "im = ax2.contour(phi_plot*np.pi / 180, np.abs(theta_plot), J, 13, cmap='PRGn', vmin = -3., vmax = 3., linestyles = 'dashed');\n",
    "#ax2.plot(phi_plot.flatten(), phi_plot.flatten() * 0 + 10)\n",
    "ax2.set_ylim([0,40])\n",
    "ax2.set_yticks([10, 20, 30])  # Less radial ticks\n",
    "ax2.set_yticklabels([r'$80^\\circ$', r'$70^\\circ$', r'$60^\\circ$'])\n",
    "ax2.set_rlabel_position(-10)  # Move radial labels away from plotted line\n",
    "ax2.set_xticks(list(np.arange(0, 2*np.pi, np.pi / 4)))\n",
    "#ax2.set_xticklabels(list(np.arange(18, 24, 3)) + list(np.arange(0, 18, 3)))\n",
    "ax2.set_xticklabels(list(np.arange(6, 24, 3)) + list(np.arange(0, 6, 3)))\n",
    "ax2.grid(True)\n",
    "ax3 = plt.subplot(gs[1])\n",
    "   #cax = fig.add_axes([ax.get_position().x2+0.01,ax.get_position().y0,0.02,ax.get_position().height])\n",
    "   #plt.colorbar(im, cax=cax) # Similar to fig.colorbar(im, cax = cax)\n",
    "   #divider = make_axes_locatable(ax2)\n",
    "   #cax = divider.append_axes('right', size='6%', pad=0.05)\n",
    "   #cbar = fig.colorbar(im, cax=cax, orientation='vertical')\n",
    "cbar = plt.colorbar(im, cax=ax3, aspect = 40)\n",
    "   #cbar = mpl.colorbar.ColorbarBase(ax3, cmap = cmap)\n",
    "cbar.set_label(r'J [$\\mu A/m^3$]')\n",
    "ax2.set_title('MFACE FAC')\n",
    "#plt_temp = plt\n",
    "#self.fig_list.append(plt_temp)\n",
    "#self.fig_path_list.append(path)\n",
    "plt.tight_layout()\n",
    "#mkdir_path(path)\n",
    "#plt.savefig(path)\n",
    "plt.sca(ax2)   # set the current axis to the main plot \n",
    "plt.show()\n",
    "plt.savefig('pyamps_FAC.png')\n",
    "#if pltclose:   # set pltclose=false to plot on top ofthe figure?\n",
    "#    plt.close()\n",
    "plt.close()\n"
   ]
  },
  {
   "cell_type": "code",
   "execution_count": 14,
   "metadata": {},
   "outputs": [],
   "source": [
    "\n",
    "\n",
    "fig, (ax0, ax1) = plt.subplots(2, 1)\n",
    "\n",
    "c = ax0.pcolor(J)\n",
    "ax0.set_title('default: no edges')\n",
    "\n",
    "c = ax1.pcolor(phi_plot, theta_plot, J, edgecolors='k', linewidths=4, cmap='bwr')\n",
    "ax1.set_title('thick edges')\n",
    "\n",
    "fig.tight_layout()\n",
    "plt.show()\n",
    "plt.savefig('example.png')\n",
    "plt.close()"
   ]
  },
  {
   "cell_type": "code",
   "execution_count": 4,
   "metadata": {},
   "outputs": [
    {
     "data": {
      "text/plain": [
       "(5880,)"
      ]
     },
     "execution_count": 4,
     "metadata": {},
     "output_type": "execute_result"
    }
   ],
   "source": [
    "np.min(output)\n",
    "a, b = np.where(J>0)\n",
    "b.shape"
   ]
  },
  {
   "cell_type": "code",
   "execution_count": 5,
   "metadata": {},
   "outputs": [
    {
     "ename": "ValueError",
     "evalue": "cannot reshape array of size 10000 into shape (200,100)",
     "output_type": "error",
     "traceback": [
      "\u001b[0;31m---------------------------------------------------------------------------\u001b[0m",
      "\u001b[0;31mValueError\u001b[0m                                Traceback (most recent call last)",
      "Cell \u001b[0;32mIn[5], line 1\u001b[0m\n\u001b[0;32m----> 1\u001b[0m MLT\u001b[39m.\u001b[39;49mreshape([\u001b[39m200\u001b[39;49m,\u001b[39m100\u001b[39;49m])[:,\u001b[39m0\u001b[39m] \u001b[39m*\u001b[39m \u001b[39m360\u001b[39m \u001b[39m/\u001b[39m \u001b[39m24\u001b[39m\n",
      "\u001b[0;31mValueError\u001b[0m: cannot reshape array of size 10000 into shape (200,100)"
     ]
    }
   ],
   "source": [
    "MLT.reshape([200,100])[:,0] * 360 / 24"
   ]
  },
  {
   "cell_type": "code",
   "execution_count": 6,
   "metadata": {},
   "outputs": [
    {
     "data": {
      "text/plain": [
       "array([[-89.9       , -89.9       , -89.9       , ..., -89.9       ,\n",
       "        -89.9       , -89.9       ],\n",
       "       [-86.26565657, -86.26565657, -86.26565657, ..., -86.26565657,\n",
       "        -86.26565657, -86.26565657],\n",
       "       [-82.63131313, -82.63131313, -82.63131313, ..., -82.63131313,\n",
       "        -82.63131313, -82.63131313],\n",
       "       ...,\n",
       "       [262.63131313, 262.63131313, 262.63131313, ..., 262.63131313,\n",
       "        262.63131313, 262.63131313],\n",
       "       [266.26565657, 266.26565657, 266.26565657, ..., 266.26565657,\n",
       "        266.26565657, 266.26565657],\n",
       "       [269.9       , 269.9       , 269.9       , ..., 269.9       ,\n",
       "        269.9       , 269.9       ]])"
      ]
     },
     "execution_count": 6,
     "metadata": {},
     "output_type": "execute_result"
    }
   ],
   "source": [
    "phi_plot[:,0]\n",
    "phi_plot"
   ]
  },
  {
   "cell_type": "code",
   "execution_count": 7,
   "metadata": {},
   "outputs": [
    {
     "data": {
      "text/html": [
       "<div>\n",
       "<style scoped>\n",
       "    .dataframe tbody tr th:only-of-type {\n",
       "        vertical-align: middle;\n",
       "    }\n",
       "\n",
       "    .dataframe tbody tr th {\n",
       "        vertical-align: top;\n",
       "    }\n",
       "\n",
       "    .dataframe thead th {\n",
       "        text-align: right;\n",
       "    }\n",
       "</style>\n",
       "<table border=\"1\" class=\"dataframe\">\n",
       "  <thead>\n",
       "    <tr style=\"text-align: right;\">\n",
       "      <th></th>\n",
       "      <th>Jd</th>\n",
       "      <th>mlat</th>\n",
       "      <th>mlt</th>\n",
       "    </tr>\n",
       "  </thead>\n",
       "  <tbody>\n",
       "    <tr>\n",
       "      <th>0</th>\n",
       "      <td>-0.033303</td>\n",
       "      <td>60.000000</td>\n",
       "      <td>0.006667</td>\n",
       "    </tr>\n",
       "    <tr>\n",
       "      <th>1</th>\n",
       "      <td>-0.037157</td>\n",
       "      <td>60.302929</td>\n",
       "      <td>0.006667</td>\n",
       "    </tr>\n",
       "    <tr>\n",
       "      <th>2</th>\n",
       "      <td>-0.043257</td>\n",
       "      <td>60.605859</td>\n",
       "      <td>0.006667</td>\n",
       "    </tr>\n",
       "    <tr>\n",
       "      <th>3</th>\n",
       "      <td>-0.052403</td>\n",
       "      <td>60.908788</td>\n",
       "      <td>0.006667</td>\n",
       "    </tr>\n",
       "    <tr>\n",
       "      <th>4</th>\n",
       "      <td>-0.065299</td>\n",
       "      <td>61.211717</td>\n",
       "      <td>0.006667</td>\n",
       "    </tr>\n",
       "    <tr>\n",
       "      <th>...</th>\n",
       "      <td>...</td>\n",
       "      <td>...</td>\n",
       "      <td>...</td>\n",
       "    </tr>\n",
       "    <tr>\n",
       "      <th>19995</th>\n",
       "      <td>-0.030069</td>\n",
       "      <td>-88.778283</td>\n",
       "      <td>23.993333</td>\n",
       "    </tr>\n",
       "    <tr>\n",
       "      <th>19996</th>\n",
       "      <td>-0.030284</td>\n",
       "      <td>-89.081212</td>\n",
       "      <td>23.993333</td>\n",
       "    </tr>\n",
       "    <tr>\n",
       "      <th>19997</th>\n",
       "      <td>-0.028391</td>\n",
       "      <td>-89.384141</td>\n",
       "      <td>23.993333</td>\n",
       "    </tr>\n",
       "    <tr>\n",
       "      <th>19998</th>\n",
       "      <td>-0.024973</td>\n",
       "      <td>-89.687071</td>\n",
       "      <td>23.993333</td>\n",
       "    </tr>\n",
       "    <tr>\n",
       "      <th>19999</th>\n",
       "      <td>-0.020789</td>\n",
       "      <td>-89.990000</td>\n",
       "      <td>23.993333</td>\n",
       "    </tr>\n",
       "  </tbody>\n",
       "</table>\n",
       "<p>20000 rows × 3 columns</p>\n",
       "</div>"
      ],
      "text/plain": [
       "             Jd       mlat        mlt\n",
       "0     -0.033303  60.000000   0.006667\n",
       "1     -0.037157  60.302929   0.006667\n",
       "2     -0.043257  60.605859   0.006667\n",
       "3     -0.052403  60.908788   0.006667\n",
       "4     -0.065299  61.211717   0.006667\n",
       "...         ...        ...        ...\n",
       "19995 -0.030069 -88.778283  23.993333\n",
       "19996 -0.030284 -89.081212  23.993333\n",
       "19997 -0.028391 -89.384141  23.993333\n",
       "19998 -0.024973 -89.687071  23.993333\n",
       "19999 -0.020789 -89.990000  23.993333\n",
       "\n",
       "[20000 rows x 3 columns]"
      ]
     },
     "execution_count": 7,
     "metadata": {},
     "output_type": "execute_result"
    }
   ],
   "source": [
    "\n",
    "output"
   ]
  },
  {
   "cell_type": "code",
   "execution_count": 8,
   "metadata": {},
   "outputs": [],
   "source": [
    "plt.scatter(MLT, MLAT)\n",
    "plt.show()"
   ]
  },
  {
   "cell_type": "code",
   "execution_count": 9,
   "metadata": {},
   "outputs": [
    {
     "data": {
      "text/plain": [
       "array([60.        , 60.30292929, 60.60585859, ..., 89.38414141,\n",
       "       89.68707071, 89.99      ])"
      ]
     },
     "execution_count": 9,
     "metadata": {},
     "output_type": "execute_result"
    }
   ],
   "source": [
    "MLAT"
   ]
  },
  {
   "cell_type": "code",
   "execution_count": 10,
   "metadata": {},
   "outputs": [
    {
     "data": {
      "text/plain": [
       "array([75.14646465, 75.44939394, 75.75232323, 76.05525253, 76.35818182,\n",
       "       76.66111111, 76.9640404 , 77.2669697 , 77.56989899, 77.87282828,\n",
       "       78.17575758, 78.47868687, 78.78161616, 79.08454545, 79.38747475,\n",
       "       79.69040404, 79.99333333, 80.29626263, 80.59919192, 80.90212121,\n",
       "       81.20505051, 81.5079798 , 81.81090909, 82.11383838, 82.41676768,\n",
       "       82.71969697, 83.02262626, 83.32555556, 83.62848485, 83.93141414,\n",
       "       84.23434343, 84.53727273, 84.84020202, 85.14313131, 85.44606061,\n",
       "       85.7489899 , 86.05191919, 86.35484848, 86.65777778, 86.96070707,\n",
       "       87.26363636, 87.56656566, 87.86949495, 88.17242424, 88.47535354,\n",
       "       88.77828283, 89.08121212, 89.38414141, 89.68707071, 89.99      ])"
      ]
     },
     "execution_count": 10,
     "metadata": {},
     "output_type": "execute_result"
    }
   ],
   "source": [
    "MLAT[9950:10200]"
   ]
  },
  {
   "cell_type": "code",
   "execution_count": 11,
   "metadata": {},
   "outputs": [
    {
     "data": {
      "text/plain": [
       "(10000,)"
      ]
     },
     "execution_count": 11,
     "metadata": {},
     "output_type": "execute_result"
    }
   ],
   "source": [
    "MLAT[MLAT > 0]\n",
    "MLAT.shape"
   ]
  },
  {
   "cell_type": "code",
   "execution_count": null,
   "metadata": {},
   "outputs": [],
   "source": []
  }
 ],
 "metadata": {
  "kernelspec": {
   "display_name": "Python 3",
   "language": "python",
   "name": "python3"
  },
  "language_info": {
   "codemirror_mode": {
    "name": "ipython",
    "version": 3
   },
   "file_extension": ".py",
   "mimetype": "text/x-python",
   "name": "python",
   "nbconvert_exporter": "python",
   "pygments_lexer": "ipython3",
   "version": "3.8.2"
  },
  "orig_nbformat": 4,
  "vscode": {
   "interpreter": {
    "hash": "20a801c583aca3adae298150790823b43030f663fdee4344e11827de709611dc"
   }
  }
 },
 "nbformat": 4,
 "nbformat_minor": 2
}
