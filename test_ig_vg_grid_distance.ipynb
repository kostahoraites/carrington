{
 "cells": [
  {
   "cell_type": "code",
   "execution_count": null,
   "metadata": {},
   "outputs": [],
   "source": [
    "import ftest as ft\n",
    "import numpy as np\n",
    "from carrington import get_all_cell_coordinates\n",
    "\n",
    "R_EARTH = 6371000.\n",
    "\n",
    "f = ft.f('/wrk-vakka/group/spacephysics/vlasiator/3D/FHA/bulk1/bulk1.0001170.vlsv')  # FHA vlsvReader object\n",
    "\n",
    "def get_ig_r(f):                                                                                                      \n",
    "    n = f.get_ionosphere_node_coords()          # node = vertex of the triangular mesh                                \n",
    "    ec = f.get_ionosphere_element_corners()     # (Element Corners), where element = triangular face                 \n",
    "    ig_r = np.zeros(ec.shape)                                                                                         \n",
    "    for i in range(ig_r.shape[0]):                                                                                    \n",
    "        ig_r[i,:] = (n[ec[i,0], :] + n[ec[i,1], :] + n[ec[i,2], :]) / 3  #barycenter, aka centroid                    \n",
    "    return ig_r                                                                                                       \n",
    "\n",
    "def get_ig_r(f):\n",
    "    n = f.get_ionosphere_node_coords()          # node = vertex of the triangular mesh\n",
    "    ec = f.get_ionosphere_element_corners()     # (Element Corners), where element = trianglular face\n",
    "    ig_r = np.zeros(ec.shape)\n",
    "    for i in range(ig_r.shape[0]):\n",
    "        ig_r[i,:] = (n[ec[i,0], :] + n[ec[i,1], :] + n[ec[i,2], :]) / 3  #barycenter, aka centroid\n",
    "    return ig_r\n",
    "\n",
    "ig_r = get_ig_r(f)\n",
    "\n",
    "# load vg_ coordinates and compute cell volumes (dV)\n",
    "vg_x, vg_y, vg_z = get_all_cell_coordinates(f)\n",
    "vg_r = np.linalg.norm([vg_x, vg_y, vg_z], axis = 0)\n",
    "\n",
    "min = 2000000.   # vg_r grid resolution dx inside inner boundary\n",
    "inner = np.where((vg_r < 2*R_EARTH) & (vg_r > R_EARTH))[0]  # here refinement level=2 (i.e. dx = 2e6m)\n",
    "vg_x_in = vg_x[inner]; vg_y_in = vg_y[inner]; vg_z_in = vg_z[inner]\n",
    "for i in range(ig_r.shape[0]):\n",
    " test = np.nanmin( np.linalg.norm([vg_x_in-ig_r[i][0], vg_y_in-ig_r[i][1], vg_z_in-ig_r[i][2]], axis = 0) )\n",
    " if test < min:\n",
    "  min = test\n",
    "  print(min)   # the last line printed is the minimum distance between vg grid (cell centered) and ig grid barycenter coordinates.\n",
    "\n"
   ]
  }
 ],
 "metadata": {
  "language_info": {
   "name": "python"
  },
  "orig_nbformat": 4
 },
 "nbformat": 4,
 "nbformat_minor": 2
}
