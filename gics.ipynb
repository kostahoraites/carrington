{
 "cells": [
  {
   "cell_type": "code",
   "execution_count": 1,
   "metadata": {},
   "outputs": [
    {
     "name": "stdout",
     "output_type": "stream",
     "text": [
      "/proj/horakons/conda/myconda/bin:/wrk-vakka/turso/home/horakons/proj/.vscode-server/bin/6c3e3dba23e8fadc360aed75ce363ba185c49794/bin/remote-cli:/appl/easybuild/opt/Anaconda3/2022.05:/appl/easybuild/opt/Anaconda3/2022.05/sbin:/proj/horakons/conda/myconda/bin:/appl/easybuild/opt/ImageMagick/7.1.0-37-GCCcore-11.3.0/bin:/appl/easybuild/opt/LittleCMS/2.13.1-GCCcore-11.3.0/bin:/appl/easybuild/opt/JasPer/2.0.33-GCCcore-11.3.0/bin:/appl/easybuild/opt/Ghostscript/9.56.1-GCCcore-11.3.0/bin:/appl/easybuild/opt/GTK2/2.24.33-GCCcore-11.3.0/bin:/appl/easybuild/opt/Pango/1.50.7-GCCcore-11.3.0/bin:/appl/easybuild/opt/FriBidi/1.0.12-GCCcore-11.3.0/bin:/appl/easybuild/opt/HarfBuzz/4.2.1-GCCcore-11.3.0/bin:/appl/easybuild/opt/ICU/71.1-GCCcore-11.3.0/sbin:/appl/easybuild/opt/ICU/71.1-GCCcore-11.3.0/bin:/appl/easybuild/opt/Gdk-Pixbuf/2.42.8-GCCcore-11.3.0/bin:/appl/easybuild/opt/LibTIFF/4.3.0-GCCcore-11.3.0/bin:/appl/easybuild/opt/libdeflate/1.10-GCCcore-11.3.0/bin:/appl/easybuild/opt/zstd/1.5.2-GCCcore-11.3.0/bin:/appl/easybuild/opt/lz4/1.9.3-GCCcore-11.3.0/bin:/appl/easybuild/opt/gzip/1.12-GCCcore-11.3.0/bin:/appl/easybuild/opt/jbigkit/2.1-GCCcore-11.3.0/bin:/appl/easybuild/opt/cairo/1.17.4-GCCcore-11.3.0/bin:/appl/easybuild/opt/GLib/2.72.1-GCCcore-11.3.0/bin:/appl/easybuild/opt/PCRE/8.45-GCCcore-11.3.0/bin:/appl/easybuild/opt/gettext/0.21-GCCcore-11.3.0/bin:/appl/easybuild/opt/libxml2/2.9.13-GCCcore-11.3.0/bin:/appl/easybuild/opt/XZ/5.2.5-GCCcore-11.3.0/bin:/appl/easybuild/opt/libjpeg-turbo/2.1.3-GCCcore-11.3.0/bin:/appl/easybuild/opt/NASM/2.15.05-GCCcore-11.3.0/bin:/appl/easybuild/opt/X11/20220504-GCCcore-11.3.0/bin:/appl/easybuild/opt/fontconfig/2.14.0-GCCcore-11.3.0/bin:/appl/easybuild/opt/util-linux/2.38-GCCcore-11.3.0/sbin:/appl/easybuild/opt/util-linux/2.38-GCCcore-11.3.0/bin:/appl/easybuild/opt/ncurses/6.3-GCCcore-11.3.0/bin:/appl/easybuild/opt/freetype/2.12.1-GCCcore-11.3.0/bin:/appl/easybuild/opt/Brotli/1.0.9-GCCcore-11.3.0/bin:/appl/easybuild/opt/libpng/1.6.37-GCCcore-11.3.0/bin:/appl/easybuild/opt/expat/2.4.8-GCCcore-11.3.0/bin:/appl/easybuild/opt/bzip2/1.0.8-GCCcore-11.3.0/bin:/appl/easybuild/opt/GCCcore/11.3.0/bin:/appl/easybuild/opt/Anaconda3/2022.05/condabin:/usr/local/bin:/usr/bin:/usr/local/sbin:/usr/sbin:/proj/horakons/julia:/proj/horakons/julia/julia-1.7.2/bin:/proj/horakons/.local/bin:/wrk-vakka/group/spacephysics/proj/appl/tex-basic/texlive/2023/bin/x86_64-linux\n"
     ]
    },
    {
     "ename": "KeyboardInterrupt",
     "evalue": "",
     "output_type": "error",
     "traceback": [
      "\u001b[0;31m---------------------------------------------------------------------------\u001b[0m",
      "\u001b[0;31mKeyboardInterrupt\u001b[0m                         Traceback (most recent call last)",
      "Cell \u001b[0;32mIn[1], line 18\u001b[0m\n\u001b[1;32m     14\u001b[0m \u001b[39mimport\u001b[39;00m \u001b[39mmatplotlib\u001b[39;00m\u001b[39m.\u001b[39;00m\u001b[39mpyplot\u001b[39;00m \u001b[39mas\u001b[39;00m \u001b[39mplt\u001b[39;00m\n\u001b[1;32m     17\u001b[0m \u001b[39mimport\u001b[39;00m \u001b[39mnumpy\u001b[39;00m \u001b[39mas\u001b[39;00m \u001b[39mnp\u001b[39;00m\n\u001b[0;32m---> 18\u001b[0m \u001b[39mimport\u001b[39;00m \u001b[39mftest\u001b[39;00m \u001b[39mas\u001b[39;00m \u001b[39mft\u001b[39;00m\n\u001b[1;32m     19\u001b[0m \u001b[39mimport\u001b[39;00m \u001b[39mpytools\u001b[39;00m \u001b[39mas\u001b[39;00m \u001b[39mpt\u001b[39;00m\n\u001b[1;32m     20\u001b[0m \u001b[39m#from numba import jit\u001b[39;00m\n",
      "File \u001b[0;32m/wrk-vakka/users/horakons/carrington/utils/ftest.py:1\u001b[0m\n\u001b[0;32m----> 1\u001b[0m \u001b[39mimport\u001b[39;00m \u001b[39mpytools\u001b[39;00m \u001b[39mas\u001b[39;00m \u001b[39mpt\u001b[39;00m\n\u001b[1;32m      3\u001b[0m \u001b[39mdef\u001b[39;00m \u001b[39mf\u001b[39m(vlsvfile \u001b[39m=\u001b[39m \u001b[39m'\u001b[39m\u001b[39m/wrk-vakka/group/spacephysics/vlasiator/3D/FHA/bulk1/bulk1.0001001.vlsv\u001b[39m\u001b[39m'\u001b[39m):\n\u001b[1;32m      4\u001b[0m    \u001b[39mreturn\u001b[39;00m pt\u001b[39m.\u001b[39mvlsvfile\u001b[39m.\u001b[39mVlsvReader(vlsvfile)\n",
      "File \u001b[0;32m/proj/horakons/analysator/pytools.py:41\u001b[0m\n\u001b[1;32m     37\u001b[0m    filemanagement\u001b[39m.\u001b[39msys\u001b[39m.\u001b[39mpath\u001b[39m.\u001b[39minsert(\u001b[39m0\u001b[39m, filemanagement\u001b[39m.\u001b[39mos\u001b[39m.\u001b[39mpath\u001b[39m.\u001b[39mdirname(filemanagement\u001b[39m.\u001b[39mos\u001b[39m.\u001b[39mpath\u001b[39m.\u001b[39mabspath(\u001b[39m__file__\u001b[39m)) \u001b[39m+\u001b[39m \u001b[39m\"\u001b[39m\u001b[39m/\u001b[39m\u001b[39m\"\u001b[39m \u001b[39m+\u001b[39m \u001b[39m\"\u001b[39m\u001b[39mpyMayaVi\u001b[39m\u001b[39m\"\u001b[39m)\n\u001b[1;32m     40\u001b[0m \u001b[39m# Make sure matplotlib has a unique temp directory\u001b[39;00m\n\u001b[0;32m---> 41\u001b[0m mpldir \u001b[39m=\u001b[39m tempfile\u001b[39m.\u001b[39;49mmkdtemp()\n\u001b[1;32m     42\u001b[0m atexit\u001b[39m.\u001b[39mregister(shutil\u001b[39m.\u001b[39mrmtree, mpldir)\n\u001b[1;32m     43\u001b[0m os\u001b[39m.\u001b[39menviron[\u001b[39m'\u001b[39m\u001b[39mMPLCONFIGDIR\u001b[39m\u001b[39m'\u001b[39m]\u001b[39m=\u001b[39mmpldir\n",
      "File \u001b[0;32m/proj/horakons/conda/myconda/lib/python3.8/tempfile.py:358\u001b[0m, in \u001b[0;36mmkdtemp\u001b[0;34m(suffix, prefix, dir)\u001b[0m\n\u001b[1;32m    356\u001b[0m _sys\u001b[39m.\u001b[39maudit(\u001b[39m\"\u001b[39m\u001b[39mtempfile.mkdtemp\u001b[39m\u001b[39m\"\u001b[39m, file)\n\u001b[1;32m    357\u001b[0m \u001b[39mtry\u001b[39;00m:\n\u001b[0;32m--> 358\u001b[0m     _os\u001b[39m.\u001b[39;49mmkdir(file, \u001b[39m0o700\u001b[39;49m)\n\u001b[1;32m    359\u001b[0m \u001b[39mexcept\u001b[39;00m \u001b[39mFileExistsError\u001b[39;00m:\n\u001b[1;32m    360\u001b[0m     \u001b[39mcontinue\u001b[39;00m    \u001b[39m# try again\u001b[39;00m\n",
      "\u001b[0;31mKeyboardInterrupt\u001b[0m: "
     ]
    }
   ],
   "source": [
    "'''\n",
    "Before running cell blocks below, requires running biot_savart.py \n",
    "(option #1 in main()) to generate total ground magnetic field files\n",
    "'''\n",
    "\n",
    "import os\n",
    "#os.environ['PATH'] = \"/wrk-vakka/group/spacephysics/proj/appl/tex-basic/texlive/2023/bin/x86_64-linux:\" + os.environ['PATH']\n",
    "print(os.environ[\"PATH\"])\n",
    "\n",
    "\n",
    "import matplotlib\n",
    "#matplotlib.use('TkAgg')\n",
    "%matplotlib inline\n",
    "import matplotlib.pyplot as plt\n",
    "\n",
    "\n",
    "import numpy as np\n",
    "import ftest as ft\n",
    "import pytools as pt\n",
    "#from numba import jit\n",
    "from myutils import cartesian_to_spherical_vector, spherical_to_cartesian, mkdir_path, timer\n",
    "\n",
    "R_EARTH = 6371000.\n",
    "\n",
    "run = \"FHA\"  # FHA, FIA, EGL\n",
    "if run == \"FIA\":\n",
    "    dir = \"/wrk-vakka/group/spacephysics/vlasiator/3D/FIA/bulk_sidecars/ig_B\"\n",
    "elif run == \"FHA\":\n",
    "    dir = \"/wrk-vakka/group/spacephysics/vlasiator/3D/FHA/bulk1_sidecars/ig_B\"\n",
    "elif run == \"EGL\":\n",
    "    dir = \"/wrk-vakka/group/spacephysics/vlasiator/3D/EGL/sidecars/ig_B\"\n",
    "f = ft.f(\"/wrk-vakka/group/spacephysics/vlasiator/3D/FHA/bulk1_sidecars/ig_B/ionosphere_B_sidecar_FHA.0000784.vlsv\")\n",
    "f.list()\n",
    "#plt.plot([1,2])\n",
    "#plt.show()\n",
    "\n"
   ]
  },
  {
   "cell_type": "code",
   "execution_count": 3,
   "metadata": {},
   "outputs": [],
   "source": [
    "#@timer\n",
    "#@jit(nopython=True)\n",
    "def E_horizontal(dB_dt, pos, time, sigma = 1e-3):\n",
    "    '''\n",
    "        Calculate the horizontal electric field by integrating components of dB/dt \n",
    "            References: Cagniard et al 1952 (eq. 12), Pulkinnen et al 2006 (eq. 19)\n",
    "        Inputs:\n",
    "            dB_dt: cartesian dB/dt    [T/s] array dimension [3, len(time)]\n",
    "            pos: cartesian position [m] 1D 3-element array, vector position\n",
    "            time: 1D array of times [s]\n",
    "\n",
    "        Keywords:\n",
    "            sigma = ground conductivity (siemens/meter)\n",
    "    '''\n",
    "    mu_0 = 1.25663706e-6    # permeability of free space\n",
    "    E_north = np.zeros(time.size)\n",
    "    E_east = np.zeros(time.size)\n",
    "    dB_dt_r, dB_dt_theta, dB_dt_phi = cartesian_to_spherical_vector(dB_dt[0,:], dB_dt[1,:], dB_dt[2,:], pos[0], pos[1], pos[2])\n",
    "    dB_dt_north = -dB_dt_theta; dB_dt_east = dB_dt_phi\n",
    "    t0 = time[1] - time[0]\n",
    "    for i in range(1, time.size):\n",
    "        # Possible upgrade to the integration would be to fit the dB/dt time-series to a polynomial first \n",
    "        # and integrate that exactly over the finite time domain\n",
    "        t = time[i]\n",
    "        tp = time[1:i+1]          \n",
    "        dt = tp - time[0:i]\n",
    "        # general equation for E (e.g., Pulkinnen et al. 2005, eq. 19. Note in their formula there is a typo (comparing with Cagniard 1952): should be dB/dt not dB/dt')\n",
    "        E_north[i] = -(1. / np.sqrt(np.pi * mu_0 * sigma)) * np.sum(dt * dB_dt_east[1:i+1] / np.sqrt(t-tp + t0))\n",
    "        E_east[i] = (1. / np.sqrt(np.pi * mu_0 * sigma)) * np.sum(dt * dB_dt_north[1:i+1] / np.sqrt(t-tp + t0))  # note the sign\n",
    "    return E_north, E_east\n"
   ]
  },
  {
   "cell_type": "markdown",
   "metadata": {},
   "source": [
    "\n",
    "i_pos = 0\n",
    "E_north, E_east = E_horizontal(ig_dB_dt_arr[i_pos,:,:], pos[i_pos,:], time, sigma = 1e-3)"
   ]
  },
  {
   "cell_type": "code",
   "execution_count": 4,
   "metadata": {},
   "outputs": [
    {
     "name": "stdout",
     "output_type": "stream",
     "text": [
      "Error: variable cellid/VARIABLE/SpatialGrid/pass not found in .vlsv file or in data reducers!\n",
      "Error: variable cellid/VARIABLE/SpatialGrid/pass not found in .vlsv file or in data reducers!\n",
      "Error: variable cellid/VARIABLE/SpatialGrid/pass not found in .vlsv file or in data reducers!\n",
      "Error: variable cellid/VARIABLE/SpatialGrid/pass not found in .vlsv file or in data reducers!\n",
      "Error: variable cellid/VARIABLE/SpatialGrid/pass not found in .vlsv file or in data reducers!\n",
      "Error: variable cellid/VARIABLE/SpatialGrid/pass not found in .vlsv file or in data reducers!\n",
      "Error: variable cellid/VARIABLE/SpatialGrid/pass not found in .vlsv file or in data reducers!\n",
      "Error: variable cellid/VARIABLE/SpatialGrid/pass not found in .vlsv file or in data reducers!\n",
      "Error: variable cellid/VARIABLE/SpatialGrid/pass not found in .vlsv file or in data reducers!\n",
      "Error: variable cellid/VARIABLE/SpatialGrid/pass not found in .vlsv file or in data reducers!\n",
      "Error: variable cellid/VARIABLE/SpatialGrid/pass not found in .vlsv file or in data reducers!\n",
      "Error: variable cellid/VARIABLE/SpatialGrid/pass not found in .vlsv file or in data reducers!\n",
      "Error: variable cellid/VARIABLE/SpatialGrid/pass not found in .vlsv file or in data reducers!\n",
      "Error: variable cellid/VARIABLE/SpatialGrid/pass not found in .vlsv file or in data reducers!\n",
      "Error: variable cellid/VARIABLE/SpatialGrid/pass not found in .vlsv file or in data reducers!\n",
      "Error: variable cellid/VARIABLE/SpatialGrid/pass not found in .vlsv file or in data reducers!\n",
      "Error: variable cellid/VARIABLE/SpatialGrid/pass not found in .vlsv file or in data reducers!\n",
      "Error: variable cellid/VARIABLE/SpatialGrid/pass not found in .vlsv file or in data reducers!\n",
      "Error: variable cellid/VARIABLE/SpatialGrid/pass not found in .vlsv file or in data reducers!\n",
      "Error: variable cellid/VARIABLE/SpatialGrid/pass not found in .vlsv file or in data reducers!\n",
      "Error: variable cellid/VARIABLE/SpatialGrid/pass not found in .vlsv file or in data reducers!\n",
      "Error: variable cellid/VARIABLE/SpatialGrid/pass not found in .vlsv file or in data reducers!\n",
      "Error: variable cellid/VARIABLE/SpatialGrid/pass not found in .vlsv file or in data reducers!\n",
      "Error: variable cellid/VARIABLE/SpatialGrid/pass not found in .vlsv file or in data reducers!\n",
      "Error: variable cellid/VARIABLE/SpatialGrid/pass not found in .vlsv file or in data reducers!\n",
      "Error: variable cellid/VARIABLE/SpatialGrid/pass not found in .vlsv file or in data reducers!\n",
      "Error: variable cellid/VARIABLE/SpatialGrid/pass not found in .vlsv file or in data reducers!\n",
      "Error: variable cellid/VARIABLE/SpatialGrid/pass not found in .vlsv file or in data reducers!\n",
      "Error: variable cellid/VARIABLE/SpatialGrid/pass not found in .vlsv file or in data reducers!\n",
      "Error: variable cellid/VARIABLE/SpatialGrid/pass not found in .vlsv file or in data reducers!\n",
      "Error: variable cellid/VARIABLE/SpatialGrid/pass not found in .vlsv file or in data reducers!\n",
      "Error: variable cellid/VARIABLE/SpatialGrid/pass not found in .vlsv file or in data reducers!\n",
      "Error: variable cellid/VARIABLE/SpatialGrid/pass not found in .vlsv file or in data reducers!\n",
      "Error: variable cellid/VARIABLE/SpatialGrid/pass not found in .vlsv file or in data reducers!\n",
      "Error: variable cellid/VARIABLE/SpatialGrid/pass not found in .vlsv file or in data reducers!\n",
      "Error: variable cellid/VARIABLE/SpatialGrid/pass not found in .vlsv file or in data reducers!\n",
      "Error: variable cellid/VARIABLE/SpatialGrid/pass not found in .vlsv file or in data reducers!\n",
      "Error: variable cellid/VARIABLE/SpatialGrid/pass not found in .vlsv file or in data reducers!\n",
      "Error: variable cellid/VARIABLE/SpatialGrid/pass not found in .vlsv file or in data reducers!\n",
      "Error: variable cellid/VARIABLE/SpatialGrid/pass not found in .vlsv file or in data reducers!\n",
      "Error: variable cellid/VARIABLE/SpatialGrid/pass not found in .vlsv file or in data reducers!\n",
      "Error: variable cellid/VARIABLE/SpatialGrid/pass not found in .vlsv file or in data reducers!\n",
      "Error: variable cellid/VARIABLE/SpatialGrid/pass not found in .vlsv file or in data reducers!\n",
      "Error: variable cellid/VARIABLE/SpatialGrid/pass not found in .vlsv file or in data reducers!\n",
      "Error: variable cellid/VARIABLE/SpatialGrid/pass not found in .vlsv file or in data reducers!\n",
      "Error: variable cellid/VARIABLE/SpatialGrid/pass not found in .vlsv file or in data reducers!\n",
      "Error: variable cellid/VARIABLE/SpatialGrid/pass not found in .vlsv file or in data reducers!\n",
      "Error: variable cellid/VARIABLE/SpatialGrid/pass not found in .vlsv file or in data reducers!\n",
      "Error: variable cellid/VARIABLE/SpatialGrid/pass not found in .vlsv file or in data reducers!\n",
      "Error: variable cellid/VARIABLE/SpatialGrid/pass not found in .vlsv file or in data reducers!\n"
     ]
    },
    {
     "ename": "KeyboardInterrupt",
     "evalue": "",
     "output_type": "error",
     "traceback": [
      "\u001b[0;31m---------------------------------------------------------------------------\u001b[0m",
      "\u001b[0;31mKeyboardInterrupt\u001b[0m                         Traceback (most recent call last)",
      "Cell \u001b[0;32mIn[4], line 28\u001b[0m\n\u001b[1;32m     25\u001b[0m \u001b[39m#populate B arrays\u001b[39;00m\n\u001b[1;32m     26\u001b[0m \u001b[39mfor\u001b[39;00m i \u001b[39min\u001b[39;00m \u001b[39mrange\u001b[39m(nmin, nmax\u001b[39m+\u001b[39m\u001b[39m1\u001b[39m):\n\u001b[1;32m     27\u001b[0m     \u001b[39m#print(i)\u001b[39;00m\n\u001b[0;32m---> 28\u001b[0m     f \u001b[39m=\u001b[39m ft\u001b[39m.\u001b[39;49mf(\u001b[39mdir\u001b[39;49m \u001b[39m+\u001b[39;49m \u001b[39m\"\u001b[39;49m\u001b[39m/ionosphere_B_sidecar_\u001b[39;49m\u001b[39m{}\u001b[39;49;00m\u001b[39m.\u001b[39;49m\u001b[39m{}\u001b[39;49;00m\u001b[39m.vlsv\u001b[39;49m\u001b[39m\"\u001b[39;49m\u001b[39m.\u001b[39;49mformat(run, \u001b[39mstr\u001b[39;49m(i)\u001b[39m.\u001b[39;49mzfill(\u001b[39m7\u001b[39;49m)))     \u001b[39m# FHA: file indices 501 - 1612\u001b[39;00m\n\u001b[1;32m     29\u001b[0m     \u001b[39mtry\u001b[39;00m:\n\u001b[1;32m     30\u001b[0m         ig_B_ionosphere \u001b[39m=\u001b[39m f\u001b[39m.\u001b[39mread_variable(\u001b[39m'\u001b[39m\u001b[39mig_B_ionosphere\u001b[39m\u001b[39m'\u001b[39m)\n",
      "File \u001b[0;32m/wrk-vakka/users/horakons/carrington/utils/ftest.py:4\u001b[0m, in \u001b[0;36mf\u001b[0;34m(vlsvfile)\u001b[0m\n\u001b[1;32m      3\u001b[0m \u001b[39mdef\u001b[39;00m \u001b[39mf\u001b[39m(vlsvfile \u001b[39m=\u001b[39m \u001b[39m'\u001b[39m\u001b[39m/wrk-vakka/group/spacephysics/vlasiator/3D/FHA/bulk1/bulk1.0001001.vlsv\u001b[39m\u001b[39m'\u001b[39m):\n\u001b[0;32m----> 4\u001b[0m    \u001b[39mreturn\u001b[39;00m pt\u001b[39m.\u001b[39;49mvlsvfile\u001b[39m.\u001b[39;49mVlsvReader(vlsvfile)\n",
      "File \u001b[0;32m/proj/horakons/analysator/pyVlsv/vlsvreader.py:80\u001b[0m, in \u001b[0;36mVlsvReader.__init__\u001b[0;34m(self, file_name)\u001b[0m\n\u001b[1;32m     77\u001b[0m \u001b[39mself\u001b[39m\u001b[39m.\u001b[39m__order_for_cellid_blocks \u001b[39m=\u001b[39m {} \u001b[39m# per-pop\u001b[39;00m\n\u001b[1;32m     78\u001b[0m \u001b[39mself\u001b[39m\u001b[39m.\u001b[39m__vg_indexes_on_fg \u001b[39m=\u001b[39m np\u001b[39m.\u001b[39marray([]) \u001b[39m# SEE: map_vg_onto_fg(self)\u001b[39;00m\n\u001b[0;32m---> 80\u001b[0m \u001b[39mself\u001b[39;49m\u001b[39m.\u001b[39;49m__read_xml_footer()\n\u001b[1;32m     81\u001b[0m \u001b[39m# Check if the file is using new or old vlsv format\u001b[39;00m\n\u001b[1;32m     82\u001b[0m \u001b[39m# Read parameters (Note: Reading the spatial cell locations and\u001b[39;00m\n\u001b[1;32m     83\u001b[0m \u001b[39m# storing them will anyway take the most time and memory):\u001b[39;00m\n\u001b[1;32m     85\u001b[0m meshName\u001b[39m=\u001b[39m\u001b[39m\"\u001b[39m\u001b[39mSpatialGrid\u001b[39m\u001b[39m\"\u001b[39m\n",
      "File \u001b[0;32m/proj/horakons/analysator/pyVlsv/vlsvreader.py:263\u001b[0m, in \u001b[0;36mVlsvReader.__read_xml_footer\u001b[0;34m(self)\u001b[0m\n\u001b[1;32m    261\u001b[0m \u001b[39m# Read 8 bytes as unsigned long long (uint64_t in this case) after endianness, this tells the offset of the XML file.\u001b[39;00m\n\u001b[1;32m    262\u001b[0m uint64_byte_amount \u001b[39m=\u001b[39m \u001b[39m8\u001b[39m\n\u001b[0;32m--> 263\u001b[0m (offset,) \u001b[39m=\u001b[39m struct\u001b[39m.\u001b[39munpack(\u001b[39m\"\u001b[39m\u001b[39mQ\u001b[39m\u001b[39m\"\u001b[39m, fptr\u001b[39m.\u001b[39;49mread(uint64_byte_amount))\n\u001b[1;32m    264\u001b[0m \u001b[39m# Move to the xml offset\u001b[39;00m\n\u001b[1;32m    265\u001b[0m fptr\u001b[39m.\u001b[39mseek(offset)\n",
      "\u001b[0;31mKeyboardInterrupt\u001b[0m: "
     ]
    }
   ],
   "source": [
    "\n",
    "if run == \"FHA\":\n",
    "    nmin = 1001    # 1001\n",
    "    nmax = 1612    # 1100\n",
    "elif run == \"FIA\":\n",
    "    nmin = 1\n",
    "    nmax = 817         #865 (files 818-819 missing)\n",
    "elif run == \"EGL\":\n",
    "    nmin = 621\n",
    "    nmax = 1760\n",
    "time = np.linspace(nmin, nmax, nmax - nmin + 1)\n",
    "\n",
    "pos = f.read_variable('ig_r')   # ionospheric grid.  array dimensions (43132, 3)\n",
    "#ig_B_arr = np.ndarray([pos.shape[0], pos.shape[1], nmax - nmin + 1])\n",
    "ig_dB_dt_arr = np.ndarray([pos.shape[0], pos.shape[1], nmax - nmin + 1])\n",
    "ig_B_ionosphere_arr = ig_dB_dt_arr * 0.\n",
    "ig_dB_dt_ionosphere_arr = ig_dB_dt_arr * 0.\n",
    "ig_B_inner_arr = ig_dB_dt_arr * 0.\n",
    "ig_dB_dt_inner_arr = ig_dB_dt_arr * 0.\n",
    "ig_B_outer_arr = ig_dB_dt_arr * 0.\n",
    "ig_dB_dt_outer_arr = ig_dB_dt_arr * 0.\n",
    "\n",
    "E_north_arr = np.ndarray([pos.shape[0], nmax - nmin + 1])\n",
    "E_east_arr = np.ndarray([pos.shape[0], nmax - nmin + 1])\n",
    "\n",
    "#populate B arrays\n",
    "for i in range(nmin, nmax+1):\n",
    "    #print(i)\n",
    "    f = ft.f(dir + \"/ionosphere_B_sidecar_{}.{}.vlsv\".format(run, str(i).zfill(7)))     # FHA: file indices 501 - 1612\n",
    "    try:\n",
    "        ig_B_ionosphere = f.read_variable('ig_B_ionosphere')\n",
    "        ig_B_ionosphere_arr[:,:,i-nmin] = ig_B_ionosphere\n",
    "    except:\n",
    "        print(\"couldn't read ionospheric data\") # for runs without an ionosphere, leave as zeros\n",
    "    ig_B_inner = f.read_variable('ig_B_inner')\n",
    "    ig_B_inner_arr[:,:,i-nmin] = ig_B_inner\n",
    "    ig_B_outer = f.read_variable('ig_B_outer')\n",
    "    ig_B_outer_arr[:,:,i-nmin] = ig_B_outer\n",
    "\n",
    "# interpolate across zeros in B arrays (missing data points, something funny about FHA and FIA makes ionosphere write operation unreliable?)\n",
    "#for arr in [ig_B_arr, ig_B_ionosphere_arr, ig_B_inner_arr, ig_B_outer_arr]:\n",
    "\n",
    "for arr in [ig_B_ionosphere_arr]:\n",
    "    try:\n",
    "        #reduced_arr = np.sum(arr, 0)\n",
    "        #ind = np.where(reduced_arr[0,:] != 0)[0]\n",
    "        ind = np.where(arr[0,0,:] != 0)[0]\n",
    "        print(\"{} points removed\".format(arr.shape[2] - ind.size))\n",
    "        interp_arr = arr[:,:, ind]  # only keep the non-zero times to conduct the interpolation\n",
    "        for i in range(arr.shape[0]): # positions\n",
    "            for j in range(3): # vector components\n",
    "                arr[i, j, :] = np.interp(time, time[ind], interp_arr[i, j, :], left=None, right=None, period=None)\n",
    "    except:\n",
    "        print(\"error with interpolation. zeroing out array...\")\n",
    "\n",
    "ig_B_arr =  ig_B_ionosphere_arr + ig_B_inner_arr + ig_B_outer_arr\n",
    "\n",
    "# calculate dB/dt and populate corresponding arrays\n",
    "for i in range(nmin, nmax+1):\n",
    "    #next compute derivatives\n",
    "    if i>nmin:\n",
    "        ig_dB_dt_arr[:,:,i-nmin] = ig_B_arr[:,:,i-nmin] - ig_B_arr[:,:,i-nmin-1]\n",
    "        ig_dB_dt_ionosphere_arr[:,:,i-nmin] = ig_B_ionosphere_arr[:,:,i-nmin] - ig_B_ionosphere_arr[:,:,i-nmin-1]\n",
    "        ig_dB_dt_inner_arr[:,:,i-nmin] = ig_B_inner_arr[:,:,i-nmin] - ig_B_inner_arr[:,:,i-nmin-1]\n",
    "        ig_dB_dt_outer_arr[:,:,i-nmin] = ig_B_outer_arr[:,:,i-nmin] - ig_B_outer_arr[:,:,i-nmin-1]\n",
    "\n",
    "\n",
    "#i_pos = 0\n",
    "#E_north, E_east = E_horizontal(ig_dB_dt_arr[i_pos,:,:], pos[i_pos,:], time, sigma = 1e-3)\n",
    "for i_pos in range(ig_dB_dt_arr.shape[0]):\n",
    "    E_north, E_east = E_horizontal(ig_dB_dt_arr[i_pos,:,:], pos[i_pos,:], time, sigma = 1e-3)\n",
    "    E_north_arr[i_pos,:] = E_north\n",
    "    E_east_arr[i_pos,:] = E_east\n",
    "    print(i_pos)"
   ]
  },
  {
   "cell_type": "code",
   "execution_count": null,
   "metadata": {},
   "outputs": [
    {
     "name": "stdout",
     "output_type": "stream",
     "text": [
      "Error: variable xcells_ini/PARAMETER//pass not found in .vlsv file or in data reducers!\n"
     ]
    }
   ],
   "source": [
    "# write geoelectric field to .vlsv\n",
    "\n",
    "save_dir = '/wrk-vakka/users/horakons/carrington/data/{}/GIC/'.format(run)\n",
    "f_iono = pt.vlsvfile.VlsvReader( '/wrk-vakka/group/spacephysics/vlasiator/temp/ionogrid_FHA.vlsv' )\n",
    "\n",
    "for i, t in enumerate(time):\n",
    "    # write to file\n",
    "    filename_vlsv = save_dir + 'ionosphere_gic_{}_{}.vlsv'.format(run, str(int(t)).zfill(7))\n",
    "    mkdir_path(filename_vlsv)\n",
    "    writer = pt.vlsvfile.VlsvWriter(f_iono, filename_vlsv)\n",
    "    writer.write(pos,'ig_r','VARIABLE','ionosphere')\n",
    "    writer.write(E_north_arr[:,i],'ig_E_north','VARIABLE','ionosphere')\n",
    "    writer.write(E_east_arr[:,i],'ig_E_east','VARIABLE','ionosphere')\n"
   ]
  },
  {
   "cell_type": "code",
   "execution_count": null,
   "metadata": {},
   "outputs": [
    {
     "name": "stdout",
     "output_type": "stream",
     "text": [
      "31\n",
      "5517447.847510658\n",
      "5596451.184804648\n",
      "60 101.79653736433137\n",
      "5572202.15418509\n",
      "5662111.819998548\n",
      "61 108.57478885157349\n",
      "5625259.114104223\n",
      "5719644.049454975\n",
      "62 118.84608231261109\n",
      "5676602.565604092\n",
      "5764124.7473510215\n",
      "63 120.50202360728966\n",
      "5726216.868971993\n",
      "5821651.257651471\n",
      "64 122.90636136749436\n",
      "5774086.911210497\n",
      "5875956.378118976\n",
      "65 134.7374129396375\n",
      "5820198.110641011\n",
      "5919446.75608563\n",
      "66 143.67182718565758\n",
      "5864536.421345497\n",
      "5950653.668000988\n",
      "67 144.9260148014752\n",
      "5907088.337445003\n",
      "5996304.732174632\n",
      "68 148.34571475829642\n",
      "5947840.897213672\n",
      "6038532.396700564\n",
      "69 159.10024708441549\n",
      "5986781.687027022\n",
      "6081158.519772296\n",
      "70 164.16697175055893\n",
      "6023898.845143247\n",
      "6110712.8793279\n",
      "71 169.1812786995747\n",
      "6059181.065316423\n",
      "6153067.196629294\n",
      "72 181.62333103190284\n",
      "6092617.6002405\n",
      "6194691.377078991\n",
      "73 187.5356248690246\n",
      "6124198.26482303\n",
      "6222805.321171675\n",
      "74 194.54391812925473\n",
      "6153913.439287654\n",
      "6250115.604152898\n",
      "75 199.8576920573929\n",
      "6181754.072104374\n",
      "6277204.01088344\n",
      "76 203.04756070085014\n",
      "6207711.682746734\n",
      "6303410.629065712\n",
      "77 203.80895076609272\n",
      "6231778.3642750755\n",
      "6331111.275323346\n",
      "78 200.31156458937676\n",
      "6253946.7857450675\n",
      "6355278.262248193\n",
      "79 193.7056739528799\n",
      "6274210.194440777\n",
      "6372268.1021310305\n",
      "80 183.82793600120553\n",
      "6292562.417931623\n",
      "6396277.965996017\n",
      "81 167.65106998462116\n",
      "6308997.865952544\n",
      "6413530.2373276325\n",
      "82 152.34166910863212\n",
      "6323511.532106863\n",
      "6428226.568737015\n",
      "83 134.04611996083082\n",
      "6336098.995391269\n",
      "6435627.233281337\n",
      "84 144.8823478729788\n",
      "6346756.421542511\n",
      "6449330.604770218\n",
      "85 184.50125583163748\n",
      "6355480.56420534\n",
      "6455848.406572866\n",
      "86 186.60794390276547\n",
      "6362268.76592139\n",
      "6460313.835336841\n",
      "87 218.29184538876214\n",
      "6367118.958938659\n",
      "6464318.937895756\n",
      "88 233.83474141415778\n",
      "6370029.665841369\n",
      "6469751.481997088\n",
      "89 281.24722983498066\n",
      "6371000.0\n",
      "6470551.850892737\n",
      "90 245.5261936359033\n"
     ]
    }
   ],
   "source": [
    "# Plot timeseries of the geoelectric field at different latitudes\n",
    "\n",
    "plt.rcParams[\"figure.figsize\"] = (10, 6)\n",
    "\n",
    "lat_deg = np.arange(60, 91, 1)\n",
    "lat = lat_deg * np.pi / 180.\n",
    "theta = (np.pi / 2) - lat\n",
    "phi = lat * 0\n",
    "\n",
    "x0, y0, z0 = spherical_to_cartesian(R_EARTH, theta, phi)\n",
    "print(x0.size)\n",
    "for i in range(x0.size):\n",
    "    # Find nearest neighbor of the ionosphere grid, index by 'ind_min', to the specified lat and phi\n",
    "    dist = np.sqrt((x0[i] - pos[:,0])**2 + (y0[i] - pos[:,1])**2 + (z0[i] - pos[:,2])**2) \n",
    "    ind_min = np.argmin(dist)\n",
    "    # print(lat[i] )\n",
    "    print(z0[i])\n",
    "    print(pos[ind_min,2])\n",
    "    print(lat_deg[i], np.nanmax(1e6 * E_north_arr[ind_min,:]))\n",
    "    # PLOT:\n",
    "    # geoelectic field\n",
    "    plt.title('GIC Lat. = {} deg., noon, {}'.format(int(lat_deg[i]), run))\n",
    "    plt.xlabel('time [sec]')\n",
    "    plt.ylabel(r'Geoelectric field [$\\mu$V/m]')\n",
    "    plt.plot(time, 1e6 * E_north_arr[ind_min,:], label = r'northward E [$\\mu$V/m]')\n",
    "    plt.plot(time, 1e6 * E_east_arr[ind_min,:], label = r'eastward E [$\\mu$V/m]')\n",
    "    plt.ylim([-400, 400])\n",
    "    plt.legend()\n",
    "    filename =  '/wrk-vakka/users/horakons/carrington/plots/{}/GIC/geolectric_E_timeseries_lat_{}_{}'.format(run,int(lat_deg[i]),run)\n",
    "    mkdir_path(filename)\n",
    "    plt.savefig(filename)\n",
    "    plt.close()\n",
    "    # dB/dt\n",
    "    plt.title('dB/dt Lat. = {} deg., noon, {}'.format(int(lat_deg[i]), run))\n",
    "    plt.xlabel('time [sec]')\n",
    "    plt.ylabel(r'Ground magnetic field [nT/s]]')\n",
    "    dB_dt_r, dB_dt_theta, dB_dt_phi = cartesian_to_spherical_vector(ig_dB_dt_arr[ind_min, 0,:], ig_dB_dt_arr[ind_min,1,:], ig_dB_dt_arr[ind_min, 2,:], pos[ind_min, 0], pos[ind_min,1], pos[ind_min, 2])\n",
    "    dB_dt_north = -dB_dt_theta; dB_dt_east = dB_dt_phi\n",
    "    plt.plot(time, 1e9 * dB_dt_north, label = r'northward dB/dt [nT/s]')\n",
    "    plt.plot(time, 1e9 * dB_dt_east, label = r'eastward dB/dt [nT/s]')\n",
    "    plt.ylim([-8, 8])\n",
    "    plt.legend()\n",
    "    filename =  '/wrk-vakka/users/horakons/carrington/plots/{}/GIC/dB_dt_timeseries_lat_{}_{}'.format(run,int(lat_deg[i]),run)\n",
    "    mkdir_path(filename)\n",
    "    plt.savefig(filename)\n",
    "    plt.close()\n",
    "    # |dB/dt| (components)\n",
    "    try: # won't work for EGL?\n",
    "        plt.title('dB/dt Lat. = {} deg., noon, {}'.format(int(lat_deg[i]), run))\n",
    "        plt.xlabel('time [sec]')\n",
    "        plt.ylabel(r'Ground magnetic field [nT/s]]')\n",
    "        dB_dt_r_ionosphere, dB_dt_theta_ionosphere, dB_dt_phi_ionosphere = cartesian_to_spherical_vector(ig_dB_dt_ionosphere_arr[ind_min, 0,:], ig_dB_dt_arr[ind_min,1,:], ig_dB_dt_arr[ind_min, 2,:], pos[ind_min, 0], pos[ind_min,1], pos[ind_min, 2])\n",
    "        dB_dt_north_ionosphere = -dB_dt_theta_ionosphere; dB_dt_east_ionosphere = dB_dt_phi_ionosphere\n",
    "        dB_dt_r_inner, dB_dt_theta_inner, dB_dt_phi_inner = cartesian_to_spherical_vector(ig_dB_dt_inner_arr[ind_min, 0,:], ig_dB_dt_inner_arr[ind_min,1,:], ig_dB_dt_inner_arr[ind_min, 2,:], pos[ind_min, 0], pos[ind_min,1], pos[ind_min, 2])\n",
    "        dB_dt_north_inner = -dB_dt_theta_inner; dB_dt_east_inner = dB_dt_phi_inner\n",
    "        dB_dt_r_outer, dB_dt_theta_outer, dB_dt_phi_outer = cartesian_to_spherical_vector(ig_dB_dt_outer_arr[ind_min, 0,:], ig_dB_dt_outer_arr[ind_min,1,:], ig_dB_dt_outer_arr[ind_min, 2,:], pos[ind_min, 0], pos[ind_min,1], pos[ind_min, 2])\n",
    "        dB_dt_north_outer = -dB_dt_theta_outer; dB_dt_east_outer = dB_dt_phi_outer\n",
    "        plt.plot(time, np.abs(1e9 * np.sqrt(dB_dt_north**2 + dB_dt_east**2) ), label = r'total |dB/dt| [nT/s]')\n",
    "        plt.plot(time, np.abs(1e9 * np.sqrt(dB_dt_north_ionosphere**2 + dB_dt_east_ionosphere**2) ), label = r'ionospheric |dB/dt| [nT/s]')\n",
    "        plt.plot(time, np.abs(1e9 * np.sqrt(dB_dt_north_inner**2 + dB_dt_east_inner**2) ), label = r'inner |dB/dt| [nT/s]')\n",
    "        plt.plot(time, np.abs(1e9 * np.sqrt(dB_dt_north_outer**2 + dB_dt_east_outer**2) ), label = r'outer |dB/dt| [nT/s]')\n",
    "        plt.ylim([-8, 8])\n",
    "        plt.legend()\n",
    "        filename =  '/wrk-vakka/users/horakons/carrington/plots/{}/GIC/component_dB_dt_timeseries_lat_{}_{}'.format(run,int(lat_deg[i]),run)\n",
    "        mkdir_path(filename)\n",
    "        plt.savefig(filename)\n",
    "        plt.close()\n",
    "    except:\n",
    "        print(\"can't plot components!\")    "
   ]
  },
  {
   "cell_type": "code",
   "execution_count": null,
   "metadata": {},
   "outputs": [
    {
     "data": {
      "image/png": "[encoded data removed]",
      "text/plain": [
       "<Figure size 1000x600 with 1 Axes>"
      ]
     },
     "metadata": {},
     "output_type": "display_data"
    }
   ],
   "source": [
    "E_north\n",
    "#plt.plot(E_east_arr[12,:])\n",
    "plt.plot(ig_dB_dt_inner_arr[55,0,:], label = 'inner')\n",
    "plt.plot(ig_dB_dt_outer_arr[55,0,:], label = 'outer')\n",
    "plt.plot(ig_dB_dt_ionosphere_arr[55,0,:], label = 'ionosphere')\n",
    "plt.legend()\n",
    "plt.ylim([-6e-9, 6e-9])\n",
    "plt.show()"
   ]
  },
  {
   "cell_type": "code",
   "execution_count": null,
   "metadata": {},
   "outputs": [
    {
     "data": {
      "text/plain": [
       "array([0., 0., 0.])"
      ]
     },
     "execution_count": 19,
     "metadata": {},
     "output_type": "execute_result"
    }
   ],
   "source": [
    "ig_dB_dt_arr[0,:,0]"
   ]
  },
  {
   "cell_type": "code",
   "execution_count": null,
   "metadata": {},
   "outputs": [
    {
     "data": {
      "text/plain": [
       "(43132, 1140)"
      ]
     },
     "execution_count": 20,
     "metadata": {},
     "output_type": "execute_result"
    }
   ],
   "source": [
    "\n",
    "E_east_arr.shape"
   ]
  },
  {
   "cell_type": "code",
   "execution_count": null,
   "metadata": {},
   "outputs": [
    {
     "data": {
      "text/plain": [
       "(43132, 3)"
      ]
     },
     "execution_count": 21,
     "metadata": {},
     "output_type": "execute_result"
    }
   ],
   "source": [
    "\n",
    "pos.shape"
   ]
  },
  {
   "cell_type": "code",
   "execution_count": null,
   "metadata": {},
   "outputs": [
    {
     "data": {
      "text/plain": [
       "(0.0, 0.0, 6371000.0)"
      ]
     },
     "execution_count": 22,
     "metadata": {},
     "output_type": "execute_result"
    }
   ],
   "source": [
    "spherical_to_cartesian(R_EARTH,0 ,0 )"
   ]
  },
  {
   "cell_type": "code",
   "execution_count": null,
   "metadata": {},
   "outputs": [
    {
     "data": {
      "text/plain": [
       "(43132, 3, 1140)"
      ]
     },
     "execution_count": 23,
     "metadata": {},
     "output_type": "execute_result"
    }
   ],
   "source": [
    "ig_dB_dt_arr.shape"
   ]
  },
  {
   "cell_type": "code",
   "execution_count": null,
   "metadata": {},
   "outputs": [
    {
     "data": {
      "text/plain": [
       "(43132, 3)"
      ]
     },
     "execution_count": 24,
     "metadata": {},
     "output_type": "execute_result"
    }
   ],
   "source": [
    "pos.shape"
   ]
  },
  {
   "cell_type": "code",
   "execution_count": null,
   "metadata": {},
   "outputs": [],
   "source": []
  }
 ],
 "metadata": {
  "kernelspec": {
   "display_name": "myconda",
   "language": "python",
   "name": "myconda"
  },
  "language_info": {
   "codemirror_mode": {
    "name": "ipython",
    "version": 3
   },
   "file_extension": ".py",
   "mimetype": "text/x-python",
   "name": "python",
   "nbconvert_exporter": "python",
   "pygments_lexer": "ipython3",
   "version": "3.8.17"
  },
  "orig_nbformat": 4
 },
 "nbformat": 4,
 "nbformat_minor": 2
}
