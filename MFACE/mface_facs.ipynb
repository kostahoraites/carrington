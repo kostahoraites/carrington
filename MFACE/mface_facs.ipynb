{
 "cells": [
  {
   "cell_type": "code",
   "execution_count": 1,
   "metadata": {},
   "outputs": [],
   "source": [
    "import matplotlib.pyplot as plt\n",
    "import pandas as pd\n",
    "import numpy as np\n",
    "import matplotlib.gridspec as gridspec\n",
    "\n",
    "\n",
    "output = pd.read_csv('output.txt', delim_whitespace = True)\n",
    "input = pd.read_csv('input.txt', delim_whitespace = True)\n"
   ]
  },
  {
   "cell_type": "code",
   "execution_count": 14,
   "metadata": {},
   "outputs": [],
   "source": [
    "\n",
    "\n",
    "#fig = plt.figure()\n",
    "gs = gridspec.GridSpec(1, 2, width_ratios=[10,1])\n",
    "#gs = gridspec.GridSpec(2, 1)\n",
    "ax2 = plt.subplot(gs[0], projection=\"polar\", aspect=1.)\n",
    "#phi_plot = phi + (np.pi / 3)          # rotate by ninety-degrees so noon is at the top\n",
    "#theta_plot = theta*181/np.pi\n",
    "\n",
    "\n",
    "MLT = np.array(input['MLT(hour)'])\n",
    "MLAT = np.array(input['MLAT(degree)'])\n",
    "J = np.array(output['J(uA/m2)'])\n",
    "\n",
    "phi_plot = MLT * 361 / 24.\n",
    "theta_plot = 91. - MLAT \n",
    "phi_plot = phi_plot.reshape([360,121]) - 90. \n",
    "theta_plot = theta_plot.reshape([360,121])\n",
    "J = J.reshape([360,121])\n",
    "\n",
    "\n",
    "if np.nanmin(theta_plot) > 91:\n",
    "    theta_plot = 181 - theta_plot\n",
    "#im = ax2.pcolormesh(phi_plot*np.pi / 180, np.abs(theta_plot), J,\n",
    "#                    cmap='bwr', shading='auto')            # north pole\n",
    "im = ax2.contour(phi_plot*np.pi / 180, np.abs(theta_plot), J, 13, cmap='PRGn', vmin = -3., vmax = 3.);\n",
    "#ax2.plot(phi_plot.flatten(), phi_plot.flatten() * 0 + 10)\n",
    "ax2.set_ylim([0,40])\n",
    "ax2.set_yticks([10, 20, 30])  # Less radial ticks\n",
    "ax2.set_yticklabels([r'$80^\\circ$', r'$70^\\circ$', r'$60^\\circ$'])\n",
    "ax2.set_rlabel_position(-10)  # Move radial labels away from plotted line\n",
    "ax2.set_xticks(list(np.arange(0, 2*np.pi, np.pi / 4)))\n",
    "#ax2.set_xticklabels(list(np.arange(18, 24, 3)) + list(np.arange(0, 18, 3)))\n",
    "ax2.set_xticklabels(list(np.arange(6, 24, 3)) + list(np.arange(0, 6, 3)))\n",
    "ax2.grid(True)\n",
    "ax3 = plt.subplot(gs[1])\n",
    "   #cax = fig.add_axes([ax.get_position().x2+0.01,ax.get_position().y0,0.02,ax.get_position().height])\n",
    "   #plt.colorbar(im, cax=cax) # Similar to fig.colorbar(im, cax = cax)\n",
    "   #divider = make_axes_locatable(ax2)\n",
    "   #cax = divider.append_axes('right', size='6%', pad=0.05)\n",
    "   #cbar = fig.colorbar(im, cax=cax, orientation='vertical')\n",
    "cbar = plt.colorbar(im, cax=ax3, aspect = 40)\n",
    "   #cbar = mpl.colorbar.ColorbarBase(ax3, cmap = cmap)\n",
    "cbar.set_label(r'J [$\\mu A/m^3$]')\n",
    "ax2.set_title('MFACE FAC')\n",
    "#plt_temp = plt\n",
    "#self.fig_list.append(plt_temp)\n",
    "#self.fig_path_list.append(path)\n",
    "plt.tight_layout()\n",
    "#mkdir_path(path)\n",
    "#plt.savefig(path)\n",
    "plt.sca(ax2)   # set the current axis to the main plot \n",
    "plt.show()\n",
    "plt.savefig('MFACE_FAC.png')\n",
    "#if pltclose:   # set pltclose=false to plot on top ofthe figure?\n",
    "#    plt.close()\n",
    "plt.close()\n"
   ]
  },
  {
   "cell_type": "code",
   "execution_count": 8,
   "metadata": {},
   "outputs": [],
   "source": [
    "\n",
    "\n",
    "fig, (ax0, ax1) = plt.subplots(2, 1)\n",
    "\n",
    "c = ax0.pcolor(J)\n",
    "ax0.set_title('default: no edges')\n",
    "\n",
    "c = ax1.pcolor(phi_plot, theta_plot, J, edgecolors='k', linewidths=4, cmap='bwr')\n",
    "ax1.set_title('thick edges')\n",
    "\n",
    "fig.tight_layout()\n",
    "plt.show()\n",
    "plt.savefig('example.png')\n",
    "plt.close()"
   ]
  },
  {
   "cell_type": "code",
   "execution_count": 4,
   "metadata": {},
   "outputs": [
    {
     "data": {
      "text/plain": [
       "ACC_MLat(degree)    63.5200\n",
       "J(uA/m2)            -3.1440\n",
       "EOF1(uA/m2)         -2.9720\n",
       "EOF2(uA/m2)         -1.5690\n",
       "MeanJ(uA/m2)        -0.1102\n",
       "dtype: float64"
      ]
     },
     "execution_count": 4,
     "metadata": {},
     "output_type": "execute_result"
    }
   ],
   "source": [
    "np.min(output)"
   ]
  },
  {
   "cell_type": "code",
   "execution_count": null,
   "metadata": {},
   "outputs": [],
   "source": []
  }
 ],
 "metadata": {
  "kernelspec": {
   "display_name": "Python 3",
   "language": "python",
   "name": "python3"
  },
  "language_info": {
   "codemirror_mode": {
    "name": "ipython",
    "version": 3
   },
   "file_extension": ".py",
   "mimetype": "text/x-python",
   "name": "python",
   "nbconvert_exporter": "python",
   "pygments_lexer": "ipython3",
   "version": "3.8.2"
  },
  "orig_nbformat": 4,
  "vscode": {
   "interpreter": {
    "hash": "20a801c583aca3adae298150790823b43030f663fdee4344e11827de709611dc"
   }
  }
 },
 "nbformat": 4,
 "nbformat_minor": 2
}
