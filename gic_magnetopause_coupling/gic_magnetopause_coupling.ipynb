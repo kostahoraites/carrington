{
 "cells": [
  {
   "cell_type": "code",
   "execution_count": 33,
   "metadata": {},
   "outputs": [
    {
     "name": "stderr",
     "output_type": "stream",
     "text": [
      "28-Sep-24 00:27:47: Found population proton\n"
     ]
    },
    {
     "name": "stdout",
     "output_type": "stream",
     "text": [
      "/wrk-vakka/appl/easybuild/opt/Anaconda3/2023.09-0:/wrk-vakka/appl/easybuild/opt/Anaconda3/2023.09-0/sbin:/wrk-vakka/appl/easybuild/opt/Anaconda3/2023.09-0/bin:/appl/easybuild/opt/ImageMagick/7.1.1-15-GCCcore-12.3.0/bin:/appl/easybuild/opt/LittleCMS/2.15-GCCcore-12.3.0/bin:/appl/easybuild/opt/JasPer/4.0.0-GCCcore-12.3.0/bin:/appl/easybuild/opt/Ghostscript/10.01.2-GCCcore-12.3.0/bin:/appl/easybuild/opt/GTK3/3.24.37-GCCcore-12.3.0/bin:/appl/easybuild/opt/Wayland/1.22.0-GCCcore-12.3.0/bin:/wrk-vakka/appl/easybuild/opt/LLVM/16.0.6-GCCcore-12.3.0/bin:/appl/easybuild/opt/Pango/1.50.14-GCCcore-12.3.0/bin:/wrk-vakka/appl/easybuild/opt/FriBidi/1.0.12-GCCcore-12.3.0/bin:/wrk-vakka/appl/easybuild/opt/HarfBuzz/5.3.1-GCCcore-12.3.0/bin:/wrk-vakka/appl/easybuild/opt/ICU/73.2-GCCcore-12.3.0/sbin:/wrk-vakka/appl/easybuild/opt/ICU/73.2-GCCcore-12.3.0/bin:/appl/easybuild/opt/Gdk-Pixbuf/2.42.10-GCCcore-12.3.0/bin:/appl/easybuild/opt/DBus/1.15.4-GCCcore-12.3.0/bin:/wrk-vakka/appl/easybuild/opt/LibTIFF/4.5.0-GCCcore-12.3.0/bin:/wrk-vakka/appl/easybuild/opt/libdeflate/1.18-GCCcore-12.3.0/bin:/wrk-vakka/appl/easybuild/opt/zstd/1.5.5-GCCcore-12.3.0/bin:/wrk-vakka/appl/easybuild/opt/lz4/1.9.4-GCCcore-12.3.0/bin:/wrk-vakka/appl/easybuild/opt/gzip/1.12-GCCcore-12.3.0/bin:/wrk-vakka/appl/easybuild/opt/jbigkit/2.1-GCCcore-12.3.0/bin:/wrk-vakka/appl/easybuild/opt/cairo/1.17.8-GCCcore-12.3.0/bin:/wrk-vakka/appl/easybuild/opt/GLib/2.77.1-GCCcore-12.3.0/bin:/wrk-vakka/appl/easybuild/opt/PCRE2/10.42-GCCcore-12.3.0/bin:/wrk-vakka/appl/easybuild/opt/gettext/0.21.1-GCCcore-12.3.0/bin:/wrk-vakka/appl/easybuild/opt/libxml2/2.11.4-GCCcore-12.3.0/bin:/wrk-vakka/appl/easybuild/opt/XZ/5.4.2-GCCcore-12.3.0/bin:/wrk-vakka/appl/easybuild/opt/libjpeg-turbo/2.1.5.1-GCCcore-12.3.0/bin:/wrk-vakka/appl/easybuild/opt/NASM/2.16.01-GCCcore-12.3.0/bin:/wrk-vakka/appl/easybuild/opt/X11/20230603-GCCcore-12.3.0/bin:/wrk-vakka/appl/easybuild/opt/fontconfig/2.14.2-GCCcore-12.3.0/bin:/wrk-vakka/appl/easybuild/opt/util-linux/2.39-GCCcore-12.3.0/sbin:/wrk-vakka/appl/easybuild/opt/util-linux/2.39-GCCcore-12.3.0/bin:/wrk-vakka/appl/easybuild/opt/ncurses/6.4-GCCcore-12.3.0/bin:/wrk-vakka/appl/easybuild/opt/freetype/2.13.0-GCCcore-12.3.0/bin:/wrk-vakka/appl/easybuild/opt/Brotli/1.0.9-GCCcore-12.3.0/bin:/wrk-vakka/appl/easybuild/opt/libpng/1.6.39-GCCcore-12.3.0/bin:/wrk-vakka/appl/easybuild/opt/expat/2.5.0-GCCcore-12.3.0/bin:/wrk-vakka/appl/easybuild/opt/bzip2/1.0.8-GCCcore-12.3.0/bin:/wrk-vakka/appl/easybuild/opt/GCCcore/12.3.0/bin:/home/horakons/proj/conda/myconda/bin:/appl/easybuild/opt/Anaconda3/2022.05/condabin:/usr/local/bin:/usr/bin:/usr/local/sbin:/usr/sbin:/proj/horakons/julia:/proj/horakons/julia/julia-1.7.2/bin:/proj/horakons/.local/bin:/wrk-vakka/group/spacephysics/proj/appl/tex-basic/texlive/2023/bin/x86_64-linux\n"
     ]
    },
    {
     "name": "stderr",
     "output_type": "stream",
     "text": [
      "28-Sep-24 00:27:47: Found population proton\n"
     ]
    },
    {
     "name": "stdout",
     "output_type": "stream",
     "text": [
      "variable ig_fac not sortable by Cell ID!\n"
     ]
    },
    {
     "name": "stderr",
     "output_type": "stream",
     "text": [
      "28-Sep-24 00:27:48: Found population proton\n"
     ]
    },
    {
     "name": "stdout",
     "output_type": "stream",
     "text": [
      "variable ig_fac not sortable by Cell ID!\n"
     ]
    },
    {
     "name": "stderr",
     "output_type": "stream",
     "text": [
      "28-Sep-24 00:27:48: Found population proton\n"
     ]
    },
    {
     "name": "stdout",
     "output_type": "stream",
     "text": [
      "variable ig_fac not sortable by Cell ID!\n"
     ]
    },
    {
     "name": "stderr",
     "output_type": "stream",
     "text": [
      "28-Sep-24 00:27:48: Found population proton\n"
     ]
    },
    {
     "name": "stdout",
     "output_type": "stream",
     "text": [
      "variable ig_fac not sortable by Cell ID!\n"
     ]
    },
    {
     "name": "stderr",
     "output_type": "stream",
     "text": [
      "28-Sep-24 00:27:49: Found population proton\n"
     ]
    },
    {
     "name": "stdout",
     "output_type": "stream",
     "text": [
      "variable ig_fac not sortable by Cell ID!\n",
      "variable ig_fac not sortable by Cell ID!\n"
     ]
    },
    {
     "name": "stderr",
     "output_type": "stream",
     "text": [
      "28-Sep-24 00:27:52: Found population proton\n",
      "28-Sep-24 00:27:52: Found population proton\n"
     ]
    },
    {
     "name": "stdout",
     "output_type": "stream",
     "text": [
      "variable ig_fac not sortable by Cell ID!\n"
     ]
    },
    {
     "name": "stderr",
     "output_type": "stream",
     "text": [
      "28-Sep-24 00:27:53: Found population proton\n"
     ]
    },
    {
     "name": "stdout",
     "output_type": "stream",
     "text": [
      "variable ig_fac not sortable by Cell ID!\n"
     ]
    },
    {
     "name": "stderr",
     "output_type": "stream",
     "text": [
      "28-Sep-24 00:27:53: Found population proton\n"
     ]
    },
    {
     "name": "stdout",
     "output_type": "stream",
     "text": [
      "variable ig_fac not sortable by Cell ID!\n"
     ]
    },
    {
     "name": "stderr",
     "output_type": "stream",
     "text": [
      "28-Sep-24 00:27:53: Found population proton\n"
     ]
    },
    {
     "name": "stdout",
     "output_type": "stream",
     "text": [
      "variable ig_fac not sortable by Cell ID!\n"
     ]
    },
    {
     "name": "stderr",
     "output_type": "stream",
     "text": [
      "28-Sep-24 00:27:54: Found population proton\n"
     ]
    },
    {
     "name": "stdout",
     "output_type": "stream",
     "text": [
      "variable ig_fac not sortable by Cell ID!\n"
     ]
    },
    {
     "name": "stderr",
     "output_type": "stream",
     "text": [
      "28-Sep-24 00:27:54: Found population proton\n"
     ]
    },
    {
     "name": "stdout",
     "output_type": "stream",
     "text": [
      "variable ig_fac not sortable by Cell ID!\n"
     ]
    },
    {
     "name": "stderr",
     "output_type": "stream",
     "text": [
      "28-Sep-24 00:27:54: Found population proton\n"
     ]
    },
    {
     "name": "stdout",
     "output_type": "stream",
     "text": [
      "variable ig_fac not sortable by Cell ID!\n"
     ]
    },
    {
     "name": "stderr",
     "output_type": "stream",
     "text": [
      "28-Sep-24 00:27:55: Found population proton\n"
     ]
    },
    {
     "name": "stdout",
     "output_type": "stream",
     "text": [
      "variable ig_fac not sortable by Cell ID!\n"
     ]
    },
    {
     "name": "stderr",
     "output_type": "stream",
     "text": [
      "28-Sep-24 00:27:55: Found population proton\n"
     ]
    },
    {
     "name": "stdout",
     "output_type": "stream",
     "text": [
      "variable ig_fac not sortable by Cell ID!\n"
     ]
    },
    {
     "name": "stderr",
     "output_type": "stream",
     "text": [
      "28-Sep-24 00:27:56: Found population proton\n"
     ]
    },
    {
     "name": "stdout",
     "output_type": "stream",
     "text": [
      "variable ig_fac not sortable by Cell ID!\n"
     ]
    },
    {
     "name": "stderr",
     "output_type": "stream",
     "text": [
      "28-Sep-24 00:27:56: Found population proton\n"
     ]
    },
    {
     "name": "stdout",
     "output_type": "stream",
     "text": [
      "variable ig_fac not sortable by Cell ID!\n"
     ]
    },
    {
     "name": "stderr",
     "output_type": "stream",
     "text": [
      "28-Sep-24 00:27:56: Found population proton\n"
     ]
    },
    {
     "name": "stdout",
     "output_type": "stream",
     "text": [
      "variable ig_fac not sortable by Cell ID!\n"
     ]
    },
    {
     "name": "stderr",
     "output_type": "stream",
     "text": [
      "28-Sep-24 00:27:57: Found population proton\n"
     ]
    },
    {
     "name": "stdout",
     "output_type": "stream",
     "text": [
      "variable ig_fac not sortable by Cell ID!\n"
     ]
    },
    {
     "name": "stderr",
     "output_type": "stream",
     "text": [
      "28-Sep-24 00:28:01: Found population proton\n"
     ]
    },
    {
     "name": "stdout",
     "output_type": "stream",
     "text": [
      "variable ig_fac not sortable by Cell ID!\n"
     ]
    },
    {
     "name": "stderr",
     "output_type": "stream",
     "text": [
      "28-Sep-24 00:28:01: Found population proton\n"
     ]
    },
    {
     "name": "stdout",
     "output_type": "stream",
     "text": [
      "variable ig_fac not sortable by Cell ID!\n"
     ]
    },
    {
     "name": "stderr",
     "output_type": "stream",
     "text": [
      "28-Sep-24 00:28:02: Found population proton\n"
     ]
    },
    {
     "name": "stdout",
     "output_type": "stream",
     "text": [
      "variable ig_fac not sortable by Cell ID!\n"
     ]
    },
    {
     "name": "stderr",
     "output_type": "stream",
     "text": [
      "28-Sep-24 00:28:02: Found population proton\n"
     ]
    },
    {
     "name": "stdout",
     "output_type": "stream",
     "text": [
      "variable ig_fac not sortable by Cell ID!\n"
     ]
    },
    {
     "name": "stderr",
     "output_type": "stream",
     "text": [
      "28-Sep-24 00:28:03: Found population proton\n"
     ]
    },
    {
     "name": "stdout",
     "output_type": "stream",
     "text": [
      "variable ig_fac not sortable by Cell ID!\n"
     ]
    },
    {
     "name": "stderr",
     "output_type": "stream",
     "text": [
      "28-Sep-24 00:28:03: Found population proton\n"
     ]
    },
    {
     "name": "stdout",
     "output_type": "stream",
     "text": [
      "variable ig_fac not sortable by Cell ID!\n"
     ]
    },
    {
     "name": "stderr",
     "output_type": "stream",
     "text": [
      "28-Sep-24 00:28:03: Found population proton\n"
     ]
    },
    {
     "name": "stdout",
     "output_type": "stream",
     "text": [
      "variable ig_fac not sortable by Cell ID!\n"
     ]
    },
    {
     "name": "stderr",
     "output_type": "stream",
     "text": [
      "28-Sep-24 00:28:04: Found population proton\n"
     ]
    },
    {
     "name": "stdout",
     "output_type": "stream",
     "text": [
      "variable ig_fac not sortable by Cell ID!\n"
     ]
    },
    {
     "name": "stderr",
     "output_type": "stream",
     "text": [
      "28-Sep-24 00:28:07: Found population proton\n"
     ]
    },
    {
     "name": "stdout",
     "output_type": "stream",
     "text": [
      "variable ig_fac not sortable by Cell ID!\n"
     ]
    },
    {
     "name": "stderr",
     "output_type": "stream",
     "text": [
      "28-Sep-24 00:28:08: Found population proton\n"
     ]
    },
    {
     "name": "stdout",
     "output_type": "stream",
     "text": [
      "variable ig_fac not sortable by Cell ID!\n"
     ]
    },
    {
     "name": "stderr",
     "output_type": "stream",
     "text": [
      "28-Sep-24 00:28:08: Found population proton\n"
     ]
    },
    {
     "name": "stdout",
     "output_type": "stream",
     "text": [
      "variable ig_fac not sortable by Cell ID!\n"
     ]
    },
    {
     "name": "stderr",
     "output_type": "stream",
     "text": [
      "28-Sep-24 00:28:08: Found population proton\n"
     ]
    },
    {
     "name": "stdout",
     "output_type": "stream",
     "text": [
      "variable ig_fac not sortable by Cell ID!\n"
     ]
    },
    {
     "name": "stderr",
     "output_type": "stream",
     "text": [
      "28-Sep-24 00:28:09: Found population proton\n"
     ]
    },
    {
     "name": "stdout",
     "output_type": "stream",
     "text": [
      "variable ig_fac not sortable by Cell ID!\n"
     ]
    },
    {
     "name": "stderr",
     "output_type": "stream",
     "text": [
      "28-Sep-24 00:28:09: Found population proton\n"
     ]
    },
    {
     "name": "stdout",
     "output_type": "stream",
     "text": [
      "variable ig_fac not sortable by Cell ID!\n"
     ]
    },
    {
     "name": "stderr",
     "output_type": "stream",
     "text": [
      "28-Sep-24 00:28:09: Found population proton\n"
     ]
    },
    {
     "name": "stdout",
     "output_type": "stream",
     "text": [
      "variable ig_fac not sortable by Cell ID!\n"
     ]
    },
    {
     "name": "stderr",
     "output_type": "stream",
     "text": [
      "28-Sep-24 00:28:10: Found population proton\n"
     ]
    },
    {
     "name": "stdout",
     "output_type": "stream",
     "text": [
      "variable ig_fac not sortable by Cell ID!\n"
     ]
    },
    {
     "name": "stderr",
     "output_type": "stream",
     "text": [
      "28-Sep-24 00:28:10: Found population proton\n"
     ]
    },
    {
     "name": "stdout",
     "output_type": "stream",
     "text": [
      "variable ig_fac not sortable by Cell ID!\n"
     ]
    },
    {
     "name": "stderr",
     "output_type": "stream",
     "text": [
      "28-Sep-24 00:28:10: Found population proton\n"
     ]
    },
    {
     "name": "stdout",
     "output_type": "stream",
     "text": [
      "variable ig_fac not sortable by Cell ID!\n"
     ]
    },
    {
     "name": "stderr",
     "output_type": "stream",
     "text": [
      "28-Sep-24 00:28:11: Found population proton\n"
     ]
    },
    {
     "name": "stdout",
     "output_type": "stream",
     "text": [
      "variable ig_fac not sortable by Cell ID!\n"
     ]
    },
    {
     "name": "stderr",
     "output_type": "stream",
     "text": [
      "28-Sep-24 00:28:11: Found population proton\n"
     ]
    },
    {
     "name": "stdout",
     "output_type": "stream",
     "text": [
      "variable ig_fac not sortable by Cell ID!\n"
     ]
    },
    {
     "name": "stderr",
     "output_type": "stream",
     "text": [
      "28-Sep-24 00:28:12: Found population proton\n"
     ]
    },
    {
     "name": "stdout",
     "output_type": "stream",
     "text": [
      "variable ig_fac not sortable by Cell ID!\n"
     ]
    },
    {
     "name": "stderr",
     "output_type": "stream",
     "text": [
      "28-Sep-24 00:28:12: Found population proton\n"
     ]
    },
    {
     "name": "stdout",
     "output_type": "stream",
     "text": [
      "variable ig_fac not sortable by Cell ID!\n"
     ]
    },
    {
     "name": "stderr",
     "output_type": "stream",
     "text": [
      "28-Sep-24 00:28:12: Found population proton\n"
     ]
    },
    {
     "name": "stdout",
     "output_type": "stream",
     "text": [
      "variable ig_fac not sortable by Cell ID!\n"
     ]
    },
    {
     "name": "stderr",
     "output_type": "stream",
     "text": [
      "28-Sep-24 00:28:13: Found population proton\n"
     ]
    },
    {
     "name": "stdout",
     "output_type": "stream",
     "text": [
      "variable ig_fac not sortable by Cell ID!\n"
     ]
    },
    {
     "name": "stderr",
     "output_type": "stream",
     "text": [
      "28-Sep-24 00:28:13: Found population proton\n"
     ]
    },
    {
     "name": "stdout",
     "output_type": "stream",
     "text": [
      "variable ig_fac not sortable by Cell ID!\n"
     ]
    },
    {
     "name": "stderr",
     "output_type": "stream",
     "text": [
      "28-Sep-24 00:28:13: Found population proton\n"
     ]
    },
    {
     "name": "stdout",
     "output_type": "stream",
     "text": [
      "variable ig_fac not sortable by Cell ID!\n"
     ]
    },
    {
     "name": "stderr",
     "output_type": "stream",
     "text": [
      "28-Sep-24 00:28:14: Found population proton\n"
     ]
    },
    {
     "name": "stdout",
     "output_type": "stream",
     "text": [
      "variable ig_fac not sortable by Cell ID!\n"
     ]
    },
    {
     "name": "stderr",
     "output_type": "stream",
     "text": [
      "28-Sep-24 00:28:14: Found population proton\n"
     ]
    },
    {
     "name": "stdout",
     "output_type": "stream",
     "text": [
      "variable ig_fac not sortable by Cell ID!\n"
     ]
    },
    {
     "name": "stderr",
     "output_type": "stream",
     "text": [
      "28-Sep-24 00:28:14: Found population proton\n"
     ]
    },
    {
     "name": "stdout",
     "output_type": "stream",
     "text": [
      "variable ig_fac not sortable by Cell ID!\n"
     ]
    },
    {
     "name": "stderr",
     "output_type": "stream",
     "text": [
      "28-Sep-24 00:28:15: Found population proton\n"
     ]
    },
    {
     "name": "stdout",
     "output_type": "stream",
     "text": [
      "variable ig_fac not sortable by Cell ID!\n"
     ]
    },
    {
     "name": "stderr",
     "output_type": "stream",
     "text": [
      "28-Sep-24 00:28:15: Found population proton\n"
     ]
    },
    {
     "name": "stdout",
     "output_type": "stream",
     "text": [
      "variable ig_fac not sortable by Cell ID!\n"
     ]
    },
    {
     "name": "stderr",
     "output_type": "stream",
     "text": [
      "28-Sep-24 00:28:16: Found population proton\n"
     ]
    },
    {
     "name": "stdout",
     "output_type": "stream",
     "text": [
      "variable ig_fac not sortable by Cell ID!\n"
     ]
    },
    {
     "name": "stderr",
     "output_type": "stream",
     "text": [
      "28-Sep-24 00:28:16: Found population proton\n"
     ]
    },
    {
     "name": "stdout",
     "output_type": "stream",
     "text": [
      "variable ig_fac not sortable by Cell ID!\n"
     ]
    },
    {
     "name": "stderr",
     "output_type": "stream",
     "text": [
      "28-Sep-24 00:28:16: Found population proton\n"
     ]
    },
    {
     "name": "stdout",
     "output_type": "stream",
     "text": [
      "variable ig_fac not sortable by Cell ID!\n"
     ]
    },
    {
     "name": "stderr",
     "output_type": "stream",
     "text": [
      "28-Sep-24 00:28:17: Found population proton\n"
     ]
    },
    {
     "name": "stdout",
     "output_type": "stream",
     "text": [
      "variable ig_fac not sortable by Cell ID!\n"
     ]
    },
    {
     "name": "stderr",
     "output_type": "stream",
     "text": [
      "28-Sep-24 00:28:17: Found population proton\n"
     ]
    },
    {
     "name": "stdout",
     "output_type": "stream",
     "text": [
      "variable ig_fac not sortable by Cell ID!\n"
     ]
    },
    {
     "name": "stderr",
     "output_type": "stream",
     "text": [
      "28-Sep-24 00:28:18: Found population proton\n"
     ]
    },
    {
     "name": "stdout",
     "output_type": "stream",
     "text": [
      "variable ig_fac not sortable by Cell ID!\n"
     ]
    },
    {
     "name": "stderr",
     "output_type": "stream",
     "text": [
      "28-Sep-24 00:28:18: Found population proton\n"
     ]
    },
    {
     "name": "stdout",
     "output_type": "stream",
     "text": [
      "variable ig_fac not sortable by Cell ID!\n"
     ]
    },
    {
     "name": "stderr",
     "output_type": "stream",
     "text": [
      "28-Sep-24 00:28:18: Found population proton\n"
     ]
    },
    {
     "name": "stdout",
     "output_type": "stream",
     "text": [
      "variable ig_fac not sortable by Cell ID!\n"
     ]
    },
    {
     "name": "stderr",
     "output_type": "stream",
     "text": [
      "28-Sep-24 00:28:19: Found population proton\n"
     ]
    },
    {
     "name": "stdout",
     "output_type": "stream",
     "text": [
      "variable ig_fac not sortable by Cell ID!\n"
     ]
    },
    {
     "name": "stderr",
     "output_type": "stream",
     "text": [
      "28-Sep-24 00:28:19: Found population proton\n"
     ]
    },
    {
     "name": "stdout",
     "output_type": "stream",
     "text": [
      "variable ig_fac not sortable by Cell ID!\n"
     ]
    },
    {
     "name": "stderr",
     "output_type": "stream",
     "text": [
      "28-Sep-24 00:28:19: Found population proton\n"
     ]
    },
    {
     "name": "stdout",
     "output_type": "stream",
     "text": [
      "variable ig_fac not sortable by Cell ID!\n"
     ]
    },
    {
     "name": "stderr",
     "output_type": "stream",
     "text": [
      "28-Sep-24 00:28:20: Found population proton\n"
     ]
    },
    {
     "name": "stdout",
     "output_type": "stream",
     "text": [
      "variable ig_fac not sortable by Cell ID!\n"
     ]
    },
    {
     "name": "stderr",
     "output_type": "stream",
     "text": [
      "28-Sep-24 00:28:20: Found population proton\n"
     ]
    },
    {
     "name": "stdout",
     "output_type": "stream",
     "text": [
      "variable ig_fac not sortable by Cell ID!\n"
     ]
    },
    {
     "name": "stderr",
     "output_type": "stream",
     "text": [
      "28-Sep-24 00:28:21: Found population proton\n"
     ]
    },
    {
     "name": "stdout",
     "output_type": "stream",
     "text": [
      "variable ig_fac not sortable by Cell ID!\n"
     ]
    },
    {
     "name": "stderr",
     "output_type": "stream",
     "text": [
      "28-Sep-24 00:28:21: Found population proton\n"
     ]
    },
    {
     "name": "stdout",
     "output_type": "stream",
     "text": [
      "variable ig_fac not sortable by Cell ID!\n"
     ]
    },
    {
     "name": "stderr",
     "output_type": "stream",
     "text": [
      "28-Sep-24 00:28:21: Found population proton\n"
     ]
    },
    {
     "name": "stdout",
     "output_type": "stream",
     "text": [
      "variable ig_fac not sortable by Cell ID!\n"
     ]
    },
    {
     "name": "stderr",
     "output_type": "stream",
     "text": [
      "28-Sep-24 00:28:22: Found population proton\n"
     ]
    },
    {
     "name": "stdout",
     "output_type": "stream",
     "text": [
      "variable ig_fac not sortable by Cell ID!\n"
     ]
    },
    {
     "name": "stderr",
     "output_type": "stream",
     "text": [
      "28-Sep-24 00:28:22: Found population proton\n"
     ]
    },
    {
     "name": "stdout",
     "output_type": "stream",
     "text": [
      "variable ig_fac not sortable by Cell ID!\n"
     ]
    },
    {
     "name": "stderr",
     "output_type": "stream",
     "text": [
      "28-Sep-24 00:28:22: Found population proton\n"
     ]
    },
    {
     "name": "stdout",
     "output_type": "stream",
     "text": [
      "variable ig_fac not sortable by Cell ID!\n"
     ]
    },
    {
     "name": "stderr",
     "output_type": "stream",
     "text": [
      "28-Sep-24 00:28:23: Found population proton\n"
     ]
    },
    {
     "name": "stdout",
     "output_type": "stream",
     "text": [
      "variable ig_fac not sortable by Cell ID!\n"
     ]
    },
    {
     "name": "stderr",
     "output_type": "stream",
     "text": [
      "28-Sep-24 00:28:23: Found population proton\n"
     ]
    },
    {
     "name": "stdout",
     "output_type": "stream",
     "text": [
      "variable ig_fac not sortable by Cell ID!\n"
     ]
    },
    {
     "name": "stderr",
     "output_type": "stream",
     "text": [
      "28-Sep-24 00:28:24: Found population proton\n"
     ]
    },
    {
     "name": "stdout",
     "output_type": "stream",
     "text": [
      "variable ig_fac not sortable by Cell ID!\n"
     ]
    },
    {
     "name": "stderr",
     "output_type": "stream",
     "text": [
      "28-Sep-24 00:28:24: Found population proton\n"
     ]
    },
    {
     "name": "stdout",
     "output_type": "stream",
     "text": [
      "variable ig_fac not sortable by Cell ID!\n"
     ]
    },
    {
     "name": "stderr",
     "output_type": "stream",
     "text": [
      "28-Sep-24 00:28:24: Found population proton\n"
     ]
    },
    {
     "name": "stdout",
     "output_type": "stream",
     "text": [
      "variable ig_fac not sortable by Cell ID!\n"
     ]
    },
    {
     "name": "stderr",
     "output_type": "stream",
     "text": [
      "28-Sep-24 00:28:25: Found population proton\n"
     ]
    },
    {
     "name": "stdout",
     "output_type": "stream",
     "text": [
      "variable ig_fac not sortable by Cell ID!\n"
     ]
    },
    {
     "name": "stderr",
     "output_type": "stream",
     "text": [
      "28-Sep-24 00:28:25: Found population proton\n"
     ]
    },
    {
     "name": "stdout",
     "output_type": "stream",
     "text": [
      "variable ig_fac not sortable by Cell ID!\n"
     ]
    },
    {
     "name": "stderr",
     "output_type": "stream",
     "text": [
      "28-Sep-24 00:28:25: Found population proton\n"
     ]
    },
    {
     "name": "stdout",
     "output_type": "stream",
     "text": [
      "variable ig_fac not sortable by Cell ID!\n"
     ]
    },
    {
     "name": "stderr",
     "output_type": "stream",
     "text": [
      "28-Sep-24 00:28:26: Found population proton\n"
     ]
    },
    {
     "name": "stdout",
     "output_type": "stream",
     "text": [
      "variable ig_fac not sortable by Cell ID!\n"
     ]
    },
    {
     "name": "stderr",
     "output_type": "stream",
     "text": [
      "28-Sep-24 00:28:26: Found population proton\n"
     ]
    },
    {
     "name": "stdout",
     "output_type": "stream",
     "text": [
      "variable ig_fac not sortable by Cell ID!\n"
     ]
    },
    {
     "name": "stderr",
     "output_type": "stream",
     "text": [
      "28-Sep-24 00:28:27: Found population proton\n"
     ]
    },
    {
     "name": "stdout",
     "output_type": "stream",
     "text": [
      "variable ig_fac not sortable by Cell ID!\n"
     ]
    },
    {
     "name": "stderr",
     "output_type": "stream",
     "text": [
      "28-Sep-24 00:28:27: Found population proton\n"
     ]
    },
    {
     "name": "stdout",
     "output_type": "stream",
     "text": [
      "variable ig_fac not sortable by Cell ID!\n"
     ]
    },
    {
     "name": "stderr",
     "output_type": "stream",
     "text": [
      "28-Sep-24 00:28:27: Found population proton\n"
     ]
    },
    {
     "name": "stdout",
     "output_type": "stream",
     "text": [
      "variable ig_fac not sortable by Cell ID!\n"
     ]
    },
    {
     "name": "stderr",
     "output_type": "stream",
     "text": [
      "28-Sep-24 00:28:28: Found population proton\n"
     ]
    },
    {
     "name": "stdout",
     "output_type": "stream",
     "text": [
      "variable ig_fac not sortable by Cell ID!\n"
     ]
    },
    {
     "name": "stderr",
     "output_type": "stream",
     "text": [
      "28-Sep-24 00:28:28: Found population proton\n"
     ]
    },
    {
     "name": "stdout",
     "output_type": "stream",
     "text": [
      "variable ig_fac not sortable by Cell ID!\n"
     ]
    },
    {
     "name": "stderr",
     "output_type": "stream",
     "text": [
      "28-Sep-24 00:28:28: Found population proton\n"
     ]
    },
    {
     "name": "stdout",
     "output_type": "stream",
     "text": [
      "variable ig_fac not sortable by Cell ID!\n"
     ]
    },
    {
     "name": "stderr",
     "output_type": "stream",
     "text": [
      "28-Sep-24 00:28:29: Found population proton\n"
     ]
    },
    {
     "name": "stdout",
     "output_type": "stream",
     "text": [
      "variable ig_fac not sortable by Cell ID!\n"
     ]
    },
    {
     "name": "stderr",
     "output_type": "stream",
     "text": [
      "28-Sep-24 00:28:29: Found population proton\n"
     ]
    },
    {
     "name": "stdout",
     "output_type": "stream",
     "text": [
      "variable ig_fac not sortable by Cell ID!\n"
     ]
    },
    {
     "name": "stderr",
     "output_type": "stream",
     "text": [
      "28-Sep-24 00:28:30: Found population proton\n"
     ]
    },
    {
     "name": "stdout",
     "output_type": "stream",
     "text": [
      "variable ig_fac not sortable by Cell ID!\n"
     ]
    },
    {
     "name": "stderr",
     "output_type": "stream",
     "text": [
      "28-Sep-24 00:28:30: Found population proton\n"
     ]
    },
    {
     "name": "stdout",
     "output_type": "stream",
     "text": [
      "variable ig_fac not sortable by Cell ID!\n"
     ]
    },
    {
     "name": "stderr",
     "output_type": "stream",
     "text": [
      "28-Sep-24 00:28:30: Found population proton\n"
     ]
    },
    {
     "name": "stdout",
     "output_type": "stream",
     "text": [
      "variable ig_fac not sortable by Cell ID!\n"
     ]
    },
    {
     "name": "stderr",
     "output_type": "stream",
     "text": [
      "28-Sep-24 00:28:31: Found population proton\n"
     ]
    },
    {
     "name": "stdout",
     "output_type": "stream",
     "text": [
      "variable ig_fac not sortable by Cell ID!\n"
     ]
    },
    {
     "name": "stderr",
     "output_type": "stream",
     "text": [
      "28-Sep-24 00:28:31: Found population proton\n"
     ]
    },
    {
     "name": "stdout",
     "output_type": "stream",
     "text": [
      "variable ig_fac not sortable by Cell ID!\n"
     ]
    },
    {
     "name": "stderr",
     "output_type": "stream",
     "text": [
      "28-Sep-24 00:28:32: Found population proton\n"
     ]
    },
    {
     "name": "stdout",
     "output_type": "stream",
     "text": [
      "variable ig_fac not sortable by Cell ID!\n"
     ]
    },
    {
     "name": "stderr",
     "output_type": "stream",
     "text": [
      "28-Sep-24 00:28:32: Found population proton\n"
     ]
    },
    {
     "name": "stdout",
     "output_type": "stream",
     "text": [
      "variable ig_fac not sortable by Cell ID!\n"
     ]
    },
    {
     "name": "stderr",
     "output_type": "stream",
     "text": [
      "28-Sep-24 00:28:32: Found population proton\n"
     ]
    },
    {
     "name": "stdout",
     "output_type": "stream",
     "text": [
      "variable ig_fac not sortable by Cell ID!\n"
     ]
    },
    {
     "name": "stderr",
     "output_type": "stream",
     "text": [
      "28-Sep-24 00:28:33: Found population proton\n"
     ]
    },
    {
     "name": "stdout",
     "output_type": "stream",
     "text": [
      "variable ig_fac not sortable by Cell ID!\n"
     ]
    },
    {
     "name": "stderr",
     "output_type": "stream",
     "text": [
      "28-Sep-24 00:28:33: Found population proton\n"
     ]
    },
    {
     "name": "stdout",
     "output_type": "stream",
     "text": [
      "variable ig_fac not sortable by Cell ID!\n"
     ]
    },
    {
     "name": "stderr",
     "output_type": "stream",
     "text": [
      "28-Sep-24 00:28:33: Found population proton\n"
     ]
    },
    {
     "name": "stdout",
     "output_type": "stream",
     "text": [
      "variable ig_fac not sortable by Cell ID!\n"
     ]
    },
    {
     "name": "stderr",
     "output_type": "stream",
     "text": [
      "28-Sep-24 00:28:34: Found population proton\n"
     ]
    },
    {
     "name": "stdout",
     "output_type": "stream",
     "text": [
      "variable ig_fac not sortable by Cell ID!\n"
     ]
    },
    {
     "name": "stderr",
     "output_type": "stream",
     "text": [
      "28-Sep-24 00:28:34: Found population proton\n"
     ]
    },
    {
     "name": "stdout",
     "output_type": "stream",
     "text": [
      "variable ig_fac not sortable by Cell ID!\n"
     ]
    },
    {
     "name": "stderr",
     "output_type": "stream",
     "text": [
      "28-Sep-24 00:28:35: Found population proton\n"
     ]
    },
    {
     "name": "stdout",
     "output_type": "stream",
     "text": [
      "variable ig_fac not sortable by Cell ID!\n"
     ]
    },
    {
     "name": "stderr",
     "output_type": "stream",
     "text": [
      "28-Sep-24 00:28:35: Found population proton\n"
     ]
    },
    {
     "name": "stdout",
     "output_type": "stream",
     "text": [
      "variable ig_fac not sortable by Cell ID!\n"
     ]
    },
    {
     "name": "stderr",
     "output_type": "stream",
     "text": [
      "28-Sep-24 00:28:35: Found population proton\n"
     ]
    },
    {
     "name": "stdout",
     "output_type": "stream",
     "text": [
      "variable ig_fac not sortable by Cell ID!\n"
     ]
    },
    {
     "name": "stderr",
     "output_type": "stream",
     "text": [
      "28-Sep-24 00:28:36: Found population proton\n"
     ]
    },
    {
     "name": "stdout",
     "output_type": "stream",
     "text": [
      "variable ig_fac not sortable by Cell ID!\n"
     ]
    },
    {
     "name": "stderr",
     "output_type": "stream",
     "text": [
      "28-Sep-24 00:28:36: Found population proton\n"
     ]
    },
    {
     "name": "stdout",
     "output_type": "stream",
     "text": [
      "variable ig_fac not sortable by Cell ID!\n"
     ]
    },
    {
     "name": "stderr",
     "output_type": "stream",
     "text": [
      "28-Sep-24 00:28:37: Found population proton\n"
     ]
    },
    {
     "name": "stdout",
     "output_type": "stream",
     "text": [
      "variable ig_fac not sortable by Cell ID!\n"
     ]
    },
    {
     "name": "stderr",
     "output_type": "stream",
     "text": [
      "28-Sep-24 00:28:37: Found population proton\n"
     ]
    },
    {
     "name": "stdout",
     "output_type": "stream",
     "text": [
      "variable ig_fac not sortable by Cell ID!\n"
     ]
    },
    {
     "name": "stderr",
     "output_type": "stream",
     "text": [
      "28-Sep-24 00:28:37: Found population proton\n"
     ]
    },
    {
     "name": "stdout",
     "output_type": "stream",
     "text": [
      "variable ig_fac not sortable by Cell ID!\n"
     ]
    },
    {
     "name": "stderr",
     "output_type": "stream",
     "text": [
      "28-Sep-24 00:28:38: Found population proton\n"
     ]
    },
    {
     "name": "stdout",
     "output_type": "stream",
     "text": [
      "variable ig_fac not sortable by Cell ID!\n"
     ]
    },
    {
     "name": "stderr",
     "output_type": "stream",
     "text": [
      "28-Sep-24 00:28:38: Found population proton\n"
     ]
    },
    {
     "name": "stdout",
     "output_type": "stream",
     "text": [
      "variable ig_fac not sortable by Cell ID!\n"
     ]
    },
    {
     "name": "stderr",
     "output_type": "stream",
     "text": [
      "28-Sep-24 00:28:39: Found population proton\n"
     ]
    },
    {
     "name": "stdout",
     "output_type": "stream",
     "text": [
      "variable ig_fac not sortable by Cell ID!\n"
     ]
    },
    {
     "name": "stderr",
     "output_type": "stream",
     "text": [
      "28-Sep-24 00:28:39: Found population proton\n"
     ]
    },
    {
     "name": "stdout",
     "output_type": "stream",
     "text": [
      "variable ig_fac not sortable by Cell ID!\n"
     ]
    },
    {
     "name": "stderr",
     "output_type": "stream",
     "text": [
      "28-Sep-24 00:28:39: Found population proton\n"
     ]
    },
    {
     "name": "stdout",
     "output_type": "stream",
     "text": [
      "variable ig_fac not sortable by Cell ID!\n"
     ]
    },
    {
     "name": "stderr",
     "output_type": "stream",
     "text": [
      "28-Sep-24 00:28:40: Found population proton\n"
     ]
    },
    {
     "name": "stdout",
     "output_type": "stream",
     "text": [
      "variable ig_fac not sortable by Cell ID!\n"
     ]
    },
    {
     "name": "stderr",
     "output_type": "stream",
     "text": [
      "28-Sep-24 00:28:40: Found population proton\n"
     ]
    },
    {
     "name": "stdout",
     "output_type": "stream",
     "text": [
      "variable ig_fac not sortable by Cell ID!\n"
     ]
    },
    {
     "name": "stderr",
     "output_type": "stream",
     "text": [
      "28-Sep-24 00:28:40: Found population proton\n"
     ]
    },
    {
     "name": "stdout",
     "output_type": "stream",
     "text": [
      "variable ig_fac not sortable by Cell ID!\n"
     ]
    },
    {
     "name": "stderr",
     "output_type": "stream",
     "text": [
      "28-Sep-24 00:28:41: Found population proton\n"
     ]
    },
    {
     "name": "stdout",
     "output_type": "stream",
     "text": [
      "variable ig_fac not sortable by Cell ID!\n"
     ]
    },
    {
     "name": "stderr",
     "output_type": "stream",
     "text": [
      "28-Sep-24 00:28:41: Found population proton\n"
     ]
    },
    {
     "name": "stdout",
     "output_type": "stream",
     "text": [
      "variable ig_fac not sortable by Cell ID!\n"
     ]
    },
    {
     "name": "stderr",
     "output_type": "stream",
     "text": [
      "28-Sep-24 00:28:42: Found population proton\n"
     ]
    },
    {
     "name": "stdout",
     "output_type": "stream",
     "text": [
      "variable ig_fac not sortable by Cell ID!\n"
     ]
    },
    {
     "name": "stderr",
     "output_type": "stream",
     "text": [
      "28-Sep-24 00:28:42: Found population proton\n"
     ]
    },
    {
     "name": "stdout",
     "output_type": "stream",
     "text": [
      "variable ig_fac not sortable by Cell ID!\n"
     ]
    },
    {
     "name": "stderr",
     "output_type": "stream",
     "text": [
      "28-Sep-24 00:28:42: Found population proton\n"
     ]
    },
    {
     "name": "stdout",
     "output_type": "stream",
     "text": [
      "variable ig_fac not sortable by Cell ID!\n"
     ]
    },
    {
     "name": "stderr",
     "output_type": "stream",
     "text": [
      "28-Sep-24 00:28:43: Found population proton\n"
     ]
    },
    {
     "name": "stdout",
     "output_type": "stream",
     "text": [
      "variable ig_fac not sortable by Cell ID!\n"
     ]
    },
    {
     "name": "stderr",
     "output_type": "stream",
     "text": [
      "28-Sep-24 00:28:43: Found population proton\n"
     ]
    },
    {
     "name": "stdout",
     "output_type": "stream",
     "text": [
      "variable ig_fac not sortable by Cell ID!\n"
     ]
    },
    {
     "name": "stderr",
     "output_type": "stream",
     "text": [
      "28-Sep-24 00:28:44: Found population proton\n"
     ]
    },
    {
     "name": "stdout",
     "output_type": "stream",
     "text": [
      "variable ig_fac not sortable by Cell ID!\n"
     ]
    },
    {
     "name": "stderr",
     "output_type": "stream",
     "text": [
      "28-Sep-24 00:28:44: Found population proton\n"
     ]
    },
    {
     "name": "stdout",
     "output_type": "stream",
     "text": [
      "variable ig_fac not sortable by Cell ID!\n"
     ]
    },
    {
     "name": "stderr",
     "output_type": "stream",
     "text": [
      "28-Sep-24 00:28:44: Found population proton\n"
     ]
    },
    {
     "name": "stdout",
     "output_type": "stream",
     "text": [
      "variable ig_fac not sortable by Cell ID!\n"
     ]
    },
    {
     "name": "stderr",
     "output_type": "stream",
     "text": [
      "28-Sep-24 00:28:45: Found population proton\n"
     ]
    },
    {
     "name": "stdout",
     "output_type": "stream",
     "text": [
      "variable ig_fac not sortable by Cell ID!\n"
     ]
    },
    {
     "name": "stderr",
     "output_type": "stream",
     "text": [
      "28-Sep-24 00:28:45: Found population proton\n"
     ]
    },
    {
     "name": "stdout",
     "output_type": "stream",
     "text": [
      "variable ig_fac not sortable by Cell ID!\n"
     ]
    },
    {
     "name": "stderr",
     "output_type": "stream",
     "text": [
      "28-Sep-24 00:28:45: Found population proton\n"
     ]
    },
    {
     "name": "stdout",
     "output_type": "stream",
     "text": [
      "variable ig_fac not sortable by Cell ID!\n"
     ]
    },
    {
     "name": "stderr",
     "output_type": "stream",
     "text": [
      "28-Sep-24 00:28:46: Found population proton\n"
     ]
    },
    {
     "name": "stdout",
     "output_type": "stream",
     "text": [
      "variable ig_fac not sortable by Cell ID!\n"
     ]
    },
    {
     "name": "stderr",
     "output_type": "stream",
     "text": [
      "28-Sep-24 00:28:46: Found population proton\n"
     ]
    },
    {
     "name": "stdout",
     "output_type": "stream",
     "text": [
      "variable ig_fac not sortable by Cell ID!\n"
     ]
    },
    {
     "name": "stderr",
     "output_type": "stream",
     "text": [
      "28-Sep-24 00:28:47: Found population proton\n"
     ]
    },
    {
     "name": "stdout",
     "output_type": "stream",
     "text": [
      "variable ig_fac not sortable by Cell ID!\n"
     ]
    },
    {
     "name": "stderr",
     "output_type": "stream",
     "text": [
      "28-Sep-24 00:28:47: Found population proton\n"
     ]
    },
    {
     "name": "stdout",
     "output_type": "stream",
     "text": [
      "variable ig_fac not sortable by Cell ID!\n"
     ]
    },
    {
     "name": "stderr",
     "output_type": "stream",
     "text": [
      "28-Sep-24 00:28:47: Found population proton\n"
     ]
    },
    {
     "name": "stdout",
     "output_type": "stream",
     "text": [
      "variable ig_fac not sortable by Cell ID!\n"
     ]
    },
    {
     "name": "stderr",
     "output_type": "stream",
     "text": [
      "28-Sep-24 00:28:48: Found population proton\n"
     ]
    },
    {
     "name": "stdout",
     "output_type": "stream",
     "text": [
      "variable ig_fac not sortable by Cell ID!\n"
     ]
    },
    {
     "name": "stderr",
     "output_type": "stream",
     "text": [
      "28-Sep-24 00:28:48: Found population proton\n"
     ]
    },
    {
     "name": "stdout",
     "output_type": "stream",
     "text": [
      "variable ig_fac not sortable by Cell ID!\n"
     ]
    },
    {
     "name": "stderr",
     "output_type": "stream",
     "text": [
      "28-Sep-24 00:28:48: Found population proton\n"
     ]
    },
    {
     "name": "stdout",
     "output_type": "stream",
     "text": [
      "variable ig_fac not sortable by Cell ID!\n"
     ]
    },
    {
     "name": "stderr",
     "output_type": "stream",
     "text": [
      "28-Sep-24 00:28:49: Found population proton\n"
     ]
    },
    {
     "name": "stdout",
     "output_type": "stream",
     "text": [
      "variable ig_fac not sortable by Cell ID!\n"
     ]
    },
    {
     "name": "stderr",
     "output_type": "stream",
     "text": [
      "28-Sep-24 00:28:49: Found population proton\n"
     ]
    },
    {
     "name": "stdout",
     "output_type": "stream",
     "text": [
      "variable ig_fac not sortable by Cell ID!\n"
     ]
    },
    {
     "name": "stderr",
     "output_type": "stream",
     "text": [
      "28-Sep-24 00:28:50: Found population proton\n"
     ]
    },
    {
     "name": "stdout",
     "output_type": "stream",
     "text": [
      "variable ig_fac not sortable by Cell ID!\n"
     ]
    },
    {
     "name": "stderr",
     "output_type": "stream",
     "text": [
      "28-Sep-24 00:28:50: Found population proton\n"
     ]
    },
    {
     "name": "stdout",
     "output_type": "stream",
     "text": [
      "variable ig_fac not sortable by Cell ID!\n"
     ]
    },
    {
     "name": "stderr",
     "output_type": "stream",
     "text": [
      "28-Sep-24 00:28:50: Found population proton\n"
     ]
    },
    {
     "name": "stdout",
     "output_type": "stream",
     "text": [
      "variable ig_fac not sortable by Cell ID!\n"
     ]
    },
    {
     "name": "stderr",
     "output_type": "stream",
     "text": [
      "28-Sep-24 00:28:51: Found population proton\n"
     ]
    },
    {
     "name": "stdout",
     "output_type": "stream",
     "text": [
      "variable ig_fac not sortable by Cell ID!\n"
     ]
    },
    {
     "name": "stderr",
     "output_type": "stream",
     "text": [
      "28-Sep-24 00:28:51: Found population proton\n"
     ]
    },
    {
     "name": "stdout",
     "output_type": "stream",
     "text": [
      "variable ig_fac not sortable by Cell ID!\n"
     ]
    },
    {
     "name": "stderr",
     "output_type": "stream",
     "text": [
      "28-Sep-24 00:28:51: Found population proton\n"
     ]
    },
    {
     "name": "stdout",
     "output_type": "stream",
     "text": [
      "variable ig_fac not sortable by Cell ID!\n"
     ]
    },
    {
     "name": "stderr",
     "output_type": "stream",
     "text": [
      "28-Sep-24 00:28:52: Found population proton\n"
     ]
    },
    {
     "name": "stdout",
     "output_type": "stream",
     "text": [
      "variable ig_fac not sortable by Cell ID!\n"
     ]
    },
    {
     "name": "stderr",
     "output_type": "stream",
     "text": [
      "28-Sep-24 00:28:52: Found population proton\n"
     ]
    },
    {
     "name": "stdout",
     "output_type": "stream",
     "text": [
      "variable ig_fac not sortable by Cell ID!\n"
     ]
    },
    {
     "name": "stderr",
     "output_type": "stream",
     "text": [
      "28-Sep-24 00:28:53: Found population proton\n"
     ]
    },
    {
     "name": "stdout",
     "output_type": "stream",
     "text": [
      "variable ig_fac not sortable by Cell ID!\n"
     ]
    },
    {
     "name": "stderr",
     "output_type": "stream",
     "text": [
      "28-Sep-24 00:28:53: Found population proton\n"
     ]
    },
    {
     "name": "stdout",
     "output_type": "stream",
     "text": [
      "variable ig_fac not sortable by Cell ID!\n"
     ]
    },
    {
     "name": "stderr",
     "output_type": "stream",
     "text": [
      "28-Sep-24 00:28:53: Found population proton\n"
     ]
    },
    {
     "name": "stdout",
     "output_type": "stream",
     "text": [
      "variable ig_fac not sortable by Cell ID!\n"
     ]
    },
    {
     "name": "stderr",
     "output_type": "stream",
     "text": [
      "28-Sep-24 00:28:54: Found population proton\n"
     ]
    },
    {
     "name": "stdout",
     "output_type": "stream",
     "text": [
      "variable ig_fac not sortable by Cell ID!\n"
     ]
    },
    {
     "name": "stderr",
     "output_type": "stream",
     "text": [
      "28-Sep-24 00:28:54: Found population proton\n"
     ]
    },
    {
     "name": "stdout",
     "output_type": "stream",
     "text": [
      "variable ig_fac not sortable by Cell ID!\n"
     ]
    },
    {
     "name": "stderr",
     "output_type": "stream",
     "text": [
      "28-Sep-24 00:28:54: Found population proton\n"
     ]
    },
    {
     "name": "stdout",
     "output_type": "stream",
     "text": [
      "variable ig_fac not sortable by Cell ID!\n",
      "variable ig_fac not sortable by Cell ID!\n"
     ]
    },
    {
     "name": "stderr",
     "output_type": "stream",
     "text": [
      "28-Sep-24 00:28:58: Found population proton\n",
      "28-Sep-24 00:28:59: Found population proton\n"
     ]
    },
    {
     "name": "stdout",
     "output_type": "stream",
     "text": [
      "variable ig_fac not sortable by Cell ID!\n"
     ]
    },
    {
     "name": "stderr",
     "output_type": "stream",
     "text": [
      "28-Sep-24 00:28:59: Found population proton\n"
     ]
    },
    {
     "name": "stdout",
     "output_type": "stream",
     "text": [
      "variable ig_fac not sortable by Cell ID!\n"
     ]
    },
    {
     "name": "stderr",
     "output_type": "stream",
     "text": [
      "28-Sep-24 00:29:00: Found population proton\n"
     ]
    },
    {
     "name": "stdout",
     "output_type": "stream",
     "text": [
      "variable ig_fac not sortable by Cell ID!\n"
     ]
    },
    {
     "name": "stderr",
     "output_type": "stream",
     "text": [
      "28-Sep-24 00:29:06: Found population proton\n"
     ]
    },
    {
     "name": "stdout",
     "output_type": "stream",
     "text": [
      "variable ig_fac not sortable by Cell ID!\n"
     ]
    },
    {
     "name": "stderr",
     "output_type": "stream",
     "text": [
      "28-Sep-24 00:29:06: Found population proton\n"
     ]
    },
    {
     "name": "stdout",
     "output_type": "stream",
     "text": [
      "variable ig_fac not sortable by Cell ID!\n"
     ]
    },
    {
     "name": "stderr",
     "output_type": "stream",
     "text": [
      "28-Sep-24 00:29:06: Found population proton\n"
     ]
    },
    {
     "name": "stdout",
     "output_type": "stream",
     "text": [
      "variable ig_fac not sortable by Cell ID!\n"
     ]
    },
    {
     "name": "stderr",
     "output_type": "stream",
     "text": [
      "28-Sep-24 00:29:07: Found population proton\n"
     ]
    },
    {
     "name": "stdout",
     "output_type": "stream",
     "text": [
      "variable ig_fac not sortable by Cell ID!\n"
     ]
    },
    {
     "name": "stderr",
     "output_type": "stream",
     "text": [
      "28-Sep-24 00:29:07: Found population proton\n"
     ]
    },
    {
     "name": "stdout",
     "output_type": "stream",
     "text": [
      "variable ig_fac not sortable by Cell ID!\n"
     ]
    },
    {
     "name": "stderr",
     "output_type": "stream",
     "text": [
      "28-Sep-24 00:29:07: Found population proton\n"
     ]
    },
    {
     "name": "stdout",
     "output_type": "stream",
     "text": [
      "variable ig_fac not sortable by Cell ID!\n"
     ]
    },
    {
     "name": "stderr",
     "output_type": "stream",
     "text": [
      "28-Sep-24 00:29:08: Found population proton\n"
     ]
    },
    {
     "name": "stdout",
     "output_type": "stream",
     "text": [
      "variable ig_fac not sortable by Cell ID!\n"
     ]
    },
    {
     "name": "stderr",
     "output_type": "stream",
     "text": [
      "28-Sep-24 00:29:08: Found population proton\n"
     ]
    },
    {
     "name": "stdout",
     "output_type": "stream",
     "text": [
      "variable ig_fac not sortable by Cell ID!\n"
     ]
    },
    {
     "name": "stderr",
     "output_type": "stream",
     "text": [
      "28-Sep-24 00:29:09: Found population proton\n"
     ]
    },
    {
     "name": "stdout",
     "output_type": "stream",
     "text": [
      "variable ig_fac not sortable by Cell ID!\n"
     ]
    },
    {
     "name": "stderr",
     "output_type": "stream",
     "text": [
      "28-Sep-24 00:29:21: Found population proton\n"
     ]
    },
    {
     "name": "stdout",
     "output_type": "stream",
     "text": [
      "variable ig_fac not sortable by Cell ID!\n"
     ]
    },
    {
     "name": "stderr",
     "output_type": "stream",
     "text": [
      "28-Sep-24 00:29:21: Found population proton\n"
     ]
    },
    {
     "name": "stdout",
     "output_type": "stream",
     "text": [
      "variable ig_fac not sortable by Cell ID!\n"
     ]
    },
    {
     "name": "stderr",
     "output_type": "stream",
     "text": [
      "28-Sep-24 00:29:21: Found population proton\n"
     ]
    },
    {
     "name": "stdout",
     "output_type": "stream",
     "text": [
      "variable ig_fac not sortable by Cell ID!\n"
     ]
    },
    {
     "name": "stderr",
     "output_type": "stream",
     "text": [
      "28-Sep-24 00:29:22: Found population proton\n"
     ]
    },
    {
     "name": "stdout",
     "output_type": "stream",
     "text": [
      "variable ig_fac not sortable by Cell ID!\n"
     ]
    },
    {
     "name": "stderr",
     "output_type": "stream",
     "text": [
      "28-Sep-24 00:29:22: Found population proton\n"
     ]
    },
    {
     "name": "stdout",
     "output_type": "stream",
     "text": [
      "variable ig_fac not sortable by Cell ID!\n"
     ]
    },
    {
     "name": "stderr",
     "output_type": "stream",
     "text": [
      "28-Sep-24 00:29:22: Found population proton\n"
     ]
    },
    {
     "name": "stdout",
     "output_type": "stream",
     "text": [
      "variable ig_fac not sortable by Cell ID!\n"
     ]
    },
    {
     "name": "stderr",
     "output_type": "stream",
     "text": [
      "28-Sep-24 00:29:23: Found population proton\n"
     ]
    },
    {
     "name": "stdout",
     "output_type": "stream",
     "text": [
      "variable ig_fac not sortable by Cell ID!\n"
     ]
    },
    {
     "name": "stderr",
     "output_type": "stream",
     "text": [
      "28-Sep-24 00:29:23: Found population proton\n"
     ]
    },
    {
     "name": "stdout",
     "output_type": "stream",
     "text": [
      "variable ig_fac not sortable by Cell ID!\n"
     ]
    },
    {
     "name": "stderr",
     "output_type": "stream",
     "text": [
      "28-Sep-24 00:29:23: Found population proton\n"
     ]
    },
    {
     "name": "stdout",
     "output_type": "stream",
     "text": [
      "variable ig_fac not sortable by Cell ID!\n"
     ]
    },
    {
     "name": "stderr",
     "output_type": "stream",
     "text": [
      "28-Sep-24 00:29:24: Found population proton\n"
     ]
    },
    {
     "name": "stdout",
     "output_type": "stream",
     "text": [
      "variable ig_fac not sortable by Cell ID!\n"
     ]
    },
    {
     "name": "stderr",
     "output_type": "stream",
     "text": [
      "28-Sep-24 00:29:24: Found population proton\n"
     ]
    },
    {
     "name": "stdout",
     "output_type": "stream",
     "text": [
      "variable ig_fac not sortable by Cell ID!\n"
     ]
    },
    {
     "name": "stderr",
     "output_type": "stream",
     "text": [
      "28-Sep-24 00:29:25: Found population proton\n"
     ]
    },
    {
     "name": "stdout",
     "output_type": "stream",
     "text": [
      "variable ig_fac not sortable by Cell ID!\n"
     ]
    },
    {
     "name": "stderr",
     "output_type": "stream",
     "text": [
      "28-Sep-24 00:29:25: Found population proton\n"
     ]
    },
    {
     "name": "stdout",
     "output_type": "stream",
     "text": [
      "variable ig_fac not sortable by Cell ID!\n"
     ]
    },
    {
     "name": "stderr",
     "output_type": "stream",
     "text": [
      "28-Sep-24 00:29:25: Found population proton\n"
     ]
    },
    {
     "name": "stdout",
     "output_type": "stream",
     "text": [
      "variable ig_fac not sortable by Cell ID!\n"
     ]
    },
    {
     "name": "stderr",
     "output_type": "stream",
     "text": [
      "28-Sep-24 00:29:26: Found population proton\n"
     ]
    },
    {
     "name": "stdout",
     "output_type": "stream",
     "text": [
      "variable ig_fac not sortable by Cell ID!\n"
     ]
    },
    {
     "name": "stderr",
     "output_type": "stream",
     "text": [
      "28-Sep-24 00:29:26: Found population proton\n"
     ]
    },
    {
     "name": "stdout",
     "output_type": "stream",
     "text": [
      "variable ig_fac not sortable by Cell ID!\n"
     ]
    },
    {
     "name": "stderr",
     "output_type": "stream",
     "text": [
      "28-Sep-24 00:29:26: Found population proton\n"
     ]
    },
    {
     "name": "stdout",
     "output_type": "stream",
     "text": [
      "variable ig_fac not sortable by Cell ID!\n"
     ]
    },
    {
     "name": "stderr",
     "output_type": "stream",
     "text": [
      "28-Sep-24 00:29:31: Found population proton\n"
     ]
    },
    {
     "name": "stdout",
     "output_type": "stream",
     "text": [
      "variable ig_fac not sortable by Cell ID!\n"
     ]
    },
    {
     "name": "stderr",
     "output_type": "stream",
     "text": [
      "28-Sep-24 00:29:31: Found population proton\n"
     ]
    },
    {
     "name": "stdout",
     "output_type": "stream",
     "text": [
      "variable ig_fac not sortable by Cell ID!\n"
     ]
    },
    {
     "name": "stderr",
     "output_type": "stream",
     "text": [
      "28-Sep-24 00:29:32: Found population proton\n"
     ]
    },
    {
     "name": "stdout",
     "output_type": "stream",
     "text": [
      "variable ig_fac not sortable by Cell ID!\n",
      "variable ig_fac not sortable by Cell ID!\n"
     ]
    },
    {
     "name": "stderr",
     "output_type": "stream",
     "text": [
      "28-Sep-24 00:29:36: Found population proton\n",
      "28-Sep-24 00:29:36: Found population proton\n"
     ]
    },
    {
     "name": "stdout",
     "output_type": "stream",
     "text": [
      "variable ig_fac not sortable by Cell ID!\n"
     ]
    },
    {
     "name": "stderr",
     "output_type": "stream",
     "text": [
      "28-Sep-24 00:29:37: Found population proton\n"
     ]
    },
    {
     "name": "stdout",
     "output_type": "stream",
     "text": [
      "variable ig_fac not sortable by Cell ID!\n"
     ]
    },
    {
     "name": "stderr",
     "output_type": "stream",
     "text": [
      "28-Sep-24 00:29:37: Found population proton\n"
     ]
    },
    {
     "name": "stdout",
     "output_type": "stream",
     "text": [
      "variable ig_fac not sortable by Cell ID!\n"
     ]
    },
    {
     "name": "stderr",
     "output_type": "stream",
     "text": [
      "28-Sep-24 00:29:37: Found population proton\n"
     ]
    },
    {
     "name": "stdout",
     "output_type": "stream",
     "text": [
      "variable ig_fac not sortable by Cell ID!\n"
     ]
    },
    {
     "name": "stderr",
     "output_type": "stream",
     "text": [
      "28-Sep-24 00:29:38: Found population proton\n"
     ]
    },
    {
     "name": "stdout",
     "output_type": "stream",
     "text": [
      "variable ig_fac not sortable by Cell ID!\n"
     ]
    },
    {
     "name": "stderr",
     "output_type": "stream",
     "text": [
      "28-Sep-24 00:29:38: Found population proton\n"
     ]
    },
    {
     "name": "stdout",
     "output_type": "stream",
     "text": [
      "variable ig_fac not sortable by Cell ID!\n"
     ]
    },
    {
     "name": "stderr",
     "output_type": "stream",
     "text": [
      "28-Sep-24 00:29:39: Found population proton\n"
     ]
    },
    {
     "name": "stdout",
     "output_type": "stream",
     "text": [
      "variable ig_fac not sortable by Cell ID!\n"
     ]
    },
    {
     "name": "stderr",
     "output_type": "stream",
     "text": [
      "28-Sep-24 00:29:39: Found population proton\n"
     ]
    },
    {
     "name": "stdout",
     "output_type": "stream",
     "text": [
      "variable ig_fac not sortable by Cell ID!\n"
     ]
    },
    {
     "name": "stderr",
     "output_type": "stream",
     "text": [
      "28-Sep-24 00:29:39: Found population proton\n"
     ]
    },
    {
     "name": "stdout",
     "output_type": "stream",
     "text": [
      "variable ig_fac not sortable by Cell ID!\n"
     ]
    },
    {
     "name": "stderr",
     "output_type": "stream",
     "text": [
      "28-Sep-24 00:29:40: Found population proton\n"
     ]
    },
    {
     "name": "stdout",
     "output_type": "stream",
     "text": [
      "variable ig_fac not sortable by Cell ID!\n"
     ]
    },
    {
     "name": "stderr",
     "output_type": "stream",
     "text": [
      "28-Sep-24 00:29:40: Found population proton\n"
     ]
    },
    {
     "name": "stdout",
     "output_type": "stream",
     "text": [
      "variable ig_fac not sortable by Cell ID!\n"
     ]
    },
    {
     "name": "stderr",
     "output_type": "stream",
     "text": [
      "28-Sep-24 00:29:40: Found population proton\n"
     ]
    },
    {
     "name": "stdout",
     "output_type": "stream",
     "text": [
      "variable ig_fac not sortable by Cell ID!\n"
     ]
    },
    {
     "name": "stderr",
     "output_type": "stream",
     "text": [
      "28-Sep-24 00:29:41: Found population proton\n"
     ]
    },
    {
     "name": "stdout",
     "output_type": "stream",
     "text": [
      "variable ig_fac not sortable by Cell ID!\n"
     ]
    },
    {
     "name": "stderr",
     "output_type": "stream",
     "text": [
      "28-Sep-24 00:29:41: Found population proton\n"
     ]
    },
    {
     "name": "stdout",
     "output_type": "stream",
     "text": [
      "variable ig_fac not sortable by Cell ID!\n"
     ]
    },
    {
     "name": "stderr",
     "output_type": "stream",
     "text": [
      "28-Sep-24 00:29:41: Found population proton\n"
     ]
    },
    {
     "name": "stdout",
     "output_type": "stream",
     "text": [
      "variable ig_fac not sortable by Cell ID!\n"
     ]
    },
    {
     "name": "stderr",
     "output_type": "stream",
     "text": [
      "28-Sep-24 00:29:42: Found population proton\n"
     ]
    },
    {
     "name": "stdout",
     "output_type": "stream",
     "text": [
      "variable ig_fac not sortable by Cell ID!\n"
     ]
    },
    {
     "name": "stderr",
     "output_type": "stream",
     "text": [
      "28-Sep-24 00:29:42: Found population proton\n"
     ]
    },
    {
     "name": "stdout",
     "output_type": "stream",
     "text": [
      "variable ig_fac not sortable by Cell ID!\n"
     ]
    },
    {
     "name": "stderr",
     "output_type": "stream",
     "text": [
      "28-Sep-24 00:29:43: Found population proton\n"
     ]
    },
    {
     "name": "stdout",
     "output_type": "stream",
     "text": [
      "variable ig_fac not sortable by Cell ID!\n"
     ]
    },
    {
     "name": "stderr",
     "output_type": "stream",
     "text": [
      "28-Sep-24 00:29:43: Found population proton\n"
     ]
    },
    {
     "name": "stdout",
     "output_type": "stream",
     "text": [
      "variable ig_fac not sortable by Cell ID!\n"
     ]
    },
    {
     "name": "stderr",
     "output_type": "stream",
     "text": [
      "28-Sep-24 00:29:43: Found population proton\n"
     ]
    },
    {
     "name": "stdout",
     "output_type": "stream",
     "text": [
      "variable ig_fac not sortable by Cell ID!\n"
     ]
    },
    {
     "name": "stderr",
     "output_type": "stream",
     "text": [
      "28-Sep-24 00:29:44: Found population proton\n"
     ]
    },
    {
     "name": "stdout",
     "output_type": "stream",
     "text": [
      "variable ig_fac not sortable by Cell ID!\n"
     ]
    },
    {
     "name": "stderr",
     "output_type": "stream",
     "text": [
      "28-Sep-24 00:29:44: Found population proton\n"
     ]
    },
    {
     "name": "stdout",
     "output_type": "stream",
     "text": [
      "variable ig_fac not sortable by Cell ID!\n"
     ]
    },
    {
     "name": "stderr",
     "output_type": "stream",
     "text": [
      "28-Sep-24 00:29:44: Found population proton\n"
     ]
    },
    {
     "name": "stdout",
     "output_type": "stream",
     "text": [
      "variable ig_fac not sortable by Cell ID!\n"
     ]
    },
    {
     "name": "stderr",
     "output_type": "stream",
     "text": [
      "28-Sep-24 00:29:45: Found population proton\n"
     ]
    },
    {
     "name": "stdout",
     "output_type": "stream",
     "text": [
      "variable ig_fac not sortable by Cell ID!\n"
     ]
    },
    {
     "name": "stderr",
     "output_type": "stream",
     "text": [
      "28-Sep-24 00:29:45: Found population proton\n"
     ]
    },
    {
     "name": "stdout",
     "output_type": "stream",
     "text": [
      "variable ig_fac not sortable by Cell ID!\n"
     ]
    },
    {
     "name": "stderr",
     "output_type": "stream",
     "text": [
      "28-Sep-24 00:29:46: Found population proton\n"
     ]
    },
    {
     "name": "stdout",
     "output_type": "stream",
     "text": [
      "variable ig_fac not sortable by Cell ID!\n"
     ]
    },
    {
     "name": "stderr",
     "output_type": "stream",
     "text": [
      "28-Sep-24 00:29:46: Found population proton\n"
     ]
    },
    {
     "name": "stdout",
     "output_type": "stream",
     "text": [
      "variable ig_fac not sortable by Cell ID!\n"
     ]
    },
    {
     "name": "stderr",
     "output_type": "stream",
     "text": [
      "28-Sep-24 00:29:46: Found population proton\n"
     ]
    },
    {
     "name": "stdout",
     "output_type": "stream",
     "text": [
      "variable ig_fac not sortable by Cell ID!\n"
     ]
    },
    {
     "name": "stderr",
     "output_type": "stream",
     "text": [
      "28-Sep-24 00:29:47: Found population proton\n"
     ]
    },
    {
     "name": "stdout",
     "output_type": "stream",
     "text": [
      "variable ig_fac not sortable by Cell ID!\n"
     ]
    },
    {
     "name": "stderr",
     "output_type": "stream",
     "text": [
      "28-Sep-24 00:29:47: Found population proton\n"
     ]
    },
    {
     "name": "stdout",
     "output_type": "stream",
     "text": [
      "variable ig_fac not sortable by Cell ID!\n"
     ]
    },
    {
     "name": "stderr",
     "output_type": "stream",
     "text": [
      "28-Sep-24 00:29:47: Found population proton\n"
     ]
    },
    {
     "name": "stdout",
     "output_type": "stream",
     "text": [
      "variable ig_fac not sortable by Cell ID!\n"
     ]
    },
    {
     "name": "stderr",
     "output_type": "stream",
     "text": [
      "28-Sep-24 00:29:48: Found population proton\n"
     ]
    },
    {
     "name": "stdout",
     "output_type": "stream",
     "text": [
      "variable ig_fac not sortable by Cell ID!\n"
     ]
    },
    {
     "name": "stderr",
     "output_type": "stream",
     "text": [
      "28-Sep-24 00:29:48: Found population proton\n"
     ]
    },
    {
     "name": "stdout",
     "output_type": "stream",
     "text": [
      "variable ig_fac not sortable by Cell ID!\n"
     ]
    },
    {
     "name": "stderr",
     "output_type": "stream",
     "text": [
      "28-Sep-24 00:29:48: Found population proton\n"
     ]
    },
    {
     "name": "stdout",
     "output_type": "stream",
     "text": [
      "variable ig_fac not sortable by Cell ID!\n"
     ]
    },
    {
     "name": "stderr",
     "output_type": "stream",
     "text": [
      "28-Sep-24 00:29:49: Found population proton\n"
     ]
    },
    {
     "name": "stdout",
     "output_type": "stream",
     "text": [
      "variable ig_fac not sortable by Cell ID!\n"
     ]
    },
    {
     "name": "stderr",
     "output_type": "stream",
     "text": [
      "28-Sep-24 00:29:49: Found population proton\n"
     ]
    },
    {
     "name": "stdout",
     "output_type": "stream",
     "text": [
      "variable ig_fac not sortable by Cell ID!\n"
     ]
    },
    {
     "name": "stderr",
     "output_type": "stream",
     "text": [
      "28-Sep-24 00:29:50: Found population proton\n"
     ]
    },
    {
     "name": "stdout",
     "output_type": "stream",
     "text": [
      "variable ig_fac not sortable by Cell ID!\n"
     ]
    },
    {
     "name": "stderr",
     "output_type": "stream",
     "text": [
      "28-Sep-24 00:29:50: Found population proton\n"
     ]
    },
    {
     "name": "stdout",
     "output_type": "stream",
     "text": [
      "variable ig_fac not sortable by Cell ID!\n"
     ]
    },
    {
     "name": "stderr",
     "output_type": "stream",
     "text": [
      "28-Sep-24 00:29:50: Found population proton\n"
     ]
    },
    {
     "name": "stdout",
     "output_type": "stream",
     "text": [
      "variable ig_fac not sortable by Cell ID!\n"
     ]
    },
    {
     "name": "stderr",
     "output_type": "stream",
     "text": [
      "28-Sep-24 00:29:51: Found population proton\n"
     ]
    },
    {
     "name": "stdout",
     "output_type": "stream",
     "text": [
      "variable ig_fac not sortable by Cell ID!\n"
     ]
    },
    {
     "name": "stderr",
     "output_type": "stream",
     "text": [
      "28-Sep-24 00:29:51: Found population proton\n"
     ]
    },
    {
     "name": "stdout",
     "output_type": "stream",
     "text": [
      "variable ig_fac not sortable by Cell ID!\n"
     ]
    },
    {
     "name": "stderr",
     "output_type": "stream",
     "text": [
      "28-Sep-24 00:29:51: Found population proton\n"
     ]
    },
    {
     "name": "stdout",
     "output_type": "stream",
     "text": [
      "variable ig_fac not sortable by Cell ID!\n"
     ]
    },
    {
     "name": "stderr",
     "output_type": "stream",
     "text": [
      "28-Sep-24 00:29:52: Found population proton\n"
     ]
    },
    {
     "name": "stdout",
     "output_type": "stream",
     "text": [
      "variable ig_fac not sortable by Cell ID!\n"
     ]
    },
    {
     "name": "stderr",
     "output_type": "stream",
     "text": [
      "28-Sep-24 00:29:52: Found population proton\n"
     ]
    },
    {
     "name": "stdout",
     "output_type": "stream",
     "text": [
      "variable ig_fac not sortable by Cell ID!\n"
     ]
    },
    {
     "name": "stderr",
     "output_type": "stream",
     "text": [
      "28-Sep-24 00:29:53: Found population proton\n"
     ]
    },
    {
     "name": "stdout",
     "output_type": "stream",
     "text": [
      "variable ig_fac not sortable by Cell ID!\n"
     ]
    },
    {
     "name": "stderr",
     "output_type": "stream",
     "text": [
      "28-Sep-24 00:29:53: Found population proton\n"
     ]
    },
    {
     "name": "stdout",
     "output_type": "stream",
     "text": [
      "variable ig_fac not sortable by Cell ID!\n"
     ]
    },
    {
     "name": "stderr",
     "output_type": "stream",
     "text": [
      "28-Sep-24 00:29:53: Found population proton\n"
     ]
    },
    {
     "name": "stdout",
     "output_type": "stream",
     "text": [
      "variable ig_fac not sortable by Cell ID!\n"
     ]
    },
    {
     "name": "stderr",
     "output_type": "stream",
     "text": [
      "28-Sep-24 00:29:54: Found population proton\n"
     ]
    },
    {
     "name": "stdout",
     "output_type": "stream",
     "text": [
      "variable ig_fac not sortable by Cell ID!\n"
     ]
    },
    {
     "name": "stderr",
     "output_type": "stream",
     "text": [
      "28-Sep-24 00:29:54: Found population proton\n"
     ]
    },
    {
     "name": "stdout",
     "output_type": "stream",
     "text": [
      "variable ig_fac not sortable by Cell ID!\n"
     ]
    },
    {
     "name": "stderr",
     "output_type": "stream",
     "text": [
      "28-Sep-24 00:29:54: Found population proton\n"
     ]
    },
    {
     "name": "stdout",
     "output_type": "stream",
     "text": [
      "variable ig_fac not sortable by Cell ID!\n"
     ]
    },
    {
     "name": "stderr",
     "output_type": "stream",
     "text": [
      "28-Sep-24 00:29:55: Found population proton\n"
     ]
    },
    {
     "name": "stdout",
     "output_type": "stream",
     "text": [
      "variable ig_fac not sortable by Cell ID!\n"
     ]
    },
    {
     "name": "stderr",
     "output_type": "stream",
     "text": [
      "28-Sep-24 00:29:55: Found population proton\n"
     ]
    },
    {
     "name": "stdout",
     "output_type": "stream",
     "text": [
      "variable ig_fac not sortable by Cell ID!\n"
     ]
    },
    {
     "name": "stderr",
     "output_type": "stream",
     "text": [
      "28-Sep-24 00:29:55: Found population proton\n"
     ]
    },
    {
     "name": "stdout",
     "output_type": "stream",
     "text": [
      "variable ig_fac not sortable by Cell ID!\n"
     ]
    },
    {
     "name": "stderr",
     "output_type": "stream",
     "text": [
      "28-Sep-24 00:29:56: Found population proton\n"
     ]
    },
    {
     "name": "stdout",
     "output_type": "stream",
     "text": [
      "variable ig_fac not sortable by Cell ID!\n"
     ]
    },
    {
     "name": "stderr",
     "output_type": "stream",
     "text": [
      "28-Sep-24 00:29:56: Found population proton\n"
     ]
    },
    {
     "name": "stdout",
     "output_type": "stream",
     "text": [
      "variable ig_fac not sortable by Cell ID!\n"
     ]
    },
    {
     "name": "stderr",
     "output_type": "stream",
     "text": [
      "28-Sep-24 00:29:57: Found population proton\n"
     ]
    },
    {
     "name": "stdout",
     "output_type": "stream",
     "text": [
      "variable ig_fac not sortable by Cell ID!\n"
     ]
    },
    {
     "name": "stderr",
     "output_type": "stream",
     "text": [
      "28-Sep-24 00:29:57: Found population proton\n"
     ]
    },
    {
     "name": "stdout",
     "output_type": "stream",
     "text": [
      "variable ig_fac not sortable by Cell ID!\n"
     ]
    },
    {
     "name": "stderr",
     "output_type": "stream",
     "text": [
      "28-Sep-24 00:29:57: Found population proton\n"
     ]
    },
    {
     "name": "stdout",
     "output_type": "stream",
     "text": [
      "variable ig_fac not sortable by Cell ID!\n"
     ]
    },
    {
     "name": "stderr",
     "output_type": "stream",
     "text": [
      "28-Sep-24 00:29:58: Found population proton\n"
     ]
    },
    {
     "name": "stdout",
     "output_type": "stream",
     "text": [
      "variable ig_fac not sortable by Cell ID!\n"
     ]
    },
    {
     "name": "stderr",
     "output_type": "stream",
     "text": [
      "28-Sep-24 00:29:58: Found population proton\n"
     ]
    },
    {
     "name": "stdout",
     "output_type": "stream",
     "text": [
      "variable ig_fac not sortable by Cell ID!\n"
     ]
    },
    {
     "name": "stderr",
     "output_type": "stream",
     "text": [
      "28-Sep-24 00:29:58: Found population proton\n"
     ]
    },
    {
     "name": "stdout",
     "output_type": "stream",
     "text": [
      "variable ig_fac not sortable by Cell ID!\n"
     ]
    },
    {
     "name": "stderr",
     "output_type": "stream",
     "text": [
      "28-Sep-24 00:30:01: Found population proton\n"
     ]
    },
    {
     "name": "stdout",
     "output_type": "stream",
     "text": [
      "variable ig_fac not sortable by Cell ID!\n"
     ]
    },
    {
     "name": "stderr",
     "output_type": "stream",
     "text": [
      "28-Sep-24 00:30:02: Found population proton\n"
     ]
    },
    {
     "name": "stdout",
     "output_type": "stream",
     "text": [
      "variable ig_fac not sortable by Cell ID!\n"
     ]
    },
    {
     "name": "stderr",
     "output_type": "stream",
     "text": [
      "28-Sep-24 00:30:02: Found population proton\n"
     ]
    },
    {
     "name": "stdout",
     "output_type": "stream",
     "text": [
      "variable ig_fac not sortable by Cell ID!\n"
     ]
    },
    {
     "name": "stderr",
     "output_type": "stream",
     "text": [
      "28-Sep-24 00:30:02: Found population proton\n"
     ]
    },
    {
     "name": "stdout",
     "output_type": "stream",
     "text": [
      "variable ig_fac not sortable by Cell ID!\n"
     ]
    },
    {
     "name": "stderr",
     "output_type": "stream",
     "text": [
      "28-Sep-24 00:30:03: Found population proton\n"
     ]
    },
    {
     "name": "stdout",
     "output_type": "stream",
     "text": [
      "variable ig_fac not sortable by Cell ID!\n"
     ]
    },
    {
     "name": "stderr",
     "output_type": "stream",
     "text": [
      "28-Sep-24 00:30:06: Found population proton\n"
     ]
    },
    {
     "name": "stdout",
     "output_type": "stream",
     "text": [
      "variable ig_fac not sortable by Cell ID!\n"
     ]
    },
    {
     "name": "stderr",
     "output_type": "stream",
     "text": [
      "28-Sep-24 00:30:06: Found population proton\n"
     ]
    },
    {
     "name": "stdout",
     "output_type": "stream",
     "text": [
      "variable ig_fac not sortable by Cell ID!\n"
     ]
    },
    {
     "name": "stderr",
     "output_type": "stream",
     "text": [
      "28-Sep-24 00:30:06: Found population proton\n"
     ]
    },
    {
     "name": "stdout",
     "output_type": "stream",
     "text": [
      "variable ig_fac not sortable by Cell ID!\n"
     ]
    },
    {
     "name": "stderr",
     "output_type": "stream",
     "text": [
      "28-Sep-24 00:30:07: Found population proton\n"
     ]
    },
    {
     "name": "stdout",
     "output_type": "stream",
     "text": [
      "variable ig_fac not sortable by Cell ID!\n"
     ]
    },
    {
     "name": "stderr",
     "output_type": "stream",
     "text": [
      "28-Sep-24 00:30:07: Found population proton\n"
     ]
    },
    {
     "name": "stdout",
     "output_type": "stream",
     "text": [
      "variable ig_fac not sortable by Cell ID!\n"
     ]
    },
    {
     "name": "stderr",
     "output_type": "stream",
     "text": [
      "28-Sep-24 00:30:08: Found population proton\n"
     ]
    },
    {
     "name": "stdout",
     "output_type": "stream",
     "text": [
      "variable ig_fac not sortable by Cell ID!\n"
     ]
    },
    {
     "name": "stderr",
     "output_type": "stream",
     "text": [
      "28-Sep-24 00:30:08: Found population proton\n"
     ]
    },
    {
     "name": "stdout",
     "output_type": "stream",
     "text": [
      "variable ig_fac not sortable by Cell ID!\n"
     ]
    },
    {
     "name": "stderr",
     "output_type": "stream",
     "text": [
      "28-Sep-24 00:30:08: Found population proton\n"
     ]
    },
    {
     "name": "stdout",
     "output_type": "stream",
     "text": [
      "variable ig_fac not sortable by Cell ID!\n"
     ]
    },
    {
     "name": "stderr",
     "output_type": "stream",
     "text": [
      "28-Sep-24 00:30:09: Found population proton\n"
     ]
    },
    {
     "name": "stdout",
     "output_type": "stream",
     "text": [
      "variable ig_fac not sortable by Cell ID!\n"
     ]
    },
    {
     "name": "stderr",
     "output_type": "stream",
     "text": [
      "28-Sep-24 00:30:09: Found population proton\n"
     ]
    },
    {
     "name": "stdout",
     "output_type": "stream",
     "text": [
      "variable ig_fac not sortable by Cell ID!\n",
      "variable ig_fac not sortable by Cell ID!\n"
     ]
    },
    {
     "name": "stderr",
     "output_type": "stream",
     "text": [
      "28-Sep-24 00:30:12: Found population proton\n",
      "28-Sep-24 00:30:12: Found population proton\n"
     ]
    },
    {
     "name": "stdout",
     "output_type": "stream",
     "text": [
      "variable ig_fac not sortable by Cell ID!\n"
     ]
    },
    {
     "name": "stderr",
     "output_type": "stream",
     "text": [
      "28-Sep-24 00:30:13: Found population proton\n"
     ]
    },
    {
     "name": "stdout",
     "output_type": "stream",
     "text": [
      "variable ig_fac not sortable by Cell ID!\n"
     ]
    },
    {
     "name": "stderr",
     "output_type": "stream",
     "text": [
      "28-Sep-24 00:30:13: Found population proton\n"
     ]
    },
    {
     "name": "stdout",
     "output_type": "stream",
     "text": [
      "variable ig_fac not sortable by Cell ID!\n"
     ]
    },
    {
     "name": "stderr",
     "output_type": "stream",
     "text": [
      "28-Sep-24 00:30:13: Found population proton\n"
     ]
    },
    {
     "name": "stdout",
     "output_type": "stream",
     "text": [
      "variable ig_fac not sortable by Cell ID!\n"
     ]
    },
    {
     "name": "stderr",
     "output_type": "stream",
     "text": [
      "28-Sep-24 00:30:14: Found population proton\n"
     ]
    },
    {
     "name": "stdout",
     "output_type": "stream",
     "text": [
      "variable ig_fac not sortable by Cell ID!\n"
     ]
    },
    {
     "name": "stderr",
     "output_type": "stream",
     "text": [
      "28-Sep-24 00:30:14: Found population proton\n"
     ]
    },
    {
     "name": "stdout",
     "output_type": "stream",
     "text": [
      "variable ig_fac not sortable by Cell ID!\n"
     ]
    },
    {
     "name": "stderr",
     "output_type": "stream",
     "text": [
      "28-Sep-24 00:30:14: Found population proton\n"
     ]
    },
    {
     "name": "stdout",
     "output_type": "stream",
     "text": [
      "variable ig_fac not sortable by Cell ID!\n"
     ]
    },
    {
     "name": "stderr",
     "output_type": "stream",
     "text": [
      "28-Sep-24 00:30:15: Found population proton\n"
     ]
    },
    {
     "name": "stdout",
     "output_type": "stream",
     "text": [
      "variable ig_fac not sortable by Cell ID!\n"
     ]
    },
    {
     "name": "stderr",
     "output_type": "stream",
     "text": [
      "28-Sep-24 00:30:15: Found population proton\n"
     ]
    },
    {
     "name": "stdout",
     "output_type": "stream",
     "text": [
      "variable ig_fac not sortable by Cell ID!\n"
     ]
    },
    {
     "name": "stderr",
     "output_type": "stream",
     "text": [
      "28-Sep-24 00:30:15: Found population proton\n"
     ]
    },
    {
     "name": "stdout",
     "output_type": "stream",
     "text": [
      "variable ig_fac not sortable by Cell ID!\n"
     ]
    },
    {
     "name": "stderr",
     "output_type": "stream",
     "text": [
      "28-Sep-24 00:30:16: Found population proton\n"
     ]
    },
    {
     "name": "stdout",
     "output_type": "stream",
     "text": [
      "variable ig_fac not sortable by Cell ID!\n"
     ]
    },
    {
     "name": "stderr",
     "output_type": "stream",
     "text": [
      "28-Sep-24 00:30:16: Found population proton\n"
     ]
    },
    {
     "name": "stdout",
     "output_type": "stream",
     "text": [
      "variable ig_fac not sortable by Cell ID!\n"
     ]
    },
    {
     "name": "stderr",
     "output_type": "stream",
     "text": [
      "28-Sep-24 00:30:17: Found population proton\n"
     ]
    },
    {
     "name": "stdout",
     "output_type": "stream",
     "text": [
      "variable ig_fac not sortable by Cell ID!\n"
     ]
    },
    {
     "name": "stderr",
     "output_type": "stream",
     "text": [
      "28-Sep-24 00:30:17: Found population proton\n"
     ]
    },
    {
     "name": "stdout",
     "output_type": "stream",
     "text": [
      "variable ig_fac not sortable by Cell ID!\n"
     ]
    },
    {
     "name": "stderr",
     "output_type": "stream",
     "text": [
      "28-Sep-24 00:30:17: Found population proton\n"
     ]
    },
    {
     "name": "stdout",
     "output_type": "stream",
     "text": [
      "variable ig_fac not sortable by Cell ID!\n"
     ]
    },
    {
     "name": "stderr",
     "output_type": "stream",
     "text": [
      "28-Sep-24 00:30:18: Found population proton\n"
     ]
    },
    {
     "name": "stdout",
     "output_type": "stream",
     "text": [
      "variable ig_fac not sortable by Cell ID!\n"
     ]
    },
    {
     "name": "stderr",
     "output_type": "stream",
     "text": [
      "28-Sep-24 00:30:21: Found population proton\n"
     ]
    },
    {
     "name": "stdout",
     "output_type": "stream",
     "text": [
      "variable ig_fac not sortable by Cell ID!\n"
     ]
    },
    {
     "name": "stderr",
     "output_type": "stream",
     "text": [
      "28-Sep-24 00:30:22: Found population proton\n"
     ]
    },
    {
     "name": "stdout",
     "output_type": "stream",
     "text": [
      "variable ig_fac not sortable by Cell ID!\n"
     ]
    },
    {
     "name": "stderr",
     "output_type": "stream",
     "text": [
      "28-Sep-24 00:30:22: Found population proton\n"
     ]
    },
    {
     "name": "stdout",
     "output_type": "stream",
     "text": [
      "variable ig_fac not sortable by Cell ID!\n"
     ]
    },
    {
     "name": "stderr",
     "output_type": "stream",
     "text": [
      "28-Sep-24 00:30:23: Found population proton\n"
     ]
    },
    {
     "name": "stdout",
     "output_type": "stream",
     "text": [
      "variable ig_fac not sortable by Cell ID!\n"
     ]
    },
    {
     "name": "stderr",
     "output_type": "stream",
     "text": [
      "28-Sep-24 00:30:23: Found population proton\n"
     ]
    },
    {
     "name": "stdout",
     "output_type": "stream",
     "text": [
      "variable ig_fac not sortable by Cell ID!\n"
     ]
    },
    {
     "name": "stderr",
     "output_type": "stream",
     "text": [
      "28-Sep-24 00:30:23: Found population proton\n"
     ]
    },
    {
     "name": "stdout",
     "output_type": "stream",
     "text": [
      "variable ig_fac not sortable by Cell ID!\n"
     ]
    },
    {
     "name": "stderr",
     "output_type": "stream",
     "text": [
      "28-Sep-24 00:30:24: Found population proton\n"
     ]
    },
    {
     "name": "stdout",
     "output_type": "stream",
     "text": [
      "variable ig_fac not sortable by Cell ID!\n"
     ]
    },
    {
     "name": "stderr",
     "output_type": "stream",
     "text": [
      "28-Sep-24 00:30:24: Found population proton\n"
     ]
    },
    {
     "name": "stdout",
     "output_type": "stream",
     "text": [
      "variable ig_fac not sortable by Cell ID!\n"
     ]
    },
    {
     "name": "stderr",
     "output_type": "stream",
     "text": [
      "28-Sep-24 00:30:24: Found population proton\n"
     ]
    },
    {
     "name": "stdout",
     "output_type": "stream",
     "text": [
      "variable ig_fac not sortable by Cell ID!\n"
     ]
    },
    {
     "name": "stderr",
     "output_type": "stream",
     "text": [
      "28-Sep-24 00:30:25: Found population proton\n"
     ]
    },
    {
     "name": "stdout",
     "output_type": "stream",
     "text": [
      "variable ig_fac not sortable by Cell ID!\n"
     ]
    },
    {
     "name": "stderr",
     "output_type": "stream",
     "text": [
      "28-Sep-24 00:30:25: Found population proton\n"
     ]
    },
    {
     "name": "stdout",
     "output_type": "stream",
     "text": [
      "variable ig_fac not sortable by Cell ID!\n"
     ]
    },
    {
     "name": "stderr",
     "output_type": "stream",
     "text": [
      "28-Sep-24 00:30:26: Found population proton\n"
     ]
    },
    {
     "name": "stdout",
     "output_type": "stream",
     "text": [
      "variable ig_fac not sortable by Cell ID!\n"
     ]
    },
    {
     "name": "stderr",
     "output_type": "stream",
     "text": [
      "28-Sep-24 00:30:26: Found population proton\n"
     ]
    },
    {
     "name": "stdout",
     "output_type": "stream",
     "text": [
      "variable ig_fac not sortable by Cell ID!\n"
     ]
    },
    {
     "name": "stderr",
     "output_type": "stream",
     "text": [
      "28-Sep-24 00:30:26: Found population proton\n"
     ]
    },
    {
     "name": "stdout",
     "output_type": "stream",
     "text": [
      "variable ig_fac not sortable by Cell ID!\n"
     ]
    },
    {
     "name": "stderr",
     "output_type": "stream",
     "text": [
      "28-Sep-24 00:30:27: Found population proton\n"
     ]
    },
    {
     "name": "stdout",
     "output_type": "stream",
     "text": [
      "variable ig_fac not sortable by Cell ID!\n"
     ]
    },
    {
     "name": "stderr",
     "output_type": "stream",
     "text": [
      "28-Sep-24 00:30:27: Found population proton\n"
     ]
    },
    {
     "name": "stdout",
     "output_type": "stream",
     "text": [
      "variable ig_fac not sortable by Cell ID!\n"
     ]
    },
    {
     "name": "stderr",
     "output_type": "stream",
     "text": [
      "28-Sep-24 00:30:27: Found population proton\n"
     ]
    },
    {
     "name": "stdout",
     "output_type": "stream",
     "text": [
      "variable ig_fac not sortable by Cell ID!\n"
     ]
    },
    {
     "name": "stderr",
     "output_type": "stream",
     "text": [
      "28-Sep-24 00:30:28: Found population proton\n"
     ]
    },
    {
     "name": "stdout",
     "output_type": "stream",
     "text": [
      "variable ig_fac not sortable by Cell ID!\n"
     ]
    },
    {
     "name": "stderr",
     "output_type": "stream",
     "text": [
      "28-Sep-24 00:30:28: Found population proton\n"
     ]
    },
    {
     "name": "stdout",
     "output_type": "stream",
     "text": [
      "variable ig_fac not sortable by Cell ID!\n"
     ]
    },
    {
     "name": "stderr",
     "output_type": "stream",
     "text": [
      "28-Sep-24 00:30:28: Found population proton\n"
     ]
    },
    {
     "name": "stdout",
     "output_type": "stream",
     "text": [
      "variable ig_fac not sortable by Cell ID!\n"
     ]
    },
    {
     "name": "stderr",
     "output_type": "stream",
     "text": [
      "28-Sep-24 00:30:29: Found population proton\n"
     ]
    },
    {
     "name": "stdout",
     "output_type": "stream",
     "text": [
      "variable ig_fac not sortable by Cell ID!\n"
     ]
    },
    {
     "name": "stderr",
     "output_type": "stream",
     "text": [
      "28-Sep-24 00:30:29: Found population proton\n"
     ]
    },
    {
     "name": "stdout",
     "output_type": "stream",
     "text": [
      "variable ig_fac not sortable by Cell ID!\n"
     ]
    },
    {
     "name": "stderr",
     "output_type": "stream",
     "text": [
      "28-Sep-24 00:30:30: Found population proton\n"
     ]
    },
    {
     "name": "stdout",
     "output_type": "stream",
     "text": [
      "variable ig_fac not sortable by Cell ID!\n"
     ]
    },
    {
     "name": "stderr",
     "output_type": "stream",
     "text": [
      "28-Sep-24 00:30:30: Found population proton\n"
     ]
    },
    {
     "name": "stdout",
     "output_type": "stream",
     "text": [
      "variable ig_fac not sortable by Cell ID!\n"
     ]
    },
    {
     "name": "stderr",
     "output_type": "stream",
     "text": [
      "28-Sep-24 00:30:30: Found population proton\n"
     ]
    },
    {
     "name": "stdout",
     "output_type": "stream",
     "text": [
      "variable ig_fac not sortable by Cell ID!\n"
     ]
    },
    {
     "name": "stderr",
     "output_type": "stream",
     "text": [
      "28-Sep-24 00:30:31: Found population proton\n"
     ]
    },
    {
     "name": "stdout",
     "output_type": "stream",
     "text": [
      "variable ig_fac not sortable by Cell ID!\n"
     ]
    },
    {
     "name": "stderr",
     "output_type": "stream",
     "text": [
      "28-Sep-24 00:30:31: Found population proton\n"
     ]
    },
    {
     "name": "stdout",
     "output_type": "stream",
     "text": [
      "variable ig_fac not sortable by Cell ID!\n"
     ]
    },
    {
     "name": "stderr",
     "output_type": "stream",
     "text": [
      "28-Sep-24 00:30:32: Found population proton\n"
     ]
    },
    {
     "name": "stdout",
     "output_type": "stream",
     "text": [
      "variable ig_fac not sortable by Cell ID!\n"
     ]
    },
    {
     "name": "stderr",
     "output_type": "stream",
     "text": [
      "28-Sep-24 00:30:32: Found population proton\n"
     ]
    },
    {
     "name": "stdout",
     "output_type": "stream",
     "text": [
      "variable ig_fac not sortable by Cell ID!\n"
     ]
    },
    {
     "name": "stderr",
     "output_type": "stream",
     "text": [
      "28-Sep-24 00:30:32: Found population proton\n"
     ]
    },
    {
     "name": "stdout",
     "output_type": "stream",
     "text": [
      "variable ig_fac not sortable by Cell ID!\n"
     ]
    },
    {
     "name": "stderr",
     "output_type": "stream",
     "text": [
      "28-Sep-24 00:30:33: Found population proton\n"
     ]
    },
    {
     "name": "stdout",
     "output_type": "stream",
     "text": [
      "variable ig_fac not sortable by Cell ID!\n"
     ]
    },
    {
     "name": "stderr",
     "output_type": "stream",
     "text": [
      "28-Sep-24 00:30:33: Found population proton\n"
     ]
    },
    {
     "name": "stdout",
     "output_type": "stream",
     "text": [
      "variable ig_fac not sortable by Cell ID!\n"
     ]
    },
    {
     "name": "stderr",
     "output_type": "stream",
     "text": [
      "28-Sep-24 00:30:33: Found population proton\n"
     ]
    },
    {
     "name": "stdout",
     "output_type": "stream",
     "text": [
      "variable ig_fac not sortable by Cell ID!\n"
     ]
    },
    {
     "name": "stderr",
     "output_type": "stream",
     "text": [
      "28-Sep-24 00:30:34: Found population proton\n"
     ]
    },
    {
     "name": "stdout",
     "output_type": "stream",
     "text": [
      "variable ig_fac not sortable by Cell ID!\n"
     ]
    },
    {
     "name": "stderr",
     "output_type": "stream",
     "text": [
      "28-Sep-24 00:30:34: Found population proton\n"
     ]
    },
    {
     "name": "stdout",
     "output_type": "stream",
     "text": [
      "variable ig_fac not sortable by Cell ID!\n"
     ]
    },
    {
     "name": "stderr",
     "output_type": "stream",
     "text": [
      "28-Sep-24 00:30:34: Found population proton\n"
     ]
    },
    {
     "name": "stdout",
     "output_type": "stream",
     "text": [
      "variable ig_fac not sortable by Cell ID!\n"
     ]
    },
    {
     "name": "stderr",
     "output_type": "stream",
     "text": [
      "28-Sep-24 00:30:35: Found population proton\n"
     ]
    },
    {
     "name": "stdout",
     "output_type": "stream",
     "text": [
      "variable ig_fac not sortable by Cell ID!\n"
     ]
    },
    {
     "name": "stderr",
     "output_type": "stream",
     "text": [
      "28-Sep-24 00:30:35: Found population proton\n"
     ]
    },
    {
     "name": "stdout",
     "output_type": "stream",
     "text": [
      "variable ig_fac not sortable by Cell ID!\n"
     ]
    },
    {
     "name": "stderr",
     "output_type": "stream",
     "text": [
      "28-Sep-24 00:30:35: Found population proton\n"
     ]
    },
    {
     "name": "stdout",
     "output_type": "stream",
     "text": [
      "variable ig_fac not sortable by Cell ID!\n"
     ]
    },
    {
     "name": "stderr",
     "output_type": "stream",
     "text": [
      "28-Sep-24 00:30:36: Found population proton\n"
     ]
    },
    {
     "name": "stdout",
     "output_type": "stream",
     "text": [
      "variable ig_fac not sortable by Cell ID!\n"
     ]
    },
    {
     "name": "stderr",
     "output_type": "stream",
     "text": [
      "28-Sep-24 00:30:36: Found population proton\n"
     ]
    },
    {
     "name": "stdout",
     "output_type": "stream",
     "text": [
      "variable ig_fac not sortable by Cell ID!\n"
     ]
    },
    {
     "name": "stderr",
     "output_type": "stream",
     "text": [
      "28-Sep-24 00:30:37: Found population proton\n"
     ]
    },
    {
     "name": "stdout",
     "output_type": "stream",
     "text": [
      "variable ig_fac not sortable by Cell ID!\n"
     ]
    },
    {
     "name": "stderr",
     "output_type": "stream",
     "text": [
      "28-Sep-24 00:30:37: Found population proton\n"
     ]
    },
    {
     "name": "stdout",
     "output_type": "stream",
     "text": [
      "variable ig_fac not sortable by Cell ID!\n"
     ]
    },
    {
     "name": "stderr",
     "output_type": "stream",
     "text": [
      "28-Sep-24 00:30:37: Found population proton\n"
     ]
    },
    {
     "name": "stdout",
     "output_type": "stream",
     "text": [
      "variable ig_fac not sortable by Cell ID!\n"
     ]
    },
    {
     "name": "stderr",
     "output_type": "stream",
     "text": [
      "28-Sep-24 00:30:38: Found population proton\n"
     ]
    },
    {
     "name": "stdout",
     "output_type": "stream",
     "text": [
      "variable ig_fac not sortable by Cell ID!\n",
      "variable ig_fac not sortable by Cell ID!\n"
     ]
    },
    {
     "name": "stderr",
     "output_type": "stream",
     "text": [
      "28-Sep-24 00:30:40: Found population proton\n",
      "28-Sep-24 00:30:41: Found population proton\n"
     ]
    },
    {
     "name": "stdout",
     "output_type": "stream",
     "text": [
      "variable ig_fac not sortable by Cell ID!\n"
     ]
    },
    {
     "name": "stderr",
     "output_type": "stream",
     "text": [
      "28-Sep-24 00:30:41: Found population proton\n"
     ]
    },
    {
     "name": "stdout",
     "output_type": "stream",
     "text": [
      "variable ig_fac not sortable by Cell ID!\n"
     ]
    },
    {
     "name": "stderr",
     "output_type": "stream",
     "text": [
      "28-Sep-24 00:30:42: Found population proton\n"
     ]
    },
    {
     "name": "stdout",
     "output_type": "stream",
     "text": [
      "variable ig_fac not sortable by Cell ID!\n"
     ]
    },
    {
     "name": "stderr",
     "output_type": "stream",
     "text": [
      "28-Sep-24 00:30:42: Found population proton\n"
     ]
    },
    {
     "name": "stdout",
     "output_type": "stream",
     "text": [
      "variable ig_fac not sortable by Cell ID!\n"
     ]
    },
    {
     "name": "stderr",
     "output_type": "stream",
     "text": [
      "28-Sep-24 00:30:42: Found population proton\n"
     ]
    },
    {
     "name": "stdout",
     "output_type": "stream",
     "text": [
      "variable ig_fac not sortable by Cell ID!\n"
     ]
    },
    {
     "name": "stderr",
     "output_type": "stream",
     "text": [
      "28-Sep-24 00:30:43: Found population proton\n"
     ]
    },
    {
     "name": "stdout",
     "output_type": "stream",
     "text": [
      "variable ig_fac not sortable by Cell ID!\n"
     ]
    },
    {
     "name": "stderr",
     "output_type": "stream",
     "text": [
      "28-Sep-24 00:30:43: Found population proton\n"
     ]
    },
    {
     "name": "stdout",
     "output_type": "stream",
     "text": [
      "variable ig_fac not sortable by Cell ID!\n"
     ]
    },
    {
     "name": "stderr",
     "output_type": "stream",
     "text": [
      "28-Sep-24 00:30:43: Found population proton\n"
     ]
    },
    {
     "name": "stdout",
     "output_type": "stream",
     "text": [
      "variable ig_fac not sortable by Cell ID!\n"
     ]
    },
    {
     "name": "stderr",
     "output_type": "stream",
     "text": [
      "28-Sep-24 00:30:44: Found population proton\n"
     ]
    },
    {
     "name": "stdout",
     "output_type": "stream",
     "text": [
      "variable ig_fac not sortable by Cell ID!\n"
     ]
    },
    {
     "name": "stderr",
     "output_type": "stream",
     "text": [
      "28-Sep-24 00:30:44: Found population proton\n"
     ]
    },
    {
     "name": "stdout",
     "output_type": "stream",
     "text": [
      "variable ig_fac not sortable by Cell ID!\n"
     ]
    },
    {
     "name": "stderr",
     "output_type": "stream",
     "text": [
      "28-Sep-24 00:30:44: Found population proton\n"
     ]
    },
    {
     "name": "stdout",
     "output_type": "stream",
     "text": [
      "variable ig_fac not sortable by Cell ID!\n"
     ]
    },
    {
     "name": "stderr",
     "output_type": "stream",
     "text": [
      "28-Sep-24 00:30:45: Found population proton\n"
     ]
    },
    {
     "name": "stdout",
     "output_type": "stream",
     "text": [
      "variable ig_fac not sortable by Cell ID!\n"
     ]
    },
    {
     "name": "stderr",
     "output_type": "stream",
     "text": [
      "28-Sep-24 00:30:45: Found population proton\n"
     ]
    },
    {
     "name": "stdout",
     "output_type": "stream",
     "text": [
      "variable ig_fac not sortable by Cell ID!\n"
     ]
    },
    {
     "name": "stderr",
     "output_type": "stream",
     "text": [
      "28-Sep-24 00:30:45: Found population proton\n"
     ]
    },
    {
     "name": "stdout",
     "output_type": "stream",
     "text": [
      "variable ig_fac not sortable by Cell ID!\n"
     ]
    },
    {
     "name": "stderr",
     "output_type": "stream",
     "text": [
      "28-Sep-24 00:30:46: Found population proton\n"
     ]
    },
    {
     "name": "stdout",
     "output_type": "stream",
     "text": [
      "variable ig_fac not sortable by Cell ID!\n"
     ]
    },
    {
     "name": "stderr",
     "output_type": "stream",
     "text": [
      "28-Sep-24 00:30:46: Found population proton\n"
     ]
    },
    {
     "name": "stdout",
     "output_type": "stream",
     "text": [
      "variable ig_fac not sortable by Cell ID!\n"
     ]
    },
    {
     "name": "stderr",
     "output_type": "stream",
     "text": [
      "28-Sep-24 00:30:47: Found population proton\n"
     ]
    },
    {
     "name": "stdout",
     "output_type": "stream",
     "text": [
      "variable ig_fac not sortable by Cell ID!\n"
     ]
    },
    {
     "name": "stderr",
     "output_type": "stream",
     "text": [
      "28-Sep-24 00:30:47: Found population proton\n"
     ]
    },
    {
     "name": "stdout",
     "output_type": "stream",
     "text": [
      "variable ig_fac not sortable by Cell ID!\n"
     ]
    },
    {
     "name": "stderr",
     "output_type": "stream",
     "text": [
      "28-Sep-24 00:30:47: Found population proton\n"
     ]
    },
    {
     "name": "stdout",
     "output_type": "stream",
     "text": [
      "variable ig_fac not sortable by Cell ID!\n"
     ]
    },
    {
     "name": "stderr",
     "output_type": "stream",
     "text": [
      "28-Sep-24 00:30:48: Found population proton\n"
     ]
    },
    {
     "name": "stdout",
     "output_type": "stream",
     "text": [
      "variable ig_fac not sortable by Cell ID!\n"
     ]
    },
    {
     "name": "stderr",
     "output_type": "stream",
     "text": [
      "28-Sep-24 00:30:48: Found population proton\n"
     ]
    },
    {
     "name": "stdout",
     "output_type": "stream",
     "text": [
      "variable ig_fac not sortable by Cell ID!\n"
     ]
    },
    {
     "name": "stderr",
     "output_type": "stream",
     "text": [
      "28-Sep-24 00:30:48: Found population proton\n"
     ]
    },
    {
     "name": "stdout",
     "output_type": "stream",
     "text": [
      "variable ig_fac not sortable by Cell ID!\n"
     ]
    },
    {
     "name": "stderr",
     "output_type": "stream",
     "text": [
      "28-Sep-24 00:30:49: Found population proton\n"
     ]
    },
    {
     "name": "stdout",
     "output_type": "stream",
     "text": [
      "variable ig_fac not sortable by Cell ID!\n"
     ]
    },
    {
     "name": "stderr",
     "output_type": "stream",
     "text": [
      "28-Sep-24 00:30:49: Found population proton\n"
     ]
    },
    {
     "name": "stdout",
     "output_type": "stream",
     "text": [
      "variable ig_fac not sortable by Cell ID!\n"
     ]
    },
    {
     "name": "stderr",
     "output_type": "stream",
     "text": [
      "28-Sep-24 00:30:49: Found population proton\n"
     ]
    },
    {
     "name": "stdout",
     "output_type": "stream",
     "text": [
      "variable ig_fac not sortable by Cell ID!\n"
     ]
    },
    {
     "name": "stderr",
     "output_type": "stream",
     "text": [
      "28-Sep-24 00:30:50: Found population proton\n"
     ]
    },
    {
     "name": "stdout",
     "output_type": "stream",
     "text": [
      "variable ig_fac not sortable by Cell ID!\n"
     ]
    },
    {
     "name": "stderr",
     "output_type": "stream",
     "text": [
      "28-Sep-24 00:30:50: Found population proton\n"
     ]
    },
    {
     "name": "stdout",
     "output_type": "stream",
     "text": [
      "variable ig_fac not sortable by Cell ID!\n"
     ]
    },
    {
     "name": "stderr",
     "output_type": "stream",
     "text": [
      "28-Sep-24 00:30:51: Found population proton\n"
     ]
    },
    {
     "name": "stdout",
     "output_type": "stream",
     "text": [
      "variable ig_fac not sortable by Cell ID!\n"
     ]
    },
    {
     "name": "stderr",
     "output_type": "stream",
     "text": [
      "28-Sep-24 00:30:51: Found population proton\n"
     ]
    },
    {
     "name": "stdout",
     "output_type": "stream",
     "text": [
      "variable ig_fac not sortable by Cell ID!\n"
     ]
    },
    {
     "name": "stderr",
     "output_type": "stream",
     "text": [
      "28-Sep-24 00:30:51: Found population proton\n"
     ]
    },
    {
     "name": "stdout",
     "output_type": "stream",
     "text": [
      "variable ig_fac not sortable by Cell ID!\n"
     ]
    },
    {
     "name": "stderr",
     "output_type": "stream",
     "text": [
      "28-Sep-24 00:30:52: Found population proton\n"
     ]
    },
    {
     "name": "stdout",
     "output_type": "stream",
     "text": [
      "variable ig_fac not sortable by Cell ID!\n"
     ]
    },
    {
     "name": "stderr",
     "output_type": "stream",
     "text": [
      "28-Sep-24 00:30:52: Found population proton\n"
     ]
    },
    {
     "name": "stdout",
     "output_type": "stream",
     "text": [
      "variable ig_fac not sortable by Cell ID!\n"
     ]
    },
    {
     "name": "stderr",
     "output_type": "stream",
     "text": [
      "28-Sep-24 00:30:52: Found population proton\n"
     ]
    },
    {
     "name": "stdout",
     "output_type": "stream",
     "text": [
      "variable ig_fac not sortable by Cell ID!\n"
     ]
    },
    {
     "name": "stderr",
     "output_type": "stream",
     "text": [
      "28-Sep-24 00:30:53: Found population proton\n"
     ]
    },
    {
     "name": "stdout",
     "output_type": "stream",
     "text": [
      "variable ig_fac not sortable by Cell ID!\n"
     ]
    },
    {
     "name": "stderr",
     "output_type": "stream",
     "text": [
      "28-Sep-24 00:30:53: Found population proton\n"
     ]
    },
    {
     "name": "stdout",
     "output_type": "stream",
     "text": [
      "variable ig_fac not sortable by Cell ID!\n"
     ]
    },
    {
     "name": "stderr",
     "output_type": "stream",
     "text": [
      "28-Sep-24 00:30:54: Found population proton\n"
     ]
    },
    {
     "name": "stdout",
     "output_type": "stream",
     "text": [
      "variable ig_fac not sortable by Cell ID!\n",
      "variable ig_fac not sortable by Cell ID!\n"
     ]
    },
    {
     "name": "stderr",
     "output_type": "stream",
     "text": [
      "28-Sep-24 00:30:57: Found population proton\n",
      "28-Sep-24 00:30:57: Found population proton\n"
     ]
    },
    {
     "name": "stdout",
     "output_type": "stream",
     "text": [
      "variable ig_fac not sortable by Cell ID!\n"
     ]
    },
    {
     "name": "stderr",
     "output_type": "stream",
     "text": [
      "28-Sep-24 00:30:58: Found population proton\n"
     ]
    },
    {
     "name": "stdout",
     "output_type": "stream",
     "text": [
      "variable ig_fac not sortable by Cell ID!\n"
     ]
    },
    {
     "name": "stderr",
     "output_type": "stream",
     "text": [
      "28-Sep-24 00:30:58: Found population proton\n"
     ]
    },
    {
     "name": "stdout",
     "output_type": "stream",
     "text": [
      "variable ig_fac not sortable by Cell ID!\n"
     ]
    },
    {
     "name": "stderr",
     "output_type": "stream",
     "text": [
      "28-Sep-24 00:30:58: Found population proton\n"
     ]
    },
    {
     "name": "stdout",
     "output_type": "stream",
     "text": [
      "variable ig_fac not sortable by Cell ID!\n"
     ]
    },
    {
     "name": "stderr",
     "output_type": "stream",
     "text": [
      "28-Sep-24 00:30:59: Found population proton\n"
     ]
    },
    {
     "name": "stdout",
     "output_type": "stream",
     "text": [
      "variable ig_fac not sortable by Cell ID!\n"
     ]
    },
    {
     "name": "stderr",
     "output_type": "stream",
     "text": [
      "28-Sep-24 00:30:59: Found population proton\n"
     ]
    },
    {
     "name": "stdout",
     "output_type": "stream",
     "text": [
      "variable ig_fac not sortable by Cell ID!\n"
     ]
    },
    {
     "name": "stderr",
     "output_type": "stream",
     "text": [
      "28-Sep-24 00:31:00: Found population proton\n"
     ]
    },
    {
     "name": "stdout",
     "output_type": "stream",
     "text": [
      "variable ig_fac not sortable by Cell ID!\n"
     ]
    },
    {
     "name": "stderr",
     "output_type": "stream",
     "text": [
      "28-Sep-24 00:31:00: Found population proton\n"
     ]
    },
    {
     "name": "stdout",
     "output_type": "stream",
     "text": [
      "variable ig_fac not sortable by Cell ID!\n"
     ]
    },
    {
     "name": "stderr",
     "output_type": "stream",
     "text": [
      "28-Sep-24 00:31:00: Found population proton\n"
     ]
    },
    {
     "name": "stdout",
     "output_type": "stream",
     "text": [
      "variable ig_fac not sortable by Cell ID!\n"
     ]
    },
    {
     "name": "stderr",
     "output_type": "stream",
     "text": [
      "28-Sep-24 00:31:01: Found population proton\n"
     ]
    },
    {
     "name": "stdout",
     "output_type": "stream",
     "text": [
      "variable ig_fac not sortable by Cell ID!\n"
     ]
    },
    {
     "name": "stderr",
     "output_type": "stream",
     "text": [
      "28-Sep-24 00:31:01: Found population proton\n"
     ]
    },
    {
     "name": "stdout",
     "output_type": "stream",
     "text": [
      "variable ig_fac not sortable by Cell ID!\n"
     ]
    },
    {
     "name": "stderr",
     "output_type": "stream",
     "text": [
      "28-Sep-24 00:31:01: Found population proton\n"
     ]
    },
    {
     "name": "stdout",
     "output_type": "stream",
     "text": [
      "variable ig_fac not sortable by Cell ID!\n"
     ]
    },
    {
     "name": "stderr",
     "output_type": "stream",
     "text": [
      "28-Sep-24 00:31:02: Found population proton\n"
     ]
    },
    {
     "name": "stdout",
     "output_type": "stream",
     "text": [
      "variable ig_fac not sortable by Cell ID!\n"
     ]
    },
    {
     "name": "stderr",
     "output_type": "stream",
     "text": [
      "28-Sep-24 00:31:02: Found population proton\n"
     ]
    },
    {
     "name": "stdout",
     "output_type": "stream",
     "text": [
      "variable ig_fac not sortable by Cell ID!\n"
     ]
    },
    {
     "name": "stderr",
     "output_type": "stream",
     "text": [
      "28-Sep-24 00:31:03: Found population proton\n"
     ]
    },
    {
     "name": "stdout",
     "output_type": "stream",
     "text": [
      "variable ig_fac not sortable by Cell ID!\n"
     ]
    },
    {
     "name": "stderr",
     "output_type": "stream",
     "text": [
      "28-Sep-24 00:31:03: Found population proton\n"
     ]
    },
    {
     "name": "stdout",
     "output_type": "stream",
     "text": [
      "variable ig_fac not sortable by Cell ID!\n"
     ]
    },
    {
     "name": "stderr",
     "output_type": "stream",
     "text": [
      "28-Sep-24 00:31:03: Found population proton\n"
     ]
    },
    {
     "name": "stdout",
     "output_type": "stream",
     "text": [
      "variable ig_fac not sortable by Cell ID!\n"
     ]
    },
    {
     "name": "stderr",
     "output_type": "stream",
     "text": [
      "28-Sep-24 00:31:04: Found population proton\n"
     ]
    },
    {
     "name": "stdout",
     "output_type": "stream",
     "text": [
      "variable ig_fac not sortable by Cell ID!\n"
     ]
    },
    {
     "name": "stderr",
     "output_type": "stream",
     "text": [
      "28-Sep-24 00:31:04: Found population proton\n"
     ]
    },
    {
     "name": "stdout",
     "output_type": "stream",
     "text": [
      "variable ig_fac not sortable by Cell ID!\n"
     ]
    },
    {
     "name": "stderr",
     "output_type": "stream",
     "text": [
      "28-Sep-24 00:31:04: Found population proton\n"
     ]
    },
    {
     "name": "stdout",
     "output_type": "stream",
     "text": [
      "variable ig_fac not sortable by Cell ID!\n"
     ]
    },
    {
     "name": "stderr",
     "output_type": "stream",
     "text": [
      "28-Sep-24 00:31:05: Found population proton\n"
     ]
    },
    {
     "name": "stdout",
     "output_type": "stream",
     "text": [
      "variable ig_fac not sortable by Cell ID!\n"
     ]
    },
    {
     "name": "stderr",
     "output_type": "stream",
     "text": [
      "28-Sep-24 00:31:05: Found population proton\n"
     ]
    },
    {
     "name": "stdout",
     "output_type": "stream",
     "text": [
      "variable ig_fac not sortable by Cell ID!\n"
     ]
    },
    {
     "name": "stderr",
     "output_type": "stream",
     "text": [
      "28-Sep-24 00:31:06: Found population proton\n"
     ]
    },
    {
     "name": "stdout",
     "output_type": "stream",
     "text": [
      "variable ig_fac not sortable by Cell ID!\n"
     ]
    },
    {
     "name": "stderr",
     "output_type": "stream",
     "text": [
      "28-Sep-24 00:31:06: Found population proton\n"
     ]
    },
    {
     "name": "stdout",
     "output_type": "stream",
     "text": [
      "variable ig_fac not sortable by Cell ID!\n"
     ]
    },
    {
     "name": "stderr",
     "output_type": "stream",
     "text": [
      "28-Sep-24 00:31:06: Found population proton\n"
     ]
    },
    {
     "name": "stdout",
     "output_type": "stream",
     "text": [
      "variable ig_fac not sortable by Cell ID!\n"
     ]
    },
    {
     "name": "stderr",
     "output_type": "stream",
     "text": [
      "28-Sep-24 00:31:11: Found population proton\n"
     ]
    },
    {
     "name": "stdout",
     "output_type": "stream",
     "text": [
      "variable ig_fac not sortable by Cell ID!\n"
     ]
    },
    {
     "name": "stderr",
     "output_type": "stream",
     "text": [
      "28-Sep-24 00:31:11: Found population proton\n"
     ]
    },
    {
     "name": "stdout",
     "output_type": "stream",
     "text": [
      "variable ig_fac not sortable by Cell ID!\n"
     ]
    },
    {
     "name": "stderr",
     "output_type": "stream",
     "text": [
      "28-Sep-24 00:31:11: Found population proton\n"
     ]
    },
    {
     "name": "stdout",
     "output_type": "stream",
     "text": [
      "variable ig_fac not sortable by Cell ID!\n"
     ]
    },
    {
     "name": "stderr",
     "output_type": "stream",
     "text": [
      "28-Sep-24 00:31:12: Found population proton\n"
     ]
    },
    {
     "name": "stdout",
     "output_type": "stream",
     "text": [
      "variable ig_fac not sortable by Cell ID!\n"
     ]
    },
    {
     "name": "stderr",
     "output_type": "stream",
     "text": [
      "28-Sep-24 00:31:12: Found population proton\n"
     ]
    },
    {
     "name": "stdout",
     "output_type": "stream",
     "text": [
      "variable ig_fac not sortable by Cell ID!\n"
     ]
    },
    {
     "name": "stderr",
     "output_type": "stream",
     "text": [
      "28-Sep-24 00:31:13: Found population proton\n"
     ]
    },
    {
     "name": "stdout",
     "output_type": "stream",
     "text": [
      "variable ig_fac not sortable by Cell ID!\n"
     ]
    },
    {
     "name": "stderr",
     "output_type": "stream",
     "text": [
      "28-Sep-24 00:31:13: Found population proton\n"
     ]
    },
    {
     "name": "stdout",
     "output_type": "stream",
     "text": [
      "variable ig_fac not sortable by Cell ID!\n"
     ]
    },
    {
     "name": "stderr",
     "output_type": "stream",
     "text": [
      "28-Sep-24 00:31:13: Found population proton\n"
     ]
    },
    {
     "name": "stdout",
     "output_type": "stream",
     "text": [
      "variable ig_fac not sortable by Cell ID!\n"
     ]
    },
    {
     "name": "stderr",
     "output_type": "stream",
     "text": [
      "28-Sep-24 00:31:14: Found population proton\n"
     ]
    },
    {
     "name": "stdout",
     "output_type": "stream",
     "text": [
      "variable ig_fac not sortable by Cell ID!\n"
     ]
    },
    {
     "name": "stderr",
     "output_type": "stream",
     "text": [
      "28-Sep-24 00:31:14: Found population proton\n"
     ]
    },
    {
     "name": "stdout",
     "output_type": "stream",
     "text": [
      "variable ig_fac not sortable by Cell ID!\n"
     ]
    },
    {
     "name": "stderr",
     "output_type": "stream",
     "text": [
      "28-Sep-24 00:31:14: Found population proton\n"
     ]
    },
    {
     "name": "stdout",
     "output_type": "stream",
     "text": [
      "variable ig_fac not sortable by Cell ID!\n"
     ]
    },
    {
     "name": "stderr",
     "output_type": "stream",
     "text": [
      "28-Sep-24 00:31:15: Found population proton\n"
     ]
    },
    {
     "name": "stdout",
     "output_type": "stream",
     "text": [
      "variable ig_fac not sortable by Cell ID!\n"
     ]
    },
    {
     "name": "stderr",
     "output_type": "stream",
     "text": [
      "28-Sep-24 00:31:15: Found population proton\n"
     ]
    },
    {
     "name": "stdout",
     "output_type": "stream",
     "text": [
      "variable ig_fac not sortable by Cell ID!\n"
     ]
    },
    {
     "name": "stderr",
     "output_type": "stream",
     "text": [
      "28-Sep-24 00:31:15: Found population proton\n"
     ]
    },
    {
     "name": "stdout",
     "output_type": "stream",
     "text": [
      "variable ig_fac not sortable by Cell ID!\n"
     ]
    },
    {
     "name": "stderr",
     "output_type": "stream",
     "text": [
      "28-Sep-24 00:31:16: Found population proton\n"
     ]
    },
    {
     "name": "stdout",
     "output_type": "stream",
     "text": [
      "variable ig_fac not sortable by Cell ID!\n"
     ]
    },
    {
     "name": "stderr",
     "output_type": "stream",
     "text": [
      "28-Sep-24 00:31:16: Found population proton\n"
     ]
    },
    {
     "name": "stdout",
     "output_type": "stream",
     "text": [
      "variable ig_fac not sortable by Cell ID!\n"
     ]
    },
    {
     "name": "stderr",
     "output_type": "stream",
     "text": [
      "28-Sep-24 00:31:17: Found population proton\n"
     ]
    },
    {
     "name": "stdout",
     "output_type": "stream",
     "text": [
      "variable ig_fac not sortable by Cell ID!\n"
     ]
    },
    {
     "name": "stderr",
     "output_type": "stream",
     "text": [
      "28-Sep-24 00:31:17: Found population proton\n"
     ]
    },
    {
     "name": "stdout",
     "output_type": "stream",
     "text": [
      "variable ig_fac not sortable by Cell ID!\n"
     ]
    },
    {
     "name": "stderr",
     "output_type": "stream",
     "text": [
      "28-Sep-24 00:31:17: Found population proton\n"
     ]
    },
    {
     "name": "stdout",
     "output_type": "stream",
     "text": [
      "variable ig_fac not sortable by Cell ID!\n"
     ]
    },
    {
     "name": "stderr",
     "output_type": "stream",
     "text": [
      "28-Sep-24 00:31:18: Found population proton\n"
     ]
    },
    {
     "name": "stdout",
     "output_type": "stream",
     "text": [
      "variable ig_fac not sortable by Cell ID!\n"
     ]
    },
    {
     "name": "stderr",
     "output_type": "stream",
     "text": [
      "28-Sep-24 00:31:18: Found population proton\n"
     ]
    },
    {
     "name": "stdout",
     "output_type": "stream",
     "text": [
      "variable ig_fac not sortable by Cell ID!\n"
     ]
    },
    {
     "name": "stderr",
     "output_type": "stream",
     "text": [
      "28-Sep-24 00:31:18: Found population proton\n"
     ]
    },
    {
     "name": "stdout",
     "output_type": "stream",
     "text": [
      "variable ig_fac not sortable by Cell ID!\n"
     ]
    },
    {
     "name": "stderr",
     "output_type": "stream",
     "text": [
      "28-Sep-24 00:31:19: Found population proton\n"
     ]
    },
    {
     "name": "stdout",
     "output_type": "stream",
     "text": [
      "variable ig_fac not sortable by Cell ID!\n"
     ]
    },
    {
     "name": "stderr",
     "output_type": "stream",
     "text": [
      "28-Sep-24 00:31:19: Found population proton\n"
     ]
    },
    {
     "name": "stdout",
     "output_type": "stream",
     "text": [
      "variable ig_fac not sortable by Cell ID!\n"
     ]
    },
    {
     "name": "stderr",
     "output_type": "stream",
     "text": [
      "28-Sep-24 00:31:19: Found population proton\n"
     ]
    },
    {
     "name": "stdout",
     "output_type": "stream",
     "text": [
      "variable ig_fac not sortable by Cell ID!\n"
     ]
    },
    {
     "name": "stderr",
     "output_type": "stream",
     "text": [
      "28-Sep-24 00:31:20: Found population proton\n"
     ]
    },
    {
     "name": "stdout",
     "output_type": "stream",
     "text": [
      "variable ig_fac not sortable by Cell ID!\n"
     ]
    },
    {
     "name": "stderr",
     "output_type": "stream",
     "text": [
      "28-Sep-24 00:31:20: Found population proton\n"
     ]
    },
    {
     "name": "stdout",
     "output_type": "stream",
     "text": [
      "variable ig_fac not sortable by Cell ID!\n"
     ]
    },
    {
     "name": "stderr",
     "output_type": "stream",
     "text": [
      "28-Sep-24 00:31:21: Found population proton\n"
     ]
    },
    {
     "name": "stdout",
     "output_type": "stream",
     "text": [
      "variable ig_fac not sortable by Cell ID!\n"
     ]
    },
    {
     "name": "stderr",
     "output_type": "stream",
     "text": [
      "28-Sep-24 00:31:21: Found population proton\n"
     ]
    },
    {
     "name": "stdout",
     "output_type": "stream",
     "text": [
      "variable ig_fac not sortable by Cell ID!\n"
     ]
    },
    {
     "name": "stderr",
     "output_type": "stream",
     "text": [
      "28-Sep-24 00:31:21: Found population proton\n"
     ]
    },
    {
     "name": "stdout",
     "output_type": "stream",
     "text": [
      "variable ig_fac not sortable by Cell ID!\n"
     ]
    },
    {
     "name": "stderr",
     "output_type": "stream",
     "text": [
      "28-Sep-24 00:31:22: Found population proton\n"
     ]
    },
    {
     "name": "stdout",
     "output_type": "stream",
     "text": [
      "variable ig_fac not sortable by Cell ID!\n"
     ]
    },
    {
     "name": "stderr",
     "output_type": "stream",
     "text": [
      "28-Sep-24 00:31:22: Found population proton\n"
     ]
    },
    {
     "name": "stdout",
     "output_type": "stream",
     "text": [
      "variable ig_fac not sortable by Cell ID!\n"
     ]
    },
    {
     "name": "stderr",
     "output_type": "stream",
     "text": [
      "28-Sep-24 00:31:23: Found population proton\n"
     ]
    },
    {
     "name": "stdout",
     "output_type": "stream",
     "text": [
      "variable ig_fac not sortable by Cell ID!\n"
     ]
    },
    {
     "name": "stderr",
     "output_type": "stream",
     "text": [
      "28-Sep-24 00:31:23: Found population proton\n"
     ]
    },
    {
     "name": "stdout",
     "output_type": "stream",
     "text": [
      "variable ig_fac not sortable by Cell ID!\n"
     ]
    },
    {
     "name": "stderr",
     "output_type": "stream",
     "text": [
      "28-Sep-24 00:31:23: Found population proton\n"
     ]
    },
    {
     "name": "stdout",
     "output_type": "stream",
     "text": [
      "variable ig_fac not sortable by Cell ID!\n"
     ]
    },
    {
     "name": "stderr",
     "output_type": "stream",
     "text": [
      "28-Sep-24 00:31:24: Found population proton\n"
     ]
    },
    {
     "name": "stdout",
     "output_type": "stream",
     "text": [
      "variable ig_fac not sortable by Cell ID!\n"
     ]
    },
    {
     "name": "stderr",
     "output_type": "stream",
     "text": [
      "28-Sep-24 00:31:24: Found population proton\n"
     ]
    },
    {
     "name": "stdout",
     "output_type": "stream",
     "text": [
      "variable ig_fac not sortable by Cell ID!\n"
     ]
    },
    {
     "name": "stderr",
     "output_type": "stream",
     "text": [
      "28-Sep-24 00:31:24: Found population proton\n"
     ]
    },
    {
     "name": "stdout",
     "output_type": "stream",
     "text": [
      "variable ig_fac not sortable by Cell ID!\n"
     ]
    },
    {
     "name": "stderr",
     "output_type": "stream",
     "text": [
      "28-Sep-24 00:31:25: Found population proton\n"
     ]
    },
    {
     "name": "stdout",
     "output_type": "stream",
     "text": [
      "variable ig_fac not sortable by Cell ID!\n"
     ]
    },
    {
     "name": "stderr",
     "output_type": "stream",
     "text": [
      "28-Sep-24 00:31:25: Found population proton\n"
     ]
    },
    {
     "name": "stdout",
     "output_type": "stream",
     "text": [
      "variable ig_fac not sortable by Cell ID!\n"
     ]
    },
    {
     "name": "stderr",
     "output_type": "stream",
     "text": [
      "28-Sep-24 00:31:25: Found population proton\n"
     ]
    },
    {
     "name": "stdout",
     "output_type": "stream",
     "text": [
      "variable ig_fac not sortable by Cell ID!\n"
     ]
    },
    {
     "name": "stderr",
     "output_type": "stream",
     "text": [
      "28-Sep-24 00:31:26: Found population proton\n"
     ]
    },
    {
     "name": "stdout",
     "output_type": "stream",
     "text": [
      "variable ig_fac not sortable by Cell ID!\n"
     ]
    },
    {
     "name": "stderr",
     "output_type": "stream",
     "text": [
      "28-Sep-24 00:31:26: Found population proton\n"
     ]
    },
    {
     "name": "stdout",
     "output_type": "stream",
     "text": [
      "variable ig_fac not sortable by Cell ID!\n"
     ]
    },
    {
     "name": "stderr",
     "output_type": "stream",
     "text": [
      "28-Sep-24 00:31:27: Found population proton\n"
     ]
    },
    {
     "name": "stdout",
     "output_type": "stream",
     "text": [
      "variable ig_fac not sortable by Cell ID!\n"
     ]
    },
    {
     "name": "stderr",
     "output_type": "stream",
     "text": [
      "28-Sep-24 00:31:27: Found population proton\n"
     ]
    },
    {
     "name": "stdout",
     "output_type": "stream",
     "text": [
      "variable ig_fac not sortable by Cell ID!\n"
     ]
    },
    {
     "name": "stderr",
     "output_type": "stream",
     "text": [
      "28-Sep-24 00:31:27: Found population proton\n"
     ]
    },
    {
     "name": "stdout",
     "output_type": "stream",
     "text": [
      "variable ig_fac not sortable by Cell ID!\n"
     ]
    },
    {
     "name": "stderr",
     "output_type": "stream",
     "text": [
      "28-Sep-24 00:31:28: Found population proton\n"
     ]
    },
    {
     "name": "stdout",
     "output_type": "stream",
     "text": [
      "variable ig_fac not sortable by Cell ID!\n"
     ]
    },
    {
     "name": "stderr",
     "output_type": "stream",
     "text": [
      "28-Sep-24 00:31:28: Found population proton\n"
     ]
    },
    {
     "name": "stdout",
     "output_type": "stream",
     "text": [
      "variable ig_fac not sortable by Cell ID!\n"
     ]
    },
    {
     "name": "stderr",
     "output_type": "stream",
     "text": [
      "28-Sep-24 00:31:28: Found population proton\n"
     ]
    },
    {
     "name": "stdout",
     "output_type": "stream",
     "text": [
      "variable ig_fac not sortable by Cell ID!\n"
     ]
    },
    {
     "name": "stderr",
     "output_type": "stream",
     "text": [
      "28-Sep-24 00:31:29: Found population proton\n"
     ]
    },
    {
     "name": "stdout",
     "output_type": "stream",
     "text": [
      "variable ig_fac not sortable by Cell ID!\n"
     ]
    },
    {
     "name": "stderr",
     "output_type": "stream",
     "text": [
      "28-Sep-24 00:31:29: Found population proton\n"
     ]
    },
    {
     "name": "stdout",
     "output_type": "stream",
     "text": [
      "variable ig_fac not sortable by Cell ID!\n"
     ]
    },
    {
     "name": "stderr",
     "output_type": "stream",
     "text": [
      "28-Sep-24 00:31:30: Found population proton\n"
     ]
    },
    {
     "name": "stdout",
     "output_type": "stream",
     "text": [
      "variable ig_fac not sortable by Cell ID!\n"
     ]
    },
    {
     "name": "stderr",
     "output_type": "stream",
     "text": [
      "28-Sep-24 00:31:30: Found population proton\n"
     ]
    },
    {
     "name": "stdout",
     "output_type": "stream",
     "text": [
      "variable ig_fac not sortable by Cell ID!\n"
     ]
    },
    {
     "name": "stderr",
     "output_type": "stream",
     "text": [
      "28-Sep-24 00:31:30: Found population proton\n"
     ]
    },
    {
     "name": "stdout",
     "output_type": "stream",
     "text": [
      "variable ig_fac not sortable by Cell ID!\n"
     ]
    },
    {
     "name": "stderr",
     "output_type": "stream",
     "text": [
      "28-Sep-24 00:31:31: Found population proton\n"
     ]
    },
    {
     "name": "stdout",
     "output_type": "stream",
     "text": [
      "variable ig_fac not sortable by Cell ID!\n"
     ]
    },
    {
     "name": "stderr",
     "output_type": "stream",
     "text": [
      "28-Sep-24 00:31:31: Found population proton\n"
     ]
    },
    {
     "name": "stdout",
     "output_type": "stream",
     "text": [
      "variable ig_fac not sortable by Cell ID!\n"
     ]
    },
    {
     "name": "stderr",
     "output_type": "stream",
     "text": [
      "28-Sep-24 00:31:31: Found population proton\n"
     ]
    },
    {
     "name": "stdout",
     "output_type": "stream",
     "text": [
      "variable ig_fac not sortable by Cell ID!\n"
     ]
    },
    {
     "name": "stderr",
     "output_type": "stream",
     "text": [
      "28-Sep-24 00:31:32: Found population proton\n"
     ]
    },
    {
     "name": "stdout",
     "output_type": "stream",
     "text": [
      "variable ig_fac not sortable by Cell ID!\n"
     ]
    },
    {
     "name": "stderr",
     "output_type": "stream",
     "text": [
      "28-Sep-24 00:31:32: Found population proton\n"
     ]
    },
    {
     "name": "stdout",
     "output_type": "stream",
     "text": [
      "variable ig_fac not sortable by Cell ID!\n"
     ]
    },
    {
     "name": "stderr",
     "output_type": "stream",
     "text": [
      "28-Sep-24 00:31:33: Found population proton\n"
     ]
    },
    {
     "name": "stdout",
     "output_type": "stream",
     "text": [
      "variable ig_fac not sortable by Cell ID!\n"
     ]
    },
    {
     "name": "stderr",
     "output_type": "stream",
     "text": [
      "28-Sep-24 00:31:33: Found population proton\n"
     ]
    },
    {
     "name": "stdout",
     "output_type": "stream",
     "text": [
      "variable ig_fac not sortable by Cell ID!\n"
     ]
    },
    {
     "name": "stderr",
     "output_type": "stream",
     "text": [
      "28-Sep-24 00:31:33: Found population proton\n"
     ]
    },
    {
     "name": "stdout",
     "output_type": "stream",
     "text": [
      "variable ig_fac not sortable by Cell ID!\n"
     ]
    },
    {
     "name": "stderr",
     "output_type": "stream",
     "text": [
      "28-Sep-24 00:31:38: Found population proton\n"
     ]
    },
    {
     "name": "stdout",
     "output_type": "stream",
     "text": [
      "variable ig_fac not sortable by Cell ID!\n"
     ]
    },
    {
     "name": "stderr",
     "output_type": "stream",
     "text": [
      "28-Sep-24 00:31:38: Found population proton\n"
     ]
    },
    {
     "name": "stdout",
     "output_type": "stream",
     "text": [
      "variable ig_fac not sortable by Cell ID!\n"
     ]
    },
    {
     "name": "stderr",
     "output_type": "stream",
     "text": [
      "28-Sep-24 00:31:38: Found population proton\n"
     ]
    },
    {
     "name": "stdout",
     "output_type": "stream",
     "text": [
      "variable ig_fac not sortable by Cell ID!\n"
     ]
    },
    {
     "name": "stderr",
     "output_type": "stream",
     "text": [
      "28-Sep-24 00:31:39: Found population proton\n"
     ]
    },
    {
     "name": "stdout",
     "output_type": "stream",
     "text": [
      "variable ig_fac not sortable by Cell ID!\n"
     ]
    },
    {
     "name": "stderr",
     "output_type": "stream",
     "text": [
      "28-Sep-24 00:31:39: Found population proton\n"
     ]
    },
    {
     "name": "stdout",
     "output_type": "stream",
     "text": [
      "variable ig_fac not sortable by Cell ID!\n"
     ]
    },
    {
     "name": "stderr",
     "output_type": "stream",
     "text": [
      "28-Sep-24 00:31:39: Found population proton\n"
     ]
    },
    {
     "name": "stdout",
     "output_type": "stream",
     "text": [
      "variable ig_fac not sortable by Cell ID!\n"
     ]
    },
    {
     "name": "stderr",
     "output_type": "stream",
     "text": [
      "28-Sep-24 00:31:40: Found population proton\n"
     ]
    },
    {
     "name": "stdout",
     "output_type": "stream",
     "text": [
      "variable ig_fac not sortable by Cell ID!\n"
     ]
    },
    {
     "name": "stderr",
     "output_type": "stream",
     "text": [
      "28-Sep-24 00:31:40: Found population proton\n"
     ]
    },
    {
     "name": "stdout",
     "output_type": "stream",
     "text": [
      "variable ig_fac not sortable by Cell ID!\n"
     ]
    },
    {
     "name": "stderr",
     "output_type": "stream",
     "text": [
      "28-Sep-24 00:31:41: Found population proton\n"
     ]
    },
    {
     "name": "stdout",
     "output_type": "stream",
     "text": [
      "variable ig_fac not sortable by Cell ID!\n"
     ]
    },
    {
     "name": "stderr",
     "output_type": "stream",
     "text": [
      "28-Sep-24 00:31:41: Found population proton\n"
     ]
    },
    {
     "name": "stdout",
     "output_type": "stream",
     "text": [
      "variable ig_fac not sortable by Cell ID!\n"
     ]
    },
    {
     "name": "stderr",
     "output_type": "stream",
     "text": [
      "28-Sep-24 00:31:41: Found population proton\n"
     ]
    },
    {
     "name": "stdout",
     "output_type": "stream",
     "text": [
      "variable ig_fac not sortable by Cell ID!\n"
     ]
    },
    {
     "name": "stderr",
     "output_type": "stream",
     "text": [
      "28-Sep-24 00:31:42: Found population proton\n"
     ]
    },
    {
     "name": "stdout",
     "output_type": "stream",
     "text": [
      "variable ig_fac not sortable by Cell ID!\n"
     ]
    },
    {
     "name": "stderr",
     "output_type": "stream",
     "text": [
      "28-Sep-24 00:31:42: Found population proton\n"
     ]
    },
    {
     "name": "stdout",
     "output_type": "stream",
     "text": [
      "variable ig_fac not sortable by Cell ID!\n"
     ]
    },
    {
     "name": "stderr",
     "output_type": "stream",
     "text": [
      "28-Sep-24 00:31:42: Found population proton\n"
     ]
    },
    {
     "name": "stdout",
     "output_type": "stream",
     "text": [
      "variable ig_fac not sortable by Cell ID!\n"
     ]
    },
    {
     "name": "stderr",
     "output_type": "stream",
     "text": [
      "28-Sep-24 00:31:43: Found population proton\n"
     ]
    },
    {
     "name": "stdout",
     "output_type": "stream",
     "text": [
      "variable ig_fac not sortable by Cell ID!\n"
     ]
    },
    {
     "name": "stderr",
     "output_type": "stream",
     "text": [
      "28-Sep-24 00:31:43: Found population proton\n"
     ]
    },
    {
     "name": "stdout",
     "output_type": "stream",
     "text": [
      "variable ig_fac not sortable by Cell ID!\n"
     ]
    },
    {
     "name": "stderr",
     "output_type": "stream",
     "text": [
      "28-Sep-24 00:31:44: Found population proton\n"
     ]
    },
    {
     "name": "stdout",
     "output_type": "stream",
     "text": [
      "variable ig_fac not sortable by Cell ID!\n"
     ]
    },
    {
     "name": "stderr",
     "output_type": "stream",
     "text": [
      "28-Sep-24 00:31:44: Found population proton\n"
     ]
    },
    {
     "name": "stdout",
     "output_type": "stream",
     "text": [
      "variable ig_fac not sortable by Cell ID!\n"
     ]
    },
    {
     "name": "stderr",
     "output_type": "stream",
     "text": [
      "28-Sep-24 00:31:44: Found population proton\n"
     ]
    },
    {
     "name": "stdout",
     "output_type": "stream",
     "text": [
      "variable ig_fac not sortable by Cell ID!\n"
     ]
    },
    {
     "name": "stderr",
     "output_type": "stream",
     "text": [
      "28-Sep-24 00:31:45: Found population proton\n"
     ]
    },
    {
     "name": "stdout",
     "output_type": "stream",
     "text": [
      "variable ig_fac not sortable by Cell ID!\n"
     ]
    },
    {
     "name": "stderr",
     "output_type": "stream",
     "text": [
      "28-Sep-24 00:31:45: Found population proton\n"
     ]
    },
    {
     "name": "stdout",
     "output_type": "stream",
     "text": [
      "variable ig_fac not sortable by Cell ID!\n"
     ]
    },
    {
     "name": "stderr",
     "output_type": "stream",
     "text": [
      "28-Sep-24 00:31:45: Found population proton\n"
     ]
    },
    {
     "name": "stdout",
     "output_type": "stream",
     "text": [
      "variable ig_fac not sortable by Cell ID!\n"
     ]
    },
    {
     "name": "stderr",
     "output_type": "stream",
     "text": [
      "28-Sep-24 00:31:46: Found population proton\n"
     ]
    },
    {
     "name": "stdout",
     "output_type": "stream",
     "text": [
      "variable ig_fac not sortable by Cell ID!\n"
     ]
    },
    {
     "name": "stderr",
     "output_type": "stream",
     "text": [
      "28-Sep-24 00:31:46: Found population proton\n"
     ]
    },
    {
     "name": "stdout",
     "output_type": "stream",
     "text": [
      "variable ig_fac not sortable by Cell ID!\n"
     ]
    },
    {
     "name": "stderr",
     "output_type": "stream",
     "text": [
      "28-Sep-24 00:31:47: Found population proton\n"
     ]
    },
    {
     "name": "stdout",
     "output_type": "stream",
     "text": [
      "variable ig_fac not sortable by Cell ID!\n"
     ]
    },
    {
     "name": "stderr",
     "output_type": "stream",
     "text": [
      "28-Sep-24 00:31:47: Found population proton\n"
     ]
    },
    {
     "name": "stdout",
     "output_type": "stream",
     "text": [
      "variable ig_fac not sortable by Cell ID!\n"
     ]
    },
    {
     "name": "stderr",
     "output_type": "stream",
     "text": [
      "28-Sep-24 00:31:47: Found population proton\n"
     ]
    },
    {
     "name": "stdout",
     "output_type": "stream",
     "text": [
      "variable ig_fac not sortable by Cell ID!\n"
     ]
    },
    {
     "name": "stderr",
     "output_type": "stream",
     "text": [
      "28-Sep-24 00:31:48: Found population proton\n"
     ]
    },
    {
     "name": "stdout",
     "output_type": "stream",
     "text": [
      "variable ig_fac not sortable by Cell ID!\n"
     ]
    },
    {
     "name": "stderr",
     "output_type": "stream",
     "text": [
      "28-Sep-24 00:31:48: Found population proton\n"
     ]
    },
    {
     "name": "stdout",
     "output_type": "stream",
     "text": [
      "variable ig_fac not sortable by Cell ID!\n"
     ]
    },
    {
     "name": "stderr",
     "output_type": "stream",
     "text": [
      "28-Sep-24 00:31:48: Found population proton\n"
     ]
    },
    {
     "name": "stdout",
     "output_type": "stream",
     "text": [
      "variable ig_fac not sortable by Cell ID!\n"
     ]
    },
    {
     "name": "stderr",
     "output_type": "stream",
     "text": [
      "28-Sep-24 00:31:49: Found population proton\n"
     ]
    },
    {
     "name": "stdout",
     "output_type": "stream",
     "text": [
      "variable ig_fac not sortable by Cell ID!\n"
     ]
    },
    {
     "name": "stderr",
     "output_type": "stream",
     "text": [
      "28-Sep-24 00:31:49: Found population proton\n"
     ]
    },
    {
     "name": "stdout",
     "output_type": "stream",
     "text": [
      "variable ig_fac not sortable by Cell ID!\n"
     ]
    },
    {
     "name": "stderr",
     "output_type": "stream",
     "text": [
      "28-Sep-24 00:31:50: Found population proton\n"
     ]
    },
    {
     "name": "stdout",
     "output_type": "stream",
     "text": [
      "variable ig_fac not sortable by Cell ID!\n"
     ]
    },
    {
     "name": "stderr",
     "output_type": "stream",
     "text": [
      "28-Sep-24 00:31:50: Found population proton\n"
     ]
    },
    {
     "name": "stdout",
     "output_type": "stream",
     "text": [
      "variable ig_fac not sortable by Cell ID!\n"
     ]
    },
    {
     "name": "stderr",
     "output_type": "stream",
     "text": [
      "28-Sep-24 00:31:50: Found population proton\n"
     ]
    },
    {
     "name": "stdout",
     "output_type": "stream",
     "text": [
      "variable ig_fac not sortable by Cell ID!\n"
     ]
    },
    {
     "name": "stderr",
     "output_type": "stream",
     "text": [
      "28-Sep-24 00:31:51: Found population proton\n"
     ]
    },
    {
     "name": "stdout",
     "output_type": "stream",
     "text": [
      "variable ig_fac not sortable by Cell ID!\n"
     ]
    },
    {
     "name": "stderr",
     "output_type": "stream",
     "text": [
      "28-Sep-24 00:31:51: Found population proton\n"
     ]
    },
    {
     "name": "stdout",
     "output_type": "stream",
     "text": [
      "variable ig_fac not sortable by Cell ID!\n"
     ]
    },
    {
     "name": "stderr",
     "output_type": "stream",
     "text": [
      "28-Sep-24 00:31:52: Found population proton\n"
     ]
    },
    {
     "name": "stdout",
     "output_type": "stream",
     "text": [
      "variable ig_fac not sortable by Cell ID!\n"
     ]
    },
    {
     "name": "stderr",
     "output_type": "stream",
     "text": [
      "28-Sep-24 00:31:52: Found population proton\n"
     ]
    },
    {
     "name": "stdout",
     "output_type": "stream",
     "text": [
      "variable ig_fac not sortable by Cell ID!\n"
     ]
    },
    {
     "name": "stderr",
     "output_type": "stream",
     "text": [
      "28-Sep-24 00:31:52: Found population proton\n"
     ]
    },
    {
     "name": "stdout",
     "output_type": "stream",
     "text": [
      "variable ig_fac not sortable by Cell ID!\n"
     ]
    },
    {
     "name": "stderr",
     "output_type": "stream",
     "text": [
      "28-Sep-24 00:31:53: Found population proton\n"
     ]
    },
    {
     "name": "stdout",
     "output_type": "stream",
     "text": [
      "variable ig_fac not sortable by Cell ID!\n"
     ]
    },
    {
     "name": "stderr",
     "output_type": "stream",
     "text": [
      "28-Sep-24 00:31:53: Found population proton\n"
     ]
    },
    {
     "name": "stdout",
     "output_type": "stream",
     "text": [
      "variable ig_fac not sortable by Cell ID!\n"
     ]
    },
    {
     "name": "stderr",
     "output_type": "stream",
     "text": [
      "28-Sep-24 00:31:54: Found population proton\n"
     ]
    },
    {
     "name": "stdout",
     "output_type": "stream",
     "text": [
      "variable ig_fac not sortable by Cell ID!\n"
     ]
    },
    {
     "name": "stderr",
     "output_type": "stream",
     "text": [
      "28-Sep-24 00:31:54: Found population proton\n"
     ]
    },
    {
     "name": "stdout",
     "output_type": "stream",
     "text": [
      "variable ig_fac not sortable by Cell ID!\n"
     ]
    },
    {
     "name": "stderr",
     "output_type": "stream",
     "text": [
      "28-Sep-24 00:31:54: Found population proton\n"
     ]
    },
    {
     "name": "stdout",
     "output_type": "stream",
     "text": [
      "variable ig_fac not sortable by Cell ID!\n"
     ]
    },
    {
     "name": "stderr",
     "output_type": "stream",
     "text": [
      "28-Sep-24 00:31:55: Found population proton\n"
     ]
    },
    {
     "name": "stdout",
     "output_type": "stream",
     "text": [
      "variable ig_fac not sortable by Cell ID!\n"
     ]
    },
    {
     "name": "stderr",
     "output_type": "stream",
     "text": [
      "28-Sep-24 00:31:55: Found population proton\n"
     ]
    },
    {
     "name": "stdout",
     "output_type": "stream",
     "text": [
      "variable ig_fac not sortable by Cell ID!\n"
     ]
    },
    {
     "name": "stderr",
     "output_type": "stream",
     "text": [
      "28-Sep-24 00:31:55: Found population proton\n"
     ]
    },
    {
     "name": "stdout",
     "output_type": "stream",
     "text": [
      "variable ig_fac not sortable by Cell ID!\n"
     ]
    },
    {
     "name": "stderr",
     "output_type": "stream",
     "text": [
      "28-Sep-24 00:31:56: Found population proton\n"
     ]
    },
    {
     "name": "stdout",
     "output_type": "stream",
     "text": [
      "variable ig_fac not sortable by Cell ID!\n"
     ]
    },
    {
     "name": "stderr",
     "output_type": "stream",
     "text": [
      "28-Sep-24 00:31:57: Found population proton\n",
      "28-Sep-24 00:31:58: Found population proton\n",
      "28-Sep-24 00:31:58: Found population proton\n",
      "28-Sep-24 00:31:59: Found population proton\n",
      "28-Sep-24 00:32:00: Found population proton\n",
      "28-Sep-24 00:32:01: Found population proton\n",
      "28-Sep-24 00:32:02: Found population proton\n",
      "28-Sep-24 00:32:03: Found population proton\n",
      "28-Sep-24 00:32:03: Found population proton\n",
      "28-Sep-24 00:32:04: Found population proton\n",
      "28-Sep-24 00:32:05: Found population proton\n",
      "28-Sep-24 00:32:06: Found population proton\n",
      "28-Sep-24 00:32:07: Found population proton\n",
      "28-Sep-24 00:32:08: Found population proton\n",
      "28-Sep-24 00:32:08: Found population proton\n",
      "28-Sep-24 00:32:09: Found population proton\n",
      "28-Sep-24 00:32:13: Found population proton\n",
      "28-Sep-24 00:32:13: Found population proton\n",
      "28-Sep-24 00:32:14: Found population proton\n",
      "28-Sep-24 00:32:15: Found population proton\n",
      "28-Sep-24 00:32:16: Found population proton\n",
      "28-Sep-24 00:32:17: Found population proton\n",
      "28-Sep-24 00:32:17: Found population proton\n",
      "28-Sep-24 00:32:18: Found population proton\n",
      "28-Sep-24 00:32:19: Found population proton\n",
      "28-Sep-24 00:32:20: Found population proton\n",
      "28-Sep-24 00:32:21: Found population proton\n",
      "28-Sep-24 00:32:22: Found population proton\n",
      "28-Sep-24 00:32:22: Found population proton\n",
      "28-Sep-24 00:32:23: Found population proton\n",
      "28-Sep-24 00:32:27: Found population proton\n",
      "28-Sep-24 00:32:28: Found population proton\n",
      "28-Sep-24 00:32:29: Found population proton\n",
      "28-Sep-24 00:32:30: Found population proton\n",
      "28-Sep-24 00:32:30: Found population proton\n",
      "28-Sep-24 00:32:31: Found population proton\n",
      "28-Sep-24 00:32:32: Found population proton\n",
      "28-Sep-24 00:32:33: Found population proton\n",
      "28-Sep-24 00:32:34: Found population proton\n",
      "28-Sep-24 00:32:35: Found population proton\n",
      "28-Sep-24 00:32:38: Found population proton\n",
      "28-Sep-24 00:32:39: Found population proton\n",
      "28-Sep-24 00:32:40: Found population proton\n",
      "28-Sep-24 00:32:40: Found population proton\n",
      "28-Sep-24 00:32:41: Found population proton\n",
      "28-Sep-24 00:32:42: Found population proton\n",
      "28-Sep-24 00:32:43: Found population proton\n",
      "28-Sep-24 00:32:44: Found population proton\n",
      "28-Sep-24 00:32:45: Found population proton\n",
      "28-Sep-24 00:32:45: Found population proton\n",
      "28-Sep-24 00:32:46: Found population proton\n",
      "28-Sep-24 00:32:47: Found population proton\n",
      "28-Sep-24 00:32:48: Found population proton\n",
      "28-Sep-24 00:32:49: Found population proton\n",
      "28-Sep-24 00:32:49: Found population proton\n",
      "28-Sep-24 00:32:50: Found population proton\n",
      "28-Sep-24 00:32:51: Found population proton\n",
      "28-Sep-24 00:32:52: Found population proton\n",
      "28-Sep-24 00:32:53: Found population proton\n",
      "28-Sep-24 00:32:54: Found population proton\n",
      "28-Sep-24 00:32:54: Found population proton\n",
      "28-Sep-24 00:32:55: Found population proton\n",
      "28-Sep-24 00:32:56: Found population proton\n",
      "28-Sep-24 00:32:57: Found population proton\n",
      "28-Sep-24 00:32:58: Found population proton\n",
      "28-Sep-24 00:32:59: Found population proton\n",
      "28-Sep-24 00:32:59: Found population proton\n",
      "28-Sep-24 00:33:00: Found population proton\n",
      "28-Sep-24 00:33:01: Found population proton\n",
      "28-Sep-24 00:33:02: Found population proton\n",
      "28-Sep-24 00:33:03: Found population proton\n",
      "28-Sep-24 00:33:06: Found population proton\n",
      "28-Sep-24 00:33:07: Found population proton\n",
      "28-Sep-24 00:33:08: Found population proton\n",
      "28-Sep-24 00:33:09: Found population proton\n",
      "28-Sep-24 00:33:10: Found population proton\n",
      "28-Sep-24 00:33:10: Found population proton\n",
      "28-Sep-24 00:33:11: Found population proton\n",
      "28-Sep-24 00:33:12: Found population proton\n",
      "28-Sep-24 00:33:13: Found population proton\n",
      "28-Sep-24 00:33:14: Found population proton\n",
      "28-Sep-24 00:33:15: Found population proton\n",
      "28-Sep-24 00:33:15: Found population proton\n",
      "28-Sep-24 00:33:16: Found population proton\n",
      "28-Sep-24 00:33:19: Found population proton\n",
      "28-Sep-24 00:33:20: Found population proton\n",
      "28-Sep-24 00:33:21: Found population proton\n",
      "28-Sep-24 00:33:22: Found population proton\n",
      "28-Sep-24 00:33:23: Found population proton\n",
      "28-Sep-24 00:33:23: Found population proton\n",
      "28-Sep-24 00:33:24: Found population proton\n",
      "28-Sep-24 00:33:25: Found population proton\n",
      "28-Sep-24 00:33:26: Found population proton\n",
      "28-Sep-24 00:33:27: Found population proton\n",
      "28-Sep-24 00:33:28: Found population proton\n",
      "28-Sep-24 00:33:28: Found population proton\n",
      "28-Sep-24 00:33:29: Found population proton\n",
      "28-Sep-24 00:33:30: Found population proton\n",
      "28-Sep-24 00:33:34: Found population proton\n",
      "28-Sep-24 00:33:35: Found population proton\n",
      "28-Sep-24 00:33:38: Found population proton\n",
      "28-Sep-24 00:33:39: Found population proton\n",
      "28-Sep-24 00:33:40: Found population proton\n",
      "28-Sep-24 00:33:41: Found population proton\n",
      "28-Sep-24 00:33:42: Found population proton\n",
      "28-Sep-24 00:33:42: Found population proton\n",
      "28-Sep-24 00:33:43: Found population proton\n",
      "28-Sep-24 00:33:44: Found population proton\n",
      "28-Sep-24 00:33:45: Found population proton\n",
      "28-Sep-24 00:33:46: Found population proton\n",
      "28-Sep-24 00:33:47: Found population proton\n",
      "28-Sep-24 00:33:47: Found population proton\n",
      "28-Sep-24 00:33:48: Found population proton\n",
      "28-Sep-24 00:33:49: Found population proton\n",
      "28-Sep-24 00:33:50: Found population proton\n",
      "28-Sep-24 00:33:51: Found population proton\n",
      "28-Sep-24 00:33:52: Found population proton\n",
      "28-Sep-24 00:33:53: Found population proton\n",
      "28-Sep-24 00:33:53: Found population proton\n",
      "28-Sep-24 00:33:54: Found population proton\n",
      "28-Sep-24 00:33:55: Found population proton\n",
      "28-Sep-24 00:33:56: Found population proton\n",
      "28-Sep-24 00:33:59: Found population proton\n",
      "28-Sep-24 00:34:00: Found population proton\n",
      "28-Sep-24 00:34:01: Found population proton\n",
      "28-Sep-24 00:34:02: Found population proton\n",
      "28-Sep-24 00:34:03: Found population proton\n",
      "28-Sep-24 00:34:04: Found population proton\n",
      "28-Sep-24 00:34:05: Found population proton\n",
      "28-Sep-24 00:34:05: Found population proton\n",
      "28-Sep-24 00:34:06: Found population proton\n",
      "28-Sep-24 00:34:07: Found population proton\n",
      "28-Sep-24 00:34:08: Found population proton\n",
      "28-Sep-24 00:34:09: Found population proton\n",
      "28-Sep-24 00:34:09: Found population proton\n",
      "28-Sep-24 00:34:10: Found population proton\n",
      "28-Sep-24 00:34:15: Found population proton\n",
      "28-Sep-24 00:34:15: Found population proton\n",
      "28-Sep-24 00:34:16: Found population proton\n",
      "28-Sep-24 00:34:17: Found population proton\n",
      "28-Sep-24 00:34:18: Found population proton\n",
      "28-Sep-24 00:34:19: Found population proton\n",
      "28-Sep-24 00:34:20: Found population proton\n",
      "28-Sep-24 00:34:20: Found population proton\n",
      "28-Sep-24 00:34:21: Found population proton\n",
      "28-Sep-24 00:34:22: Found population proton\n",
      "28-Sep-24 00:34:23: Found population proton\n",
      "28-Sep-24 00:34:27: Found population proton\n",
      "28-Sep-24 00:34:28: Found population proton\n",
      "28-Sep-24 00:34:29: Found population proton\n",
      "28-Sep-24 00:34:30: Found population proton\n",
      "28-Sep-24 00:34:31: Found population proton\n",
      "28-Sep-24 00:34:34: Found population proton\n",
      "28-Sep-24 00:34:35: Found population proton\n",
      "28-Sep-24 00:34:36: Found population proton\n",
      "28-Sep-24 00:34:37: Found population proton\n",
      "28-Sep-24 00:34:38: Found population proton\n",
      "28-Sep-24 00:34:38: Found population proton\n",
      "28-Sep-24 00:34:39: Found population proton\n",
      "28-Sep-24 00:34:40: Found population proton\n",
      "28-Sep-24 00:34:41: Found population proton\n",
      "28-Sep-24 00:34:42: Found population proton\n",
      "28-Sep-24 00:34:43: Found population proton\n",
      "28-Sep-24 00:34:47: Found population proton\n",
      "28-Sep-24 00:34:48: Found population proton\n",
      "28-Sep-24 00:34:48: Found population proton\n",
      "28-Sep-24 00:34:49: Found population proton\n",
      "28-Sep-24 00:34:50: Found population proton\n",
      "28-Sep-24 00:34:51: Found population proton\n",
      "28-Sep-24 00:34:52: Found population proton\n",
      "28-Sep-24 00:34:52: Found population proton\n",
      "28-Sep-24 00:34:53: Found population proton\n",
      "28-Sep-24 00:34:58: Found population proton\n",
      "28-Sep-24 00:34:59: Found population proton\n",
      "28-Sep-24 00:35:00: Found population proton\n",
      "28-Sep-24 00:35:00: Found population proton\n",
      "28-Sep-24 00:35:01: Found population proton\n",
      "28-Sep-24 00:35:02: Found population proton\n",
      "28-Sep-24 00:35:03: Found population proton\n",
      "28-Sep-24 00:35:04: Found population proton\n",
      "28-Sep-24 00:35:04: Found population proton\n",
      "28-Sep-24 00:35:05: Found population proton\n",
      "28-Sep-24 00:35:06: Found population proton\n",
      "28-Sep-24 00:35:07: Found population proton\n",
      "28-Sep-24 00:35:08: Found population proton\n",
      "28-Sep-24 00:35:09: Found population proton\n",
      "28-Sep-24 00:35:09: Found population proton\n",
      "28-Sep-24 00:35:10: Found population proton\n",
      "28-Sep-24 00:35:11: Found population proton\n",
      "28-Sep-24 00:35:12: Found population proton\n",
      "28-Sep-24 00:35:13: Found population proton\n",
      "28-Sep-24 00:35:13: Found population proton\n",
      "28-Sep-24 00:35:14: Found population proton\n",
      "28-Sep-24 00:35:15: Found population proton\n",
      "28-Sep-24 00:35:16: Found population proton\n",
      "28-Sep-24 00:35:17: Found population proton\n",
      "28-Sep-24 00:35:18: Found population proton\n",
      "28-Sep-24 00:35:18: Found population proton\n",
      "28-Sep-24 00:35:19: Found population proton\n",
      "28-Sep-24 00:35:20: Found population proton\n",
      "28-Sep-24 00:35:21: Found population proton\n",
      "28-Sep-24 00:35:22: Found population proton\n",
      "28-Sep-24 00:35:22: Found population proton\n",
      "28-Sep-24 00:35:23: Found population proton\n",
      "28-Sep-24 00:35:24: Found population proton\n",
      "28-Sep-24 00:35:25: Found population proton\n",
      "28-Sep-24 00:35:26: Found population proton\n",
      "28-Sep-24 00:35:27: Found population proton\n",
      "28-Sep-24 00:35:27: Found population proton\n",
      "28-Sep-24 00:35:28: Found population proton\n",
      "28-Sep-24 00:35:29: Found population proton\n",
      "28-Sep-24 00:35:30: Found population proton\n",
      "28-Sep-24 00:35:31: Found population proton\n",
      "28-Sep-24 00:35:32: Found population proton\n",
      "28-Sep-24 00:35:33: Found population proton\n",
      "28-Sep-24 00:35:33: Found population proton\n",
      "28-Sep-24 00:35:34: Found population proton\n",
      "28-Sep-24 00:35:35: Found population proton\n",
      "28-Sep-24 00:35:36: Found population proton\n",
      "28-Sep-24 00:35:37: Found population proton\n",
      "28-Sep-24 00:35:38: Found population proton\n",
      "28-Sep-24 00:35:39: Found population proton\n",
      "28-Sep-24 00:35:39: Found population proton\n",
      "28-Sep-24 00:35:40: Found population proton\n",
      "28-Sep-24 00:35:41: Found population proton\n",
      "28-Sep-24 00:35:42: Found population proton\n",
      "28-Sep-24 00:35:43: Found population proton\n",
      "28-Sep-24 00:35:43: Found population proton\n",
      "28-Sep-24 00:35:44: Found population proton\n",
      "28-Sep-24 00:35:45: Found population proton\n",
      "28-Sep-24 00:35:46: Found population proton\n",
      "28-Sep-24 00:35:47: Found population proton\n",
      "28-Sep-24 00:35:48: Found population proton\n",
      "28-Sep-24 00:35:48: Found population proton\n",
      "28-Sep-24 00:35:49: Found population proton\n",
      "28-Sep-24 00:35:50: Found population proton\n",
      "28-Sep-24 00:35:51: Found population proton\n",
      "28-Sep-24 00:35:52: Found population proton\n",
      "28-Sep-24 00:35:52: Found population proton\n",
      "28-Sep-24 00:35:53: Found population proton\n",
      "28-Sep-24 00:35:54: Found population proton\n",
      "28-Sep-24 00:35:55: Found population proton\n",
      "28-Sep-24 00:35:56: Found population proton\n",
      "28-Sep-24 00:35:56: Found population proton\n",
      "28-Sep-24 00:35:57: Found population proton\n",
      "28-Sep-24 00:35:58: Found population proton\n",
      "28-Sep-24 00:35:59: Found population proton\n",
      "28-Sep-24 00:36:00: Found population proton\n",
      "28-Sep-24 00:36:01: Found population proton\n",
      "28-Sep-24 00:36:01: Found population proton\n",
      "28-Sep-24 00:36:02: Found population proton\n",
      "28-Sep-24 00:36:03: Found population proton\n",
      "28-Sep-24 00:36:04: Found population proton\n",
      "28-Sep-24 00:36:05: Found population proton\n",
      "28-Sep-24 00:36:05: Found population proton\n",
      "28-Sep-24 00:36:06: Found population proton\n",
      "28-Sep-24 00:36:07: Found population proton\n",
      "28-Sep-24 00:36:08: Found population proton\n",
      "28-Sep-24 00:36:09: Found population proton\n",
      "28-Sep-24 00:36:10: Found population proton\n",
      "28-Sep-24 00:36:10: Found population proton\n",
      "28-Sep-24 00:36:11: Found population proton\n",
      "28-Sep-24 00:36:12: Found population proton\n",
      "28-Sep-24 00:36:13: Found population proton\n",
      "28-Sep-24 00:36:14: Found population proton\n",
      "28-Sep-24 00:36:17: Found population proton\n",
      "28-Sep-24 00:36:18: Found population proton\n",
      "28-Sep-24 00:36:19: Found population proton\n",
      "28-Sep-24 00:36:20: Found population proton\n",
      "28-Sep-24 00:36:21: Found population proton\n",
      "28-Sep-24 00:36:21: Found population proton\n",
      "28-Sep-24 00:36:22: Found population proton\n",
      "28-Sep-24 00:36:23: Found population proton\n",
      "28-Sep-24 00:36:24: Found population proton\n",
      "28-Sep-24 00:36:25: Found population proton\n",
      "28-Sep-24 00:36:26: Found population proton\n",
      "28-Sep-24 00:36:26: Found population proton\n",
      "28-Sep-24 00:36:27: Found population proton\n",
      "28-Sep-24 00:36:28: Found population proton\n",
      "28-Sep-24 00:36:29: Found population proton\n",
      "28-Sep-24 00:36:32: Found population proton\n",
      "28-Sep-24 00:36:33: Found population proton\n",
      "28-Sep-24 00:36:34: Found population proton\n",
      "28-Sep-24 00:36:35: Found population proton\n",
      "28-Sep-24 00:36:36: Found population proton\n",
      "28-Sep-24 00:36:37: Found population proton\n",
      "28-Sep-24 00:36:37: Found population proton\n",
      "28-Sep-24 00:36:38: Found population proton\n",
      "28-Sep-24 00:36:39: Found population proton\n",
      "28-Sep-24 00:36:40: Found population proton\n",
      "28-Sep-24 00:36:41: Found population proton\n",
      "28-Sep-24 00:36:41: Found population proton\n",
      "28-Sep-24 00:36:42: Found population proton\n",
      "28-Sep-24 00:36:43: Found population proton\n",
      "28-Sep-24 00:36:44: Found population proton\n",
      "28-Sep-24 00:36:45: Found population proton\n",
      "28-Sep-24 00:36:46: Found population proton\n",
      "28-Sep-24 00:36:46: Found population proton\n",
      "28-Sep-24 00:36:47: Found population proton\n",
      "28-Sep-24 00:36:48: Found population proton\n",
      "28-Sep-24 00:36:49: Found population proton\n",
      "28-Sep-24 00:36:50: Found population proton\n",
      "28-Sep-24 00:36:51: Found population proton\n",
      "28-Sep-24 00:36:52: Found population proton\n",
      "28-Sep-24 00:36:53: Found population proton\n",
      "28-Sep-24 00:36:54: Found population proton\n",
      "28-Sep-24 00:36:55: Found population proton\n",
      "28-Sep-24 00:36:56: Found population proton\n",
      "28-Sep-24 00:36:57: Found population proton\n",
      "28-Sep-24 00:36:58: Found population proton\n",
      "28-Sep-24 00:36:58: Found population proton\n",
      "28-Sep-24 00:36:59: Found population proton\n",
      "28-Sep-24 00:37:00: Found population proton\n",
      "28-Sep-24 00:37:01: Found population proton\n",
      "28-Sep-24 00:37:02: Found population proton\n",
      "28-Sep-24 00:37:03: Found population proton\n",
      "28-Sep-24 00:37:04: Found population proton\n",
      "28-Sep-24 00:37:05: Found population proton\n",
      "28-Sep-24 00:37:06: Found population proton\n",
      "28-Sep-24 00:37:07: Found population proton\n",
      "28-Sep-24 00:37:08: Found population proton\n",
      "28-Sep-24 00:37:09: Found population proton\n",
      "28-Sep-24 00:37:10: Found population proton\n",
      "28-Sep-24 00:37:11: Found population proton\n",
      "28-Sep-24 00:37:12: Found population proton\n",
      "28-Sep-24 00:37:13: Found population proton\n",
      "28-Sep-24 00:37:14: Found population proton\n",
      "28-Sep-24 00:37:15: Found population proton\n",
      "28-Sep-24 00:37:16: Found population proton\n",
      "28-Sep-24 00:37:17: Found population proton\n",
      "28-Sep-24 00:37:18: Found population proton\n",
      "28-Sep-24 00:37:19: Found population proton\n",
      "28-Sep-24 00:37:19: Found population proton\n",
      "28-Sep-24 00:37:20: Found population proton\n",
      "28-Sep-24 00:37:21: Found population proton\n",
      "28-Sep-24 00:37:22: Found population proton\n",
      "28-Sep-24 00:37:23: Found population proton\n",
      "28-Sep-24 00:37:24: Found population proton\n",
      "28-Sep-24 00:37:25: Found population proton\n",
      "28-Sep-24 00:37:26: Found population proton\n",
      "28-Sep-24 00:37:27: Found population proton\n",
      "28-Sep-24 00:37:28: Found population proton\n",
      "28-Sep-24 00:37:29: Found population proton\n",
      "28-Sep-24 00:37:30: Found population proton\n",
      "28-Sep-24 00:37:31: Found population proton\n",
      "28-Sep-24 00:37:32: Found population proton\n",
      "28-Sep-24 00:37:33: Found population proton\n",
      "28-Sep-24 00:37:34: Found population proton\n",
      "28-Sep-24 00:37:35: Found population proton\n",
      "28-Sep-24 00:37:36: Found population proton\n",
      "28-Sep-24 00:37:37: Found population proton\n",
      "28-Sep-24 00:37:38: Found population proton\n",
      "28-Sep-24 00:37:39: Found population proton\n",
      "28-Sep-24 00:37:40: Found population proton\n",
      "28-Sep-24 00:37:41: Found population proton\n",
      "28-Sep-24 00:37:42: Found population proton\n",
      "28-Sep-24 00:37:43: Found population proton\n",
      "28-Sep-24 00:37:44: Found population proton\n",
      "28-Sep-24 00:37:45: Found population proton\n",
      "28-Sep-24 00:37:46: Found population proton\n",
      "28-Sep-24 00:37:47: Found population proton\n",
      "28-Sep-24 00:37:48: Found population proton\n",
      "28-Sep-24 00:37:49: Found population proton\n",
      "28-Sep-24 00:37:50: Found population proton\n",
      "28-Sep-24 00:37:51: Found population proton\n",
      "28-Sep-24 00:37:52: Found population proton\n",
      "28-Sep-24 00:37:53: Found population proton\n",
      "28-Sep-24 00:37:54: Found population proton\n",
      "28-Sep-24 00:37:54: Found population proton\n",
      "28-Sep-24 00:37:55: Found population proton\n",
      "28-Sep-24 00:37:56: Found population proton\n",
      "28-Sep-24 00:38:00: Found population proton\n",
      "28-Sep-24 00:38:01: Found population proton\n",
      "28-Sep-24 00:38:02: Found population proton\n",
      "28-Sep-24 00:38:03: Found population proton\n",
      "28-Sep-24 00:38:04: Found population proton\n",
      "28-Sep-24 00:38:05: Found population proton\n",
      "28-Sep-24 00:38:06: Found population proton\n",
      "28-Sep-24 00:38:07: Found population proton\n",
      "28-Sep-24 00:38:08: Found population proton\n",
      "28-Sep-24 00:38:09: Found population proton\n",
      "28-Sep-24 00:38:10: Found population proton\n",
      "28-Sep-24 00:38:11: Found population proton\n",
      "28-Sep-24 00:38:12: Found population proton\n",
      "28-Sep-24 00:38:13: Found population proton\n",
      "28-Sep-24 00:38:14: Found population proton\n",
      "28-Sep-24 00:38:15: Found population proton\n",
      "28-Sep-24 00:38:16: Found population proton\n",
      "28-Sep-24 00:38:17: Found population proton\n",
      "28-Sep-24 00:38:18: Found population proton\n",
      "28-Sep-24 00:38:19: Found population proton\n",
      "28-Sep-24 00:38:20: Found population proton\n",
      "28-Sep-24 00:38:21: Found population proton\n",
      "28-Sep-24 00:38:22: Found population proton\n",
      "28-Sep-24 00:38:23: Found population proton\n",
      "28-Sep-24 00:38:24: Found population proton\n",
      "28-Sep-24 00:38:25: Found population proton\n",
      "28-Sep-24 00:38:26: Found population proton\n",
      "28-Sep-24 00:38:27: Found population proton\n",
      "28-Sep-24 00:38:28: Found population proton\n",
      "28-Sep-24 00:38:29: Found population proton\n",
      "28-Sep-24 00:38:29: Found population proton\n",
      "28-Sep-24 00:38:30: Found population proton\n",
      "28-Sep-24 00:38:31: Found population proton\n",
      "28-Sep-24 00:38:33: Found population proton\n",
      "28-Sep-24 00:38:33: Found population proton\n",
      "28-Sep-24 00:38:34: Found population proton\n",
      "28-Sep-24 00:38:35: Found population proton\n",
      "28-Sep-24 00:38:37: Found population proton\n",
      "28-Sep-24 00:38:38: Found population proton\n",
      "28-Sep-24 00:38:38: Found population proton\n",
      "28-Sep-24 00:38:39: Found population proton\n",
      "28-Sep-24 00:38:40: Found population proton\n",
      "28-Sep-24 00:38:41: Found population proton\n",
      "28-Sep-24 00:38:42: Found population proton\n",
      "28-Sep-24 00:38:43: Found population proton\n",
      "28-Sep-24 00:38:44: Found population proton\n",
      "28-Sep-24 00:38:45: Found population proton\n",
      "28-Sep-24 00:38:46: Found population proton\n",
      "28-Sep-24 00:38:47: Found population proton\n",
      "28-Sep-24 00:38:48: Found population proton\n",
      "28-Sep-24 00:38:49: Found population proton\n",
      "28-Sep-24 00:38:50: Found population proton\n",
      "28-Sep-24 00:38:51: Found population proton\n",
      "28-Sep-24 00:38:52: Found population proton\n",
      "28-Sep-24 00:38:53: Found population proton\n",
      "28-Sep-24 00:38:54: Found population proton\n",
      "28-Sep-24 00:38:55: Found population proton\n",
      "28-Sep-24 00:38:56: Found population proton\n",
      "28-Sep-24 00:38:57: Found population proton\n",
      "28-Sep-24 00:38:58: Found population proton\n",
      "28-Sep-24 00:38:59: Found population proton\n",
      "28-Sep-24 00:39:00: Found population proton\n",
      "28-Sep-24 00:39:01: Found population proton\n",
      "28-Sep-24 00:39:02: Found population proton\n",
      "28-Sep-24 00:39:03: Found population proton\n",
      "28-Sep-24 00:39:04: Found population proton\n",
      "28-Sep-24 00:39:05: Found population proton\n",
      "28-Sep-24 00:39:06: Found population proton\n",
      "28-Sep-24 00:39:07: Found population proton\n",
      "28-Sep-24 00:39:08: Found population proton\n",
      "28-Sep-24 00:39:09: Found population proton\n",
      "28-Sep-24 00:39:10: Found population proton\n",
      "28-Sep-24 00:39:11: Found population proton\n",
      "28-Sep-24 00:39:12: Found population proton\n",
      "28-Sep-24 00:39:13: Found population proton\n",
      "28-Sep-24 00:39:14: Found population proton\n",
      "28-Sep-24 00:39:15: Found population proton\n",
      "28-Sep-24 00:39:16: Found population proton\n",
      "28-Sep-24 00:39:17: Found population proton\n",
      "28-Sep-24 00:39:18: Found population proton\n",
      "28-Sep-24 00:39:19: Found population proton\n",
      "28-Sep-24 00:39:20: Found population proton\n",
      "28-Sep-24 00:39:21: Found population proton\n",
      "28-Sep-24 00:39:22: Found population proton\n",
      "28-Sep-24 00:39:23: Found population proton\n",
      "28-Sep-24 00:39:24: Found population proton\n",
      "28-Sep-24 00:39:25: Found population proton\n",
      "28-Sep-24 00:39:26: Found population proton\n",
      "28-Sep-24 00:39:27: Found population proton\n",
      "28-Sep-24 00:39:27: Found population proton\n",
      "28-Sep-24 00:39:28: Found population proton\n",
      "28-Sep-24 00:39:29: Found population proton\n",
      "28-Sep-24 00:39:30: Found population proton\n",
      "28-Sep-24 00:39:31: Found population proton\n",
      "28-Sep-24 00:39:32: Found population proton\n",
      "28-Sep-24 00:39:33: Found population proton\n",
      "28-Sep-24 00:39:34: Found population proton\n",
      "28-Sep-24 00:39:35: Found population proton\n",
      "28-Sep-24 00:39:36: Found population proton\n",
      "28-Sep-24 00:39:37: Found population proton\n",
      "28-Sep-24 00:39:38: Found population proton\n",
      "28-Sep-24 00:39:39: Found population proton\n",
      "28-Sep-24 00:39:40: Found population proton\n",
      "28-Sep-24 00:39:41: Found population proton\n",
      "28-Sep-24 00:39:42: Found population proton\n",
      "28-Sep-24 00:39:43: Found population proton\n",
      "28-Sep-24 00:39:44: Found population proton\n",
      "28-Sep-24 00:39:45: Found population proton\n",
      "28-Sep-24 00:39:46: Found population proton\n",
      "28-Sep-24 00:39:47: Found population proton\n",
      "28-Sep-24 00:39:48: Found population proton\n",
      "28-Sep-24 00:39:49: Found population proton\n",
      "28-Sep-24 00:39:50: Found population proton\n",
      "28-Sep-24 00:39:51: Found population proton\n",
      "28-Sep-24 00:39:52: Found population proton\n",
      "28-Sep-24 00:39:53: Found population proton\n",
      "28-Sep-24 00:39:54: Found population proton\n",
      "28-Sep-24 00:39:55: Found population proton\n",
      "28-Sep-24 00:39:56: Found population proton\n",
      "28-Sep-24 00:39:57: Found population proton\n",
      "28-Sep-24 00:39:58: Found population proton\n",
      "28-Sep-24 00:39:59: Found population proton\n",
      "28-Sep-24 00:40:00: Found population proton\n",
      "28-Sep-24 00:40:01: Found population proton\n",
      "28-Sep-24 00:40:02: Found population proton\n",
      "28-Sep-24 00:40:03: Found population proton\n",
      "28-Sep-24 00:40:04: Found population proton\n",
      "28-Sep-24 00:40:07: Found population proton\n",
      "28-Sep-24 00:40:08: Found population proton\n"
     ]
    },
    {
     "name": "stdout",
     "output_type": "stream",
     "text": [
      "variable ig_upmappednodecoords not sortable by Cell ID!\n"
     ]
    },
    {
     "name": "stderr",
     "output_type": "stream",
     "text": [
      "28-Sep-24 00:40:08: Found population proton\n"
     ]
    },
    {
     "name": "stdout",
     "output_type": "stream",
     "text": [
      "variable ig_upmappednodecoords not sortable by Cell ID!\n"
     ]
    },
    {
     "name": "stderr",
     "output_type": "stream",
     "text": [
      "28-Sep-24 00:40:09: Found population proton\n"
     ]
    },
    {
     "name": "stdout",
     "output_type": "stream",
     "text": [
      "variable ig_upmappednodecoords not sortable by Cell ID!\n"
     ]
    },
    {
     "name": "stderr",
     "output_type": "stream",
     "text": [
      "28-Sep-24 00:40:09: Found population proton\n"
     ]
    },
    {
     "name": "stdout",
     "output_type": "stream",
     "text": [
      "variable ig_upmappednodecoords not sortable by Cell ID!\n"
     ]
    },
    {
     "name": "stderr",
     "output_type": "stream",
     "text": [
      "28-Sep-24 00:40:09: Found population proton\n"
     ]
    },
    {
     "name": "stdout",
     "output_type": "stream",
     "text": [
      "variable ig_upmappednodecoords not sortable by Cell ID!\n"
     ]
    },
    {
     "name": "stderr",
     "output_type": "stream",
     "text": [
      "28-Sep-24 00:40:10: Found population proton\n"
     ]
    },
    {
     "name": "stdout",
     "output_type": "stream",
     "text": [
      "variable ig_upmappednodecoords not sortable by Cell ID!\n"
     ]
    },
    {
     "name": "stderr",
     "output_type": "stream",
     "text": [
      "28-Sep-24 00:40:10: Found population proton\n"
     ]
    },
    {
     "name": "stdout",
     "output_type": "stream",
     "text": [
      "variable ig_upmappednodecoords not sortable by Cell ID!\n"
     ]
    },
    {
     "name": "stderr",
     "output_type": "stream",
     "text": [
      "28-Sep-24 00:40:10: Found population proton\n"
     ]
    },
    {
     "name": "stdout",
     "output_type": "stream",
     "text": [
      "variable ig_upmappednodecoords not sortable by Cell ID!\n"
     ]
    },
    {
     "name": "stderr",
     "output_type": "stream",
     "text": [
      "28-Sep-24 00:40:14: Found population proton\n"
     ]
    },
    {
     "name": "stdout",
     "output_type": "stream",
     "text": [
      "variable ig_upmappednodecoords not sortable by Cell ID!\n"
     ]
    },
    {
     "name": "stderr",
     "output_type": "stream",
     "text": [
      "28-Sep-24 00:40:14: Found population proton\n"
     ]
    },
    {
     "name": "stdout",
     "output_type": "stream",
     "text": [
      "variable ig_upmappednodecoords not sortable by Cell ID!\n"
     ]
    },
    {
     "name": "stderr",
     "output_type": "stream",
     "text": [
      "28-Sep-24 00:40:15: Found population proton\n"
     ]
    },
    {
     "name": "stdout",
     "output_type": "stream",
     "text": [
      "variable ig_upmappednodecoords not sortable by Cell ID!\n"
     ]
    },
    {
     "name": "stderr",
     "output_type": "stream",
     "text": [
      "28-Sep-24 00:40:15: Found population proton\n"
     ]
    },
    {
     "name": "stdout",
     "output_type": "stream",
     "text": [
      "variable ig_upmappednodecoords not sortable by Cell ID!\n"
     ]
    },
    {
     "name": "stderr",
     "output_type": "stream",
     "text": [
      "28-Sep-24 00:40:16: Found population proton\n"
     ]
    },
    {
     "name": "stdout",
     "output_type": "stream",
     "text": [
      "variable ig_upmappednodecoords not sortable by Cell ID!\n"
     ]
    },
    {
     "name": "stderr",
     "output_type": "stream",
     "text": [
      "28-Sep-24 00:40:16: Found population proton\n"
     ]
    },
    {
     "name": "stdout",
     "output_type": "stream",
     "text": [
      "variable ig_upmappednodecoords not sortable by Cell ID!\n"
     ]
    },
    {
     "name": "stderr",
     "output_type": "stream",
     "text": [
      "28-Sep-24 00:40:16: Found population proton\n"
     ]
    },
    {
     "name": "stdout",
     "output_type": "stream",
     "text": [
      "variable ig_upmappednodecoords not sortable by Cell ID!\n"
     ]
    },
    {
     "name": "stderr",
     "output_type": "stream",
     "text": [
      "28-Sep-24 00:40:17: Found population proton\n"
     ]
    },
    {
     "name": "stdout",
     "output_type": "stream",
     "text": [
      "variable ig_upmappednodecoords not sortable by Cell ID!\n"
     ]
    },
    {
     "name": "stderr",
     "output_type": "stream",
     "text": [
      "28-Sep-24 00:40:17: Found population proton\n"
     ]
    },
    {
     "name": "stdout",
     "output_type": "stream",
     "text": [
      "variable ig_upmappednodecoords not sortable by Cell ID!\n"
     ]
    },
    {
     "name": "stderr",
     "output_type": "stream",
     "text": [
      "28-Sep-24 00:40:17: Found population proton\n"
     ]
    },
    {
     "name": "stdout",
     "output_type": "stream",
     "text": [
      "variable ig_upmappednodecoords not sortable by Cell ID!\n"
     ]
    },
    {
     "name": "stderr",
     "output_type": "stream",
     "text": [
      "28-Sep-24 00:40:18: Found population proton\n"
     ]
    },
    {
     "name": "stdout",
     "output_type": "stream",
     "text": [
      "variable ig_upmappednodecoords not sortable by Cell ID!\n"
     ]
    },
    {
     "name": "stderr",
     "output_type": "stream",
     "text": [
      "28-Sep-24 00:40:18: Found population proton\n"
     ]
    },
    {
     "name": "stdout",
     "output_type": "stream",
     "text": [
      "variable ig_upmappednodecoords not sortable by Cell ID!\n"
     ]
    },
    {
     "name": "stderr",
     "output_type": "stream",
     "text": [
      "28-Sep-24 00:40:18: Found population proton\n"
     ]
    },
    {
     "name": "stdout",
     "output_type": "stream",
     "text": [
      "variable ig_upmappednodecoords not sortable by Cell ID!\n"
     ]
    },
    {
     "name": "stderr",
     "output_type": "stream",
     "text": [
      "28-Sep-24 00:40:19: Found population proton\n"
     ]
    },
    {
     "name": "stdout",
     "output_type": "stream",
     "text": [
      "variable ig_upmappednodecoords not sortable by Cell ID!\n"
     ]
    },
    {
     "name": "stderr",
     "output_type": "stream",
     "text": [
      "28-Sep-24 00:40:19: Found population proton\n"
     ]
    },
    {
     "name": "stdout",
     "output_type": "stream",
     "text": [
      "variable ig_upmappednodecoords not sortable by Cell ID!\n"
     ]
    },
    {
     "name": "stderr",
     "output_type": "stream",
     "text": [
      "28-Sep-24 00:40:19: Found population proton\n"
     ]
    },
    {
     "name": "stdout",
     "output_type": "stream",
     "text": [
      "variable ig_upmappednodecoords not sortable by Cell ID!\n"
     ]
    },
    {
     "name": "stderr",
     "output_type": "stream",
     "text": [
      "28-Sep-24 00:40:20: Found population proton\n"
     ]
    },
    {
     "name": "stdout",
     "output_type": "stream",
     "text": [
      "variable ig_upmappednodecoords not sortable by Cell ID!\n"
     ]
    },
    {
     "name": "stderr",
     "output_type": "stream",
     "text": [
      "28-Sep-24 00:40:20: Found population proton\n"
     ]
    },
    {
     "name": "stdout",
     "output_type": "stream",
     "text": [
      "variable ig_upmappednodecoords not sortable by Cell ID!\n"
     ]
    },
    {
     "name": "stderr",
     "output_type": "stream",
     "text": [
      "28-Sep-24 00:40:21: Found population proton\n"
     ]
    },
    {
     "name": "stdout",
     "output_type": "stream",
     "text": [
      "variable ig_upmappednodecoords not sortable by Cell ID!\n"
     ]
    },
    {
     "name": "stderr",
     "output_type": "stream",
     "text": [
      "28-Sep-24 00:40:21: Found population proton\n"
     ]
    },
    {
     "name": "stdout",
     "output_type": "stream",
     "text": [
      "variable ig_upmappednodecoords not sortable by Cell ID!\n"
     ]
    },
    {
     "name": "stderr",
     "output_type": "stream",
     "text": [
      "28-Sep-24 00:40:21: Found population proton\n"
     ]
    },
    {
     "name": "stdout",
     "output_type": "stream",
     "text": [
      "variable ig_upmappednodecoords not sortable by Cell ID!\n"
     ]
    },
    {
     "name": "stderr",
     "output_type": "stream",
     "text": [
      "28-Sep-24 00:40:22: Found population proton\n"
     ]
    },
    {
     "name": "stdout",
     "output_type": "stream",
     "text": [
      "variable ig_upmappednodecoords not sortable by Cell ID!\n"
     ]
    },
    {
     "name": "stderr",
     "output_type": "stream",
     "text": [
      "28-Sep-24 00:40:22: Found population proton\n"
     ]
    },
    {
     "name": "stdout",
     "output_type": "stream",
     "text": [
      "variable ig_upmappednodecoords not sortable by Cell ID!\n"
     ]
    },
    {
     "name": "stderr",
     "output_type": "stream",
     "text": [
      "28-Sep-24 00:40:22: Found population proton\n"
     ]
    },
    {
     "name": "stdout",
     "output_type": "stream",
     "text": [
      "variable ig_upmappednodecoords not sortable by Cell ID!\n"
     ]
    },
    {
     "name": "stderr",
     "output_type": "stream",
     "text": [
      "28-Sep-24 00:40:23: Found population proton\n"
     ]
    },
    {
     "name": "stdout",
     "output_type": "stream",
     "text": [
      "variable ig_upmappednodecoords not sortable by Cell ID!\n"
     ]
    },
    {
     "name": "stderr",
     "output_type": "stream",
     "text": [
      "28-Sep-24 00:40:26: Found population proton\n"
     ]
    },
    {
     "name": "stdout",
     "output_type": "stream",
     "text": [
      "variable ig_upmappednodecoords not sortable by Cell ID!\n"
     ]
    },
    {
     "name": "stderr",
     "output_type": "stream",
     "text": [
      "28-Sep-24 00:40:27: Found population proton\n"
     ]
    },
    {
     "name": "stdout",
     "output_type": "stream",
     "text": [
      "variable ig_upmappednodecoords not sortable by Cell ID!\n"
     ]
    },
    {
     "name": "stderr",
     "output_type": "stream",
     "text": [
      "28-Sep-24 00:40:27: Found population proton\n"
     ]
    },
    {
     "name": "stdout",
     "output_type": "stream",
     "text": [
      "variable ig_upmappednodecoords not sortable by Cell ID!\n"
     ]
    },
    {
     "name": "stderr",
     "output_type": "stream",
     "text": [
      "28-Sep-24 00:40:27: Found population proton\n"
     ]
    },
    {
     "name": "stdout",
     "output_type": "stream",
     "text": [
      "variable ig_upmappednodecoords not sortable by Cell ID!\n"
     ]
    },
    {
     "name": "stderr",
     "output_type": "stream",
     "text": [
      "28-Sep-24 00:40:28: Found population proton\n"
     ]
    },
    {
     "name": "stdout",
     "output_type": "stream",
     "text": [
      "variable ig_upmappednodecoords not sortable by Cell ID!\n"
     ]
    },
    {
     "name": "stderr",
     "output_type": "stream",
     "text": [
      "28-Sep-24 00:40:28: Found population proton\n"
     ]
    },
    {
     "name": "stdout",
     "output_type": "stream",
     "text": [
      "variable ig_upmappednodecoords not sortable by Cell ID!\n"
     ]
    },
    {
     "name": "stderr",
     "output_type": "stream",
     "text": [
      "28-Sep-24 00:40:29: Found population proton\n"
     ]
    },
    {
     "name": "stdout",
     "output_type": "stream",
     "text": [
      "variable ig_upmappednodecoords not sortable by Cell ID!\n"
     ]
    },
    {
     "name": "stderr",
     "output_type": "stream",
     "text": [
      "28-Sep-24 00:40:29: Found population proton\n"
     ]
    },
    {
     "name": "stdout",
     "output_type": "stream",
     "text": [
      "variable ig_upmappednodecoords not sortable by Cell ID!\n"
     ]
    },
    {
     "name": "stderr",
     "output_type": "stream",
     "text": [
      "28-Sep-24 00:40:30: Found population proton\n"
     ]
    },
    {
     "name": "stdout",
     "output_type": "stream",
     "text": [
      "variable ig_upmappednodecoords not sortable by Cell ID!\n"
     ]
    },
    {
     "name": "stderr",
     "output_type": "stream",
     "text": [
      "28-Sep-24 00:40:30: Found population proton\n"
     ]
    },
    {
     "name": "stdout",
     "output_type": "stream",
     "text": [
      "variable ig_upmappednodecoords not sortable by Cell ID!\n"
     ]
    },
    {
     "name": "stderr",
     "output_type": "stream",
     "text": [
      "28-Sep-24 00:40:30: Found population proton\n"
     ]
    },
    {
     "name": "stdout",
     "output_type": "stream",
     "text": [
      "variable ig_upmappednodecoords not sortable by Cell ID!\n"
     ]
    },
    {
     "name": "stderr",
     "output_type": "stream",
     "text": [
      "28-Sep-24 00:40:31: Found population proton\n"
     ]
    },
    {
     "name": "stdout",
     "output_type": "stream",
     "text": [
      "variable ig_upmappednodecoords not sortable by Cell ID!\n"
     ]
    },
    {
     "name": "stderr",
     "output_type": "stream",
     "text": [
      "28-Sep-24 00:40:31: Found population proton\n"
     ]
    },
    {
     "name": "stdout",
     "output_type": "stream",
     "text": [
      "variable ig_upmappednodecoords not sortable by Cell ID!\n"
     ]
    },
    {
     "name": "stderr",
     "output_type": "stream",
     "text": [
      "28-Sep-24 00:40:32: Found population proton\n"
     ]
    },
    {
     "name": "stdout",
     "output_type": "stream",
     "text": [
      "variable ig_upmappednodecoords not sortable by Cell ID!\n"
     ]
    },
    {
     "name": "stderr",
     "output_type": "stream",
     "text": [
      "28-Sep-24 00:40:32: Found population proton\n"
     ]
    },
    {
     "name": "stdout",
     "output_type": "stream",
     "text": [
      "variable ig_upmappednodecoords not sortable by Cell ID!\n"
     ]
    },
    {
     "name": "stderr",
     "output_type": "stream",
     "text": [
      "28-Sep-24 00:40:32: Found population proton\n"
     ]
    },
    {
     "name": "stdout",
     "output_type": "stream",
     "text": [
      "variable ig_upmappednodecoords not sortable by Cell ID!\n"
     ]
    },
    {
     "name": "stderr",
     "output_type": "stream",
     "text": [
      "28-Sep-24 00:40:33: Found population proton\n"
     ]
    },
    {
     "name": "stdout",
     "output_type": "stream",
     "text": [
      "variable ig_upmappednodecoords not sortable by Cell ID!\n"
     ]
    },
    {
     "name": "stderr",
     "output_type": "stream",
     "text": [
      "28-Sep-24 00:40:33: Found population proton\n"
     ]
    },
    {
     "name": "stdout",
     "output_type": "stream",
     "text": [
      "variable ig_upmappednodecoords not sortable by Cell ID!\n"
     ]
    },
    {
     "name": "stderr",
     "output_type": "stream",
     "text": [
      "28-Sep-24 00:40:34: Found population proton\n"
     ]
    },
    {
     "name": "stdout",
     "output_type": "stream",
     "text": [
      "variable ig_upmappednodecoords not sortable by Cell ID!\n"
     ]
    },
    {
     "name": "stderr",
     "output_type": "stream",
     "text": [
      "28-Sep-24 00:40:34: Found population proton\n"
     ]
    },
    {
     "name": "stdout",
     "output_type": "stream",
     "text": [
      "variable ig_upmappednodecoords not sortable by Cell ID!\n"
     ]
    },
    {
     "name": "stderr",
     "output_type": "stream",
     "text": [
      "28-Sep-24 00:40:34: Found population proton\n"
     ]
    },
    {
     "name": "stdout",
     "output_type": "stream",
     "text": [
      "variable ig_upmappednodecoords not sortable by Cell ID!\n"
     ]
    },
    {
     "name": "stderr",
     "output_type": "stream",
     "text": [
      "28-Sep-24 00:40:35: Found population proton\n"
     ]
    },
    {
     "name": "stdout",
     "output_type": "stream",
     "text": [
      "variable ig_upmappednodecoords not sortable by Cell ID!\n"
     ]
    },
    {
     "name": "stderr",
     "output_type": "stream",
     "text": [
      "28-Sep-24 00:40:35: Found population proton\n"
     ]
    },
    {
     "name": "stdout",
     "output_type": "stream",
     "text": [
      "variable ig_upmappednodecoords not sortable by Cell ID!\n"
     ]
    },
    {
     "name": "stderr",
     "output_type": "stream",
     "text": [
      "28-Sep-24 00:40:36: Found population proton\n"
     ]
    },
    {
     "name": "stdout",
     "output_type": "stream",
     "text": [
      "variable ig_upmappednodecoords not sortable by Cell ID!\n"
     ]
    },
    {
     "name": "stderr",
     "output_type": "stream",
     "text": [
      "28-Sep-24 00:40:36: Found population proton\n"
     ]
    },
    {
     "name": "stdout",
     "output_type": "stream",
     "text": [
      "variable ig_upmappednodecoords not sortable by Cell ID!\n"
     ]
    },
    {
     "name": "stderr",
     "output_type": "stream",
     "text": [
      "28-Sep-24 00:40:36: Found population proton\n"
     ]
    },
    {
     "name": "stdout",
     "output_type": "stream",
     "text": [
      "variable ig_upmappednodecoords not sortable by Cell ID!\n"
     ]
    },
    {
     "name": "stderr",
     "output_type": "stream",
     "text": [
      "28-Sep-24 00:40:37: Found population proton\n"
     ]
    },
    {
     "name": "stdout",
     "output_type": "stream",
     "text": [
      "variable ig_upmappednodecoords not sortable by Cell ID!\n"
     ]
    },
    {
     "name": "stderr",
     "output_type": "stream",
     "text": [
      "28-Sep-24 00:40:37: Found population proton\n"
     ]
    },
    {
     "name": "stdout",
     "output_type": "stream",
     "text": [
      "variable ig_upmappednodecoords not sortable by Cell ID!\n"
     ]
    },
    {
     "name": "stderr",
     "output_type": "stream",
     "text": [
      "28-Sep-24 00:40:38: Found population proton\n"
     ]
    },
    {
     "name": "stdout",
     "output_type": "stream",
     "text": [
      "variable ig_upmappednodecoords not sortable by Cell ID!\n"
     ]
    },
    {
     "name": "stderr",
     "output_type": "stream",
     "text": [
      "28-Sep-24 00:40:38: Found population proton\n"
     ]
    },
    {
     "name": "stdout",
     "output_type": "stream",
     "text": [
      "variable ig_upmappednodecoords not sortable by Cell ID!\n"
     ]
    },
    {
     "name": "stderr",
     "output_type": "stream",
     "text": [
      "28-Sep-24 00:40:38: Found population proton\n"
     ]
    },
    {
     "name": "stdout",
     "output_type": "stream",
     "text": [
      "variable ig_upmappednodecoords not sortable by Cell ID!\n"
     ]
    },
    {
     "name": "stderr",
     "output_type": "stream",
     "text": [
      "28-Sep-24 00:40:39: Found population proton\n"
     ]
    },
    {
     "name": "stdout",
     "output_type": "stream",
     "text": [
      "variable ig_upmappednodecoords not sortable by Cell ID!\n"
     ]
    },
    {
     "name": "stderr",
     "output_type": "stream",
     "text": [
      "28-Sep-24 00:40:39: Found population proton\n"
     ]
    },
    {
     "name": "stdout",
     "output_type": "stream",
     "text": [
      "variable ig_upmappednodecoords not sortable by Cell ID!\n"
     ]
    },
    {
     "name": "stderr",
     "output_type": "stream",
     "text": [
      "28-Sep-24 00:40:39: Found population proton\n"
     ]
    },
    {
     "name": "stdout",
     "output_type": "stream",
     "text": [
      "variable ig_upmappednodecoords not sortable by Cell ID!\n"
     ]
    },
    {
     "name": "stderr",
     "output_type": "stream",
     "text": [
      "28-Sep-24 00:40:40: Found population proton\n"
     ]
    },
    {
     "name": "stdout",
     "output_type": "stream",
     "text": [
      "variable ig_upmappednodecoords not sortable by Cell ID!\n"
     ]
    },
    {
     "name": "stderr",
     "output_type": "stream",
     "text": [
      "28-Sep-24 00:40:40: Found population proton\n"
     ]
    },
    {
     "name": "stdout",
     "output_type": "stream",
     "text": [
      "variable ig_upmappednodecoords not sortable by Cell ID!\n"
     ]
    },
    {
     "name": "stderr",
     "output_type": "stream",
     "text": [
      "28-Sep-24 00:40:41: Found population proton\n"
     ]
    },
    {
     "name": "stdout",
     "output_type": "stream",
     "text": [
      "variable ig_upmappednodecoords not sortable by Cell ID!\n"
     ]
    },
    {
     "name": "stderr",
     "output_type": "stream",
     "text": [
      "28-Sep-24 00:40:41: Found population proton\n"
     ]
    },
    {
     "name": "stdout",
     "output_type": "stream",
     "text": [
      "variable ig_upmappednodecoords not sortable by Cell ID!\n"
     ]
    },
    {
     "name": "stderr",
     "output_type": "stream",
     "text": [
      "28-Sep-24 00:40:41: Found population proton\n"
     ]
    },
    {
     "name": "stdout",
     "output_type": "stream",
     "text": [
      "variable ig_upmappednodecoords not sortable by Cell ID!\n"
     ]
    },
    {
     "name": "stderr",
     "output_type": "stream",
     "text": [
      "28-Sep-24 00:40:42: Found population proton\n"
     ]
    },
    {
     "name": "stdout",
     "output_type": "stream",
     "text": [
      "variable ig_upmappednodecoords not sortable by Cell ID!\n"
     ]
    },
    {
     "name": "stderr",
     "output_type": "stream",
     "text": [
      "28-Sep-24 00:40:42: Found population proton\n"
     ]
    },
    {
     "name": "stdout",
     "output_type": "stream",
     "text": [
      "variable ig_upmappednodecoords not sortable by Cell ID!\n"
     ]
    },
    {
     "name": "stderr",
     "output_type": "stream",
     "text": [
      "28-Sep-24 00:40:43: Found population proton\n"
     ]
    },
    {
     "name": "stdout",
     "output_type": "stream",
     "text": [
      "variable ig_upmappednodecoords not sortable by Cell ID!\n"
     ]
    },
    {
     "name": "stderr",
     "output_type": "stream",
     "text": [
      "28-Sep-24 00:40:43: Found population proton\n"
     ]
    },
    {
     "name": "stdout",
     "output_type": "stream",
     "text": [
      "variable ig_upmappednodecoords not sortable by Cell ID!\n"
     ]
    },
    {
     "name": "stderr",
     "output_type": "stream",
     "text": [
      "28-Sep-24 00:40:47: Found population proton\n"
     ]
    },
    {
     "name": "stdout",
     "output_type": "stream",
     "text": [
      "variable ig_upmappednodecoords not sortable by Cell ID!\n"
     ]
    },
    {
     "name": "stderr",
     "output_type": "stream",
     "text": [
      "28-Sep-24 00:40:48: Found population proton\n"
     ]
    },
    {
     "name": "stdout",
     "output_type": "stream",
     "text": [
      "variable ig_upmappednodecoords not sortable by Cell ID!\n"
     ]
    },
    {
     "name": "stderr",
     "output_type": "stream",
     "text": [
      "28-Sep-24 00:40:48: Found population proton\n"
     ]
    },
    {
     "name": "stdout",
     "output_type": "stream",
     "text": [
      "variable ig_upmappednodecoords not sortable by Cell ID!\n"
     ]
    },
    {
     "name": "stderr",
     "output_type": "stream",
     "text": [
      "28-Sep-24 00:40:49: Found population proton\n"
     ]
    },
    {
     "name": "stdout",
     "output_type": "stream",
     "text": [
      "variable ig_upmappednodecoords not sortable by Cell ID!\n"
     ]
    },
    {
     "name": "stderr",
     "output_type": "stream",
     "text": [
      "28-Sep-24 00:40:49: Found population proton\n"
     ]
    },
    {
     "name": "stdout",
     "output_type": "stream",
     "text": [
      "variable ig_upmappednodecoords not sortable by Cell ID!\n"
     ]
    },
    {
     "name": "stderr",
     "output_type": "stream",
     "text": [
      "28-Sep-24 00:40:49: Found population proton\n"
     ]
    },
    {
     "name": "stdout",
     "output_type": "stream",
     "text": [
      "variable ig_upmappednodecoords not sortable by Cell ID!\n"
     ]
    },
    {
     "name": "stderr",
     "output_type": "stream",
     "text": [
      "28-Sep-24 00:40:50: Found population proton\n"
     ]
    },
    {
     "name": "stdout",
     "output_type": "stream",
     "text": [
      "variable ig_upmappednodecoords not sortable by Cell ID!\n"
     ]
    },
    {
     "name": "stderr",
     "output_type": "stream",
     "text": [
      "28-Sep-24 00:40:50: Found population proton\n"
     ]
    },
    {
     "name": "stdout",
     "output_type": "stream",
     "text": [
      "variable ig_upmappednodecoords not sortable by Cell ID!\n"
     ]
    },
    {
     "name": "stderr",
     "output_type": "stream",
     "text": [
      "28-Sep-24 00:40:50: Found population proton\n"
     ]
    },
    {
     "name": "stdout",
     "output_type": "stream",
     "text": [
      "variable ig_upmappednodecoords not sortable by Cell ID!\n"
     ]
    },
    {
     "name": "stderr",
     "output_type": "stream",
     "text": [
      "28-Sep-24 00:40:51: Found population proton\n"
     ]
    },
    {
     "name": "stdout",
     "output_type": "stream",
     "text": [
      "variable ig_upmappednodecoords not sortable by Cell ID!\n"
     ]
    },
    {
     "name": "stderr",
     "output_type": "stream",
     "text": [
      "28-Sep-24 00:40:51: Found population proton\n"
     ]
    },
    {
     "name": "stdout",
     "output_type": "stream",
     "text": [
      "variable ig_upmappednodecoords not sortable by Cell ID!\n"
     ]
    },
    {
     "name": "stderr",
     "output_type": "stream",
     "text": [
      "28-Sep-24 00:40:52: Found population proton\n"
     ]
    },
    {
     "name": "stdout",
     "output_type": "stream",
     "text": [
      "variable ig_upmappednodecoords not sortable by Cell ID!\n"
     ]
    },
    {
     "name": "stderr",
     "output_type": "stream",
     "text": [
      "28-Sep-24 00:40:52: Found population proton\n"
     ]
    },
    {
     "name": "stdout",
     "output_type": "stream",
     "text": [
      "variable ig_upmappednodecoords not sortable by Cell ID!\n"
     ]
    },
    {
     "name": "stderr",
     "output_type": "stream",
     "text": [
      "28-Sep-24 00:40:52: Found population proton\n"
     ]
    },
    {
     "name": "stdout",
     "output_type": "stream",
     "text": [
      "variable ig_upmappednodecoords not sortable by Cell ID!\n"
     ]
    },
    {
     "name": "stderr",
     "output_type": "stream",
     "text": [
      "28-Sep-24 00:40:53: Found population proton\n"
     ]
    },
    {
     "name": "stdout",
     "output_type": "stream",
     "text": [
      "variable ig_upmappednodecoords not sortable by Cell ID!\n"
     ]
    },
    {
     "name": "stderr",
     "output_type": "stream",
     "text": [
      "28-Sep-24 00:40:53: Found population proton\n"
     ]
    },
    {
     "name": "stdout",
     "output_type": "stream",
     "text": [
      "variable ig_upmappednodecoords not sortable by Cell ID!\n"
     ]
    },
    {
     "name": "stderr",
     "output_type": "stream",
     "text": [
      "28-Sep-24 00:40:53: Found population proton\n"
     ]
    },
    {
     "name": "stdout",
     "output_type": "stream",
     "text": [
      "variable ig_upmappednodecoords not sortable by Cell ID!\n"
     ]
    },
    {
     "name": "stderr",
     "output_type": "stream",
     "text": [
      "28-Sep-24 00:40:54: Found population proton\n"
     ]
    },
    {
     "name": "stdout",
     "output_type": "stream",
     "text": [
      "variable ig_upmappednodecoords not sortable by Cell ID!\n"
     ]
    },
    {
     "name": "stderr",
     "output_type": "stream",
     "text": [
      "28-Sep-24 00:40:56: Found population proton\n"
     ]
    },
    {
     "name": "stdout",
     "output_type": "stream",
     "text": [
      "variable ig_upmappednodecoords not sortable by Cell ID!\n"
     ]
    },
    {
     "name": "stderr",
     "output_type": "stream",
     "text": [
      "28-Sep-24 00:40:57: Found population proton\n"
     ]
    },
    {
     "name": "stdout",
     "output_type": "stream",
     "text": [
      "variable ig_upmappednodecoords not sortable by Cell ID!\n"
     ]
    },
    {
     "name": "stderr",
     "output_type": "stream",
     "text": [
      "28-Sep-24 00:40:57: Found population proton\n"
     ]
    },
    {
     "name": "stdout",
     "output_type": "stream",
     "text": [
      "variable ig_upmappednodecoords not sortable by Cell ID!\n"
     ]
    },
    {
     "name": "stderr",
     "output_type": "stream",
     "text": [
      "28-Sep-24 00:40:58: Found population proton\n"
     ]
    },
    {
     "name": "stdout",
     "output_type": "stream",
     "text": [
      "variable ig_upmappednodecoords not sortable by Cell ID!\n"
     ]
    },
    {
     "name": "stderr",
     "output_type": "stream",
     "text": [
      "28-Sep-24 00:40:58: Found population proton\n"
     ]
    },
    {
     "name": "stdout",
     "output_type": "stream",
     "text": [
      "variable ig_upmappednodecoords not sortable by Cell ID!\n"
     ]
    },
    {
     "name": "stderr",
     "output_type": "stream",
     "text": [
      "28-Sep-24 00:40:58: Found population proton\n"
     ]
    },
    {
     "name": "stdout",
     "output_type": "stream",
     "text": [
      "variable ig_upmappednodecoords not sortable by Cell ID!\n"
     ]
    },
    {
     "name": "stderr",
     "output_type": "stream",
     "text": [
      "28-Sep-24 00:40:59: Found population proton\n"
     ]
    },
    {
     "name": "stdout",
     "output_type": "stream",
     "text": [
      "variable ig_upmappednodecoords not sortable by Cell ID!\n"
     ]
    },
    {
     "name": "stderr",
     "output_type": "stream",
     "text": [
      "28-Sep-24 00:40:59: Found population proton\n"
     ]
    },
    {
     "name": "stdout",
     "output_type": "stream",
     "text": [
      "variable ig_upmappednodecoords not sortable by Cell ID!\n"
     ]
    },
    {
     "name": "stderr",
     "output_type": "stream",
     "text": [
      "28-Sep-24 00:40:59: Found population proton\n"
     ]
    },
    {
     "name": "stdout",
     "output_type": "stream",
     "text": [
      "variable ig_upmappednodecoords not sortable by Cell ID!\n"
     ]
    },
    {
     "name": "stderr",
     "output_type": "stream",
     "text": [
      "28-Sep-24 00:41:00: Found population proton\n"
     ]
    },
    {
     "name": "stdout",
     "output_type": "stream",
     "text": [
      "variable ig_upmappednodecoords not sortable by Cell ID!\n"
     ]
    },
    {
     "name": "stderr",
     "output_type": "stream",
     "text": [
      "28-Sep-24 00:41:00: Found population proton\n"
     ]
    },
    {
     "name": "stdout",
     "output_type": "stream",
     "text": [
      "variable ig_upmappednodecoords not sortable by Cell ID!\n"
     ]
    },
    {
     "name": "stderr",
     "output_type": "stream",
     "text": [
      "28-Sep-24 00:41:01: Found population proton\n"
     ]
    },
    {
     "name": "stdout",
     "output_type": "stream",
     "text": [
      "variable ig_upmappednodecoords not sortable by Cell ID!\n"
     ]
    },
    {
     "name": "stderr",
     "output_type": "stream",
     "text": [
      "28-Sep-24 00:41:01: Found population proton\n"
     ]
    },
    {
     "name": "stdout",
     "output_type": "stream",
     "text": [
      "variable ig_upmappednodecoords not sortable by Cell ID!\n"
     ]
    },
    {
     "name": "stderr",
     "output_type": "stream",
     "text": [
      "28-Sep-24 00:41:01: Found population proton\n"
     ]
    },
    {
     "name": "stdout",
     "output_type": "stream",
     "text": [
      "variable ig_upmappednodecoords not sortable by Cell ID!\n"
     ]
    },
    {
     "name": "stderr",
     "output_type": "stream",
     "text": [
      "28-Sep-24 00:41:02: Found population proton\n"
     ]
    },
    {
     "name": "stdout",
     "output_type": "stream",
     "text": [
      "variable ig_upmappednodecoords not sortable by Cell ID!\n"
     ]
    },
    {
     "name": "stderr",
     "output_type": "stream",
     "text": [
      "28-Sep-24 00:41:02: Found population proton\n"
     ]
    },
    {
     "name": "stdout",
     "output_type": "stream",
     "text": [
      "variable ig_upmappednodecoords not sortable by Cell ID!\n"
     ]
    },
    {
     "name": "stderr",
     "output_type": "stream",
     "text": [
      "28-Sep-24 00:41:02: Found population proton\n"
     ]
    },
    {
     "name": "stdout",
     "output_type": "stream",
     "text": [
      "variable ig_upmappednodecoords not sortable by Cell ID!\n"
     ]
    },
    {
     "name": "stderr",
     "output_type": "stream",
     "text": [
      "28-Sep-24 00:41:03: Found population proton\n"
     ]
    },
    {
     "name": "stdout",
     "output_type": "stream",
     "text": [
      "variable ig_upmappednodecoords not sortable by Cell ID!\n"
     ]
    },
    {
     "name": "stderr",
     "output_type": "stream",
     "text": [
      "28-Sep-24 00:41:03: Found population proton\n"
     ]
    },
    {
     "name": "stdout",
     "output_type": "stream",
     "text": [
      "variable ig_upmappednodecoords not sortable by Cell ID!\n"
     ]
    },
    {
     "name": "stderr",
     "output_type": "stream",
     "text": [
      "28-Sep-24 00:41:03: Found population proton\n"
     ]
    },
    {
     "name": "stdout",
     "output_type": "stream",
     "text": [
      "variable ig_upmappednodecoords not sortable by Cell ID!\n"
     ]
    },
    {
     "name": "stderr",
     "output_type": "stream",
     "text": [
      "28-Sep-24 00:41:04: Found population proton\n"
     ]
    },
    {
     "name": "stdout",
     "output_type": "stream",
     "text": [
      "variable ig_upmappednodecoords not sortable by Cell ID!\n"
     ]
    },
    {
     "name": "stderr",
     "output_type": "stream",
     "text": [
      "28-Sep-24 00:41:04: Found population proton\n"
     ]
    },
    {
     "name": "stdout",
     "output_type": "stream",
     "text": [
      "variable ig_upmappednodecoords not sortable by Cell ID!\n"
     ]
    },
    {
     "name": "stderr",
     "output_type": "stream",
     "text": [
      "28-Sep-24 00:41:05: Found population proton\n"
     ]
    },
    {
     "name": "stdout",
     "output_type": "stream",
     "text": [
      "variable ig_upmappednodecoords not sortable by Cell ID!\n"
     ]
    },
    {
     "name": "stderr",
     "output_type": "stream",
     "text": [
      "28-Sep-24 00:41:05: Found population proton\n"
     ]
    },
    {
     "name": "stdout",
     "output_type": "stream",
     "text": [
      "variable ig_upmappednodecoords not sortable by Cell ID!\n"
     ]
    },
    {
     "name": "stderr",
     "output_type": "stream",
     "text": [
      "28-Sep-24 00:41:05: Found population proton\n"
     ]
    },
    {
     "name": "stdout",
     "output_type": "stream",
     "text": [
      "variable ig_upmappednodecoords not sortable by Cell ID!\n"
     ]
    },
    {
     "name": "stderr",
     "output_type": "stream",
     "text": [
      "28-Sep-24 00:41:06: Found population proton\n"
     ]
    },
    {
     "name": "stdout",
     "output_type": "stream",
     "text": [
      "variable ig_upmappednodecoords not sortable by Cell ID!\n"
     ]
    },
    {
     "name": "stderr",
     "output_type": "stream",
     "text": [
      "28-Sep-24 00:41:06: Found population proton\n"
     ]
    },
    {
     "name": "stdout",
     "output_type": "stream",
     "text": [
      "variable ig_upmappednodecoords not sortable by Cell ID!\n"
     ]
    },
    {
     "name": "stderr",
     "output_type": "stream",
     "text": [
      "28-Sep-24 00:41:07: Found population proton\n"
     ]
    },
    {
     "name": "stdout",
     "output_type": "stream",
     "text": [
      "variable ig_upmappednodecoords not sortable by Cell ID!\n"
     ]
    },
    {
     "name": "stderr",
     "output_type": "stream",
     "text": [
      "28-Sep-24 00:41:07: Found population proton\n"
     ]
    },
    {
     "name": "stdout",
     "output_type": "stream",
     "text": [
      "variable ig_upmappednodecoords not sortable by Cell ID!\n"
     ]
    },
    {
     "name": "stderr",
     "output_type": "stream",
     "text": [
      "28-Sep-24 00:41:07: Found population proton\n"
     ]
    },
    {
     "name": "stdout",
     "output_type": "stream",
     "text": [
      "variable ig_upmappednodecoords not sortable by Cell ID!\n"
     ]
    },
    {
     "name": "stderr",
     "output_type": "stream",
     "text": [
      "28-Sep-24 00:41:11: Found population proton\n"
     ]
    },
    {
     "name": "stdout",
     "output_type": "stream",
     "text": [
      "variable ig_upmappednodecoords not sortable by Cell ID!\n"
     ]
    },
    {
     "name": "stderr",
     "output_type": "stream",
     "text": [
      "28-Sep-24 00:41:12: Found population proton\n"
     ]
    },
    {
     "name": "stdout",
     "output_type": "stream",
     "text": [
      "variable ig_upmappednodecoords not sortable by Cell ID!\n"
     ]
    },
    {
     "name": "stderr",
     "output_type": "stream",
     "text": [
      "28-Sep-24 00:41:12: Found population proton\n"
     ]
    },
    {
     "name": "stdout",
     "output_type": "stream",
     "text": [
      "variable ig_upmappednodecoords not sortable by Cell ID!\n"
     ]
    },
    {
     "name": "stderr",
     "output_type": "stream",
     "text": [
      "28-Sep-24 00:41:13: Found population proton\n"
     ]
    },
    {
     "name": "stdout",
     "output_type": "stream",
     "text": [
      "variable ig_upmappednodecoords not sortable by Cell ID!\n"
     ]
    },
    {
     "name": "stderr",
     "output_type": "stream",
     "text": [
      "28-Sep-24 00:41:13: Found population proton\n"
     ]
    },
    {
     "name": "stdout",
     "output_type": "stream",
     "text": [
      "variable ig_upmappednodecoords not sortable by Cell ID!\n"
     ]
    },
    {
     "name": "stderr",
     "output_type": "stream",
     "text": [
      "28-Sep-24 00:41:13: Found population proton\n"
     ]
    },
    {
     "name": "stdout",
     "output_type": "stream",
     "text": [
      "variable ig_upmappednodecoords not sortable by Cell ID!\n"
     ]
    },
    {
     "name": "stderr",
     "output_type": "stream",
     "text": [
      "28-Sep-24 00:41:14: Found population proton\n"
     ]
    },
    {
     "name": "stdout",
     "output_type": "stream",
     "text": [
      "variable ig_upmappednodecoords not sortable by Cell ID!\n"
     ]
    },
    {
     "name": "stderr",
     "output_type": "stream",
     "text": [
      "28-Sep-24 00:41:14: Found population proton\n"
     ]
    },
    {
     "name": "stdout",
     "output_type": "stream",
     "text": [
      "variable ig_upmappednodecoords not sortable by Cell ID!\n"
     ]
    },
    {
     "name": "stderr",
     "output_type": "stream",
     "text": [
      "28-Sep-24 00:41:15: Found population proton\n"
     ]
    },
    {
     "name": "stdout",
     "output_type": "stream",
     "text": [
      "variable ig_upmappednodecoords not sortable by Cell ID!\n"
     ]
    },
    {
     "name": "stderr",
     "output_type": "stream",
     "text": [
      "28-Sep-24 00:41:15: Found population proton\n"
     ]
    },
    {
     "name": "stdout",
     "output_type": "stream",
     "text": [
      "variable ig_upmappednodecoords not sortable by Cell ID!\n"
     ]
    },
    {
     "name": "stderr",
     "output_type": "stream",
     "text": [
      "28-Sep-24 00:41:15: Found population proton\n"
     ]
    },
    {
     "name": "stdout",
     "output_type": "stream",
     "text": [
      "variable ig_upmappednodecoords not sortable by Cell ID!\n"
     ]
    },
    {
     "name": "stderr",
     "output_type": "stream",
     "text": [
      "28-Sep-24 00:41:16: Found population proton\n"
     ]
    },
    {
     "name": "stdout",
     "output_type": "stream",
     "text": [
      "variable ig_upmappednodecoords not sortable by Cell ID!\n"
     ]
    },
    {
     "name": "stderr",
     "output_type": "stream",
     "text": [
      "28-Sep-24 00:41:16: Found population proton\n"
     ]
    },
    {
     "name": "stdout",
     "output_type": "stream",
     "text": [
      "variable ig_upmappednodecoords not sortable by Cell ID!\n"
     ]
    },
    {
     "name": "stderr",
     "output_type": "stream",
     "text": [
      "28-Sep-24 00:41:17: Found population proton\n"
     ]
    },
    {
     "name": "stdout",
     "output_type": "stream",
     "text": [
      "variable ig_upmappednodecoords not sortable by Cell ID!\n"
     ]
    },
    {
     "name": "stderr",
     "output_type": "stream",
     "text": [
      "28-Sep-24 00:41:17: Found population proton\n"
     ]
    },
    {
     "name": "stdout",
     "output_type": "stream",
     "text": [
      "variable ig_upmappednodecoords not sortable by Cell ID!\n"
     ]
    },
    {
     "name": "stderr",
     "output_type": "stream",
     "text": [
      "28-Sep-24 00:41:17: Found population proton\n"
     ]
    },
    {
     "name": "stdout",
     "output_type": "stream",
     "text": [
      "variable ig_upmappednodecoords not sortable by Cell ID!\n"
     ]
    },
    {
     "name": "stderr",
     "output_type": "stream",
     "text": [
      "28-Sep-24 00:41:18: Found population proton\n"
     ]
    },
    {
     "name": "stdout",
     "output_type": "stream",
     "text": [
      "variable ig_upmappednodecoords not sortable by Cell ID!\n"
     ]
    },
    {
     "name": "stderr",
     "output_type": "stream",
     "text": [
      "28-Sep-24 00:41:18: Found population proton\n"
     ]
    },
    {
     "name": "stdout",
     "output_type": "stream",
     "text": [
      "variable ig_upmappednodecoords not sortable by Cell ID!\n"
     ]
    },
    {
     "name": "stderr",
     "output_type": "stream",
     "text": [
      "28-Sep-24 00:41:18: Found population proton\n"
     ]
    },
    {
     "name": "stdout",
     "output_type": "stream",
     "text": [
      "variable ig_upmappednodecoords not sortable by Cell ID!\n"
     ]
    },
    {
     "name": "stderr",
     "output_type": "stream",
     "text": [
      "28-Sep-24 00:41:19: Found population proton\n"
     ]
    },
    {
     "name": "stdout",
     "output_type": "stream",
     "text": [
      "variable ig_upmappednodecoords not sortable by Cell ID!\n"
     ]
    },
    {
     "name": "stderr",
     "output_type": "stream",
     "text": [
      "28-Sep-24 00:41:19: Found population proton\n"
     ]
    },
    {
     "name": "stdout",
     "output_type": "stream",
     "text": [
      "variable ig_upmappednodecoords not sortable by Cell ID!\n"
     ]
    },
    {
     "name": "stderr",
     "output_type": "stream",
     "text": [
      "28-Sep-24 00:41:20: Found population proton\n"
     ]
    },
    {
     "name": "stdout",
     "output_type": "stream",
     "text": [
      "variable ig_upmappednodecoords not sortable by Cell ID!\n"
     ]
    },
    {
     "name": "stderr",
     "output_type": "stream",
     "text": [
      "28-Sep-24 00:41:20: Found population proton\n"
     ]
    },
    {
     "name": "stdout",
     "output_type": "stream",
     "text": [
      "variable ig_upmappednodecoords not sortable by Cell ID!\n"
     ]
    },
    {
     "name": "stderr",
     "output_type": "stream",
     "text": [
      "28-Sep-24 00:41:20: Found population proton\n"
     ]
    },
    {
     "name": "stdout",
     "output_type": "stream",
     "text": [
      "variable ig_upmappednodecoords not sortable by Cell ID!\n"
     ]
    },
    {
     "name": "stderr",
     "output_type": "stream",
     "text": [
      "28-Sep-24 00:41:21: Found population proton\n"
     ]
    },
    {
     "name": "stdout",
     "output_type": "stream",
     "text": [
      "variable ig_upmappednodecoords not sortable by Cell ID!\n"
     ]
    },
    {
     "name": "stderr",
     "output_type": "stream",
     "text": [
      "28-Sep-24 00:41:21: Found population proton\n"
     ]
    },
    {
     "name": "stdout",
     "output_type": "stream",
     "text": [
      "variable ig_upmappednodecoords not sortable by Cell ID!\n"
     ]
    },
    {
     "name": "stderr",
     "output_type": "stream",
     "text": [
      "28-Sep-24 00:41:21: Found population proton\n"
     ]
    },
    {
     "name": "stdout",
     "output_type": "stream",
     "text": [
      "variable ig_upmappednodecoords not sortable by Cell ID!\n"
     ]
    },
    {
     "name": "stderr",
     "output_type": "stream",
     "text": [
      "28-Sep-24 00:41:22: Found population proton\n"
     ]
    },
    {
     "name": "stdout",
     "output_type": "stream",
     "text": [
      "variable ig_upmappednodecoords not sortable by Cell ID!\n"
     ]
    },
    {
     "name": "stderr",
     "output_type": "stream",
     "text": [
      "28-Sep-24 00:41:22: Found population proton\n"
     ]
    },
    {
     "name": "stdout",
     "output_type": "stream",
     "text": [
      "variable ig_upmappednodecoords not sortable by Cell ID!\n"
     ]
    },
    {
     "name": "stderr",
     "output_type": "stream",
     "text": [
      "28-Sep-24 00:41:22: Found population proton\n"
     ]
    },
    {
     "name": "stdout",
     "output_type": "stream",
     "text": [
      "variable ig_upmappednodecoords not sortable by Cell ID!\n"
     ]
    },
    {
     "name": "stderr",
     "output_type": "stream",
     "text": [
      "28-Sep-24 00:41:23: Found population proton\n"
     ]
    },
    {
     "name": "stdout",
     "output_type": "stream",
     "text": [
      "variable ig_upmappednodecoords not sortable by Cell ID!\n"
     ]
    },
    {
     "name": "stderr",
     "output_type": "stream",
     "text": [
      "28-Sep-24 00:41:23: Found population proton\n"
     ]
    },
    {
     "name": "stdout",
     "output_type": "stream",
     "text": [
      "variable ig_upmappednodecoords not sortable by Cell ID!\n"
     ]
    },
    {
     "name": "stderr",
     "output_type": "stream",
     "text": [
      "28-Sep-24 00:41:24: Found population proton\n"
     ]
    },
    {
     "name": "stdout",
     "output_type": "stream",
     "text": [
      "variable ig_upmappednodecoords not sortable by Cell ID!\n"
     ]
    },
    {
     "name": "stderr",
     "output_type": "stream",
     "text": [
      "28-Sep-24 00:41:24: Found population proton\n"
     ]
    },
    {
     "name": "stdout",
     "output_type": "stream",
     "text": [
      "variable ig_upmappednodecoords not sortable by Cell ID!\n"
     ]
    },
    {
     "name": "stderr",
     "output_type": "stream",
     "text": [
      "28-Sep-24 00:41:24: Found population proton\n"
     ]
    },
    {
     "name": "stdout",
     "output_type": "stream",
     "text": [
      "variable ig_upmappednodecoords not sortable by Cell ID!\n"
     ]
    },
    {
     "name": "stderr",
     "output_type": "stream",
     "text": [
      "28-Sep-24 00:41:25: Found population proton\n"
     ]
    },
    {
     "name": "stdout",
     "output_type": "stream",
     "text": [
      "variable ig_upmappednodecoords not sortable by Cell ID!\n"
     ]
    },
    {
     "name": "stderr",
     "output_type": "stream",
     "text": [
      "28-Sep-24 00:41:25: Found population proton\n"
     ]
    },
    {
     "name": "stdout",
     "output_type": "stream",
     "text": [
      "variable ig_upmappednodecoords not sortable by Cell ID!\n"
     ]
    },
    {
     "name": "stderr",
     "output_type": "stream",
     "text": [
      "28-Sep-24 00:41:25: Found population proton\n"
     ]
    },
    {
     "name": "stdout",
     "output_type": "stream",
     "text": [
      "variable ig_upmappednodecoords not sortable by Cell ID!\n"
     ]
    },
    {
     "name": "stderr",
     "output_type": "stream",
     "text": [
      "28-Sep-24 00:41:26: Found population proton\n"
     ]
    },
    {
     "name": "stdout",
     "output_type": "stream",
     "text": [
      "variable ig_upmappednodecoords not sortable by Cell ID!\n"
     ]
    },
    {
     "name": "stderr",
     "output_type": "stream",
     "text": [
      "28-Sep-24 00:41:26: Found population proton\n"
     ]
    },
    {
     "name": "stdout",
     "output_type": "stream",
     "text": [
      "variable ig_upmappednodecoords not sortable by Cell ID!\n"
     ]
    },
    {
     "name": "stderr",
     "output_type": "stream",
     "text": [
      "28-Sep-24 00:41:26: Found population proton\n"
     ]
    },
    {
     "name": "stdout",
     "output_type": "stream",
     "text": [
      "variable ig_upmappednodecoords not sortable by Cell ID!\n"
     ]
    },
    {
     "name": "stderr",
     "output_type": "stream",
     "text": [
      "28-Sep-24 00:41:27: Found population proton\n"
     ]
    },
    {
     "name": "stdout",
     "output_type": "stream",
     "text": [
      "variable ig_upmappednodecoords not sortable by Cell ID!\n"
     ]
    },
    {
     "name": "stderr",
     "output_type": "stream",
     "text": [
      "28-Sep-24 00:41:27: Found population proton\n"
     ]
    },
    {
     "name": "stdout",
     "output_type": "stream",
     "text": [
      "variable ig_upmappednodecoords not sortable by Cell ID!\n"
     ]
    },
    {
     "name": "stderr",
     "output_type": "stream",
     "text": [
      "28-Sep-24 00:41:28: Found population proton\n"
     ]
    },
    {
     "name": "stdout",
     "output_type": "stream",
     "text": [
      "variable ig_upmappednodecoords not sortable by Cell ID!\n"
     ]
    },
    {
     "name": "stderr",
     "output_type": "stream",
     "text": [
      "28-Sep-24 00:41:28: Found population proton\n"
     ]
    },
    {
     "name": "stdout",
     "output_type": "stream",
     "text": [
      "variable ig_upmappednodecoords not sortable by Cell ID!\n"
     ]
    },
    {
     "name": "stderr",
     "output_type": "stream",
     "text": [
      "28-Sep-24 00:41:28: Found population proton\n"
     ]
    },
    {
     "name": "stdout",
     "output_type": "stream",
     "text": [
      "variable ig_upmappednodecoords not sortable by Cell ID!\n"
     ]
    },
    {
     "name": "stderr",
     "output_type": "stream",
     "text": [
      "28-Sep-24 00:41:29: Found population proton\n"
     ]
    },
    {
     "name": "stdout",
     "output_type": "stream",
     "text": [
      "variable ig_upmappednodecoords not sortable by Cell ID!\n"
     ]
    },
    {
     "name": "stderr",
     "output_type": "stream",
     "text": [
      "28-Sep-24 00:41:29: Found population proton\n"
     ]
    },
    {
     "name": "stdout",
     "output_type": "stream",
     "text": [
      "variable ig_upmappednodecoords not sortable by Cell ID!\n"
     ]
    },
    {
     "name": "stderr",
     "output_type": "stream",
     "text": [
      "28-Sep-24 00:41:29: Found population proton\n"
     ]
    },
    {
     "name": "stdout",
     "output_type": "stream",
     "text": [
      "variable ig_upmappednodecoords not sortable by Cell ID!\n"
     ]
    },
    {
     "name": "stderr",
     "output_type": "stream",
     "text": [
      "28-Sep-24 00:41:30: Found population proton\n"
     ]
    },
    {
     "name": "stdout",
     "output_type": "stream",
     "text": [
      "variable ig_upmappednodecoords not sortable by Cell ID!\n"
     ]
    },
    {
     "name": "stderr",
     "output_type": "stream",
     "text": [
      "28-Sep-24 00:41:30: Found population proton\n"
     ]
    },
    {
     "name": "stdout",
     "output_type": "stream",
     "text": [
      "variable ig_upmappednodecoords not sortable by Cell ID!\n"
     ]
    },
    {
     "name": "stderr",
     "output_type": "stream",
     "text": [
      "28-Sep-24 00:41:30: Found population proton\n"
     ]
    },
    {
     "name": "stdout",
     "output_type": "stream",
     "text": [
      "variable ig_upmappednodecoords not sortable by Cell ID!\n"
     ]
    },
    {
     "name": "stderr",
     "output_type": "stream",
     "text": [
      "28-Sep-24 00:41:31: Found population proton\n"
     ]
    },
    {
     "name": "stdout",
     "output_type": "stream",
     "text": [
      "variable ig_upmappednodecoords not sortable by Cell ID!\n"
     ]
    },
    {
     "name": "stderr",
     "output_type": "stream",
     "text": [
      "28-Sep-24 00:41:31: Found population proton\n"
     ]
    },
    {
     "name": "stdout",
     "output_type": "stream",
     "text": [
      "variable ig_upmappednodecoords not sortable by Cell ID!\n"
     ]
    },
    {
     "name": "stderr",
     "output_type": "stream",
     "text": [
      "28-Sep-24 00:41:31: Found population proton\n"
     ]
    },
    {
     "name": "stdout",
     "output_type": "stream",
     "text": [
      "variable ig_upmappednodecoords not sortable by Cell ID!\n"
     ]
    },
    {
     "name": "stderr",
     "output_type": "stream",
     "text": [
      "28-Sep-24 00:41:32: Found population proton\n"
     ]
    },
    {
     "name": "stdout",
     "output_type": "stream",
     "text": [
      "variable ig_upmappednodecoords not sortable by Cell ID!\n"
     ]
    },
    {
     "name": "stderr",
     "output_type": "stream",
     "text": [
      "28-Sep-24 00:41:32: Found population proton\n"
     ]
    },
    {
     "name": "stdout",
     "output_type": "stream",
     "text": [
      "variable ig_upmappednodecoords not sortable by Cell ID!\n"
     ]
    },
    {
     "name": "stderr",
     "output_type": "stream",
     "text": [
      "28-Sep-24 00:41:32: Found population proton\n"
     ]
    },
    {
     "name": "stdout",
     "output_type": "stream",
     "text": [
      "variable ig_upmappednodecoords not sortable by Cell ID!\n"
     ]
    },
    {
     "name": "stderr",
     "output_type": "stream",
     "text": [
      "28-Sep-24 00:41:33: Found population proton\n"
     ]
    },
    {
     "name": "stdout",
     "output_type": "stream",
     "text": [
      "variable ig_upmappednodecoords not sortable by Cell ID!\n"
     ]
    },
    {
     "name": "stderr",
     "output_type": "stream",
     "text": [
      "28-Sep-24 00:41:33: Found population proton\n"
     ]
    },
    {
     "name": "stdout",
     "output_type": "stream",
     "text": [
      "variable ig_upmappednodecoords not sortable by Cell ID!\n"
     ]
    },
    {
     "name": "stderr",
     "output_type": "stream",
     "text": [
      "28-Sep-24 00:41:34: Found population proton\n"
     ]
    },
    {
     "name": "stdout",
     "output_type": "stream",
     "text": [
      "variable ig_upmappednodecoords not sortable by Cell ID!\n"
     ]
    },
    {
     "name": "stderr",
     "output_type": "stream",
     "text": [
      "28-Sep-24 00:41:34: Found population proton\n"
     ]
    },
    {
     "name": "stdout",
     "output_type": "stream",
     "text": [
      "variable ig_upmappednodecoords not sortable by Cell ID!\n"
     ]
    },
    {
     "name": "stderr",
     "output_type": "stream",
     "text": [
      "28-Sep-24 00:41:34: Found population proton\n"
     ]
    },
    {
     "name": "stdout",
     "output_type": "stream",
     "text": [
      "variable ig_upmappednodecoords not sortable by Cell ID!\n"
     ]
    },
    {
     "name": "stderr",
     "output_type": "stream",
     "text": [
      "28-Sep-24 00:41:35: Found population proton\n"
     ]
    },
    {
     "name": "stdout",
     "output_type": "stream",
     "text": [
      "variable ig_upmappednodecoords not sortable by Cell ID!\n"
     ]
    },
    {
     "name": "stderr",
     "output_type": "stream",
     "text": [
      "28-Sep-24 00:41:35: Found population proton\n"
     ]
    },
    {
     "name": "stdout",
     "output_type": "stream",
     "text": [
      "variable ig_upmappednodecoords not sortable by Cell ID!\n"
     ]
    },
    {
     "name": "stderr",
     "output_type": "stream",
     "text": [
      "28-Sep-24 00:41:36: Found population proton\n"
     ]
    },
    {
     "name": "stdout",
     "output_type": "stream",
     "text": [
      "variable ig_upmappednodecoords not sortable by Cell ID!\n"
     ]
    },
    {
     "name": "stderr",
     "output_type": "stream",
     "text": [
      "28-Sep-24 00:41:36: Found population proton\n"
     ]
    },
    {
     "name": "stdout",
     "output_type": "stream",
     "text": [
      "variable ig_upmappednodecoords not sortable by Cell ID!\n"
     ]
    },
    {
     "name": "stderr",
     "output_type": "stream",
     "text": [
      "28-Sep-24 00:41:36: Found population proton\n"
     ]
    },
    {
     "name": "stdout",
     "output_type": "stream",
     "text": [
      "variable ig_upmappednodecoords not sortable by Cell ID!\n"
     ]
    },
    {
     "name": "stderr",
     "output_type": "stream",
     "text": [
      "28-Sep-24 00:41:36: Found population proton\n"
     ]
    },
    {
     "name": "stdout",
     "output_type": "stream",
     "text": [
      "variable ig_upmappednodecoords not sortable by Cell ID!\n"
     ]
    },
    {
     "name": "stderr",
     "output_type": "stream",
     "text": [
      "28-Sep-24 00:41:37: Found population proton\n"
     ]
    },
    {
     "name": "stdout",
     "output_type": "stream",
     "text": [
      "variable ig_upmappednodecoords not sortable by Cell ID!\n"
     ]
    },
    {
     "name": "stderr",
     "output_type": "stream",
     "text": [
      "28-Sep-24 00:41:37: Found population proton\n"
     ]
    },
    {
     "name": "stdout",
     "output_type": "stream",
     "text": [
      "variable ig_upmappednodecoords not sortable by Cell ID!\n"
     ]
    },
    {
     "name": "stderr",
     "output_type": "stream",
     "text": [
      "28-Sep-24 00:41:38: Found population proton\n"
     ]
    },
    {
     "name": "stdout",
     "output_type": "stream",
     "text": [
      "variable ig_upmappednodecoords not sortable by Cell ID!\n"
     ]
    },
    {
     "name": "stderr",
     "output_type": "stream",
     "text": [
      "28-Sep-24 00:41:38: Found population proton\n"
     ]
    },
    {
     "name": "stdout",
     "output_type": "stream",
     "text": [
      "variable ig_upmappednodecoords not sortable by Cell ID!\n"
     ]
    },
    {
     "name": "stderr",
     "output_type": "stream",
     "text": [
      "28-Sep-24 00:41:38: Found population proton\n"
     ]
    },
    {
     "name": "stdout",
     "output_type": "stream",
     "text": [
      "variable ig_upmappednodecoords not sortable by Cell ID!\n"
     ]
    },
    {
     "name": "stderr",
     "output_type": "stream",
     "text": [
      "28-Sep-24 00:41:39: Found population proton\n"
     ]
    },
    {
     "name": "stdout",
     "output_type": "stream",
     "text": [
      "variable ig_upmappednodecoords not sortable by Cell ID!\n"
     ]
    },
    {
     "name": "stderr",
     "output_type": "stream",
     "text": [
      "28-Sep-24 00:41:39: Found population proton\n"
     ]
    },
    {
     "name": "stdout",
     "output_type": "stream",
     "text": [
      "variable ig_upmappednodecoords not sortable by Cell ID!\n"
     ]
    },
    {
     "name": "stderr",
     "output_type": "stream",
     "text": [
      "28-Sep-24 00:41:39: Found population proton\n"
     ]
    },
    {
     "name": "stdout",
     "output_type": "stream",
     "text": [
      "variable ig_upmappednodecoords not sortable by Cell ID!\n"
     ]
    },
    {
     "name": "stderr",
     "output_type": "stream",
     "text": [
      "28-Sep-24 00:41:40: Found population proton\n"
     ]
    },
    {
     "name": "stdout",
     "output_type": "stream",
     "text": [
      "variable ig_upmappednodecoords not sortable by Cell ID!\n"
     ]
    },
    {
     "name": "stderr",
     "output_type": "stream",
     "text": [
      "28-Sep-24 00:41:40: Found population proton\n"
     ]
    },
    {
     "name": "stdout",
     "output_type": "stream",
     "text": [
      "variable ig_upmappednodecoords not sortable by Cell ID!\n"
     ]
    },
    {
     "name": "stderr",
     "output_type": "stream",
     "text": [
      "28-Sep-24 00:41:40: Found population proton\n"
     ]
    },
    {
     "name": "stdout",
     "output_type": "stream",
     "text": [
      "variable ig_upmappednodecoords not sortable by Cell ID!\n"
     ]
    },
    {
     "name": "stderr",
     "output_type": "stream",
     "text": [
      "28-Sep-24 00:41:41: Found population proton\n"
     ]
    },
    {
     "name": "stdout",
     "output_type": "stream",
     "text": [
      "variable ig_upmappednodecoords not sortable by Cell ID!\n"
     ]
    },
    {
     "name": "stderr",
     "output_type": "stream",
     "text": [
      "28-Sep-24 00:41:41: Found population proton\n"
     ]
    },
    {
     "name": "stdout",
     "output_type": "stream",
     "text": [
      "variable ig_upmappednodecoords not sortable by Cell ID!\n"
     ]
    },
    {
     "name": "stderr",
     "output_type": "stream",
     "text": [
      "28-Sep-24 00:41:41: Found population proton\n"
     ]
    },
    {
     "name": "stdout",
     "output_type": "stream",
     "text": [
      "variable ig_upmappednodecoords not sortable by Cell ID!\n"
     ]
    },
    {
     "name": "stderr",
     "output_type": "stream",
     "text": [
      "28-Sep-24 00:41:42: Found population proton\n"
     ]
    },
    {
     "name": "stdout",
     "output_type": "stream",
     "text": [
      "variable ig_upmappednodecoords not sortable by Cell ID!\n"
     ]
    },
    {
     "name": "stderr",
     "output_type": "stream",
     "text": [
      "28-Sep-24 00:41:42: Found population proton\n"
     ]
    },
    {
     "name": "stdout",
     "output_type": "stream",
     "text": [
      "variable ig_upmappednodecoords not sortable by Cell ID!\n"
     ]
    },
    {
     "name": "stderr",
     "output_type": "stream",
     "text": [
      "28-Sep-24 00:41:43: Found population proton\n"
     ]
    },
    {
     "name": "stdout",
     "output_type": "stream",
     "text": [
      "variable ig_upmappednodecoords not sortable by Cell ID!\n"
     ]
    },
    {
     "name": "stderr",
     "output_type": "stream",
     "text": [
      "28-Sep-24 00:41:43: Found population proton\n"
     ]
    },
    {
     "name": "stdout",
     "output_type": "stream",
     "text": [
      "variable ig_upmappednodecoords not sortable by Cell ID!\n"
     ]
    },
    {
     "name": "stderr",
     "output_type": "stream",
     "text": [
      "28-Sep-24 00:41:43: Found population proton\n"
     ]
    },
    {
     "name": "stdout",
     "output_type": "stream",
     "text": [
      "variable ig_upmappednodecoords not sortable by Cell ID!\n"
     ]
    },
    {
     "name": "stderr",
     "output_type": "stream",
     "text": [
      "28-Sep-24 00:41:44: Found population proton\n"
     ]
    },
    {
     "name": "stdout",
     "output_type": "stream",
     "text": [
      "variable ig_upmappednodecoords not sortable by Cell ID!\n"
     ]
    },
    {
     "name": "stderr",
     "output_type": "stream",
     "text": [
      "28-Sep-24 00:41:44: Found population proton\n"
     ]
    },
    {
     "name": "stdout",
     "output_type": "stream",
     "text": [
      "variable ig_upmappednodecoords not sortable by Cell ID!\n"
     ]
    },
    {
     "name": "stderr",
     "output_type": "stream",
     "text": [
      "28-Sep-24 00:41:44: Found population proton\n"
     ]
    },
    {
     "name": "stdout",
     "output_type": "stream",
     "text": [
      "variable ig_upmappednodecoords not sortable by Cell ID!\n"
     ]
    },
    {
     "name": "stderr",
     "output_type": "stream",
     "text": [
      "28-Sep-24 00:41:45: Found population proton\n"
     ]
    },
    {
     "name": "stdout",
     "output_type": "stream",
     "text": [
      "variable ig_upmappednodecoords not sortable by Cell ID!\n"
     ]
    },
    {
     "name": "stderr",
     "output_type": "stream",
     "text": [
      "28-Sep-24 00:41:45: Found population proton\n"
     ]
    },
    {
     "name": "stdout",
     "output_type": "stream",
     "text": [
      "variable ig_upmappednodecoords not sortable by Cell ID!\n"
     ]
    },
    {
     "name": "stderr",
     "output_type": "stream",
     "text": [
      "28-Sep-24 00:41:46: Found population proton\n"
     ]
    },
    {
     "name": "stdout",
     "output_type": "stream",
     "text": [
      "variable ig_upmappednodecoords not sortable by Cell ID!\n"
     ]
    },
    {
     "name": "stderr",
     "output_type": "stream",
     "text": [
      "28-Sep-24 00:41:46: Found population proton\n"
     ]
    },
    {
     "name": "stdout",
     "output_type": "stream",
     "text": [
      "variable ig_upmappednodecoords not sortable by Cell ID!\n"
     ]
    },
    {
     "name": "stderr",
     "output_type": "stream",
     "text": [
      "28-Sep-24 00:41:46: Found population proton\n"
     ]
    },
    {
     "name": "stdout",
     "output_type": "stream",
     "text": [
      "variable ig_upmappednodecoords not sortable by Cell ID!\n"
     ]
    },
    {
     "name": "stderr",
     "output_type": "stream",
     "text": [
      "28-Sep-24 00:41:47: Found population proton\n"
     ]
    },
    {
     "name": "stdout",
     "output_type": "stream",
     "text": [
      "variable ig_upmappednodecoords not sortable by Cell ID!\n"
     ]
    },
    {
     "name": "stderr",
     "output_type": "stream",
     "text": [
      "28-Sep-24 00:41:47: Found population proton\n"
     ]
    },
    {
     "name": "stdout",
     "output_type": "stream",
     "text": [
      "variable ig_upmappednodecoords not sortable by Cell ID!\n"
     ]
    },
    {
     "name": "stderr",
     "output_type": "stream",
     "text": [
      "28-Sep-24 00:41:47: Found population proton\n"
     ]
    },
    {
     "name": "stdout",
     "output_type": "stream",
     "text": [
      "variable ig_upmappednodecoords not sortable by Cell ID!\n"
     ]
    },
    {
     "name": "stderr",
     "output_type": "stream",
     "text": [
      "28-Sep-24 00:41:48: Found population proton\n"
     ]
    },
    {
     "name": "stdout",
     "output_type": "stream",
     "text": [
      "variable ig_upmappednodecoords not sortable by Cell ID!\n"
     ]
    },
    {
     "name": "stderr",
     "output_type": "stream",
     "text": [
      "28-Sep-24 00:41:48: Found population proton\n"
     ]
    },
    {
     "name": "stdout",
     "output_type": "stream",
     "text": [
      "variable ig_upmappednodecoords not sortable by Cell ID!\n"
     ]
    },
    {
     "name": "stderr",
     "output_type": "stream",
     "text": [
      "28-Sep-24 00:41:49: Found population proton\n"
     ]
    },
    {
     "name": "stdout",
     "output_type": "stream",
     "text": [
      "variable ig_upmappednodecoords not sortable by Cell ID!\n"
     ]
    },
    {
     "name": "stderr",
     "output_type": "stream",
     "text": [
      "28-Sep-24 00:41:49: Found population proton\n"
     ]
    },
    {
     "name": "stdout",
     "output_type": "stream",
     "text": [
      "variable ig_upmappednodecoords not sortable by Cell ID!\n"
     ]
    },
    {
     "name": "stderr",
     "output_type": "stream",
     "text": [
      "28-Sep-24 00:41:49: Found population proton\n"
     ]
    },
    {
     "name": "stdout",
     "output_type": "stream",
     "text": [
      "variable ig_upmappednodecoords not sortable by Cell ID!\n"
     ]
    },
    {
     "name": "stderr",
     "output_type": "stream",
     "text": [
      "28-Sep-24 00:41:50: Found population proton\n"
     ]
    },
    {
     "name": "stdout",
     "output_type": "stream",
     "text": [
      "variable ig_upmappednodecoords not sortable by Cell ID!\n"
     ]
    },
    {
     "name": "stderr",
     "output_type": "stream",
     "text": [
      "28-Sep-24 00:41:50: Found population proton\n"
     ]
    },
    {
     "name": "stdout",
     "output_type": "stream",
     "text": [
      "variable ig_upmappednodecoords not sortable by Cell ID!\n"
     ]
    },
    {
     "name": "stderr",
     "output_type": "stream",
     "text": [
      "28-Sep-24 00:41:50: Found population proton\n"
     ]
    },
    {
     "name": "stdout",
     "output_type": "stream",
     "text": [
      "variable ig_upmappednodecoords not sortable by Cell ID!\n"
     ]
    },
    {
     "name": "stderr",
     "output_type": "stream",
     "text": [
      "28-Sep-24 00:41:51: Found population proton\n"
     ]
    },
    {
     "name": "stdout",
     "output_type": "stream",
     "text": [
      "variable ig_upmappednodecoords not sortable by Cell ID!\n"
     ]
    },
    {
     "name": "stderr",
     "output_type": "stream",
     "text": [
      "28-Sep-24 00:41:51: Found population proton\n"
     ]
    },
    {
     "name": "stdout",
     "output_type": "stream",
     "text": [
      "variable ig_upmappednodecoords not sortable by Cell ID!\n"
     ]
    },
    {
     "name": "stderr",
     "output_type": "stream",
     "text": [
      "28-Sep-24 00:41:51: Found population proton\n"
     ]
    },
    {
     "name": "stdout",
     "output_type": "stream",
     "text": [
      "variable ig_upmappednodecoords not sortable by Cell ID!\n"
     ]
    },
    {
     "name": "stderr",
     "output_type": "stream",
     "text": [
      "28-Sep-24 00:41:52: Found population proton\n"
     ]
    },
    {
     "name": "stdout",
     "output_type": "stream",
     "text": [
      "variable ig_upmappednodecoords not sortable by Cell ID!\n"
     ]
    },
    {
     "name": "stderr",
     "output_type": "stream",
     "text": [
      "28-Sep-24 00:41:52: Found population proton\n"
     ]
    },
    {
     "name": "stdout",
     "output_type": "stream",
     "text": [
      "variable ig_upmappednodecoords not sortable by Cell ID!\n"
     ]
    },
    {
     "name": "stderr",
     "output_type": "stream",
     "text": [
      "28-Sep-24 00:41:52: Found population proton\n"
     ]
    },
    {
     "name": "stdout",
     "output_type": "stream",
     "text": [
      "variable ig_upmappednodecoords not sortable by Cell ID!\n"
     ]
    },
    {
     "name": "stderr",
     "output_type": "stream",
     "text": [
      "28-Sep-24 00:41:53: Found population proton\n"
     ]
    },
    {
     "name": "stdout",
     "output_type": "stream",
     "text": [
      "variable ig_upmappednodecoords not sortable by Cell ID!\n"
     ]
    },
    {
     "name": "stderr",
     "output_type": "stream",
     "text": [
      "28-Sep-24 00:41:53: Found population proton\n"
     ]
    },
    {
     "name": "stdout",
     "output_type": "stream",
     "text": [
      "variable ig_upmappednodecoords not sortable by Cell ID!\n"
     ]
    },
    {
     "name": "stderr",
     "output_type": "stream",
     "text": [
      "28-Sep-24 00:41:53: Found population proton\n"
     ]
    },
    {
     "name": "stdout",
     "output_type": "stream",
     "text": [
      "variable ig_upmappednodecoords not sortable by Cell ID!\n"
     ]
    },
    {
     "name": "stderr",
     "output_type": "stream",
     "text": [
      "28-Sep-24 00:41:54: Found population proton\n"
     ]
    },
    {
     "name": "stdout",
     "output_type": "stream",
     "text": [
      "variable ig_upmappednodecoords not sortable by Cell ID!\n"
     ]
    },
    {
     "name": "stderr",
     "output_type": "stream",
     "text": [
      "28-Sep-24 00:41:54: Found population proton\n"
     ]
    },
    {
     "name": "stdout",
     "output_type": "stream",
     "text": [
      "variable ig_upmappednodecoords not sortable by Cell ID!\n"
     ]
    },
    {
     "name": "stderr",
     "output_type": "stream",
     "text": [
      "28-Sep-24 00:41:55: Found population proton\n"
     ]
    },
    {
     "name": "stdout",
     "output_type": "stream",
     "text": [
      "variable ig_upmappednodecoords not sortable by Cell ID!\n"
     ]
    },
    {
     "name": "stderr",
     "output_type": "stream",
     "text": [
      "28-Sep-24 00:41:55: Found population proton\n"
     ]
    },
    {
     "name": "stdout",
     "output_type": "stream",
     "text": [
      "variable ig_upmappednodecoords not sortable by Cell ID!\n"
     ]
    },
    {
     "name": "stderr",
     "output_type": "stream",
     "text": [
      "28-Sep-24 00:41:55: Found population proton\n"
     ]
    },
    {
     "name": "stdout",
     "output_type": "stream",
     "text": [
      "variable ig_upmappednodecoords not sortable by Cell ID!\n"
     ]
    },
    {
     "name": "stderr",
     "output_type": "stream",
     "text": [
      "28-Sep-24 00:41:56: Found population proton\n"
     ]
    },
    {
     "name": "stdout",
     "output_type": "stream",
     "text": [
      "variable ig_upmappednodecoords not sortable by Cell ID!\n"
     ]
    },
    {
     "name": "stderr",
     "output_type": "stream",
     "text": [
      "28-Sep-24 00:41:56: Found population proton\n"
     ]
    },
    {
     "name": "stdout",
     "output_type": "stream",
     "text": [
      "variable ig_upmappednodecoords not sortable by Cell ID!\n"
     ]
    },
    {
     "name": "stderr",
     "output_type": "stream",
     "text": [
      "28-Sep-24 00:41:56: Found population proton\n"
     ]
    },
    {
     "name": "stdout",
     "output_type": "stream",
     "text": [
      "variable ig_upmappednodecoords not sortable by Cell ID!\n"
     ]
    },
    {
     "name": "stderr",
     "output_type": "stream",
     "text": [
      "28-Sep-24 00:41:57: Found population proton\n"
     ]
    },
    {
     "name": "stdout",
     "output_type": "stream",
     "text": [
      "variable ig_upmappednodecoords not sortable by Cell ID!\n"
     ]
    },
    {
     "name": "stderr",
     "output_type": "stream",
     "text": [
      "28-Sep-24 00:41:57: Found population proton\n"
     ]
    },
    {
     "name": "stdout",
     "output_type": "stream",
     "text": [
      "variable ig_upmappednodecoords not sortable by Cell ID!\n"
     ]
    },
    {
     "name": "stderr",
     "output_type": "stream",
     "text": [
      "28-Sep-24 00:41:57: Found population proton\n"
     ]
    },
    {
     "name": "stdout",
     "output_type": "stream",
     "text": [
      "variable ig_upmappednodecoords not sortable by Cell ID!\n"
     ]
    },
    {
     "name": "stderr",
     "output_type": "stream",
     "text": [
      "28-Sep-24 00:41:58: Found population proton\n"
     ]
    },
    {
     "name": "stdout",
     "output_type": "stream",
     "text": [
      "variable ig_upmappednodecoords not sortable by Cell ID!\n"
     ]
    },
    {
     "name": "stderr",
     "output_type": "stream",
     "text": [
      "28-Sep-24 00:41:58: Found population proton\n"
     ]
    },
    {
     "name": "stdout",
     "output_type": "stream",
     "text": [
      "variable ig_upmappednodecoords not sortable by Cell ID!\n"
     ]
    },
    {
     "name": "stderr",
     "output_type": "stream",
     "text": [
      "28-Sep-24 00:41:58: Found population proton\n"
     ]
    },
    {
     "name": "stdout",
     "output_type": "stream",
     "text": [
      "variable ig_upmappednodecoords not sortable by Cell ID!\n"
     ]
    },
    {
     "name": "stderr",
     "output_type": "stream",
     "text": [
      "28-Sep-24 00:41:59: Found population proton\n"
     ]
    },
    {
     "name": "stdout",
     "output_type": "stream",
     "text": [
      "variable ig_upmappednodecoords not sortable by Cell ID!\n"
     ]
    },
    {
     "name": "stderr",
     "output_type": "stream",
     "text": [
      "28-Sep-24 00:41:59: Found population proton\n"
     ]
    },
    {
     "name": "stdout",
     "output_type": "stream",
     "text": [
      "variable ig_upmappednodecoords not sortable by Cell ID!\n"
     ]
    },
    {
     "name": "stderr",
     "output_type": "stream",
     "text": [
      "28-Sep-24 00:41:59: Found population proton\n"
     ]
    },
    {
     "name": "stdout",
     "output_type": "stream",
     "text": [
      "variable ig_upmappednodecoords not sortable by Cell ID!\n"
     ]
    },
    {
     "name": "stderr",
     "output_type": "stream",
     "text": [
      "28-Sep-24 00:42:00: Found population proton\n"
     ]
    },
    {
     "name": "stdout",
     "output_type": "stream",
     "text": [
      "variable ig_upmappednodecoords not sortable by Cell ID!\n"
     ]
    },
    {
     "name": "stderr",
     "output_type": "stream",
     "text": [
      "28-Sep-24 00:42:00: Found population proton\n"
     ]
    },
    {
     "name": "stdout",
     "output_type": "stream",
     "text": [
      "variable ig_upmappednodecoords not sortable by Cell ID!\n"
     ]
    },
    {
     "name": "stderr",
     "output_type": "stream",
     "text": [
      "28-Sep-24 00:42:01: Found population proton\n"
     ]
    },
    {
     "name": "stdout",
     "output_type": "stream",
     "text": [
      "variable ig_upmappednodecoords not sortable by Cell ID!\n"
     ]
    },
    {
     "name": "stderr",
     "output_type": "stream",
     "text": [
      "28-Sep-24 00:42:01: Found population proton\n"
     ]
    },
    {
     "name": "stdout",
     "output_type": "stream",
     "text": [
      "variable ig_upmappednodecoords not sortable by Cell ID!\n"
     ]
    },
    {
     "name": "stderr",
     "output_type": "stream",
     "text": [
      "28-Sep-24 00:42:01: Found population proton\n"
     ]
    },
    {
     "name": "stdout",
     "output_type": "stream",
     "text": [
      "variable ig_upmappednodecoords not sortable by Cell ID!\n"
     ]
    },
    {
     "name": "stderr",
     "output_type": "stream",
     "text": [
      "28-Sep-24 00:42:02: Found population proton\n"
     ]
    },
    {
     "name": "stdout",
     "output_type": "stream",
     "text": [
      "variable ig_upmappednodecoords not sortable by Cell ID!\n"
     ]
    },
    {
     "name": "stderr",
     "output_type": "stream",
     "text": [
      "28-Sep-24 00:42:02: Found population proton\n"
     ]
    },
    {
     "name": "stdout",
     "output_type": "stream",
     "text": [
      "variable ig_upmappednodecoords not sortable by Cell ID!\n"
     ]
    },
    {
     "name": "stderr",
     "output_type": "stream",
     "text": [
      "28-Sep-24 00:42:02: Found population proton\n"
     ]
    },
    {
     "name": "stdout",
     "output_type": "stream",
     "text": [
      "variable ig_upmappednodecoords not sortable by Cell ID!\n"
     ]
    },
    {
     "name": "stderr",
     "output_type": "stream",
     "text": [
      "28-Sep-24 00:42:03: Found population proton\n"
     ]
    },
    {
     "name": "stdout",
     "output_type": "stream",
     "text": [
      "variable ig_upmappednodecoords not sortable by Cell ID!\n"
     ]
    },
    {
     "name": "stderr",
     "output_type": "stream",
     "text": [
      "28-Sep-24 00:42:03: Found population proton\n"
     ]
    },
    {
     "name": "stdout",
     "output_type": "stream",
     "text": [
      "variable ig_upmappednodecoords not sortable by Cell ID!\n"
     ]
    },
    {
     "name": "stderr",
     "output_type": "stream",
     "text": [
      "28-Sep-24 00:42:04: Found population proton\n"
     ]
    },
    {
     "name": "stdout",
     "output_type": "stream",
     "text": [
      "variable ig_upmappednodecoords not sortable by Cell ID!\n"
     ]
    },
    {
     "name": "stderr",
     "output_type": "stream",
     "text": [
      "28-Sep-24 00:42:04: Found population proton\n"
     ]
    },
    {
     "name": "stdout",
     "output_type": "stream",
     "text": [
      "variable ig_upmappednodecoords not sortable by Cell ID!\n"
     ]
    },
    {
     "name": "stderr",
     "output_type": "stream",
     "text": [
      "28-Sep-24 00:42:04: Found population proton\n"
     ]
    },
    {
     "name": "stdout",
     "output_type": "stream",
     "text": [
      "variable ig_upmappednodecoords not sortable by Cell ID!\n"
     ]
    },
    {
     "name": "stderr",
     "output_type": "stream",
     "text": [
      "28-Sep-24 00:42:05: Found population proton\n"
     ]
    },
    {
     "name": "stdout",
     "output_type": "stream",
     "text": [
      "variable ig_upmappednodecoords not sortable by Cell ID!\n"
     ]
    },
    {
     "name": "stderr",
     "output_type": "stream",
     "text": [
      "28-Sep-24 00:42:05: Found population proton\n"
     ]
    },
    {
     "name": "stdout",
     "output_type": "stream",
     "text": [
      "variable ig_upmappednodecoords not sortable by Cell ID!\n"
     ]
    },
    {
     "name": "stderr",
     "output_type": "stream",
     "text": [
      "28-Sep-24 00:42:05: Found population proton\n"
     ]
    },
    {
     "name": "stdout",
     "output_type": "stream",
     "text": [
      "variable ig_upmappednodecoords not sortable by Cell ID!\n"
     ]
    },
    {
     "name": "stderr",
     "output_type": "stream",
     "text": [
      "28-Sep-24 00:42:06: Found population proton\n"
     ]
    },
    {
     "name": "stdout",
     "output_type": "stream",
     "text": [
      "variable ig_upmappednodecoords not sortable by Cell ID!\n"
     ]
    },
    {
     "name": "stderr",
     "output_type": "stream",
     "text": [
      "28-Sep-24 00:42:06: Found population proton\n"
     ]
    },
    {
     "name": "stdout",
     "output_type": "stream",
     "text": [
      "variable ig_upmappednodecoords not sortable by Cell ID!\n"
     ]
    },
    {
     "name": "stderr",
     "output_type": "stream",
     "text": [
      "28-Sep-24 00:42:06: Found population proton\n"
     ]
    },
    {
     "name": "stdout",
     "output_type": "stream",
     "text": [
      "variable ig_upmappednodecoords not sortable by Cell ID!\n"
     ]
    },
    {
     "name": "stderr",
     "output_type": "stream",
     "text": [
      "28-Sep-24 00:42:07: Found population proton\n"
     ]
    },
    {
     "name": "stdout",
     "output_type": "stream",
     "text": [
      "variable ig_upmappednodecoords not sortable by Cell ID!\n"
     ]
    },
    {
     "name": "stderr",
     "output_type": "stream",
     "text": [
      "28-Sep-24 00:42:07: Found population proton\n"
     ]
    },
    {
     "name": "stdout",
     "output_type": "stream",
     "text": [
      "variable ig_upmappednodecoords not sortable by Cell ID!\n"
     ]
    },
    {
     "name": "stderr",
     "output_type": "stream",
     "text": [
      "28-Sep-24 00:42:07: Found population proton\n"
     ]
    },
    {
     "name": "stdout",
     "output_type": "stream",
     "text": [
      "variable ig_upmappednodecoords not sortable by Cell ID!\n"
     ]
    },
    {
     "name": "stderr",
     "output_type": "stream",
     "text": [
      "28-Sep-24 00:42:08: Found population proton\n"
     ]
    },
    {
     "name": "stdout",
     "output_type": "stream",
     "text": [
      "variable ig_upmappednodecoords not sortable by Cell ID!\n"
     ]
    },
    {
     "name": "stderr",
     "output_type": "stream",
     "text": [
      "28-Sep-24 00:42:08: Found population proton\n"
     ]
    },
    {
     "name": "stdout",
     "output_type": "stream",
     "text": [
      "variable ig_upmappednodecoords not sortable by Cell ID!\n"
     ]
    },
    {
     "name": "stderr",
     "output_type": "stream",
     "text": [
      "28-Sep-24 00:42:09: Found population proton\n"
     ]
    },
    {
     "name": "stdout",
     "output_type": "stream",
     "text": [
      "variable ig_upmappednodecoords not sortable by Cell ID!\n"
     ]
    },
    {
     "name": "stderr",
     "output_type": "stream",
     "text": [
      "28-Sep-24 00:42:09: Found population proton\n"
     ]
    },
    {
     "name": "stdout",
     "output_type": "stream",
     "text": [
      "variable ig_upmappednodecoords not sortable by Cell ID!\n"
     ]
    },
    {
     "name": "stderr",
     "output_type": "stream",
     "text": [
      "28-Sep-24 00:42:09: Found population proton\n"
     ]
    },
    {
     "name": "stdout",
     "output_type": "stream",
     "text": [
      "variable ig_upmappednodecoords not sortable by Cell ID!\n"
     ]
    },
    {
     "name": "stderr",
     "output_type": "stream",
     "text": [
      "28-Sep-24 00:42:10: Found population proton\n"
     ]
    },
    {
     "name": "stdout",
     "output_type": "stream",
     "text": [
      "variable ig_upmappednodecoords not sortable by Cell ID!\n"
     ]
    },
    {
     "name": "stderr",
     "output_type": "stream",
     "text": [
      "28-Sep-24 00:42:10: Found population proton\n"
     ]
    },
    {
     "name": "stdout",
     "output_type": "stream",
     "text": [
      "variable ig_upmappednodecoords not sortable by Cell ID!\n"
     ]
    },
    {
     "name": "stderr",
     "output_type": "stream",
     "text": [
      "28-Sep-24 00:42:10: Found population proton\n"
     ]
    },
    {
     "name": "stdout",
     "output_type": "stream",
     "text": [
      "variable ig_upmappednodecoords not sortable by Cell ID!\n"
     ]
    },
    {
     "name": "stderr",
     "output_type": "stream",
     "text": [
      "28-Sep-24 00:42:11: Found population proton\n"
     ]
    },
    {
     "name": "stdout",
     "output_type": "stream",
     "text": [
      "variable ig_upmappednodecoords not sortable by Cell ID!\n"
     ]
    },
    {
     "name": "stderr",
     "output_type": "stream",
     "text": [
      "28-Sep-24 00:42:11: Found population proton\n"
     ]
    },
    {
     "name": "stdout",
     "output_type": "stream",
     "text": [
      "variable ig_upmappednodecoords not sortable by Cell ID!\n"
     ]
    },
    {
     "name": "stderr",
     "output_type": "stream",
     "text": [
      "28-Sep-24 00:42:11: Found population proton\n"
     ]
    },
    {
     "name": "stdout",
     "output_type": "stream",
     "text": [
      "variable ig_upmappednodecoords not sortable by Cell ID!\n"
     ]
    },
    {
     "name": "stderr",
     "output_type": "stream",
     "text": [
      "28-Sep-24 00:42:12: Found population proton\n"
     ]
    },
    {
     "name": "stdout",
     "output_type": "stream",
     "text": [
      "variable ig_upmappednodecoords not sortable by Cell ID!\n"
     ]
    },
    {
     "name": "stderr",
     "output_type": "stream",
     "text": [
      "28-Sep-24 00:42:12: Found population proton\n"
     ]
    },
    {
     "name": "stdout",
     "output_type": "stream",
     "text": [
      "variable ig_upmappednodecoords not sortable by Cell ID!\n"
     ]
    },
    {
     "name": "stderr",
     "output_type": "stream",
     "text": [
      "28-Sep-24 00:42:13: Found population proton\n"
     ]
    },
    {
     "name": "stdout",
     "output_type": "stream",
     "text": [
      "variable ig_upmappednodecoords not sortable by Cell ID!\n"
     ]
    },
    {
     "name": "stderr",
     "output_type": "stream",
     "text": [
      "28-Sep-24 00:42:13: Found population proton\n"
     ]
    },
    {
     "name": "stdout",
     "output_type": "stream",
     "text": [
      "variable ig_upmappednodecoords not sortable by Cell ID!\n"
     ]
    },
    {
     "name": "stderr",
     "output_type": "stream",
     "text": [
      "28-Sep-24 00:42:13: Found population proton\n"
     ]
    },
    {
     "name": "stdout",
     "output_type": "stream",
     "text": [
      "variable ig_upmappednodecoords not sortable by Cell ID!\n"
     ]
    },
    {
     "name": "stderr",
     "output_type": "stream",
     "text": [
      "28-Sep-24 00:42:16: Found population proton\n"
     ]
    },
    {
     "name": "stdout",
     "output_type": "stream",
     "text": [
      "variable ig_upmappednodecoords not sortable by Cell ID!\n"
     ]
    },
    {
     "name": "stderr",
     "output_type": "stream",
     "text": [
      "28-Sep-24 00:42:16: Found population proton\n"
     ]
    },
    {
     "name": "stdout",
     "output_type": "stream",
     "text": [
      "variable ig_upmappednodecoords not sortable by Cell ID!\n"
     ]
    },
    {
     "name": "stderr",
     "output_type": "stream",
     "text": [
      "28-Sep-24 00:42:17: Found population proton\n"
     ]
    },
    {
     "name": "stdout",
     "output_type": "stream",
     "text": [
      "variable ig_upmappednodecoords not sortable by Cell ID!\n"
     ]
    },
    {
     "name": "stderr",
     "output_type": "stream",
     "text": [
      "28-Sep-24 00:42:17: Found population proton\n"
     ]
    },
    {
     "name": "stdout",
     "output_type": "stream",
     "text": [
      "variable ig_upmappednodecoords not sortable by Cell ID!\n"
     ]
    },
    {
     "name": "stderr",
     "output_type": "stream",
     "text": [
      "28-Sep-24 00:42:17: Found population proton\n"
     ]
    },
    {
     "name": "stdout",
     "output_type": "stream",
     "text": [
      "variable ig_upmappednodecoords not sortable by Cell ID!\n"
     ]
    },
    {
     "name": "stderr",
     "output_type": "stream",
     "text": [
      "28-Sep-24 00:42:18: Found population proton\n"
     ]
    },
    {
     "name": "stdout",
     "output_type": "stream",
     "text": [
      "variable ig_upmappednodecoords not sortable by Cell ID!\n"
     ]
    },
    {
     "name": "stderr",
     "output_type": "stream",
     "text": [
      "28-Sep-24 00:42:18: Found population proton\n"
     ]
    },
    {
     "name": "stdout",
     "output_type": "stream",
     "text": [
      "variable ig_upmappednodecoords not sortable by Cell ID!\n"
     ]
    },
    {
     "name": "stderr",
     "output_type": "stream",
     "text": [
      "28-Sep-24 00:42:19: Found population proton\n"
     ]
    },
    {
     "name": "stdout",
     "output_type": "stream",
     "text": [
      "variable ig_upmappednodecoords not sortable by Cell ID!\n"
     ]
    },
    {
     "name": "stderr",
     "output_type": "stream",
     "text": [
      "28-Sep-24 00:42:19: Found population proton\n"
     ]
    },
    {
     "name": "stdout",
     "output_type": "stream",
     "text": [
      "variable ig_upmappednodecoords not sortable by Cell ID!\n"
     ]
    },
    {
     "name": "stderr",
     "output_type": "stream",
     "text": [
      "28-Sep-24 00:42:19: Found population proton\n"
     ]
    },
    {
     "name": "stdout",
     "output_type": "stream",
     "text": [
      "variable ig_upmappednodecoords not sortable by Cell ID!\n"
     ]
    },
    {
     "name": "stderr",
     "output_type": "stream",
     "text": [
      "28-Sep-24 00:42:20: Found population proton\n"
     ]
    },
    {
     "name": "stdout",
     "output_type": "stream",
     "text": [
      "variable ig_upmappednodecoords not sortable by Cell ID!\n"
     ]
    },
    {
     "name": "stderr",
     "output_type": "stream",
     "text": [
      "28-Sep-24 00:42:20: Found population proton\n"
     ]
    },
    {
     "name": "stdout",
     "output_type": "stream",
     "text": [
      "variable ig_upmappednodecoords not sortable by Cell ID!\n"
     ]
    },
    {
     "name": "stderr",
     "output_type": "stream",
     "text": [
      "28-Sep-24 00:42:20: Found population proton\n"
     ]
    },
    {
     "name": "stdout",
     "output_type": "stream",
     "text": [
      "variable ig_upmappednodecoords not sortable by Cell ID!\n"
     ]
    },
    {
     "name": "stderr",
     "output_type": "stream",
     "text": [
      "28-Sep-24 00:42:21: Found population proton\n"
     ]
    },
    {
     "name": "stdout",
     "output_type": "stream",
     "text": [
      "variable ig_upmappednodecoords not sortable by Cell ID!\n"
     ]
    },
    {
     "name": "stderr",
     "output_type": "stream",
     "text": [
      "28-Sep-24 00:42:21: Found population proton\n"
     ]
    },
    {
     "name": "stdout",
     "output_type": "stream",
     "text": [
      "variable ig_upmappednodecoords not sortable by Cell ID!\n"
     ]
    },
    {
     "name": "stderr",
     "output_type": "stream",
     "text": [
      "28-Sep-24 00:42:22: Found population proton\n"
     ]
    },
    {
     "name": "stdout",
     "output_type": "stream",
     "text": [
      "variable ig_upmappednodecoords not sortable by Cell ID!\n"
     ]
    },
    {
     "name": "stderr",
     "output_type": "stream",
     "text": [
      "28-Sep-24 00:42:22: Found population proton\n"
     ]
    },
    {
     "name": "stdout",
     "output_type": "stream",
     "text": [
      "variable ig_upmappednodecoords not sortable by Cell ID!\n"
     ]
    },
    {
     "name": "stderr",
     "output_type": "stream",
     "text": [
      "28-Sep-24 00:42:22: Found population proton\n"
     ]
    },
    {
     "name": "stdout",
     "output_type": "stream",
     "text": [
      "variable ig_upmappednodecoords not sortable by Cell ID!\n"
     ]
    },
    {
     "name": "stderr",
     "output_type": "stream",
     "text": [
      "28-Sep-24 00:42:23: Found population proton\n"
     ]
    },
    {
     "name": "stdout",
     "output_type": "stream",
     "text": [
      "variable ig_upmappednodecoords not sortable by Cell ID!\n"
     ]
    },
    {
     "name": "stderr",
     "output_type": "stream",
     "text": [
      "28-Sep-24 00:42:23: Found population proton\n"
     ]
    },
    {
     "name": "stdout",
     "output_type": "stream",
     "text": [
      "variable ig_upmappednodecoords not sortable by Cell ID!\n"
     ]
    },
    {
     "name": "stderr",
     "output_type": "stream",
     "text": [
      "28-Sep-24 00:42:23: Found population proton\n"
     ]
    },
    {
     "name": "stdout",
     "output_type": "stream",
     "text": [
      "variable ig_upmappednodecoords not sortable by Cell ID!\n"
     ]
    },
    {
     "name": "stderr",
     "output_type": "stream",
     "text": [
      "28-Sep-24 00:42:24: Found population proton\n"
     ]
    },
    {
     "name": "stdout",
     "output_type": "stream",
     "text": [
      "variable ig_upmappednodecoords not sortable by Cell ID!\n"
     ]
    },
    {
     "name": "stderr",
     "output_type": "stream",
     "text": [
      "28-Sep-24 00:42:24: Found population proton\n"
     ]
    },
    {
     "name": "stdout",
     "output_type": "stream",
     "text": [
      "variable ig_upmappednodecoords not sortable by Cell ID!\n"
     ]
    },
    {
     "name": "stderr",
     "output_type": "stream",
     "text": [
      "28-Sep-24 00:42:24: Found population proton\n"
     ]
    },
    {
     "name": "stdout",
     "output_type": "stream",
     "text": [
      "variable ig_upmappednodecoords not sortable by Cell ID!\n"
     ]
    },
    {
     "name": "stderr",
     "output_type": "stream",
     "text": [
      "28-Sep-24 00:42:25: Found population proton\n"
     ]
    },
    {
     "name": "stdout",
     "output_type": "stream",
     "text": [
      "variable ig_upmappednodecoords not sortable by Cell ID!\n"
     ]
    },
    {
     "name": "stderr",
     "output_type": "stream",
     "text": [
      "28-Sep-24 00:42:25: Found population proton\n"
     ]
    },
    {
     "name": "stdout",
     "output_type": "stream",
     "text": [
      "variable ig_upmappednodecoords not sortable by Cell ID!\n"
     ]
    },
    {
     "name": "stderr",
     "output_type": "stream",
     "text": [
      "28-Sep-24 00:42:25: Found population proton\n"
     ]
    },
    {
     "name": "stdout",
     "output_type": "stream",
     "text": [
      "variable ig_upmappednodecoords not sortable by Cell ID!\n"
     ]
    },
    {
     "name": "stderr",
     "output_type": "stream",
     "text": [
      "28-Sep-24 00:42:26: Found population proton\n"
     ]
    },
    {
     "name": "stdout",
     "output_type": "stream",
     "text": [
      "variable ig_upmappednodecoords not sortable by Cell ID!\n",
      "variable ig_upmappednodecoords not sortable by Cell ID!\n"
     ]
    },
    {
     "name": "stderr",
     "output_type": "stream",
     "text": [
      "28-Sep-24 00:42:29: Found population proton\n",
      "28-Sep-24 00:42:29: Found population proton\n"
     ]
    },
    {
     "name": "stdout",
     "output_type": "stream",
     "text": [
      "variable ig_upmappednodecoords not sortable by Cell ID!\n"
     ]
    },
    {
     "name": "stderr",
     "output_type": "stream",
     "text": [
      "28-Sep-24 00:42:30: Found population proton\n"
     ]
    },
    {
     "name": "stdout",
     "output_type": "stream",
     "text": [
      "variable ig_upmappednodecoords not sortable by Cell ID!\n"
     ]
    },
    {
     "name": "stderr",
     "output_type": "stream",
     "text": [
      "28-Sep-24 00:42:30: Found population proton\n"
     ]
    },
    {
     "name": "stdout",
     "output_type": "stream",
     "text": [
      "variable ig_upmappednodecoords not sortable by Cell ID!\n"
     ]
    },
    {
     "name": "stderr",
     "output_type": "stream",
     "text": [
      "28-Sep-24 00:42:31: Found population proton\n"
     ]
    },
    {
     "name": "stdout",
     "output_type": "stream",
     "text": [
      "variable ig_upmappednodecoords not sortable by Cell ID!\n"
     ]
    },
    {
     "name": "stderr",
     "output_type": "stream",
     "text": [
      "28-Sep-24 00:42:31: Found population proton\n"
     ]
    },
    {
     "name": "stdout",
     "output_type": "stream",
     "text": [
      "variable ig_upmappednodecoords not sortable by Cell ID!\n"
     ]
    },
    {
     "name": "stderr",
     "output_type": "stream",
     "text": [
      "28-Sep-24 00:42:31: Found population proton\n"
     ]
    },
    {
     "name": "stdout",
     "output_type": "stream",
     "text": [
      "variable ig_upmappednodecoords not sortable by Cell ID!\n"
     ]
    },
    {
     "name": "stderr",
     "output_type": "stream",
     "text": [
      "28-Sep-24 00:42:32: Found population proton\n"
     ]
    },
    {
     "name": "stdout",
     "output_type": "stream",
     "text": [
      "variable ig_upmappednodecoords not sortable by Cell ID!\n"
     ]
    },
    {
     "name": "stderr",
     "output_type": "stream",
     "text": [
      "28-Sep-24 00:42:32: Found population proton\n"
     ]
    },
    {
     "name": "stdout",
     "output_type": "stream",
     "text": [
      "variable ig_upmappednodecoords not sortable by Cell ID!\n"
     ]
    },
    {
     "name": "stderr",
     "output_type": "stream",
     "text": [
      "28-Sep-24 00:42:32: Found population proton\n"
     ]
    },
    {
     "name": "stdout",
     "output_type": "stream",
     "text": [
      "variable ig_upmappednodecoords not sortable by Cell ID!\n"
     ]
    },
    {
     "name": "stderr",
     "output_type": "stream",
     "text": [
      "28-Sep-24 00:42:33: Found population proton\n"
     ]
    },
    {
     "name": "stdout",
     "output_type": "stream",
     "text": [
      "variable ig_upmappednodecoords not sortable by Cell ID!\n"
     ]
    },
    {
     "name": "stderr",
     "output_type": "stream",
     "text": [
      "28-Sep-24 00:42:33: Found population proton\n"
     ]
    },
    {
     "name": "stdout",
     "output_type": "stream",
     "text": [
      "variable ig_upmappednodecoords not sortable by Cell ID!\n"
     ]
    },
    {
     "name": "stderr",
     "output_type": "stream",
     "text": [
      "28-Sep-24 00:42:33: Found population proton\n"
     ]
    },
    {
     "name": "stdout",
     "output_type": "stream",
     "text": [
      "variable ig_upmappednodecoords not sortable by Cell ID!\n",
      "variable ig_upmappednodecoords not sortable by Cell ID!\n"
     ]
    },
    {
     "name": "stderr",
     "output_type": "stream",
     "text": [
      "28-Sep-24 00:42:37: Found population proton\n",
      "28-Sep-24 00:42:37: Found population proton\n"
     ]
    },
    {
     "name": "stdout",
     "output_type": "stream",
     "text": [
      "variable ig_upmappednodecoords not sortable by Cell ID!\n"
     ]
    },
    {
     "name": "stderr",
     "output_type": "stream",
     "text": [
      "28-Sep-24 00:42:37: Found population proton\n"
     ]
    },
    {
     "name": "stdout",
     "output_type": "stream",
     "text": [
      "variable ig_upmappednodecoords not sortable by Cell ID!\n"
     ]
    },
    {
     "name": "stderr",
     "output_type": "stream",
     "text": [
      "28-Sep-24 00:42:40: Found population proton\n"
     ]
    },
    {
     "name": "stdout",
     "output_type": "stream",
     "text": [
      "variable ig_upmappednodecoords not sortable by Cell ID!\n"
     ]
    },
    {
     "name": "stderr",
     "output_type": "stream",
     "text": [
      "28-Sep-24 00:42:41: Found population proton\n"
     ]
    },
    {
     "name": "stdout",
     "output_type": "stream",
     "text": [
      "variable ig_upmappednodecoords not sortable by Cell ID!\n"
     ]
    },
    {
     "name": "stderr",
     "output_type": "stream",
     "text": [
      "28-Sep-24 00:42:41: Found population proton\n"
     ]
    },
    {
     "name": "stdout",
     "output_type": "stream",
     "text": [
      "variable ig_upmappednodecoords not sortable by Cell ID!\n"
     ]
    },
    {
     "name": "stderr",
     "output_type": "stream",
     "text": [
      "28-Sep-24 00:42:41: Found population proton\n"
     ]
    },
    {
     "name": "stdout",
     "output_type": "stream",
     "text": [
      "variable ig_upmappednodecoords not sortable by Cell ID!\n"
     ]
    },
    {
     "name": "stderr",
     "output_type": "stream",
     "text": [
      "28-Sep-24 00:42:42: Found population proton\n"
     ]
    },
    {
     "name": "stdout",
     "output_type": "stream",
     "text": [
      "variable ig_upmappednodecoords not sortable by Cell ID!\n"
     ]
    },
    {
     "name": "stderr",
     "output_type": "stream",
     "text": [
      "28-Sep-24 00:42:42: Found population proton\n"
     ]
    },
    {
     "name": "stdout",
     "output_type": "stream",
     "text": [
      "variable ig_upmappednodecoords not sortable by Cell ID!\n"
     ]
    },
    {
     "name": "stderr",
     "output_type": "stream",
     "text": [
      "28-Sep-24 00:42:42: Found population proton\n"
     ]
    },
    {
     "name": "stdout",
     "output_type": "stream",
     "text": [
      "variable ig_upmappednodecoords not sortable by Cell ID!\n"
     ]
    },
    {
     "name": "stderr",
     "output_type": "stream",
     "text": [
      "28-Sep-24 00:42:43: Found population proton\n"
     ]
    },
    {
     "name": "stdout",
     "output_type": "stream",
     "text": [
      "variable ig_upmappednodecoords not sortable by Cell ID!\n"
     ]
    },
    {
     "name": "stderr",
     "output_type": "stream",
     "text": [
      "28-Sep-24 00:42:43: Found population proton\n"
     ]
    },
    {
     "name": "stdout",
     "output_type": "stream",
     "text": [
      "variable ig_upmappednodecoords not sortable by Cell ID!\n"
     ]
    },
    {
     "name": "stderr",
     "output_type": "stream",
     "text": [
      "28-Sep-24 00:42:43: Found population proton\n"
     ]
    },
    {
     "name": "stdout",
     "output_type": "stream",
     "text": [
      "variable ig_upmappednodecoords not sortable by Cell ID!\n"
     ]
    },
    {
     "name": "stderr",
     "output_type": "stream",
     "text": [
      "28-Sep-24 00:42:44: Found population proton\n"
     ]
    },
    {
     "name": "stdout",
     "output_type": "stream",
     "text": [
      "variable ig_upmappednodecoords not sortable by Cell ID!\n"
     ]
    },
    {
     "name": "stderr",
     "output_type": "stream",
     "text": [
      "28-Sep-24 00:42:44: Found population proton\n"
     ]
    },
    {
     "name": "stdout",
     "output_type": "stream",
     "text": [
      "variable ig_upmappednodecoords not sortable by Cell ID!\n"
     ]
    },
    {
     "name": "stderr",
     "output_type": "stream",
     "text": [
      "28-Sep-24 00:42:44: Found population proton\n"
     ]
    },
    {
     "name": "stdout",
     "output_type": "stream",
     "text": [
      "variable ig_upmappednodecoords not sortable by Cell ID!\n",
      "variable ig_upmappednodecoords not sortable by Cell ID!\n"
     ]
    },
    {
     "name": "stderr",
     "output_type": "stream",
     "text": [
      "28-Sep-24 00:42:48: Found population proton\n",
      "28-Sep-24 00:42:49: Found population proton\n"
     ]
    },
    {
     "name": "stdout",
     "output_type": "stream",
     "text": [
      "variable ig_upmappednodecoords not sortable by Cell ID!\n"
     ]
    },
    {
     "name": "stderr",
     "output_type": "stream",
     "text": [
      "28-Sep-24 00:42:49: Found population proton\n"
     ]
    },
    {
     "name": "stdout",
     "output_type": "stream",
     "text": [
      "variable ig_upmappednodecoords not sortable by Cell ID!\n"
     ]
    },
    {
     "name": "stderr",
     "output_type": "stream",
     "text": [
      "28-Sep-24 00:42:50: Found population proton\n"
     ]
    },
    {
     "name": "stdout",
     "output_type": "stream",
     "text": [
      "variable ig_upmappednodecoords not sortable by Cell ID!\n"
     ]
    },
    {
     "name": "stderr",
     "output_type": "stream",
     "text": [
      "28-Sep-24 00:42:50: Found population proton\n"
     ]
    },
    {
     "name": "stdout",
     "output_type": "stream",
     "text": [
      "variable ig_upmappednodecoords not sortable by Cell ID!\n"
     ]
    },
    {
     "name": "stderr",
     "output_type": "stream",
     "text": [
      "28-Sep-24 00:42:50: Found population proton\n"
     ]
    },
    {
     "name": "stdout",
     "output_type": "stream",
     "text": [
      "variable ig_upmappednodecoords not sortable by Cell ID!\n"
     ]
    },
    {
     "name": "stderr",
     "output_type": "stream",
     "text": [
      "28-Sep-24 00:42:51: Found population proton\n"
     ]
    },
    {
     "name": "stdout",
     "output_type": "stream",
     "text": [
      "variable ig_upmappednodecoords not sortable by Cell ID!\n"
     ]
    },
    {
     "name": "stderr",
     "output_type": "stream",
     "text": [
      "28-Sep-24 00:42:51: Found population proton\n"
     ]
    },
    {
     "name": "stdout",
     "output_type": "stream",
     "text": [
      "variable ig_upmappednodecoords not sortable by Cell ID!\n"
     ]
    },
    {
     "name": "stderr",
     "output_type": "stream",
     "text": [
      "28-Sep-24 00:42:51: Found population proton\n"
     ]
    },
    {
     "name": "stdout",
     "output_type": "stream",
     "text": [
      "variable ig_upmappednodecoords not sortable by Cell ID!\n"
     ]
    },
    {
     "name": "stderr",
     "output_type": "stream",
     "text": [
      "28-Sep-24 00:42:52: Found population proton\n"
     ]
    },
    {
     "name": "stdout",
     "output_type": "stream",
     "text": [
      "variable ig_upmappednodecoords not sortable by Cell ID!\n"
     ]
    },
    {
     "name": "stderr",
     "output_type": "stream",
     "text": [
      "28-Sep-24 00:42:52: Found population proton\n"
     ]
    },
    {
     "name": "stdout",
     "output_type": "stream",
     "text": [
      "variable ig_upmappednodecoords not sortable by Cell ID!\n"
     ]
    },
    {
     "name": "stderr",
     "output_type": "stream",
     "text": [
      "28-Sep-24 00:42:52: Found population proton\n"
     ]
    },
    {
     "name": "stdout",
     "output_type": "stream",
     "text": [
      "variable ig_upmappednodecoords not sortable by Cell ID!\n"
     ]
    },
    {
     "name": "stderr",
     "output_type": "stream",
     "text": [
      "28-Sep-24 00:42:53: Found population proton\n"
     ]
    },
    {
     "name": "stdout",
     "output_type": "stream",
     "text": [
      "variable ig_upmappednodecoords not sortable by Cell ID!\n"
     ]
    },
    {
     "name": "stderr",
     "output_type": "stream",
     "text": [
      "28-Sep-24 00:42:53: Found population proton\n"
     ]
    },
    {
     "name": "stdout",
     "output_type": "stream",
     "text": [
      "variable ig_upmappednodecoords not sortable by Cell ID!\n"
     ]
    },
    {
     "name": "stderr",
     "output_type": "stream",
     "text": [
      "28-Sep-24 00:42:53: Found population proton\n"
     ]
    },
    {
     "name": "stdout",
     "output_type": "stream",
     "text": [
      "variable ig_upmappednodecoords not sortable by Cell ID!\n"
     ]
    },
    {
     "name": "stderr",
     "output_type": "stream",
     "text": [
      "28-Sep-24 00:42:54: Found population proton\n"
     ]
    },
    {
     "name": "stdout",
     "output_type": "stream",
     "text": [
      "variable ig_upmappednodecoords not sortable by Cell ID!\n"
     ]
    },
    {
     "name": "stderr",
     "output_type": "stream",
     "text": [
      "28-Sep-24 00:42:54: Found population proton\n"
     ]
    },
    {
     "name": "stdout",
     "output_type": "stream",
     "text": [
      "variable ig_upmappednodecoords not sortable by Cell ID!\n"
     ]
    },
    {
     "name": "stderr",
     "output_type": "stream",
     "text": [
      "28-Sep-24 00:42:54: Found population proton\n"
     ]
    },
    {
     "name": "stdout",
     "output_type": "stream",
     "text": [
      "variable ig_upmappednodecoords not sortable by Cell ID!\n"
     ]
    },
    {
     "name": "stderr",
     "output_type": "stream",
     "text": [
      "28-Sep-24 00:42:55: Found population proton\n"
     ]
    },
    {
     "name": "stdout",
     "output_type": "stream",
     "text": [
      "variable ig_upmappednodecoords not sortable by Cell ID!\n"
     ]
    },
    {
     "name": "stderr",
     "output_type": "stream",
     "text": [
      "28-Sep-24 00:42:55: Found population proton\n"
     ]
    },
    {
     "name": "stdout",
     "output_type": "stream",
     "text": [
      "variable ig_upmappednodecoords not sortable by Cell ID!\n"
     ]
    },
    {
     "name": "stderr",
     "output_type": "stream",
     "text": [
      "28-Sep-24 00:42:56: Found population proton\n"
     ]
    },
    {
     "name": "stdout",
     "output_type": "stream",
     "text": [
      "variable ig_upmappednodecoords not sortable by Cell ID!\n"
     ]
    },
    {
     "name": "stderr",
     "output_type": "stream",
     "text": [
      "28-Sep-24 00:42:56: Found population proton\n"
     ]
    },
    {
     "name": "stdout",
     "output_type": "stream",
     "text": [
      "variable ig_upmappednodecoords not sortable by Cell ID!\n"
     ]
    },
    {
     "name": "stderr",
     "output_type": "stream",
     "text": [
      "28-Sep-24 00:42:56: Found population proton\n"
     ]
    },
    {
     "name": "stdout",
     "output_type": "stream",
     "text": [
      "variable ig_upmappednodecoords not sortable by Cell ID!\n"
     ]
    },
    {
     "name": "stderr",
     "output_type": "stream",
     "text": [
      "28-Sep-24 00:42:57: Found population proton\n"
     ]
    },
    {
     "name": "stdout",
     "output_type": "stream",
     "text": [
      "variable ig_upmappednodecoords not sortable by Cell ID!\n",
      "variable ig_upmappednodecoords not sortable by Cell ID!\n"
     ]
    },
    {
     "name": "stderr",
     "output_type": "stream",
     "text": [
      "28-Sep-24 00:43:01: Found population proton\n",
      "28-Sep-24 00:43:01: Found population proton\n"
     ]
    },
    {
     "name": "stdout",
     "output_type": "stream",
     "text": [
      "variable ig_upmappednodecoords not sortable by Cell ID!\n"
     ]
    },
    {
     "name": "stderr",
     "output_type": "stream",
     "text": [
      "28-Sep-24 00:43:01: Found population proton\n"
     ]
    },
    {
     "name": "stdout",
     "output_type": "stream",
     "text": [
      "variable ig_upmappednodecoords not sortable by Cell ID!\n"
     ]
    },
    {
     "name": "stderr",
     "output_type": "stream",
     "text": [
      "28-Sep-24 00:43:02: Found population proton\n"
     ]
    },
    {
     "name": "stdout",
     "output_type": "stream",
     "text": [
      "variable ig_upmappednodecoords not sortable by Cell ID!\n"
     ]
    },
    {
     "name": "stderr",
     "output_type": "stream",
     "text": [
      "28-Sep-24 00:43:02: Found population proton\n"
     ]
    },
    {
     "name": "stdout",
     "output_type": "stream",
     "text": [
      "variable ig_upmappednodecoords not sortable by Cell ID!\n"
     ]
    },
    {
     "name": "stderr",
     "output_type": "stream",
     "text": [
      "28-Sep-24 00:43:03: Found population proton\n"
     ]
    },
    {
     "name": "stdout",
     "output_type": "stream",
     "text": [
      "variable ig_upmappednodecoords not sortable by Cell ID!\n"
     ]
    },
    {
     "name": "stderr",
     "output_type": "stream",
     "text": [
      "28-Sep-24 00:43:03: Found population proton\n"
     ]
    },
    {
     "name": "stdout",
     "output_type": "stream",
     "text": [
      "variable ig_upmappednodecoords not sortable by Cell ID!\n"
     ]
    },
    {
     "name": "stderr",
     "output_type": "stream",
     "text": [
      "28-Sep-24 00:43:03: Found population proton\n"
     ]
    },
    {
     "name": "stdout",
     "output_type": "stream",
     "text": [
      "variable ig_upmappednodecoords not sortable by Cell ID!\n"
     ]
    },
    {
     "name": "stderr",
     "output_type": "stream",
     "text": [
      "28-Sep-24 00:43:04: Found population proton\n"
     ]
    },
    {
     "name": "stdout",
     "output_type": "stream",
     "text": [
      "variable ig_upmappednodecoords not sortable by Cell ID!\n"
     ]
    },
    {
     "name": "stderr",
     "output_type": "stream",
     "text": [
      "28-Sep-24 00:43:04: Found population proton\n"
     ]
    },
    {
     "name": "stdout",
     "output_type": "stream",
     "text": [
      "variable ig_upmappednodecoords not sortable by Cell ID!\n"
     ]
    },
    {
     "name": "stderr",
     "output_type": "stream",
     "text": [
      "28-Sep-24 00:43:04: Found population proton\n"
     ]
    },
    {
     "name": "stdout",
     "output_type": "stream",
     "text": [
      "variable ig_upmappednodecoords not sortable by Cell ID!\n"
     ]
    },
    {
     "name": "stderr",
     "output_type": "stream",
     "text": [
      "28-Sep-24 00:43:05: Found population proton\n"
     ]
    },
    {
     "name": "stdout",
     "output_type": "stream",
     "text": [
      "variable ig_upmappednodecoords not sortable by Cell ID!\n"
     ]
    },
    {
     "name": "stderr",
     "output_type": "stream",
     "text": [
      "28-Sep-24 00:43:05: Found population proton\n"
     ]
    },
    {
     "name": "stdout",
     "output_type": "stream",
     "text": [
      "variable ig_upmappednodecoords not sortable by Cell ID!\n"
     ]
    },
    {
     "name": "stderr",
     "output_type": "stream",
     "text": [
      "28-Sep-24 00:43:06: Found population proton\n"
     ]
    },
    {
     "name": "stdout",
     "output_type": "stream",
     "text": [
      "variable ig_upmappednodecoords not sortable by Cell ID!\n"
     ]
    },
    {
     "name": "stderr",
     "output_type": "stream",
     "text": [
      "28-Sep-24 00:43:06: Found population proton\n"
     ]
    },
    {
     "name": "stdout",
     "output_type": "stream",
     "text": [
      "variable ig_upmappednodecoords not sortable by Cell ID!\n"
     ]
    },
    {
     "name": "stderr",
     "output_type": "stream",
     "text": [
      "28-Sep-24 00:43:06: Found population proton\n"
     ]
    },
    {
     "name": "stdout",
     "output_type": "stream",
     "text": [
      "variable ig_upmappednodecoords not sortable by Cell ID!\n"
     ]
    },
    {
     "name": "stderr",
     "output_type": "stream",
     "text": [
      "28-Sep-24 00:43:07: Found population proton\n"
     ]
    },
    {
     "name": "stdout",
     "output_type": "stream",
     "text": [
      "variable ig_upmappednodecoords not sortable by Cell ID!\n"
     ]
    },
    {
     "name": "stderr",
     "output_type": "stream",
     "text": [
      "28-Sep-24 00:43:07: Found population proton\n"
     ]
    },
    {
     "name": "stdout",
     "output_type": "stream",
     "text": [
      "variable ig_upmappednodecoords not sortable by Cell ID!\n"
     ]
    },
    {
     "name": "stderr",
     "output_type": "stream",
     "text": [
      "28-Sep-24 00:43:07: Found population proton\n"
     ]
    },
    {
     "name": "stdout",
     "output_type": "stream",
     "text": [
      "variable ig_upmappednodecoords not sortable by Cell ID!\n"
     ]
    },
    {
     "name": "stderr",
     "output_type": "stream",
     "text": [
      "28-Sep-24 00:43:08: Found population proton\n"
     ]
    },
    {
     "name": "stdout",
     "output_type": "stream",
     "text": [
      "variable ig_upmappednodecoords not sortable by Cell ID!\n"
     ]
    },
    {
     "name": "stderr",
     "output_type": "stream",
     "text": [
      "28-Sep-24 00:43:08: Found population proton\n"
     ]
    },
    {
     "name": "stdout",
     "output_type": "stream",
     "text": [
      "variable ig_upmappednodecoords not sortable by Cell ID!\n"
     ]
    },
    {
     "name": "stderr",
     "output_type": "stream",
     "text": [
      "28-Sep-24 00:43:09: Found population proton\n"
     ]
    },
    {
     "name": "stdout",
     "output_type": "stream",
     "text": [
      "variable ig_upmappednodecoords not sortable by Cell ID!\n"
     ]
    },
    {
     "name": "stderr",
     "output_type": "stream",
     "text": [
      "28-Sep-24 00:43:09: Found population proton\n"
     ]
    },
    {
     "name": "stdout",
     "output_type": "stream",
     "text": [
      "variable ig_upmappednodecoords not sortable by Cell ID!\n"
     ]
    },
    {
     "name": "stderr",
     "output_type": "stream",
     "text": [
      "28-Sep-24 00:43:09: Found population proton\n"
     ]
    },
    {
     "name": "stdout",
     "output_type": "stream",
     "text": [
      "variable ig_upmappednodecoords not sortable by Cell ID!\n"
     ]
    },
    {
     "name": "stderr",
     "output_type": "stream",
     "text": [
      "28-Sep-24 00:43:10: Found population proton\n"
     ]
    },
    {
     "name": "stdout",
     "output_type": "stream",
     "text": [
      "variable ig_upmappednodecoords not sortable by Cell ID!\n"
     ]
    },
    {
     "name": "stderr",
     "output_type": "stream",
     "text": [
      "28-Sep-24 00:43:10: Found population proton\n"
     ]
    },
    {
     "name": "stdout",
     "output_type": "stream",
     "text": [
      "variable ig_upmappednodecoords not sortable by Cell ID!\n"
     ]
    },
    {
     "name": "stderr",
     "output_type": "stream",
     "text": [
      "28-Sep-24 00:43:10: Found population proton\n"
     ]
    },
    {
     "name": "stdout",
     "output_type": "stream",
     "text": [
      "variable ig_upmappednodecoords not sortable by Cell ID!\n"
     ]
    },
    {
     "name": "stderr",
     "output_type": "stream",
     "text": [
      "28-Sep-24 00:43:11: Found population proton\n"
     ]
    },
    {
     "name": "stdout",
     "output_type": "stream",
     "text": [
      "variable ig_upmappednodecoords not sortable by Cell ID!\n"
     ]
    },
    {
     "name": "stderr",
     "output_type": "stream",
     "text": [
      "28-Sep-24 00:43:11: Found population proton\n"
     ]
    },
    {
     "name": "stdout",
     "output_type": "stream",
     "text": [
      "variable ig_upmappednodecoords not sortable by Cell ID!\n",
      "variable ig_upmappednodecoords not sortable by Cell ID!\n"
     ]
    },
    {
     "name": "stderr",
     "output_type": "stream",
     "text": [
      "28-Sep-24 00:43:14: Found population proton\n",
      "28-Sep-24 00:43:14: Found population proton\n"
     ]
    },
    {
     "name": "stdout",
     "output_type": "stream",
     "text": [
      "variable ig_upmappednodecoords not sortable by Cell ID!\n"
     ]
    },
    {
     "name": "stderr",
     "output_type": "stream",
     "text": [
      "28-Sep-24 00:43:14: Found population proton\n"
     ]
    },
    {
     "name": "stdout",
     "output_type": "stream",
     "text": [
      "variable ig_upmappednodecoords not sortable by Cell ID!\n"
     ]
    },
    {
     "name": "stderr",
     "output_type": "stream",
     "text": [
      "28-Sep-24 00:43:15: Found population proton\n"
     ]
    },
    {
     "name": "stdout",
     "output_type": "stream",
     "text": [
      "variable ig_upmappednodecoords not sortable by Cell ID!\n"
     ]
    },
    {
     "name": "stderr",
     "output_type": "stream",
     "text": [
      "28-Sep-24 00:43:15: Found population proton\n"
     ]
    },
    {
     "name": "stdout",
     "output_type": "stream",
     "text": [
      "variable ig_upmappednodecoords not sortable by Cell ID!\n"
     ]
    },
    {
     "name": "stderr",
     "output_type": "stream",
     "text": [
      "28-Sep-24 00:43:15: Found population proton\n"
     ]
    },
    {
     "name": "stdout",
     "output_type": "stream",
     "text": [
      "variable ig_upmappednodecoords not sortable by Cell ID!\n"
     ]
    },
    {
     "name": "stderr",
     "output_type": "stream",
     "text": [
      "28-Sep-24 00:43:16: Found population proton\n"
     ]
    },
    {
     "name": "stdout",
     "output_type": "stream",
     "text": [
      "variable ig_upmappednodecoords not sortable by Cell ID!\n"
     ]
    },
    {
     "name": "stderr",
     "output_type": "stream",
     "text": [
      "28-Sep-24 00:43:16: Found population proton\n"
     ]
    },
    {
     "name": "stdout",
     "output_type": "stream",
     "text": [
      "variable ig_upmappednodecoords not sortable by Cell ID!\n"
     ]
    },
    {
     "name": "stderr",
     "output_type": "stream",
     "text": [
      "28-Sep-24 00:43:16: Found population proton\n"
     ]
    },
    {
     "name": "stdout",
     "output_type": "stream",
     "text": [
      "variable ig_upmappednodecoords not sortable by Cell ID!\n"
     ]
    },
    {
     "name": "stderr",
     "output_type": "stream",
     "text": [
      "28-Sep-24 00:43:17: Found population proton\n"
     ]
    },
    {
     "name": "stdout",
     "output_type": "stream",
     "text": [
      "variable ig_upmappednodecoords not sortable by Cell ID!\n"
     ]
    },
    {
     "name": "stderr",
     "output_type": "stream",
     "text": [
      "28-Sep-24 00:43:17: Found population proton\n"
     ]
    },
    {
     "name": "stdout",
     "output_type": "stream",
     "text": [
      "variable ig_upmappednodecoords not sortable by Cell ID!\n"
     ]
    },
    {
     "name": "stderr",
     "output_type": "stream",
     "text": [
      "28-Sep-24 00:43:18: Found population proton\n"
     ]
    },
    {
     "name": "stdout",
     "output_type": "stream",
     "text": [
      "variable ig_upmappednodecoords not sortable by Cell ID!\n"
     ]
    },
    {
     "name": "stderr",
     "output_type": "stream",
     "text": [
      "28-Sep-24 00:43:18: Found population proton\n"
     ]
    },
    {
     "name": "stdout",
     "output_type": "stream",
     "text": [
      "variable ig_upmappednodecoords not sortable by Cell ID!\n"
     ]
    },
    {
     "name": "stderr",
     "output_type": "stream",
     "text": [
      "28-Sep-24 00:43:18: Found population proton\n"
     ]
    },
    {
     "name": "stdout",
     "output_type": "stream",
     "text": [
      "variable ig_upmappednodecoords not sortable by Cell ID!\n"
     ]
    },
    {
     "name": "stderr",
     "output_type": "stream",
     "text": [
      "28-Sep-24 00:43:19: Found population proton\n"
     ]
    },
    {
     "name": "stdout",
     "output_type": "stream",
     "text": [
      "variable ig_upmappednodecoords not sortable by Cell ID!\n"
     ]
    },
    {
     "name": "stderr",
     "output_type": "stream",
     "text": [
      "28-Sep-24 00:43:19: Found population proton\n"
     ]
    },
    {
     "name": "stdout",
     "output_type": "stream",
     "text": [
      "variable ig_upmappednodecoords not sortable by Cell ID!\n"
     ]
    },
    {
     "name": "stderr",
     "output_type": "stream",
     "text": [
      "28-Sep-24 00:43:19: Found population proton\n"
     ]
    },
    {
     "name": "stdout",
     "output_type": "stream",
     "text": [
      "variable ig_upmappednodecoords not sortable by Cell ID!\n"
     ]
    },
    {
     "name": "stderr",
     "output_type": "stream",
     "text": [
      "28-Sep-24 00:43:20: Found population proton\n"
     ]
    },
    {
     "name": "stdout",
     "output_type": "stream",
     "text": [
      "variable ig_upmappednodecoords not sortable by Cell ID!\n"
     ]
    },
    {
     "name": "stderr",
     "output_type": "stream",
     "text": [
      "28-Sep-24 00:43:20: Found population proton\n"
     ]
    },
    {
     "name": "stdout",
     "output_type": "stream",
     "text": [
      "variable ig_upmappednodecoords not sortable by Cell ID!\n"
     ]
    },
    {
     "name": "stderr",
     "output_type": "stream",
     "text": [
      "28-Sep-24 00:43:20: Found population proton\n"
     ]
    },
    {
     "name": "stdout",
     "output_type": "stream",
     "text": [
      "variable ig_upmappednodecoords not sortable by Cell ID!\n"
     ]
    },
    {
     "name": "stderr",
     "output_type": "stream",
     "text": [
      "28-Sep-24 00:43:21: Found population proton\n"
     ]
    },
    {
     "name": "stdout",
     "output_type": "stream",
     "text": [
      "variable ig_upmappednodecoords not sortable by Cell ID!\n"
     ]
    },
    {
     "name": "stderr",
     "output_type": "stream",
     "text": [
      "28-Sep-24 00:43:21: Found population proton\n"
     ]
    },
    {
     "name": "stdout",
     "output_type": "stream",
     "text": [
      "variable ig_upmappednodecoords not sortable by Cell ID!\n"
     ]
    },
    {
     "name": "stderr",
     "output_type": "stream",
     "text": [
      "28-Sep-24 00:43:21: Found population proton\n"
     ]
    },
    {
     "name": "stdout",
     "output_type": "stream",
     "text": [
      "variable ig_upmappednodecoords not sortable by Cell ID!\n"
     ]
    },
    {
     "name": "stderr",
     "output_type": "stream",
     "text": [
      "28-Sep-24 00:43:22: Found population proton\n"
     ]
    },
    {
     "name": "stdout",
     "output_type": "stream",
     "text": [
      "variable ig_upmappednodecoords not sortable by Cell ID!\n"
     ]
    },
    {
     "name": "stderr",
     "output_type": "stream",
     "text": [
      "28-Sep-24 00:43:22: Found population proton\n"
     ]
    },
    {
     "name": "stdout",
     "output_type": "stream",
     "text": [
      "variable ig_upmappednodecoords not sortable by Cell ID!\n"
     ]
    },
    {
     "name": "stderr",
     "output_type": "stream",
     "text": [
      "28-Sep-24 00:43:23: Found population proton\n"
     ]
    },
    {
     "name": "stdout",
     "output_type": "stream",
     "text": [
      "variable ig_upmappednodecoords not sortable by Cell ID!\n"
     ]
    },
    {
     "name": "stderr",
     "output_type": "stream",
     "text": [
      "28-Sep-24 00:43:23: Found population proton\n"
     ]
    },
    {
     "name": "stdout",
     "output_type": "stream",
     "text": [
      "variable ig_upmappednodecoords not sortable by Cell ID!\n"
     ]
    },
    {
     "name": "stderr",
     "output_type": "stream",
     "text": [
      "28-Sep-24 00:43:23: Found population proton\n"
     ]
    },
    {
     "name": "stdout",
     "output_type": "stream",
     "text": [
      "variable ig_upmappednodecoords not sortable by Cell ID!\n"
     ]
    },
    {
     "name": "stderr",
     "output_type": "stream",
     "text": [
      "28-Sep-24 00:43:24: Found population proton\n"
     ]
    },
    {
     "name": "stdout",
     "output_type": "stream",
     "text": [
      "variable ig_upmappednodecoords not sortable by Cell ID!\n"
     ]
    },
    {
     "name": "stderr",
     "output_type": "stream",
     "text": [
      "28-Sep-24 00:43:24: Found population proton\n"
     ]
    },
    {
     "name": "stdout",
     "output_type": "stream",
     "text": [
      "variable ig_upmappednodecoords not sortable by Cell ID!\n"
     ]
    },
    {
     "name": "stderr",
     "output_type": "stream",
     "text": [
      "28-Sep-24 00:43:24: Found population proton\n"
     ]
    },
    {
     "name": "stdout",
     "output_type": "stream",
     "text": [
      "variable ig_upmappednodecoords not sortable by Cell ID!\n"
     ]
    },
    {
     "name": "stderr",
     "output_type": "stream",
     "text": [
      "28-Sep-24 00:43:25: Found population proton\n"
     ]
    },
    {
     "name": "stdout",
     "output_type": "stream",
     "text": [
      "variable ig_upmappednodecoords not sortable by Cell ID!\n"
     ]
    },
    {
     "name": "stderr",
     "output_type": "stream",
     "text": [
      "28-Sep-24 00:43:25: Found population proton\n"
     ]
    },
    {
     "name": "stdout",
     "output_type": "stream",
     "text": [
      "variable ig_upmappednodecoords not sortable by Cell ID!\n"
     ]
    },
    {
     "name": "stderr",
     "output_type": "stream",
     "text": [
      "28-Sep-24 00:43:26: Found population proton\n"
     ]
    },
    {
     "name": "stdout",
     "output_type": "stream",
     "text": [
      "variable ig_upmappednodecoords not sortable by Cell ID!\n"
     ]
    },
    {
     "name": "stderr",
     "output_type": "stream",
     "text": [
      "28-Sep-24 00:43:26: Found population proton\n"
     ]
    },
    {
     "name": "stdout",
     "output_type": "stream",
     "text": [
      "variable ig_upmappednodecoords not sortable by Cell ID!\n"
     ]
    },
    {
     "name": "stderr",
     "output_type": "stream",
     "text": [
      "28-Sep-24 00:43:29: Found population proton\n"
     ]
    },
    {
     "name": "stdout",
     "output_type": "stream",
     "text": [
      "variable ig_upmappednodecoords not sortable by Cell ID!\n"
     ]
    },
    {
     "name": "stderr",
     "output_type": "stream",
     "text": [
      "28-Sep-24 00:43:29: Found population proton\n"
     ]
    },
    {
     "name": "stdout",
     "output_type": "stream",
     "text": [
      "variable ig_upmappednodecoords not sortable by Cell ID!\n"
     ]
    },
    {
     "name": "stderr",
     "output_type": "stream",
     "text": [
      "28-Sep-24 00:43:29: Found population proton\n"
     ]
    },
    {
     "name": "stdout",
     "output_type": "stream",
     "text": [
      "variable ig_upmappednodecoords not sortable by Cell ID!\n"
     ]
    },
    {
     "name": "stderr",
     "output_type": "stream",
     "text": [
      "28-Sep-24 00:43:30: Found population proton\n"
     ]
    },
    {
     "name": "stdout",
     "output_type": "stream",
     "text": [
      "variable ig_upmappednodecoords not sortable by Cell ID!\n"
     ]
    },
    {
     "name": "stderr",
     "output_type": "stream",
     "text": [
      "28-Sep-24 00:43:30: Found population proton\n"
     ]
    },
    {
     "name": "stdout",
     "output_type": "stream",
     "text": [
      "variable ig_upmappednodecoords not sortable by Cell ID!\n"
     ]
    },
    {
     "name": "stderr",
     "output_type": "stream",
     "text": [
      "28-Sep-24 00:43:31: Found population proton\n"
     ]
    },
    {
     "name": "stdout",
     "output_type": "stream",
     "text": [
      "variable ig_upmappednodecoords not sortable by Cell ID!\n"
     ]
    },
    {
     "name": "stderr",
     "output_type": "stream",
     "text": [
      "28-Sep-24 00:43:31: Found population proton\n"
     ]
    },
    {
     "name": "stdout",
     "output_type": "stream",
     "text": [
      "variable ig_upmappednodecoords not sortable by Cell ID!\n"
     ]
    },
    {
     "name": "stderr",
     "output_type": "stream",
     "text": [
      "28-Sep-24 00:43:31: Found population proton\n"
     ]
    },
    {
     "name": "stdout",
     "output_type": "stream",
     "text": [
      "variable ig_upmappednodecoords not sortable by Cell ID!\n"
     ]
    },
    {
     "name": "stderr",
     "output_type": "stream",
     "text": [
      "28-Sep-24 00:43:32: Found population proton\n"
     ]
    },
    {
     "name": "stdout",
     "output_type": "stream",
     "text": [
      "variable ig_upmappednodecoords not sortable by Cell ID!\n"
     ]
    },
    {
     "name": "stderr",
     "output_type": "stream",
     "text": [
      "28-Sep-24 00:43:32: Found population proton\n"
     ]
    },
    {
     "name": "stdout",
     "output_type": "stream",
     "text": [
      "variable ig_upmappednodecoords not sortable by Cell ID!\n"
     ]
    },
    {
     "name": "stderr",
     "output_type": "stream",
     "text": [
      "28-Sep-24 00:43:33: Found population proton\n"
     ]
    },
    {
     "name": "stdout",
     "output_type": "stream",
     "text": [
      "variable ig_upmappednodecoords not sortable by Cell ID!\n"
     ]
    },
    {
     "name": "stderr",
     "output_type": "stream",
     "text": [
      "28-Sep-24 00:43:33: Found population proton\n"
     ]
    },
    {
     "name": "stdout",
     "output_type": "stream",
     "text": [
      "variable ig_upmappednodecoords not sortable by Cell ID!\n"
     ]
    },
    {
     "name": "stderr",
     "output_type": "stream",
     "text": [
      "28-Sep-24 00:43:33: Found population proton\n"
     ]
    },
    {
     "name": "stdout",
     "output_type": "stream",
     "text": [
      "variable ig_upmappednodecoords not sortable by Cell ID!\n"
     ]
    },
    {
     "name": "stderr",
     "output_type": "stream",
     "text": [
      "28-Sep-24 00:43:34: Found population proton\n"
     ]
    },
    {
     "name": "stdout",
     "output_type": "stream",
     "text": [
      "variable ig_upmappednodecoords not sortable by Cell ID!\n"
     ]
    },
    {
     "name": "stderr",
     "output_type": "stream",
     "text": [
      "28-Sep-24 00:43:38: Found population proton\n"
     ]
    },
    {
     "name": "stdout",
     "output_type": "stream",
     "text": [
      "variable ig_upmappednodecoords not sortable by Cell ID!\n"
     ]
    },
    {
     "name": "stderr",
     "output_type": "stream",
     "text": [
      "28-Sep-24 00:43:38: Found population proton\n"
     ]
    },
    {
     "name": "stdout",
     "output_type": "stream",
     "text": [
      "variable ig_upmappednodecoords not sortable by Cell ID!\n"
     ]
    },
    {
     "name": "stderr",
     "output_type": "stream",
     "text": [
      "28-Sep-24 00:43:38: Found population proton\n"
     ]
    },
    {
     "name": "stdout",
     "output_type": "stream",
     "text": [
      "variable ig_upmappednodecoords not sortable by Cell ID!\n"
     ]
    },
    {
     "name": "stderr",
     "output_type": "stream",
     "text": [
      "28-Sep-24 00:43:39: Found population proton\n"
     ]
    },
    {
     "name": "stdout",
     "output_type": "stream",
     "text": [
      "variable ig_upmappednodecoords not sortable by Cell ID!\n"
     ]
    },
    {
     "name": "stderr",
     "output_type": "stream",
     "text": [
      "28-Sep-24 00:43:39: Found population proton\n"
     ]
    },
    {
     "name": "stdout",
     "output_type": "stream",
     "text": [
      "variable ig_upmappednodecoords not sortable by Cell ID!\n"
     ]
    },
    {
     "name": "stderr",
     "output_type": "stream",
     "text": [
      "28-Sep-24 00:43:40: Found population proton\n"
     ]
    },
    {
     "name": "stdout",
     "output_type": "stream",
     "text": [
      "variable ig_upmappednodecoords not sortable by Cell ID!\n"
     ]
    },
    {
     "name": "stderr",
     "output_type": "stream",
     "text": [
      "28-Sep-24 00:43:44: Found population proton\n"
     ]
    },
    {
     "name": "stdout",
     "output_type": "stream",
     "text": [
      "variable ig_upmappednodecoords not sortable by Cell ID!\n"
     ]
    },
    {
     "name": "stderr",
     "output_type": "stream",
     "text": [
      "28-Sep-24 00:43:46: Found population proton\n"
     ]
    },
    {
     "name": "stdout",
     "output_type": "stream",
     "text": [
      "variable ig_upmappednodecoords not sortable by Cell ID!\n"
     ]
    },
    {
     "name": "stderr",
     "output_type": "stream",
     "text": [
      "28-Sep-24 00:43:46: Found population proton\n"
     ]
    },
    {
     "name": "stdout",
     "output_type": "stream",
     "text": [
      "variable ig_upmappednodecoords not sortable by Cell ID!\n",
      "variable ig_upmappednodecoords not sortable by Cell ID!\n"
     ]
    },
    {
     "name": "stderr",
     "output_type": "stream",
     "text": [
      "28-Sep-24 00:43:51: Found population proton\n",
      "28-Sep-24 00:43:51: Found population proton\n"
     ]
    },
    {
     "name": "stdout",
     "output_type": "stream",
     "text": [
      "variable ig_upmappednodecoords not sortable by Cell ID!\n"
     ]
    },
    {
     "name": "stderr",
     "output_type": "stream",
     "text": [
      "28-Sep-24 00:43:51: Found population proton\n"
     ]
    },
    {
     "name": "stdout",
     "output_type": "stream",
     "text": [
      "variable ig_upmappednodecoords not sortable by Cell ID!\n"
     ]
    },
    {
     "name": "stderr",
     "output_type": "stream",
     "text": [
      "28-Sep-24 00:43:52: Found population proton\n"
     ]
    },
    {
     "name": "stdout",
     "output_type": "stream",
     "text": [
      "variable ig_upmappednodecoords not sortable by Cell ID!\n"
     ]
    },
    {
     "name": "stderr",
     "output_type": "stream",
     "text": [
      "28-Sep-24 00:43:52: Found population proton\n"
     ]
    },
    {
     "name": "stdout",
     "output_type": "stream",
     "text": [
      "variable ig_upmappednodecoords not sortable by Cell ID!\n"
     ]
    },
    {
     "name": "stderr",
     "output_type": "stream",
     "text": [
      "28-Sep-24 00:43:53: Found population proton\n"
     ]
    },
    {
     "name": "stdout",
     "output_type": "stream",
     "text": [
      "variable ig_upmappednodecoords not sortable by Cell ID!\n"
     ]
    },
    {
     "name": "stderr",
     "output_type": "stream",
     "text": [
      "28-Sep-24 00:43:57: Found population proton\n"
     ]
    },
    {
     "name": "stdout",
     "output_type": "stream",
     "text": [
      "variable ig_upmappednodecoords not sortable by Cell ID!\n"
     ]
    },
    {
     "name": "stderr",
     "output_type": "stream",
     "text": [
      "28-Sep-24 00:43:57: Found population proton\n"
     ]
    },
    {
     "name": "stdout",
     "output_type": "stream",
     "text": [
      "variable ig_upmappednodecoords not sortable by Cell ID!\n"
     ]
    },
    {
     "name": "stderr",
     "output_type": "stream",
     "text": [
      "28-Sep-24 00:43:58: Found population proton\n"
     ]
    },
    {
     "name": "stdout",
     "output_type": "stream",
     "text": [
      "variable ig_upmappednodecoords not sortable by Cell ID!\n"
     ]
    },
    {
     "name": "stderr",
     "output_type": "stream",
     "text": [
      "28-Sep-24 00:43:58: Found population proton\n"
     ]
    },
    {
     "name": "stdout",
     "output_type": "stream",
     "text": [
      "variable ig_upmappednodecoords not sortable by Cell ID!\n"
     ]
    },
    {
     "name": "stderr",
     "output_type": "stream",
     "text": [
      "28-Sep-24 00:43:58: Found population proton\n"
     ]
    },
    {
     "name": "stdout",
     "output_type": "stream",
     "text": [
      "variable ig_upmappednodecoords not sortable by Cell ID!\n"
     ]
    },
    {
     "name": "stderr",
     "output_type": "stream",
     "text": [
      "28-Sep-24 00:43:59: Found population proton\n"
     ]
    },
    {
     "name": "stdout",
     "output_type": "stream",
     "text": [
      "variable ig_upmappednodecoords not sortable by Cell ID!\n"
     ]
    },
    {
     "name": "stderr",
     "output_type": "stream",
     "text": [
      "28-Sep-24 00:43:59: Found population proton\n"
     ]
    },
    {
     "name": "stdout",
     "output_type": "stream",
     "text": [
      "variable ig_upmappednodecoords not sortable by Cell ID!\n"
     ]
    },
    {
     "name": "stderr",
     "output_type": "stream",
     "text": [
      "28-Sep-24 00:43:59: Found population proton\n"
     ]
    },
    {
     "name": "stdout",
     "output_type": "stream",
     "text": [
      "variable ig_upmappednodecoords not sortable by Cell ID!\n"
     ]
    },
    {
     "name": "stderr",
     "output_type": "stream",
     "text": [
      "28-Sep-24 00:44:00: Found population proton\n"
     ]
    },
    {
     "name": "stdout",
     "output_type": "stream",
     "text": [
      "variable ig_upmappednodecoords not sortable by Cell ID!\n"
     ]
    },
    {
     "name": "stderr",
     "output_type": "stream",
     "text": [
      "28-Sep-24 00:44:00: Found population proton\n"
     ]
    },
    {
     "name": "stdout",
     "output_type": "stream",
     "text": [
      "variable ig_upmappednodecoords not sortable by Cell ID!\n"
     ]
    },
    {
     "name": "stderr",
     "output_type": "stream",
     "text": [
      "28-Sep-24 00:44:01: Found population proton\n"
     ]
    },
    {
     "name": "stdout",
     "output_type": "stream",
     "text": [
      "variable ig_upmappednodecoords not sortable by Cell ID!\n"
     ]
    },
    {
     "name": "stderr",
     "output_type": "stream",
     "text": [
      "28-Sep-24 00:44:01: Found population proton\n"
     ]
    },
    {
     "name": "stdout",
     "output_type": "stream",
     "text": [
      "variable ig_upmappednodecoords not sortable by Cell ID!\n"
     ]
    },
    {
     "name": "stderr",
     "output_type": "stream",
     "text": [
      "28-Sep-24 00:44:01: Found population proton\n"
     ]
    },
    {
     "name": "stdout",
     "output_type": "stream",
     "text": [
      "variable ig_upmappednodecoords not sortable by Cell ID!\n"
     ]
    },
    {
     "name": "stderr",
     "output_type": "stream",
     "text": [
      "28-Sep-24 00:44:02: Found population proton\n"
     ]
    },
    {
     "name": "stdout",
     "output_type": "stream",
     "text": [
      "variable ig_upmappednodecoords not sortable by Cell ID!\n"
     ]
    },
    {
     "name": "stderr",
     "output_type": "stream",
     "text": [
      "28-Sep-24 00:44:02: Found population proton\n"
     ]
    },
    {
     "name": "stdout",
     "output_type": "stream",
     "text": [
      "variable ig_upmappednodecoords not sortable by Cell ID!\n"
     ]
    },
    {
     "name": "stderr",
     "output_type": "stream",
     "text": [
      "28-Sep-24 00:44:02: Found population proton\n"
     ]
    },
    {
     "name": "stdout",
     "output_type": "stream",
     "text": [
      "variable ig_upmappednodecoords not sortable by Cell ID!\n"
     ]
    },
    {
     "name": "stderr",
     "output_type": "stream",
     "text": [
      "28-Sep-24 00:44:03: Found population proton\n"
     ]
    },
    {
     "name": "stdout",
     "output_type": "stream",
     "text": [
      "variable ig_upmappednodecoords not sortable by Cell ID!\n"
     ]
    },
    {
     "name": "stderr",
     "output_type": "stream",
     "text": [
      "28-Sep-24 00:44:03: Found population proton\n"
     ]
    },
    {
     "name": "stdout",
     "output_type": "stream",
     "text": [
      "variable ig_upmappednodecoords not sortable by Cell ID!\n"
     ]
    },
    {
     "name": "stderr",
     "output_type": "stream",
     "text": [
      "28-Sep-24 00:44:04: Found population proton\n"
     ]
    },
    {
     "name": "stdout",
     "output_type": "stream",
     "text": [
      "variable ig_upmappednodecoords not sortable by Cell ID!\n"
     ]
    },
    {
     "name": "stderr",
     "output_type": "stream",
     "text": [
      "28-Sep-24 00:44:04: Found population proton\n"
     ]
    },
    {
     "name": "stdout",
     "output_type": "stream",
     "text": [
      "variable ig_upmappednodecoords not sortable by Cell ID!\n"
     ]
    },
    {
     "name": "stderr",
     "output_type": "stream",
     "text": [
      "28-Sep-24 00:44:04: Found population proton\n"
     ]
    },
    {
     "name": "stdout",
     "output_type": "stream",
     "text": [
      "variable ig_upmappednodecoords not sortable by Cell ID!\n"
     ]
    },
    {
     "name": "stderr",
     "output_type": "stream",
     "text": [
      "28-Sep-24 00:44:05: Found population proton\n"
     ]
    },
    {
     "name": "stdout",
     "output_type": "stream",
     "text": [
      "variable ig_upmappednodecoords not sortable by Cell ID!\n"
     ]
    },
    {
     "name": "stderr",
     "output_type": "stream",
     "text": [
      "28-Sep-24 00:44:05: Found population proton\n"
     ]
    },
    {
     "name": "stdout",
     "output_type": "stream",
     "text": [
      "variable ig_upmappednodecoords not sortable by Cell ID!\n"
     ]
    },
    {
     "name": "stderr",
     "output_type": "stream",
     "text": [
      "28-Sep-24 00:44:06: Found population proton\n"
     ]
    },
    {
     "name": "stdout",
     "output_type": "stream",
     "text": [
      "variable ig_upmappednodecoords not sortable by Cell ID!\n"
     ]
    },
    {
     "name": "stderr",
     "output_type": "stream",
     "text": [
      "28-Sep-24 00:44:06: Found population proton\n"
     ]
    },
    {
     "name": "stdout",
     "output_type": "stream",
     "text": [
      "variable ig_upmappednodecoords not sortable by Cell ID!\n"
     ]
    },
    {
     "name": "stderr",
     "output_type": "stream",
     "text": [
      "28-Sep-24 00:44:06: Found population proton\n"
     ]
    },
    {
     "name": "stdout",
     "output_type": "stream",
     "text": [
      "variable ig_upmappednodecoords not sortable by Cell ID!\n"
     ]
    },
    {
     "name": "stderr",
     "output_type": "stream",
     "text": [
      "28-Sep-24 00:44:07: Found population proton\n"
     ]
    },
    {
     "name": "stdout",
     "output_type": "stream",
     "text": [
      "variable ig_upmappednodecoords not sortable by Cell ID!\n"
     ]
    },
    {
     "name": "stderr",
     "output_type": "stream",
     "text": [
      "28-Sep-24 00:44:07: Found population proton\n"
     ]
    },
    {
     "name": "stdout",
     "output_type": "stream",
     "text": [
      "variable ig_upmappednodecoords not sortable by Cell ID!\n"
     ]
    },
    {
     "name": "stderr",
     "output_type": "stream",
     "text": [
      "28-Sep-24 00:44:08: Found population proton\n"
     ]
    },
    {
     "name": "stdout",
     "output_type": "stream",
     "text": [
      "variable ig_upmappednodecoords not sortable by Cell ID!\n"
     ]
    },
    {
     "name": "stderr",
     "output_type": "stream",
     "text": [
      "28-Sep-24 00:44:08: Found population proton\n"
     ]
    },
    {
     "name": "stdout",
     "output_type": "stream",
     "text": [
      "variable ig_upmappednodecoords not sortable by Cell ID!\n"
     ]
    },
    {
     "name": "stderr",
     "output_type": "stream",
     "text": [
      "28-Sep-24 00:44:08: Found population proton\n",
      "28-Sep-24 00:44:09: Found population proton\n",
      "28-Sep-24 00:44:09: Found population proton\n",
      "28-Sep-24 00:44:10: Found population proton\n",
      "28-Sep-24 00:44:10: Found population proton\n",
      "28-Sep-24 00:44:11: Found population proton\n",
      "28-Sep-24 00:44:11: Found population proton\n",
      "28-Sep-24 00:44:12: Found population proton\n",
      "28-Sep-24 00:44:12: Found population proton\n",
      "28-Sep-24 00:44:13: Found population proton\n",
      "28-Sep-24 00:44:13: Found population proton\n",
      "28-Sep-24 00:44:14: Found population proton\n",
      "28-Sep-24 00:44:14: Found population proton\n",
      "28-Sep-24 00:44:15: Found population proton\n",
      "28-Sep-24 00:44:15: Found population proton\n",
      "28-Sep-24 00:44:16: Found population proton\n",
      "28-Sep-24 00:44:16: Found population proton\n",
      "28-Sep-24 00:44:17: Found population proton\n",
      "28-Sep-24 00:44:17: Found population proton\n",
      "28-Sep-24 00:44:18: Found population proton\n",
      "28-Sep-24 00:44:18: Found population proton\n",
      "28-Sep-24 00:44:19: Found population proton\n",
      "28-Sep-24 00:44:19: Found population proton\n",
      "28-Sep-24 00:44:20: Found population proton\n",
      "28-Sep-24 00:44:20: Found population proton\n",
      "28-Sep-24 00:44:21: Found population proton\n",
      "28-Sep-24 00:44:21: Found population proton\n",
      "28-Sep-24 00:44:22: Found population proton\n",
      "28-Sep-24 00:44:22: Found population proton\n",
      "28-Sep-24 00:44:23: Found population proton\n",
      "28-Sep-24 00:44:23: Found population proton\n",
      "28-Sep-24 00:44:24: Found population proton\n",
      "28-Sep-24 00:44:24: Found population proton\n",
      "28-Sep-24 00:44:25: Found population proton\n",
      "28-Sep-24 00:44:25: Found population proton\n",
      "28-Sep-24 00:44:26: Found population proton\n",
      "28-Sep-24 00:44:26: Found population proton\n",
      "28-Sep-24 00:44:26: Found population proton\n",
      "28-Sep-24 00:44:27: Found population proton\n",
      "28-Sep-24 00:44:28: Found population proton\n",
      "28-Sep-24 00:44:28: Found population proton\n",
      "28-Sep-24 00:44:29: Found population proton\n",
      "28-Sep-24 00:44:29: Found population proton\n",
      "28-Sep-24 00:44:30: Found population proton\n",
      "28-Sep-24 00:44:30: Found population proton\n",
      "28-Sep-24 00:44:31: Found population proton\n",
      "28-Sep-24 00:44:31: Found population proton\n",
      "28-Sep-24 00:44:31: Found population proton\n",
      "28-Sep-24 00:44:32: Found population proton\n",
      "28-Sep-24 00:44:32: Found population proton\n",
      "28-Sep-24 00:44:33: Found population proton\n",
      "28-Sep-24 00:44:33: Found population proton\n",
      "28-Sep-24 00:44:34: Found population proton\n",
      "28-Sep-24 00:44:34: Found population proton\n",
      "28-Sep-24 00:44:35: Found population proton\n",
      "28-Sep-24 00:44:36: Found population proton\n",
      "28-Sep-24 00:44:36: Found population proton\n",
      "28-Sep-24 00:44:37: Found population proton\n",
      "28-Sep-24 00:44:37: Found population proton\n",
      "28-Sep-24 00:44:38: Found population proton\n",
      "28-Sep-24 00:44:38: Found population proton\n",
      "28-Sep-24 00:44:38: Found population proton\n",
      "28-Sep-24 00:44:39: Found population proton\n",
      "28-Sep-24 00:44:39: Found population proton\n",
      "28-Sep-24 00:44:40: Found population proton\n",
      "28-Sep-24 00:44:40: Found population proton\n",
      "28-Sep-24 00:44:41: Found population proton\n",
      "28-Sep-24 00:44:41: Found population proton\n",
      "28-Sep-24 00:44:42: Found population proton\n",
      "28-Sep-24 00:44:42: Found population proton\n",
      "28-Sep-24 00:44:43: Found population proton\n",
      "28-Sep-24 00:44:43: Found population proton\n",
      "28-Sep-24 00:44:44: Found population proton\n",
      "28-Sep-24 00:44:44: Found population proton\n",
      "28-Sep-24 00:44:45: Found population proton\n",
      "28-Sep-24 00:44:45: Found population proton\n",
      "28-Sep-24 00:44:46: Found population proton\n",
      "28-Sep-24 00:44:46: Found population proton\n",
      "28-Sep-24 00:44:47: Found population proton\n",
      "28-Sep-24 00:44:47: Found population proton\n",
      "28-Sep-24 00:44:48: Found population proton\n",
      "28-Sep-24 00:44:48: Found population proton\n",
      "28-Sep-24 00:44:49: Found population proton\n",
      "28-Sep-24 00:44:49: Found population proton\n",
      "28-Sep-24 00:44:50: Found population proton\n",
      "28-Sep-24 00:44:50: Found population proton\n",
      "28-Sep-24 00:44:51: Found population proton\n",
      "28-Sep-24 00:44:51: Found population proton\n",
      "28-Sep-24 00:44:52: Found population proton\n",
      "28-Sep-24 00:44:52: Found population proton\n",
      "28-Sep-24 00:44:53: Found population proton\n",
      "28-Sep-24 00:44:53: Found population proton\n",
      "28-Sep-24 00:44:57: Found population proton\n",
      "28-Sep-24 00:44:57: Found population proton\n",
      "28-Sep-24 00:44:58: Found population proton\n",
      "28-Sep-24 00:44:58: Found population proton\n",
      "28-Sep-24 00:44:59: Found population proton\n",
      "28-Sep-24 00:44:59: Found population proton\n",
      "28-Sep-24 00:45:00: Found population proton\n",
      "28-Sep-24 00:45:00: Found population proton\n",
      "28-Sep-24 00:45:01: Found population proton\n",
      "28-Sep-24 00:45:05: Found population proton\n",
      "28-Sep-24 00:45:06: Found population proton\n",
      "28-Sep-24 00:45:06: Found population proton\n",
      "28-Sep-24 00:45:07: Found population proton\n",
      "28-Sep-24 00:45:07: Found population proton\n",
      "28-Sep-24 00:45:08: Found population proton\n",
      "28-Sep-24 00:45:08: Found population proton\n",
      "28-Sep-24 00:45:09: Found population proton\n",
      "28-Sep-24 00:45:09: Found population proton\n",
      "28-Sep-24 00:45:10: Found population proton\n",
      "28-Sep-24 00:45:10: Found population proton\n",
      "28-Sep-24 00:45:11: Found population proton\n",
      "28-Sep-24 00:45:11: Found population proton\n",
      "28-Sep-24 00:45:12: Found population proton\n",
      "28-Sep-24 00:45:12: Found population proton\n",
      "28-Sep-24 00:45:13: Found population proton\n",
      "28-Sep-24 00:45:13: Found population proton\n",
      "28-Sep-24 00:45:14: Found population proton\n",
      "28-Sep-24 00:45:14: Found population proton\n",
      "28-Sep-24 00:45:15: Found population proton\n",
      "28-Sep-24 00:45:15: Found population proton\n",
      "28-Sep-24 00:45:16: Found population proton\n",
      "28-Sep-24 00:45:16: Found population proton\n",
      "28-Sep-24 00:45:17: Found population proton\n",
      "28-Sep-24 00:45:17: Found population proton\n",
      "28-Sep-24 00:45:18: Found population proton\n",
      "28-Sep-24 00:45:18: Found population proton\n",
      "28-Sep-24 00:45:19: Found population proton\n",
      "28-Sep-24 00:45:19: Found population proton\n",
      "28-Sep-24 00:45:20: Found population proton\n",
      "28-Sep-24 00:45:20: Found population proton\n",
      "28-Sep-24 00:45:21: Found population proton\n",
      "28-Sep-24 00:45:21: Found population proton\n",
      "28-Sep-24 00:45:22: Found population proton\n",
      "28-Sep-24 00:45:22: Found population proton\n",
      "28-Sep-24 00:45:23: Found population proton\n",
      "28-Sep-24 00:45:23: Found population proton\n",
      "28-Sep-24 00:45:24: Found population proton\n",
      "28-Sep-24 00:45:24: Found population proton\n",
      "28-Sep-24 00:45:25: Found population proton\n",
      "28-Sep-24 00:45:25: Found population proton\n",
      "28-Sep-24 00:45:26: Found population proton\n",
      "28-Sep-24 00:45:26: Found population proton\n",
      "28-Sep-24 00:45:27: Found population proton\n",
      "28-Sep-24 00:45:27: Found population proton\n",
      "28-Sep-24 00:45:28: Found population proton\n",
      "28-Sep-24 00:45:28: Found population proton\n",
      "28-Sep-24 00:45:29: Found population proton\n",
      "28-Sep-24 00:45:29: Found population proton\n",
      "28-Sep-24 00:45:30: Found population proton\n",
      "28-Sep-24 00:45:30: Found population proton\n",
      "28-Sep-24 00:45:31: Found population proton\n",
      "28-Sep-24 00:45:31: Found population proton\n",
      "28-Sep-24 00:45:32: Found population proton\n",
      "28-Sep-24 00:45:32: Found population proton\n",
      "28-Sep-24 00:45:33: Found population proton\n",
      "28-Sep-24 00:45:33: Found population proton\n",
      "28-Sep-24 00:45:34: Found population proton\n",
      "28-Sep-24 00:45:34: Found population proton\n",
      "28-Sep-24 00:45:35: Found population proton\n",
      "28-Sep-24 00:45:35: Found population proton\n",
      "28-Sep-24 00:45:35: Found population proton\n",
      "28-Sep-24 00:45:36: Found population proton\n",
      "28-Sep-24 00:45:36: Found population proton\n",
      "28-Sep-24 00:45:37: Found population proton\n",
      "28-Sep-24 00:45:37: Found population proton\n",
      "28-Sep-24 00:45:38: Found population proton\n",
      "28-Sep-24 00:45:38: Found population proton\n",
      "28-Sep-24 00:45:39: Found population proton\n",
      "28-Sep-24 00:45:39: Found population proton\n",
      "28-Sep-24 00:45:40: Found population proton\n",
      "28-Sep-24 00:45:40: Found population proton\n",
      "28-Sep-24 00:45:41: Found population proton\n",
      "28-Sep-24 00:45:41: Found population proton\n",
      "28-Sep-24 00:45:42: Found population proton\n",
      "28-Sep-24 00:45:42: Found population proton\n",
      "28-Sep-24 00:45:43: Found population proton\n",
      "28-Sep-24 00:45:43: Found population proton\n",
      "28-Sep-24 00:45:44: Found population proton\n",
      "28-Sep-24 00:45:44: Found population proton\n",
      "28-Sep-24 00:45:45: Found population proton\n",
      "28-Sep-24 00:45:45: Found population proton\n",
      "28-Sep-24 00:45:46: Found population proton\n",
      "28-Sep-24 00:45:46: Found population proton\n",
      "28-Sep-24 00:45:47: Found population proton\n",
      "28-Sep-24 00:45:47: Found population proton\n",
      "28-Sep-24 00:45:48: Found population proton\n",
      "28-Sep-24 00:45:48: Found population proton\n",
      "28-Sep-24 00:45:49: Found population proton\n",
      "28-Sep-24 00:45:49: Found population proton\n",
      "28-Sep-24 00:45:50: Found population proton\n",
      "28-Sep-24 00:45:50: Found population proton\n",
      "28-Sep-24 00:45:51: Found population proton\n",
      "28-Sep-24 00:45:51: Found population proton\n",
      "28-Sep-24 00:45:52: Found population proton\n",
      "28-Sep-24 00:45:52: Found population proton\n",
      "28-Sep-24 00:45:53: Found population proton\n",
      "28-Sep-24 00:45:53: Found population proton\n",
      "28-Sep-24 00:45:54: Found population proton\n",
      "28-Sep-24 00:45:54: Found population proton\n",
      "28-Sep-24 00:45:55: Found population proton\n",
      "28-Sep-24 00:45:55: Found population proton\n",
      "28-Sep-24 00:45:55: Found population proton\n",
      "28-Sep-24 00:45:56: Found population proton\n",
      "28-Sep-24 00:45:56: Found population proton\n",
      "28-Sep-24 00:45:57: Found population proton\n",
      "28-Sep-24 00:45:57: Found population proton\n",
      "28-Sep-24 00:45:58: Found population proton\n",
      "28-Sep-24 00:45:58: Found population proton\n",
      "28-Sep-24 00:45:59: Found population proton\n",
      "28-Sep-24 00:45:59: Found population proton\n",
      "28-Sep-24 00:46:00: Found population proton\n",
      "28-Sep-24 00:46:00: Found population proton\n",
      "28-Sep-24 00:46:01: Found population proton\n",
      "28-Sep-24 00:46:01: Found population proton\n",
      "28-Sep-24 00:46:02: Found population proton\n",
      "28-Sep-24 00:46:02: Found population proton\n",
      "28-Sep-24 00:46:03: Found population proton\n",
      "28-Sep-24 00:46:03: Found population proton\n",
      "28-Sep-24 00:46:04: Found population proton\n",
      "28-Sep-24 00:46:04: Found population proton\n",
      "28-Sep-24 00:46:05: Found population proton\n",
      "28-Sep-24 00:46:05: Found population proton\n",
      "28-Sep-24 00:46:06: Found population proton\n",
      "28-Sep-24 00:46:06: Found population proton\n",
      "28-Sep-24 00:46:07: Found population proton\n",
      "28-Sep-24 00:46:07: Found population proton\n",
      "28-Sep-24 00:46:08: Found population proton\n",
      "28-Sep-24 00:46:08: Found population proton\n",
      "28-Sep-24 00:46:09: Found population proton\n",
      "28-Sep-24 00:46:09: Found population proton\n",
      "28-Sep-24 00:46:10: Found population proton\n",
      "28-Sep-24 00:46:10: Found population proton\n",
      "28-Sep-24 00:46:11: Found population proton\n",
      "28-Sep-24 00:46:11: Found population proton\n",
      "28-Sep-24 00:46:11: Found population proton\n",
      "28-Sep-24 00:46:12: Found population proton\n",
      "28-Sep-24 00:46:12: Found population proton\n",
      "28-Sep-24 00:46:13: Found population proton\n",
      "28-Sep-24 00:46:13: Found population proton\n",
      "28-Sep-24 00:46:14: Found population proton\n",
      "28-Sep-24 00:46:14: Found population proton\n",
      "28-Sep-24 00:46:15: Found population proton\n",
      "28-Sep-24 00:46:15: Found population proton\n",
      "28-Sep-24 00:46:16: Found population proton\n",
      "28-Sep-24 00:46:16: Found population proton\n",
      "28-Sep-24 00:46:17: Found population proton\n",
      "28-Sep-24 00:46:17: Found population proton\n",
      "28-Sep-24 00:46:18: Found population proton\n",
      "28-Sep-24 00:46:18: Found population proton\n",
      "28-Sep-24 00:46:18: Found population proton\n",
      "28-Sep-24 00:46:19: Found population proton\n",
      "28-Sep-24 00:46:19: Found population proton\n",
      "28-Sep-24 00:46:20: Found population proton\n",
      "28-Sep-24 00:46:20: Found population proton\n",
      "28-Sep-24 00:46:21: Found population proton\n",
      "28-Sep-24 00:46:21: Found population proton\n",
      "28-Sep-24 00:46:22: Found population proton\n",
      "28-Sep-24 00:46:22: Found population proton\n",
      "28-Sep-24 00:46:23: Found population proton\n",
      "28-Sep-24 00:46:23: Found population proton\n",
      "28-Sep-24 00:46:23: Found population proton\n",
      "28-Sep-24 00:46:24: Found population proton\n",
      "28-Sep-24 00:46:24: Found population proton\n",
      "28-Sep-24 00:46:25: Found population proton\n",
      "28-Sep-24 00:46:25: Found population proton\n",
      "28-Sep-24 00:46:26: Found population proton\n",
      "28-Sep-24 00:46:26: Found population proton\n",
      "28-Sep-24 00:46:27: Found population proton\n",
      "28-Sep-24 00:46:27: Found population proton\n",
      "28-Sep-24 00:46:28: Found population proton\n",
      "28-Sep-24 00:46:28: Found population proton\n",
      "28-Sep-24 00:46:29: Found population proton\n",
      "28-Sep-24 00:46:29: Found population proton\n",
      "28-Sep-24 00:46:29: Found population proton\n",
      "28-Sep-24 00:46:30: Found population proton\n",
      "28-Sep-24 00:46:30: Found population proton\n",
      "28-Sep-24 00:46:31: Found population proton\n",
      "28-Sep-24 00:46:31: Found population proton\n",
      "28-Sep-24 00:46:32: Found population proton\n",
      "28-Sep-24 00:46:32: Found population proton\n",
      "28-Sep-24 00:46:33: Found population proton\n",
      "28-Sep-24 00:46:33: Found population proton\n",
      "28-Sep-24 00:46:33: Found population proton\n",
      "28-Sep-24 00:46:34: Found population proton\n",
      "28-Sep-24 00:46:34: Found population proton\n",
      "28-Sep-24 00:46:35: Found population proton\n",
      "28-Sep-24 00:46:35: Found population proton\n",
      "28-Sep-24 00:46:36: Found population proton\n",
      "28-Sep-24 00:46:36: Found population proton\n",
      "28-Sep-24 00:46:37: Found population proton\n",
      "28-Sep-24 00:46:37: Found population proton\n",
      "28-Sep-24 00:46:38: Found population proton\n",
      "28-Sep-24 00:46:38: Found population proton\n",
      "28-Sep-24 00:46:38: Found population proton\n",
      "28-Sep-24 00:46:39: Found population proton\n",
      "28-Sep-24 00:46:39: Found population proton\n",
      "28-Sep-24 00:46:40: Found population proton\n",
      "28-Sep-24 00:46:40: Found population proton\n",
      "28-Sep-24 00:46:41: Found population proton\n",
      "28-Sep-24 00:46:41: Found population proton\n",
      "28-Sep-24 00:46:42: Found population proton\n",
      "28-Sep-24 00:46:42: Found population proton\n",
      "28-Sep-24 00:46:43: Found population proton\n",
      "28-Sep-24 00:46:43: Found population proton\n",
      "28-Sep-24 00:46:43: Found population proton\n",
      "28-Sep-24 00:46:44: Found population proton\n",
      "28-Sep-24 00:46:44: Found population proton\n",
      "28-Sep-24 00:46:45: Found population proton\n",
      "28-Sep-24 00:46:45: Found population proton\n",
      "28-Sep-24 00:46:46: Found population proton\n",
      "28-Sep-24 00:46:46: Found population proton\n",
      "28-Sep-24 00:46:47: Found population proton\n",
      "28-Sep-24 00:46:47: Found population proton\n",
      "28-Sep-24 00:46:47: Found population proton\n",
      "28-Sep-24 00:46:48: Found population proton\n",
      "28-Sep-24 00:46:48: Found population proton\n",
      "28-Sep-24 00:46:49: Found population proton\n",
      "28-Sep-24 00:46:49: Found population proton\n",
      "28-Sep-24 00:46:50: Found population proton\n",
      "28-Sep-24 00:46:50: Found population proton\n",
      "28-Sep-24 00:46:51: Found population proton\n",
      "28-Sep-24 00:46:51: Found population proton\n",
      "28-Sep-24 00:46:51: Found population proton\n",
      "28-Sep-24 00:46:52: Found population proton\n",
      "28-Sep-24 00:46:52: Found population proton\n",
      "28-Sep-24 00:46:53: Found population proton\n",
      "28-Sep-24 00:46:53: Found population proton\n",
      "28-Sep-24 00:46:54: Found population proton\n",
      "28-Sep-24 00:46:54: Found population proton\n",
      "28-Sep-24 00:46:55: Found population proton\n",
      "28-Sep-24 00:46:55: Found population proton\n",
      "28-Sep-24 00:46:55: Found population proton\n",
      "28-Sep-24 00:46:56: Found population proton\n",
      "28-Sep-24 00:46:56: Found population proton\n",
      "28-Sep-24 00:46:57: Found population proton\n",
      "28-Sep-24 00:46:57: Found population proton\n",
      "28-Sep-24 00:46:58: Found population proton\n",
      "28-Sep-24 00:46:58: Found population proton\n",
      "28-Sep-24 00:46:59: Found population proton\n",
      "28-Sep-24 00:46:59: Found population proton\n",
      "28-Sep-24 00:47:00: Found population proton\n",
      "28-Sep-24 00:47:00: Found population proton\n",
      "28-Sep-24 00:47:00: Found population proton\n",
      "28-Sep-24 00:47:01: Found population proton\n",
      "28-Sep-24 00:47:01: Found population proton\n",
      "28-Sep-24 00:47:02: Found population proton\n",
      "28-Sep-24 00:47:02: Found population proton\n",
      "28-Sep-24 00:47:03: Found population proton\n",
      "28-Sep-24 00:47:03: Found population proton\n",
      "28-Sep-24 00:47:03: Found population proton\n",
      "28-Sep-24 00:47:04: Found population proton\n",
      "28-Sep-24 00:47:04: Found population proton\n",
      "28-Sep-24 00:47:05: Found population proton\n",
      "28-Sep-24 00:47:05: Found population proton\n",
      "28-Sep-24 00:47:06: Found population proton\n",
      "28-Sep-24 00:47:06: Found population proton\n",
      "28-Sep-24 00:47:07: Found population proton\n",
      "28-Sep-24 00:47:07: Found population proton\n",
      "28-Sep-24 00:47:07: Found population proton\n",
      "28-Sep-24 00:47:08: Found population proton\n",
      "28-Sep-24 00:47:08: Found population proton\n",
      "28-Sep-24 00:47:09: Found population proton\n",
      "28-Sep-24 00:47:09: Found population proton\n",
      "28-Sep-24 00:47:10: Found population proton\n",
      "28-Sep-24 00:47:10: Found population proton\n",
      "28-Sep-24 00:47:11: Found population proton\n",
      "28-Sep-24 00:47:11: Found population proton\n",
      "28-Sep-24 00:47:11: Found population proton\n",
      "28-Sep-24 00:47:12: Found population proton\n",
      "28-Sep-24 00:47:12: Found population proton\n",
      "28-Sep-24 00:47:13: Found population proton\n",
      "28-Sep-24 00:47:13: Found population proton\n",
      "28-Sep-24 00:47:14: Found population proton\n",
      "28-Sep-24 00:47:14: Found population proton\n",
      "28-Sep-24 00:47:15: Found population proton\n",
      "28-Sep-24 00:47:15: Found population proton\n",
      "28-Sep-24 00:47:15: Found population proton\n",
      "28-Sep-24 00:47:16: Found population proton\n",
      "28-Sep-24 00:47:16: Found population proton\n",
      "28-Sep-24 00:47:17: Found population proton\n",
      "28-Sep-24 00:47:17: Found population proton\n",
      "28-Sep-24 00:47:18: Found population proton\n",
      "28-Sep-24 00:47:18: Found population proton\n",
      "28-Sep-24 00:47:19: Found population proton\n",
      "28-Sep-24 00:47:19: Found population proton\n",
      "28-Sep-24 00:47:20: Found population proton\n",
      "28-Sep-24 00:47:20: Found population proton\n",
      "28-Sep-24 00:47:20: Found population proton\n",
      "28-Sep-24 00:47:21: Found population proton\n",
      "28-Sep-24 00:47:21: Found population proton\n",
      "28-Sep-24 00:47:22: Found population proton\n",
      "28-Sep-24 00:47:22: Found population proton\n",
      "28-Sep-24 00:47:23: Found population proton\n",
      "28-Sep-24 00:47:23: Found population proton\n",
      "28-Sep-24 00:47:23: Found population proton\n",
      "28-Sep-24 00:47:24: Found population proton\n",
      "28-Sep-24 00:47:24: Found population proton\n",
      "28-Sep-24 00:47:25: Found population proton\n",
      "28-Sep-24 00:47:25: Found population proton\n",
      "28-Sep-24 00:47:26: Found population proton\n",
      "28-Sep-24 00:47:26: Found population proton\n",
      "28-Sep-24 00:47:27: Found population proton\n",
      "28-Sep-24 00:47:27: Found population proton\n",
      "28-Sep-24 00:47:28: Found population proton\n",
      "28-Sep-24 00:47:28: Found population proton\n",
      "28-Sep-24 00:47:29: Found population proton\n",
      "28-Sep-24 00:47:29: Found population proton\n",
      "28-Sep-24 00:47:29: Found population proton\n",
      "28-Sep-24 00:47:30: Found population proton\n",
      "28-Sep-24 00:47:30: Found population proton\n",
      "28-Sep-24 00:47:31: Found population proton\n",
      "28-Sep-24 00:47:31: Found population proton\n",
      "28-Sep-24 00:47:32: Found population proton\n",
      "28-Sep-24 00:47:32: Found population proton\n",
      "28-Sep-24 00:47:33: Found population proton\n",
      "28-Sep-24 00:47:33: Found population proton\n",
      "28-Sep-24 00:47:34: Found population proton\n",
      "28-Sep-24 00:47:34: Found population proton\n",
      "28-Sep-24 00:47:34: Found population proton\n",
      "28-Sep-24 00:47:35: Found population proton\n",
      "28-Sep-24 00:47:35: Found population proton\n",
      "28-Sep-24 00:47:36: Found population proton\n",
      "28-Sep-24 00:47:36: Found population proton\n",
      "28-Sep-24 00:47:37: Found population proton\n",
      "28-Sep-24 00:47:37: Found population proton\n",
      "28-Sep-24 00:47:38: Found population proton\n",
      "28-Sep-24 00:47:38: Found population proton\n",
      "28-Sep-24 00:47:38: Found population proton\n",
      "28-Sep-24 00:47:39: Found population proton\n",
      "28-Sep-24 00:47:39: Found population proton\n",
      "28-Sep-24 00:47:40: Found population proton\n",
      "28-Sep-24 00:47:40: Found population proton\n",
      "28-Sep-24 00:47:41: Found population proton\n",
      "28-Sep-24 00:47:41: Found population proton\n",
      "28-Sep-24 00:47:42: Found population proton\n",
      "28-Sep-24 00:47:42: Found population proton\n",
      "28-Sep-24 00:47:42: Found population proton\n",
      "28-Sep-24 00:47:43: Found population proton\n",
      "28-Sep-24 00:47:43: Found population proton\n",
      "28-Sep-24 00:47:44: Found population proton\n",
      "28-Sep-24 00:47:44: Found population proton\n",
      "28-Sep-24 00:47:45: Found population proton\n",
      "28-Sep-24 00:47:45: Found population proton\n",
      "28-Sep-24 00:47:46: Found population proton\n",
      "28-Sep-24 00:47:46: Found population proton\n",
      "28-Sep-24 00:47:46: Found population proton\n",
      "28-Sep-24 00:47:47: Found population proton\n",
      "28-Sep-24 00:47:47: Found population proton\n",
      "28-Sep-24 00:47:48: Found population proton\n",
      "28-Sep-24 00:47:48: Found population proton\n",
      "28-Sep-24 00:47:49: Found population proton\n",
      "28-Sep-24 00:47:49: Found population proton\n",
      "28-Sep-24 00:47:50: Found population proton\n",
      "28-Sep-24 00:47:50: Found population proton\n",
      "28-Sep-24 00:47:50: Found population proton\n",
      "28-Sep-24 00:47:51: Found population proton\n",
      "28-Sep-24 00:47:51: Found population proton\n",
      "28-Sep-24 00:47:52: Found population proton\n",
      "28-Sep-24 00:47:52: Found population proton\n",
      "28-Sep-24 00:47:53: Found population proton\n",
      "28-Sep-24 00:47:53: Found population proton\n",
      "28-Sep-24 00:47:54: Found population proton\n",
      "28-Sep-24 00:47:54: Found population proton\n",
      "28-Sep-24 00:47:55: Found population proton\n",
      "28-Sep-24 00:47:55: Found population proton\n",
      "28-Sep-24 00:47:55: Found population proton\n",
      "28-Sep-24 00:47:56: Found population proton\n",
      "28-Sep-24 00:47:56: Found population proton\n",
      "28-Sep-24 00:47:57: Found population proton\n",
      "28-Sep-24 00:47:57: Found population proton\n",
      "28-Sep-24 00:47:58: Found population proton\n",
      "28-Sep-24 00:47:58: Found population proton\n",
      "28-Sep-24 00:47:59: Found population proton\n",
      "28-Sep-24 00:47:59: Found population proton\n",
      "28-Sep-24 00:47:59: Found population proton\n",
      "28-Sep-24 00:48:00: Found population proton\n",
      "28-Sep-24 00:48:00: Found population proton\n",
      "28-Sep-24 00:48:01: Found population proton\n",
      "28-Sep-24 00:48:01: Found population proton\n",
      "28-Sep-24 00:48:02: Found population proton\n",
      "28-Sep-24 00:48:02: Found population proton\n",
      "28-Sep-24 00:48:03: Found population proton\n",
      "28-Sep-24 00:48:03: Found population proton\n",
      "28-Sep-24 00:48:04: Found population proton\n",
      "28-Sep-24 00:48:04: Found population proton\n",
      "28-Sep-24 00:48:04: Found population proton\n",
      "28-Sep-24 00:48:05: Found population proton\n",
      "28-Sep-24 00:48:05: Found population proton\n",
      "28-Sep-24 00:48:06: Found population proton\n",
      "28-Sep-24 00:48:06: Found population proton\n",
      "28-Sep-24 00:48:07: Found population proton\n",
      "28-Sep-24 00:48:07: Found population proton\n",
      "28-Sep-24 00:48:08: Found population proton\n",
      "28-Sep-24 00:48:08: Found population proton\n",
      "28-Sep-24 00:48:09: Found population proton\n",
      "28-Sep-24 00:48:09: Found population proton\n",
      "28-Sep-24 00:48:12: Found population proton\n",
      "28-Sep-24 00:48:12: Found population proton\n",
      "28-Sep-24 00:48:12: Found population proton\n",
      "28-Sep-24 00:48:13: Found population proton\n",
      "28-Sep-24 00:48:13: Found population proton\n",
      "28-Sep-24 00:48:13: Found population proton\n",
      "28-Sep-24 00:48:13: Found population proton\n",
      "28-Sep-24 00:48:14: Found population proton\n",
      "28-Sep-24 00:48:14: Found population proton\n",
      "28-Sep-24 00:48:14: Found population proton\n",
      "28-Sep-24 00:48:15: Found population proton\n",
      "28-Sep-24 00:48:15: Found population proton\n",
      "28-Sep-24 00:48:15: Found population proton\n",
      "28-Sep-24 00:48:15: Found population proton\n",
      "28-Sep-24 00:48:16: Found population proton\n",
      "28-Sep-24 00:48:16: Found population proton\n",
      "28-Sep-24 00:48:16: Found population proton\n",
      "28-Sep-24 00:48:17: Found population proton\n",
      "28-Sep-24 00:48:17: Found population proton\n",
      "28-Sep-24 00:48:17: Found population proton\n",
      "28-Sep-24 00:48:18: Found population proton\n",
      "28-Sep-24 00:48:18: Found population proton\n",
      "28-Sep-24 00:48:18: Found population proton\n",
      "28-Sep-24 00:48:19: Found population proton\n",
      "28-Sep-24 00:48:19: Found population proton\n",
      "28-Sep-24 00:48:19: Found population proton\n",
      "28-Sep-24 00:48:20: Found population proton\n",
      "28-Sep-24 00:48:20: Found population proton\n",
      "28-Sep-24 00:48:20: Found population proton\n",
      "28-Sep-24 00:48:21: Found population proton\n",
      "28-Sep-24 00:48:21: Found population proton\n",
      "28-Sep-24 00:48:21: Found population proton\n",
      "28-Sep-24 00:48:21: Found population proton\n",
      "28-Sep-24 00:48:22: Found population proton\n",
      "28-Sep-24 00:48:22: Found population proton\n",
      "28-Sep-24 00:48:22: Found population proton\n",
      "28-Sep-24 00:48:23: Found population proton\n",
      "28-Sep-24 00:48:23: Found population proton\n",
      "28-Sep-24 00:48:23: Found population proton\n",
      "28-Sep-24 00:48:24: Found population proton\n",
      "28-Sep-24 00:48:24: Found population proton\n",
      "28-Sep-24 00:48:24: Found population proton\n",
      "28-Sep-24 00:48:25: Found population proton\n",
      "28-Sep-24 00:48:25: Found population proton\n",
      "28-Sep-24 00:48:25: Found population proton\n",
      "28-Sep-24 00:48:26: Found population proton\n",
      "28-Sep-24 00:48:26: Found population proton\n",
      "28-Sep-24 00:48:26: Found population proton\n",
      "28-Sep-24 00:48:27: Found population proton\n",
      "28-Sep-24 00:48:27: Found population proton\n",
      "28-Sep-24 00:48:27: Found population proton\n",
      "28-Sep-24 00:48:28: Found population proton\n",
      "28-Sep-24 00:48:28: Found population proton\n",
      "28-Sep-24 00:48:28: Found population proton\n",
      "28-Sep-24 00:48:29: Found population proton\n",
      "28-Sep-24 00:48:29: Found population proton\n",
      "28-Sep-24 00:48:29: Found population proton\n",
      "28-Sep-24 00:48:30: Found population proton\n",
      "28-Sep-24 00:48:30: Found population proton\n",
      "28-Sep-24 00:48:30: Found population proton\n",
      "28-Sep-24 00:48:31: Found population proton\n",
      "28-Sep-24 00:48:31: Found population proton\n",
      "28-Sep-24 00:48:31: Found population proton\n",
      "28-Sep-24 00:48:31: Found population proton\n",
      "28-Sep-24 00:48:32: Found population proton\n",
      "28-Sep-24 00:48:32: Found population proton\n",
      "28-Sep-24 00:48:32: Found population proton\n",
      "28-Sep-24 00:48:33: Found population proton\n",
      "28-Sep-24 00:48:33: Found population proton\n",
      "28-Sep-24 00:48:33: Found population proton\n",
      "28-Sep-24 00:48:34: Found population proton\n",
      "28-Sep-24 00:48:34: Found population proton\n",
      "28-Sep-24 00:48:34: Found population proton\n",
      "28-Sep-24 00:48:35: Found population proton\n",
      "28-Sep-24 00:48:35: Found population proton\n",
      "28-Sep-24 00:48:35: Found population proton\n",
      "28-Sep-24 00:48:36: Found population proton\n",
      "28-Sep-24 00:48:36: Found population proton\n",
      "28-Sep-24 00:48:36: Found population proton\n",
      "28-Sep-24 00:48:37: Found population proton\n",
      "28-Sep-24 00:48:37: Found population proton\n",
      "28-Sep-24 00:48:37: Found population proton\n",
      "28-Sep-24 00:48:38: Found population proton\n",
      "28-Sep-24 00:48:38: Found population proton\n",
      "28-Sep-24 00:48:38: Found population proton\n",
      "28-Sep-24 00:48:39: Found population proton\n",
      "28-Sep-24 00:48:39: Found population proton\n",
      "28-Sep-24 00:48:39: Found population proton\n",
      "28-Sep-24 00:48:40: Found population proton\n",
      "28-Sep-24 00:48:40: Found population proton\n",
      "28-Sep-24 00:48:40: Found population proton\n",
      "28-Sep-24 00:48:41: Found population proton\n",
      "28-Sep-24 00:48:41: Found population proton\n",
      "28-Sep-24 00:48:41: Found population proton\n",
      "28-Sep-24 00:48:42: Found population proton\n",
      "28-Sep-24 00:48:42: Found population proton\n",
      "28-Sep-24 00:48:42: Found population proton\n",
      "28-Sep-24 00:48:42: Found population proton\n",
      "28-Sep-24 00:48:43: Found population proton\n",
      "28-Sep-24 00:48:43: Found population proton\n",
      "28-Sep-24 00:48:43: Found population proton\n",
      "28-Sep-24 00:48:44: Found population proton\n",
      "28-Sep-24 00:48:44: Found population proton\n",
      "28-Sep-24 00:48:44: Found population proton\n",
      "28-Sep-24 00:48:45: Found population proton\n",
      "28-Sep-24 00:48:45: Found population proton\n",
      "28-Sep-24 00:48:45: Found population proton\n",
      "28-Sep-24 00:48:46: Found population proton\n",
      "28-Sep-24 00:48:46: Found population proton\n",
      "28-Sep-24 00:48:46: Found population proton\n",
      "28-Sep-24 00:48:47: Found population proton\n",
      "28-Sep-24 00:48:47: Found population proton\n",
      "28-Sep-24 00:48:47: Found population proton\n",
      "28-Sep-24 00:48:48: Found population proton\n",
      "28-Sep-24 00:48:48: Found population proton\n",
      "28-Sep-24 00:48:48: Found population proton\n",
      "28-Sep-24 00:48:49: Found population proton\n",
      "28-Sep-24 00:48:49: Found population proton\n",
      "28-Sep-24 00:48:49: Found population proton\n",
      "28-Sep-24 00:48:50: Found population proton\n",
      "28-Sep-24 00:48:50: Found population proton\n",
      "28-Sep-24 00:48:50: Found population proton\n",
      "28-Sep-24 00:48:51: Found population proton\n",
      "28-Sep-24 00:48:51: Found population proton\n",
      "28-Sep-24 00:48:51: Found population proton\n",
      "28-Sep-24 00:48:52: Found population proton\n",
      "28-Sep-24 00:48:52: Found population proton\n",
      "28-Sep-24 00:48:52: Found population proton\n",
      "28-Sep-24 00:48:53: Found population proton\n",
      "28-Sep-24 00:48:53: Found population proton\n",
      "28-Sep-24 00:48:53: Found population proton\n",
      "28-Sep-24 00:48:54: Found population proton\n",
      "28-Sep-24 00:48:54: Found population proton\n",
      "28-Sep-24 00:48:54: Found population proton\n",
      "28-Sep-24 00:48:55: Found population proton\n",
      "28-Sep-24 00:48:55: Found population proton\n",
      "28-Sep-24 00:48:55: Found population proton\n",
      "28-Sep-24 00:48:56: Found population proton\n",
      "28-Sep-24 00:48:56: Found population proton\n",
      "28-Sep-24 00:48:56: Found population proton\n",
      "28-Sep-24 00:48:57: Found population proton\n",
      "28-Sep-24 00:48:57: Found population proton\n",
      "28-Sep-24 00:48:57: Found population proton\n",
      "28-Sep-24 00:48:58: Found population proton\n",
      "28-Sep-24 00:48:58: Found population proton\n",
      "28-Sep-24 00:48:58: Found population proton\n",
      "28-Sep-24 00:48:58: Found population proton\n",
      "28-Sep-24 00:48:59: Found population proton\n",
      "28-Sep-24 00:48:59: Found population proton\n",
      "28-Sep-24 00:48:59: Found population proton\n",
      "28-Sep-24 00:49:00: Found population proton\n",
      "28-Sep-24 00:49:00: Found population proton\n",
      "28-Sep-24 00:49:00: Found population proton\n",
      "28-Sep-24 00:49:01: Found population proton\n",
      "28-Sep-24 00:49:01: Found population proton\n",
      "28-Sep-24 00:49:01: Found population proton\n",
      "28-Sep-24 00:49:02: Found population proton\n",
      "28-Sep-24 00:49:02: Found population proton\n",
      "28-Sep-24 00:49:02: Found population proton\n",
      "28-Sep-24 00:49:03: Found population proton\n",
      "28-Sep-24 00:49:03: Found population proton\n",
      "28-Sep-24 00:49:03: Found population proton\n",
      "28-Sep-24 00:49:03: Found population proton\n",
      "28-Sep-24 00:49:04: Found population proton\n",
      "28-Sep-24 00:49:04: Found population proton\n",
      "28-Sep-24 00:49:04: Found population proton\n",
      "28-Sep-24 00:49:05: Found population proton\n",
      "28-Sep-24 00:49:05: Found population proton\n",
      "28-Sep-24 00:49:05: Found population proton\n",
      "28-Sep-24 00:49:06: Found population proton\n",
      "28-Sep-24 00:49:06: Found population proton\n",
      "28-Sep-24 00:49:06: Found population proton\n",
      "28-Sep-24 00:49:07: Found population proton\n",
      "28-Sep-24 00:49:07: Found population proton\n",
      "28-Sep-24 00:49:07: Found population proton\n",
      "28-Sep-24 00:49:08: Found population proton\n",
      "28-Sep-24 00:49:08: Found population proton\n",
      "28-Sep-24 00:49:08: Found population proton\n",
      "28-Sep-24 00:49:08: Found population proton\n",
      "28-Sep-24 00:49:09: Found population proton\n",
      "28-Sep-24 00:49:09: Found population proton\n",
      "28-Sep-24 00:49:09: Found population proton\n",
      "28-Sep-24 00:49:10: Found population proton\n",
      "28-Sep-24 00:49:10: Found population proton\n",
      "28-Sep-24 00:49:10: Found population proton\n",
      "28-Sep-24 00:49:11: Found population proton\n",
      "28-Sep-24 00:49:11: Found population proton\n",
      "28-Sep-24 00:49:11: Found population proton\n",
      "28-Sep-24 00:49:12: Found population proton\n",
      "28-Sep-24 00:49:12: Found population proton\n",
      "28-Sep-24 00:49:12: Found population proton\n",
      "28-Sep-24 00:49:13: Found population proton\n",
      "28-Sep-24 00:49:13: Found population proton\n",
      "28-Sep-24 00:49:13: Found population proton\n",
      "28-Sep-24 00:49:13: Found population proton\n",
      "28-Sep-24 00:49:14: Found population proton\n",
      "28-Sep-24 00:49:14: Found population proton\n",
      "28-Sep-24 00:49:14: Found population proton\n",
      "28-Sep-24 00:49:15: Found population proton\n",
      "28-Sep-24 00:49:15: Found population proton\n",
      "28-Sep-24 00:49:15: Found population proton\n",
      "28-Sep-24 00:49:16: Found population proton\n",
      "28-Sep-24 00:49:16: Found population proton\n",
      "28-Sep-24 00:49:16: Found population proton\n",
      "28-Sep-24 00:49:17: Found population proton\n",
      "28-Sep-24 00:49:17: Found population proton\n",
      "28-Sep-24 00:49:17: Found population proton\n",
      "28-Sep-24 00:49:18: Found population proton\n",
      "28-Sep-24 00:49:18: Found population proton\n",
      "28-Sep-24 00:49:18: Found population proton\n",
      "28-Sep-24 00:49:19: Found population proton\n",
      "28-Sep-24 00:49:19: Found population proton\n",
      "28-Sep-24 00:49:19: Found population proton\n",
      "28-Sep-24 00:49:19: Found population proton\n",
      "28-Sep-24 00:49:20: Found population proton\n",
      "28-Sep-24 00:49:20: Found population proton\n",
      "28-Sep-24 00:49:20: Found population proton\n",
      "28-Sep-24 00:49:21: Found population proton\n",
      "28-Sep-24 00:49:21: Found population proton\n",
      "28-Sep-24 00:49:21: Found population proton\n",
      "28-Sep-24 00:49:22: Found population proton\n",
      "28-Sep-24 00:49:22: Found population proton\n",
      "28-Sep-24 00:49:22: Found population proton\n",
      "28-Sep-24 00:49:23: Found population proton\n",
      "28-Sep-24 00:49:23: Found population proton\n",
      "28-Sep-24 00:49:23: Found population proton\n",
      "28-Sep-24 00:49:24: Found population proton\n",
      "28-Sep-24 00:49:24: Found population proton\n",
      "28-Sep-24 00:49:24: Found population proton\n",
      "28-Sep-24 00:49:25: Found population proton\n",
      "28-Sep-24 00:49:25: Found population proton\n",
      "28-Sep-24 00:49:25: Found population proton\n",
      "28-Sep-24 00:49:25: Found population proton\n",
      "28-Sep-24 00:49:26: Found population proton\n",
      "28-Sep-24 00:49:26: Found population proton\n",
      "28-Sep-24 00:49:26: Found population proton\n",
      "28-Sep-24 00:49:27: Found population proton\n",
      "28-Sep-24 00:49:27: Found population proton\n",
      "28-Sep-24 00:49:27: Found population proton\n",
      "28-Sep-24 00:49:28: Found population proton\n",
      "28-Sep-24 00:49:28: Found population proton\n",
      "28-Sep-24 00:49:28: Found population proton\n",
      "28-Sep-24 00:49:29: Found population proton\n",
      "28-Sep-24 00:49:29: Found population proton\n",
      "28-Sep-24 00:49:29: Found population proton\n",
      "28-Sep-24 00:49:30: Found population proton\n",
      "28-Sep-24 00:49:30: Found population proton\n",
      "28-Sep-24 00:49:30: Found population proton\n",
      "28-Sep-24 00:49:30: Found population proton\n",
      "28-Sep-24 00:49:31: Found population proton\n",
      "28-Sep-24 00:49:31: Found population proton\n",
      "28-Sep-24 00:49:31: Found population proton\n",
      "28-Sep-24 00:49:32: Found population proton\n",
      "28-Sep-24 00:49:32: Found population proton\n",
      "28-Sep-24 00:49:32: Found population proton\n",
      "28-Sep-24 00:49:33: Found population proton\n",
      "28-Sep-24 00:49:33: Found population proton\n",
      "28-Sep-24 00:49:33: Found population proton\n",
      "28-Sep-24 00:49:34: Found population proton\n",
      "28-Sep-24 00:49:34: Found population proton\n",
      "28-Sep-24 00:49:34: Found population proton\n",
      "28-Sep-24 00:49:34: Found population proton\n",
      "28-Sep-24 00:49:35: Found population proton\n",
      "28-Sep-24 00:49:35: Found population proton\n",
      "28-Sep-24 00:49:35: Found population proton\n",
      "28-Sep-24 00:49:36: Found population proton\n",
      "28-Sep-24 00:49:36: Found population proton\n",
      "28-Sep-24 00:49:36: Found population proton\n",
      "28-Sep-24 00:49:37: Found population proton\n",
      "28-Sep-24 00:49:37: Found population proton\n",
      "28-Sep-24 00:49:37: Found population proton\n",
      "28-Sep-24 00:49:38: Found population proton\n",
      "28-Sep-24 00:49:38: Found population proton\n",
      "28-Sep-24 00:49:38: Found population proton\n",
      "28-Sep-24 00:49:39: Found population proton\n",
      "28-Sep-24 00:49:39: Found population proton\n",
      "28-Sep-24 00:49:39: Found population proton\n",
      "28-Sep-24 00:49:40: Found population proton\n",
      "28-Sep-24 00:49:40: Found population proton\n",
      "28-Sep-24 00:49:40: Found population proton\n",
      "28-Sep-24 00:49:40: Found population proton\n",
      "28-Sep-24 00:49:41: Found population proton\n",
      "28-Sep-24 00:49:41: Found population proton\n",
      "28-Sep-24 00:49:41: Found population proton\n",
      "28-Sep-24 00:49:42: Found population proton\n",
      "28-Sep-24 00:49:42: Found population proton\n",
      "28-Sep-24 00:49:42: Found population proton\n",
      "28-Sep-24 00:49:43: Found population proton\n",
      "28-Sep-24 00:49:43: Found population proton\n",
      "28-Sep-24 00:49:43: Found population proton\n",
      "28-Sep-24 00:49:44: Found population proton\n",
      "28-Sep-24 00:49:44: Found population proton\n",
      "28-Sep-24 00:49:44: Found population proton\n",
      "28-Sep-24 00:49:45: Found population proton\n",
      "28-Sep-24 00:49:45: Found population proton\n",
      "28-Sep-24 00:49:45: Found population proton\n",
      "28-Sep-24 00:49:46: Found population proton\n",
      "28-Sep-24 00:49:46: Found population proton\n",
      "28-Sep-24 00:49:46: Found population proton\n",
      "28-Sep-24 00:49:47: Found population proton\n",
      "28-Sep-24 00:49:47: Found population proton\n",
      "28-Sep-24 00:49:47: Found population proton\n",
      "28-Sep-24 00:49:48: Found population proton\n",
      "28-Sep-24 00:49:48: Found population proton\n",
      "28-Sep-24 00:49:48: Found population proton\n",
      "28-Sep-24 00:49:48: Found population proton\n",
      "28-Sep-24 00:49:49: Found population proton\n",
      "28-Sep-24 00:49:49: Found population proton\n",
      "28-Sep-24 00:49:49: Found population proton\n",
      "28-Sep-24 00:49:50: Found population proton\n",
      "28-Sep-24 00:49:50: Found population proton\n",
      "28-Sep-24 00:49:50: Found population proton\n",
      "28-Sep-24 00:49:51: Found population proton\n",
      "28-Sep-24 00:49:51: Found population proton\n",
      "28-Sep-24 00:49:51: Found population proton\n",
      "28-Sep-24 00:49:52: Found population proton\n",
      "28-Sep-24 00:49:52: Found population proton\n",
      "28-Sep-24 00:49:52: Found population proton\n",
      "28-Sep-24 00:49:53: Found population proton\n",
      "28-Sep-24 00:49:53: Found population proton\n",
      "28-Sep-24 00:49:53: Found population proton\n",
      "28-Sep-24 00:49:54: Found population proton\n",
      "28-Sep-24 00:49:54: Found population proton\n",
      "28-Sep-24 00:49:54: Found population proton\n",
      "28-Sep-24 00:49:54: Found population proton\n",
      "28-Sep-24 00:49:55: Found population proton\n",
      "28-Sep-24 00:49:55: Found population proton\n",
      "28-Sep-24 00:49:55: Found population proton\n",
      "28-Sep-24 00:49:56: Found population proton\n",
      "28-Sep-24 00:49:56: Found population proton\n",
      "28-Sep-24 00:49:56: Found population proton\n",
      "28-Sep-24 00:49:57: Found population proton\n",
      "28-Sep-24 00:49:57: Found population proton\n",
      "28-Sep-24 00:49:57: Found population proton\n",
      "28-Sep-24 00:49:58: Found population proton\n",
      "28-Sep-24 00:49:58: Found population proton\n",
      "28-Sep-24 00:49:58: Found population proton\n",
      "28-Sep-24 00:49:59: Found population proton\n",
      "28-Sep-24 00:49:59: Found population proton\n",
      "28-Sep-24 00:49:59: Found population proton\n",
      "28-Sep-24 00:49:59: Found population proton\n",
      "28-Sep-24 00:50:00: Found population proton\n",
      "28-Sep-24 00:50:00: Found population proton\n",
      "28-Sep-24 00:50:00: Found population proton\n",
      "28-Sep-24 00:50:01: Found population proton\n",
      "28-Sep-24 00:50:01: Found population proton\n",
      "28-Sep-24 00:50:01: Found population proton\n",
      "28-Sep-24 00:50:02: Found population proton\n",
      "28-Sep-24 00:50:02: Found population proton\n",
      "28-Sep-24 00:50:02: Found population proton\n",
      "28-Sep-24 00:50:03: Found population proton\n",
      "28-Sep-24 00:50:03: Found population proton\n",
      "28-Sep-24 00:50:03: Found population proton\n",
      "28-Sep-24 00:50:04: Found population proton\n",
      "28-Sep-24 00:50:04: Found population proton\n",
      "28-Sep-24 00:50:04: Found population proton\n",
      "28-Sep-24 00:50:05: Found population proton\n",
      "28-Sep-24 00:50:05: Found population proton\n",
      "28-Sep-24 00:50:05: Found population proton\n",
      "28-Sep-24 00:50:05: Found population proton\n",
      "28-Sep-24 00:50:06: Found population proton\n",
      "28-Sep-24 00:50:06: Found population proton\n",
      "28-Sep-24 00:50:06: Found population proton\n",
      "28-Sep-24 00:50:07: Found population proton\n",
      "28-Sep-24 00:50:07: Found population proton\n",
      "28-Sep-24 00:50:07: Found population proton\n",
      "28-Sep-24 00:50:08: Found population proton\n",
      "28-Sep-24 00:50:08: Found population proton\n",
      "28-Sep-24 00:50:08: Found population proton\n",
      "28-Sep-24 00:50:09: Found population proton\n",
      "28-Sep-24 00:50:09: Found population proton\n",
      "28-Sep-24 00:50:09: Found population proton\n",
      "28-Sep-24 00:50:10: Found population proton\n",
      "28-Sep-24 00:50:10: Found population proton\n",
      "28-Sep-24 00:50:10: Found population proton\n",
      "28-Sep-24 00:50:11: Found population proton\n",
      "28-Sep-24 00:50:11: Found population proton\n",
      "28-Sep-24 00:50:11: Found population proton\n",
      "28-Sep-24 00:50:12: Found population proton\n",
      "28-Sep-24 00:50:12: Found population proton\n",
      "28-Sep-24 00:50:12: Found population proton\n",
      "28-Sep-24 00:50:12: Found population proton\n",
      "28-Sep-24 00:50:13: Found population proton\n",
      "28-Sep-24 00:50:13: Found population proton\n",
      "28-Sep-24 00:50:13: Found population proton\n",
      "28-Sep-24 00:50:14: Found population proton\n",
      "28-Sep-24 00:50:14: Found population proton\n",
      "28-Sep-24 00:50:14: Found population proton\n",
      "28-Sep-24 00:50:15: Found population proton\n",
      "28-Sep-24 00:50:15: Found population proton\n",
      "28-Sep-24 00:50:15: Found population proton\n",
      "28-Sep-24 00:50:16: Found population proton\n",
      "28-Sep-24 00:50:16: Found population proton\n",
      "28-Sep-24 00:50:16: Found population proton\n",
      "28-Sep-24 00:50:17: Found population proton\n",
      "28-Sep-24 00:50:17: Found population proton\n",
      "28-Sep-24 00:50:17: Found population proton\n",
      "28-Sep-24 00:50:18: Found population proton\n",
      "28-Sep-24 00:50:18: Found population proton\n",
      "28-Sep-24 00:50:18: Found population proton\n",
      "28-Sep-24 00:50:19: Found population proton\n",
      "28-Sep-24 00:50:19: Found population proton\n",
      "28-Sep-24 00:50:19: Found population proton\n",
      "28-Sep-24 00:50:20: Found population proton\n",
      "28-Sep-24 00:50:20: Found population proton\n",
      "28-Sep-24 00:50:20: Found population proton\n",
      "28-Sep-24 00:50:21: Found population proton\n",
      "28-Sep-24 00:50:21: Found population proton\n",
      "28-Sep-24 00:50:21: Found population proton\n",
      "28-Sep-24 00:50:22: Found population proton\n",
      "28-Sep-24 00:50:22: Found population proton\n",
      "28-Sep-24 00:50:22: Found population proton\n",
      "28-Sep-24 00:50:23: Found population proton\n",
      "28-Sep-24 00:50:23: Found population proton\n",
      "28-Sep-24 00:50:23: Found population proton\n",
      "28-Sep-24 00:50:23: Found population proton\n",
      "28-Sep-24 00:50:24: Found population proton\n",
      "28-Sep-24 00:50:24: Found population proton\n",
      "28-Sep-24 00:50:24: Found population proton\n",
      "28-Sep-24 00:50:25: Found population proton\n",
      "28-Sep-24 00:50:25: Found population proton\n",
      "28-Sep-24 00:50:25: Found population proton\n",
      "28-Sep-24 00:50:26: Found population proton\n",
      "28-Sep-24 00:50:26: Found population proton\n",
      "28-Sep-24 00:50:26: Found population proton\n",
      "28-Sep-24 00:50:27: Found population proton\n",
      "28-Sep-24 00:50:27: Found population proton\n",
      "28-Sep-24 00:50:27: Found population proton\n",
      "28-Sep-24 00:50:28: Found population proton\n",
      "28-Sep-24 00:50:28: Found population proton\n",
      "28-Sep-24 00:50:28: Found population proton\n",
      "28-Sep-24 00:50:29: Found population proton\n",
      "28-Sep-24 00:50:29: Found population proton\n",
      "28-Sep-24 00:50:29: Found population proton\n",
      "28-Sep-24 00:50:30: Found population proton\n",
      "28-Sep-24 00:50:30: Found population proton\n",
      "28-Sep-24 00:50:30: Found population proton\n",
      "28-Sep-24 00:50:31: Found population proton\n",
      "28-Sep-24 00:50:31: Found population proton\n",
      "28-Sep-24 00:50:31: Found population proton\n",
      "28-Sep-24 00:50:32: Found population proton\n",
      "28-Sep-24 00:50:32: Found population proton\n",
      "28-Sep-24 00:50:32: Found population proton\n",
      "28-Sep-24 00:50:32: Found population proton\n",
      "28-Sep-24 00:50:33: Found population proton\n",
      "28-Sep-24 00:50:33: Found population proton\n",
      "28-Sep-24 00:50:33: Found population proton\n",
      "28-Sep-24 00:50:34: Found population proton\n",
      "28-Sep-24 00:50:34: Found population proton\n",
      "28-Sep-24 00:50:34: Found population proton\n",
      "28-Sep-24 00:50:35: Found population proton\n",
      "28-Sep-24 00:50:35: Found population proton\n",
      "28-Sep-24 00:50:35: Found population proton\n",
      "28-Sep-24 00:50:36: Found population proton\n",
      "28-Sep-24 00:50:36: Found population proton\n",
      "28-Sep-24 00:50:36: Found population proton\n",
      "28-Sep-24 00:50:37: Found population proton\n",
      "28-Sep-24 00:50:37: Found population proton\n",
      "28-Sep-24 00:50:37: Found population proton\n",
      "28-Sep-24 00:50:38: Found population proton\n",
      "28-Sep-24 00:50:38: Found population proton\n",
      "28-Sep-24 00:50:38: Found population proton\n",
      "28-Sep-24 00:50:39: Found population proton\n",
      "28-Sep-24 00:50:39: Found population proton\n",
      "28-Sep-24 00:50:40: Found population proton\n",
      "28-Sep-24 00:50:40: Found population proton\n",
      "28-Sep-24 00:50:40: Found population proton\n",
      "28-Sep-24 00:50:41: Found population proton\n",
      "28-Sep-24 00:50:41: Found population proton\n",
      "28-Sep-24 00:50:41: Found population proton\n",
      "28-Sep-24 00:50:42: Found population proton\n",
      "28-Sep-24 00:50:42: Found population proton\n",
      "28-Sep-24 00:50:42: Found population proton\n",
      "28-Sep-24 00:50:43: Found population proton\n",
      "28-Sep-24 00:50:43: Found population proton\n",
      "28-Sep-24 00:50:43: Found population proton\n",
      "28-Sep-24 00:50:44: Found population proton\n",
      "28-Sep-24 00:50:44: Found population proton\n",
      "28-Sep-24 00:50:44: Found population proton\n",
      "28-Sep-24 00:50:45: Found population proton\n",
      "28-Sep-24 00:50:45: Found population proton\n",
      "28-Sep-24 00:50:45: Found population proton\n",
      "28-Sep-24 00:50:46: Found population proton\n",
      "28-Sep-24 00:50:46: Found population proton\n",
      "28-Sep-24 00:50:46: Found population proton\n",
      "28-Sep-24 00:50:47: Found population proton\n",
      "28-Sep-24 00:50:47: Found population proton\n",
      "28-Sep-24 00:50:47: Found population proton\n",
      "28-Sep-24 00:50:48: Found population proton\n",
      "28-Sep-24 00:50:48: Found population proton\n",
      "28-Sep-24 00:50:48: Found population proton\n",
      "28-Sep-24 00:50:49: Found population proton\n",
      "28-Sep-24 00:50:49: Found population proton\n",
      "28-Sep-24 00:50:49: Found population proton\n",
      "28-Sep-24 00:50:50: Found population proton\n",
      "28-Sep-24 00:50:50: Found population proton\n",
      "28-Sep-24 00:50:50: Found population proton\n",
      "28-Sep-24 00:50:51: Found population proton\n",
      "28-Sep-24 00:50:51: Found population proton\n",
      "28-Sep-24 00:50:55: Found population proton\n",
      "28-Sep-24 00:50:56: Found population proton\n",
      "28-Sep-24 00:50:57: Found population proton\n",
      "28-Sep-24 00:50:59: Found population proton\n",
      "28-Sep-24 00:51:00: Found population proton\n",
      "28-Sep-24 00:51:01: Found population proton\n",
      "28-Sep-24 00:51:02: Found population proton\n",
      "28-Sep-24 00:51:04: Found population proton\n",
      "28-Sep-24 00:51:05: Found population proton\n",
      "28-Sep-24 00:51:06: Found population proton\n",
      "28-Sep-24 00:51:08: Found population proton\n",
      "28-Sep-24 00:51:09: Found population proton\n",
      "28-Sep-24 00:51:11: Found population proton\n",
      "28-Sep-24 00:51:12: Found population proton\n",
      "28-Sep-24 00:51:13: Found population proton\n",
      "28-Sep-24 00:51:15: Found population proton\n",
      "28-Sep-24 00:51:16: Found population proton\n",
      "28-Sep-24 00:51:17: Found population proton\n",
      "28-Sep-24 00:51:19: Found population proton\n",
      "28-Sep-24 00:51:20: Found population proton\n",
      "28-Sep-24 00:51:21: Found population proton\n",
      "28-Sep-24 00:51:22: Found population proton\n",
      "28-Sep-24 00:51:24: Found population proton\n",
      "28-Sep-24 00:51:25: Found population proton\n",
      "28-Sep-24 00:51:26: Found population proton\n",
      "28-Sep-24 00:51:28: Found population proton\n",
      "28-Sep-24 00:51:29: Found population proton\n",
      "28-Sep-24 00:51:30: Found population proton\n",
      "28-Sep-24 00:51:32: Found population proton\n",
      "28-Sep-24 00:51:33: Found population proton\n",
      "28-Sep-24 00:51:34: Found population proton\n",
      "28-Sep-24 00:51:36: Found population proton\n",
      "28-Sep-24 00:51:37: Found population proton\n",
      "28-Sep-24 00:51:38: Found population proton\n",
      "28-Sep-24 00:51:40: Found population proton\n",
      "28-Sep-24 00:51:41: Found population proton\n",
      "28-Sep-24 00:51:42: Found population proton\n",
      "28-Sep-24 00:51:44: Found population proton\n",
      "28-Sep-24 00:51:45: Found population proton\n",
      "28-Sep-24 00:51:46: Found population proton\n",
      "28-Sep-24 00:51:48: Found population proton\n",
      "28-Sep-24 00:51:49: Found population proton\n",
      "28-Sep-24 00:51:50: Found population proton\n",
      "28-Sep-24 00:51:52: Found population proton\n",
      "28-Sep-24 00:51:53: Found population proton\n",
      "28-Sep-24 00:51:54: Found population proton\n",
      "28-Sep-24 00:51:56: Found population proton\n",
      "28-Sep-24 00:51:57: Found population proton\n",
      "28-Sep-24 00:51:58: Found population proton\n",
      "28-Sep-24 00:52:00: Found population proton\n",
      "28-Sep-24 00:52:01: Found population proton\n",
      "28-Sep-24 00:52:02: Found population proton\n",
      "28-Sep-24 00:52:04: Found population proton\n",
      "28-Sep-24 00:52:05: Found population proton\n",
      "28-Sep-24 00:52:06: Found population proton\n",
      "28-Sep-24 00:52:08: Found population proton\n",
      "28-Sep-24 00:52:09: Found population proton\n",
      "28-Sep-24 00:52:10: Found population proton\n",
      "28-Sep-24 00:52:12: Found population proton\n",
      "28-Sep-24 00:52:13: Found population proton\n",
      "28-Sep-24 00:52:14: Found population proton\n",
      "28-Sep-24 00:52:16: Found population proton\n",
      "28-Sep-24 00:52:17: Found population proton\n",
      "28-Sep-24 00:52:18: Found population proton\n",
      "28-Sep-24 00:52:20: Found population proton\n",
      "28-Sep-24 00:52:21: Found population proton\n",
      "28-Sep-24 00:52:22: Found population proton\n",
      "28-Sep-24 00:52:24: Found population proton\n",
      "28-Sep-24 00:52:25: Found population proton\n",
      "28-Sep-24 00:52:26: Found population proton\n",
      "28-Sep-24 00:52:28: Found population proton\n",
      "28-Sep-24 00:52:29: Found population proton\n",
      "28-Sep-24 00:52:30: Found population proton\n",
      "28-Sep-24 00:52:31: Found population proton\n",
      "28-Sep-24 00:52:33: Found population proton\n",
      "28-Sep-24 00:52:34: Found population proton\n",
      "28-Sep-24 00:52:35: Found population proton\n",
      "28-Sep-24 00:52:37: Found population proton\n",
      "28-Sep-24 00:52:38: Found population proton\n",
      "28-Sep-24 00:52:40: Found population proton\n",
      "28-Sep-24 00:52:41: Found population proton\n",
      "28-Sep-24 00:52:42: Found population proton\n",
      "28-Sep-24 00:52:44: Found population proton\n",
      "28-Sep-24 00:52:45: Found population proton\n",
      "28-Sep-24 00:52:46: Found population proton\n",
      "28-Sep-24 00:52:48: Found population proton\n",
      "28-Sep-24 00:52:49: Found population proton\n",
      "28-Sep-24 00:52:50: Found population proton\n",
      "28-Sep-24 00:52:52: Found population proton\n",
      "28-Sep-24 00:52:53: Found population proton\n",
      "28-Sep-24 00:52:54: Found population proton\n",
      "28-Sep-24 00:52:56: Found population proton\n",
      "28-Sep-24 00:52:57: Found population proton\n",
      "28-Sep-24 00:52:58: Found population proton\n",
      "28-Sep-24 00:53:00: Found population proton\n",
      "28-Sep-24 00:53:01: Found population proton\n",
      "28-Sep-24 00:53:02: Found population proton\n",
      "28-Sep-24 00:53:03: Found population proton\n",
      "28-Sep-24 00:53:05: Found population proton\n",
      "28-Sep-24 00:53:06: Found population proton\n",
      "28-Sep-24 00:53:07: Found population proton\n",
      "28-Sep-24 00:53:09: Found population proton\n",
      "28-Sep-24 00:53:10: Found population proton\n",
      "28-Sep-24 00:53:11: Found population proton\n",
      "28-Sep-24 00:53:13: Found population proton\n",
      "28-Sep-24 00:53:14: Found population proton\n",
      "28-Sep-24 00:53:15: Found population proton\n",
      "28-Sep-24 00:53:17: Found population proton\n",
      "28-Sep-24 00:53:18: Found population proton\n",
      "28-Sep-24 00:53:19: Found population proton\n",
      "28-Sep-24 00:53:21: Found population proton\n",
      "28-Sep-24 00:53:22: Found population proton\n",
      "28-Sep-24 00:53:23: Found population proton\n",
      "28-Sep-24 00:53:25: Found population proton\n",
      "28-Sep-24 00:53:26: Found population proton\n",
      "28-Sep-24 00:53:27: Found population proton\n",
      "28-Sep-24 00:53:29: Found population proton\n",
      "28-Sep-24 00:53:30: Found population proton\n",
      "28-Sep-24 00:53:31: Found population proton\n",
      "28-Sep-24 00:53:33: Found population proton\n",
      "28-Sep-24 00:53:34: Found population proton\n",
      "28-Sep-24 00:53:36: Found population proton\n",
      "28-Sep-24 00:53:37: Found population proton\n",
      "28-Sep-24 00:53:38: Found population proton\n",
      "28-Sep-24 00:53:40: Found population proton\n",
      "28-Sep-24 00:53:41: Found population proton\n",
      "28-Sep-24 00:53:42: Found population proton\n",
      "28-Sep-24 00:53:44: Found population proton\n",
      "28-Sep-24 00:53:45: Found population proton\n",
      "28-Sep-24 00:53:46: Found population proton\n",
      "28-Sep-24 00:53:48: Found population proton\n",
      "28-Sep-24 00:53:49: Found population proton\n",
      "28-Sep-24 00:53:50: Found population proton\n",
      "28-Sep-24 00:53:52: Found population proton\n",
      "28-Sep-24 00:53:53: Found population proton\n",
      "28-Sep-24 00:53:54: Found population proton\n",
      "28-Sep-24 00:53:56: Found population proton\n",
      "28-Sep-24 00:53:57: Found population proton\n",
      "28-Sep-24 00:53:58: Found population proton\n",
      "28-Sep-24 00:54:00: Found population proton\n",
      "28-Sep-24 00:54:01: Found population proton\n",
      "28-Sep-24 00:54:02: Found population proton\n",
      "28-Sep-24 00:54:04: Found population proton\n",
      "28-Sep-24 00:54:05: Found population proton\n",
      "28-Sep-24 00:54:06: Found population proton\n",
      "28-Sep-24 00:54:08: Found population proton\n",
      "28-Sep-24 00:54:09: Found population proton\n",
      "28-Sep-24 00:54:10: Found population proton\n",
      "28-Sep-24 00:54:12: Found population proton\n",
      "28-Sep-24 00:54:13: Found population proton\n",
      "28-Sep-24 00:54:14: Found population proton\n",
      "28-Sep-24 00:54:16: Found population proton\n",
      "28-Sep-24 00:54:17: Found population proton\n",
      "28-Sep-24 00:54:18: Found population proton\n",
      "28-Sep-24 00:54:20: Found population proton\n",
      "28-Sep-24 00:54:21: Found population proton\n",
      "28-Sep-24 00:54:22: Found population proton\n",
      "28-Sep-24 00:54:23: Found population proton\n",
      "28-Sep-24 00:54:25: Found population proton\n",
      "28-Sep-24 00:54:26: Found population proton\n",
      "28-Sep-24 00:54:27: Found population proton\n",
      "28-Sep-24 00:54:29: Found population proton\n",
      "28-Sep-24 00:54:30: Found population proton\n",
      "28-Sep-24 00:54:31: Found population proton\n",
      "28-Sep-24 00:54:33: Found population proton\n",
      "28-Sep-24 00:54:34: Found population proton\n",
      "28-Sep-24 00:54:35: Found population proton\n",
      "28-Sep-24 00:54:37: Found population proton\n",
      "28-Sep-24 00:54:38: Found population proton\n",
      "28-Sep-24 00:54:39: Found population proton\n",
      "28-Sep-24 00:54:41: Found population proton\n",
      "28-Sep-24 00:54:42: Found population proton\n",
      "28-Sep-24 00:54:43: Found population proton\n",
      "28-Sep-24 00:54:45: Found population proton\n",
      "28-Sep-24 00:54:46: Found population proton\n",
      "28-Sep-24 00:54:47: Found population proton\n",
      "28-Sep-24 00:54:48: Found population proton\n",
      "28-Sep-24 00:54:50: Found population proton\n",
      "28-Sep-24 00:54:51: Found population proton\n",
      "28-Sep-24 00:54:52: Found population proton\n",
      "28-Sep-24 00:54:54: Found population proton\n",
      "28-Sep-24 00:54:55: Found population proton\n",
      "28-Sep-24 00:54:56: Found population proton\n",
      "28-Sep-24 00:54:58: Found population proton\n",
      "28-Sep-24 00:54:59: Found population proton\n",
      "28-Sep-24 00:55:00: Found population proton\n",
      "28-Sep-24 00:55:02: Found population proton\n",
      "28-Sep-24 00:55:03: Found population proton\n",
      "28-Sep-24 00:55:04: Found population proton\n",
      "28-Sep-24 00:55:06: Found population proton\n",
      "28-Sep-24 00:55:07: Found population proton\n",
      "28-Sep-24 00:55:08: Found population proton\n",
      "28-Sep-24 00:55:09: Found population proton\n",
      "28-Sep-24 00:55:11: Found population proton\n",
      "28-Sep-24 00:55:12: Found population proton\n",
      "28-Sep-24 00:55:13: Found population proton\n",
      "28-Sep-24 00:55:15: Found population proton\n",
      "28-Sep-24 00:55:16: Found population proton\n",
      "28-Sep-24 00:55:17: Found population proton\n",
      "28-Sep-24 00:55:19: Found population proton\n",
      "28-Sep-24 00:55:20: Found population proton\n",
      "28-Sep-24 00:55:21: Found population proton\n",
      "28-Sep-24 00:55:22: Found population proton\n",
      "28-Sep-24 00:55:24: Found population proton\n",
      "28-Sep-24 00:55:25: Found population proton\n",
      "28-Sep-24 00:55:26: Found population proton\n",
      "28-Sep-24 00:55:28: Found population proton\n",
      "28-Sep-24 00:55:29: Found population proton\n",
      "28-Sep-24 00:55:30: Found population proton\n",
      "28-Sep-24 00:55:32: Found population proton\n",
      "28-Sep-24 00:55:33: Found population proton\n",
      "28-Sep-24 00:55:34: Found population proton\n",
      "28-Sep-24 00:55:36: Found population proton\n",
      "28-Sep-24 00:55:37: Found population proton\n",
      "28-Sep-24 00:55:38: Found population proton\n",
      "28-Sep-24 00:55:40: Found population proton\n",
      "28-Sep-24 00:55:41: Found population proton\n",
      "28-Sep-24 00:55:42: Found population proton\n",
      "28-Sep-24 00:55:44: Found population proton\n",
      "28-Sep-24 00:55:45: Found population proton\n",
      "28-Sep-24 00:55:46: Found population proton\n",
      "28-Sep-24 00:55:48: Found population proton\n",
      "28-Sep-24 00:55:49: Found population proton\n",
      "28-Sep-24 00:55:50: Found population proton\n",
      "28-Sep-24 00:55:52: Found population proton\n",
      "28-Sep-24 00:55:53: Found population proton\n",
      "28-Sep-24 00:55:54: Found population proton\n",
      "28-Sep-24 00:55:56: Found population proton\n",
      "28-Sep-24 00:55:57: Found population proton\n",
      "28-Sep-24 00:55:58: Found population proton\n",
      "28-Sep-24 00:55:59: Found population proton\n",
      "28-Sep-24 00:56:01: Found population proton\n",
      "28-Sep-24 00:56:02: Found population proton\n",
      "28-Sep-24 00:56:03: Found population proton\n",
      "28-Sep-24 00:56:05: Found population proton\n",
      "28-Sep-24 00:56:06: Found population proton\n",
      "28-Sep-24 00:56:07: Found population proton\n",
      "28-Sep-24 00:56:09: Found population proton\n",
      "28-Sep-24 00:56:10: Found population proton\n",
      "28-Sep-24 00:56:11: Found population proton\n",
      "28-Sep-24 00:56:13: Found population proton\n",
      "28-Sep-24 00:56:14: Found population proton\n",
      "28-Sep-24 00:56:15: Found population proton\n",
      "28-Sep-24 00:56:17: Found population proton\n",
      "28-Sep-24 00:56:18: Found population proton\n",
      "28-Sep-24 00:56:19: Found population proton\n",
      "28-Sep-24 00:56:21: Found population proton\n",
      "28-Sep-24 00:56:22: Found population proton\n",
      "28-Sep-24 00:56:23: Found population proton\n",
      "28-Sep-24 00:56:24: Found population proton\n",
      "28-Sep-24 00:56:26: Found population proton\n",
      "28-Sep-24 00:56:27: Found population proton\n",
      "28-Sep-24 00:56:28: Found population proton\n",
      "28-Sep-24 00:56:30: Found population proton\n",
      "28-Sep-24 00:56:31: Found population proton\n",
      "28-Sep-24 00:56:32: Found population proton\n",
      "28-Sep-24 00:56:34: Found population proton\n",
      "28-Sep-24 00:56:35: Found population proton\n",
      "28-Sep-24 00:56:36: Found population proton\n",
      "28-Sep-24 00:56:37: Found population proton\n",
      "28-Sep-24 00:56:39: Found population proton\n",
      "28-Sep-24 00:56:40: Found population proton\n",
      "28-Sep-24 00:56:41: Found population proton\n",
      "28-Sep-24 00:56:43: Found population proton\n",
      "28-Sep-24 00:56:44: Found population proton\n",
      "28-Sep-24 00:56:45: Found population proton\n",
      "28-Sep-24 00:56:47: Found population proton\n",
      "28-Sep-24 00:56:48: Found population proton\n",
      "28-Sep-24 00:56:49: Found population proton\n",
      "28-Sep-24 00:56:51: Found population proton\n",
      "28-Sep-24 00:56:52: Found population proton\n",
      "28-Sep-24 00:56:53: Found population proton\n",
      "28-Sep-24 00:56:55: Found population proton\n",
      "28-Sep-24 00:56:56: Found population proton\n",
      "28-Sep-24 00:56:57: Found population proton\n",
      "28-Sep-24 00:56:59: Found population proton\n",
      "28-Sep-24 00:57:00: Found population proton\n",
      "28-Sep-24 00:57:01: Found population proton\n",
      "28-Sep-24 00:57:02: Found population proton\n",
      "28-Sep-24 00:57:04: Found population proton\n",
      "28-Sep-24 00:57:05: Found population proton\n",
      "28-Sep-24 00:57:06: Found population proton\n",
      "28-Sep-24 00:57:08: Found population proton\n",
      "28-Sep-24 00:57:09: Found population proton\n",
      "28-Sep-24 00:57:10: Found population proton\n",
      "28-Sep-24 00:57:12: Found population proton\n",
      "28-Sep-24 00:57:13: Found population proton\n",
      "28-Sep-24 00:57:14: Found population proton\n",
      "28-Sep-24 00:57:16: Found population proton\n",
      "28-Sep-24 00:57:17: Found population proton\n",
      "28-Sep-24 00:57:18: Found population proton\n",
      "28-Sep-24 00:57:20: Found population proton\n",
      "28-Sep-24 00:57:21: Found population proton\n",
      "28-Sep-24 00:57:22: Found population proton\n",
      "28-Sep-24 00:57:24: Found population proton\n",
      "28-Sep-24 00:57:25: Found population proton\n",
      "28-Sep-24 00:57:26: Found population proton\n",
      "28-Sep-24 00:57:28: Found population proton\n",
      "28-Sep-24 00:57:29: Found population proton\n",
      "28-Sep-24 00:57:30: Found population proton\n",
      "28-Sep-24 00:57:32: Found population proton\n",
      "28-Sep-24 00:57:33: Found population proton\n",
      "28-Sep-24 00:57:34: Found population proton\n",
      "28-Sep-24 00:57:36: Found population proton\n",
      "28-Sep-24 00:57:37: Found population proton\n",
      "28-Sep-24 00:57:38: Found population proton\n",
      "28-Sep-24 00:57:40: Found population proton\n",
      "28-Sep-24 00:57:41: Found population proton\n",
      "28-Sep-24 00:57:42: Found population proton\n",
      "28-Sep-24 00:57:44: Found population proton\n",
      "28-Sep-24 00:57:45: Found population proton\n",
      "28-Sep-24 00:57:46: Found population proton\n",
      "28-Sep-24 00:57:48: Found population proton\n",
      "28-Sep-24 00:57:49: Found population proton\n",
      "28-Sep-24 00:57:50: Found population proton\n",
      "28-Sep-24 00:57:52: Found population proton\n",
      "28-Sep-24 00:57:53: Found population proton\n",
      "28-Sep-24 00:57:54: Found population proton\n",
      "28-Sep-24 00:57:56: Found population proton\n",
      "28-Sep-24 00:57:57: Found population proton\n",
      "28-Sep-24 00:57:58: Found population proton\n",
      "28-Sep-24 00:57:59: Found population proton\n",
      "28-Sep-24 00:58:01: Found population proton\n",
      "28-Sep-24 00:58:02: Found population proton\n",
      "28-Sep-24 00:58:03: Found population proton\n",
      "28-Sep-24 00:58:05: Found population proton\n",
      "28-Sep-24 00:58:06: Found population proton\n",
      "28-Sep-24 00:58:07: Found population proton\n",
      "28-Sep-24 00:58:09: Found population proton\n",
      "28-Sep-24 00:58:10: Found population proton\n",
      "28-Sep-24 00:58:11: Found population proton\n",
      "28-Sep-24 00:58:13: Found population proton\n",
      "28-Sep-24 00:58:14: Found population proton\n",
      "28-Sep-24 00:58:15: Found population proton\n",
      "28-Sep-24 00:58:16: Found population proton\n",
      "28-Sep-24 00:58:18: Found population proton\n",
      "28-Sep-24 00:58:19: Found population proton\n",
      "28-Sep-24 00:58:20: Found population proton\n",
      "28-Sep-24 00:58:22: Found population proton\n",
      "28-Sep-24 00:58:23: Found population proton\n",
      "28-Sep-24 00:58:24: Found population proton\n",
      "28-Sep-24 00:58:26: Found population proton\n",
      "28-Sep-24 00:58:27: Found population proton\n",
      "28-Sep-24 00:58:28: Found population proton\n",
      "28-Sep-24 00:58:30: Found population proton\n",
      "28-Sep-24 00:58:31: Found population proton\n",
      "28-Sep-24 00:58:32: Found population proton\n",
      "28-Sep-24 00:58:34: Found population proton\n",
      "28-Sep-24 00:58:35: Found population proton\n",
      "28-Sep-24 00:58:36: Found population proton\n",
      "28-Sep-24 00:58:37: Found population proton\n",
      "28-Sep-24 00:58:39: Found population proton\n",
      "28-Sep-24 00:58:40: Found population proton\n",
      "28-Sep-24 00:58:41: Found population proton\n",
      "28-Sep-24 00:58:43: Found population proton\n",
      "28-Sep-24 00:58:44: Found population proton\n",
      "28-Sep-24 00:58:45: Found population proton\n",
      "28-Sep-24 00:58:47: Found population proton\n",
      "28-Sep-24 00:58:48: Found population proton\n",
      "28-Sep-24 00:58:49: Found population proton\n",
      "28-Sep-24 00:58:51: Found population proton\n",
      "28-Sep-24 00:58:52: Found population proton\n",
      "28-Sep-24 00:58:53: Found population proton\n",
      "28-Sep-24 00:58:55: Found population proton\n",
      "28-Sep-24 00:58:56: Found population proton\n",
      "28-Sep-24 00:58:57: Found population proton\n",
      "28-Sep-24 00:58:58: Found population proton\n",
      "28-Sep-24 00:59:00: Found population proton\n",
      "28-Sep-24 00:59:01: Found population proton\n",
      "28-Sep-24 00:59:02: Found population proton\n",
      "28-Sep-24 00:59:04: Found population proton\n",
      "28-Sep-24 00:59:05: Found population proton\n",
      "28-Sep-24 00:59:06: Found population proton\n",
      "28-Sep-24 00:59:08: Found population proton\n",
      "28-Sep-24 00:59:09: Found population proton\n",
      "28-Sep-24 00:59:10: Found population proton\n",
      "28-Sep-24 00:59:12: Found population proton\n",
      "28-Sep-24 00:59:13: Found population proton\n",
      "28-Sep-24 00:59:14: Found population proton\n",
      "28-Sep-24 00:59:16: Found population proton\n",
      "28-Sep-24 00:59:17: Found population proton\n",
      "28-Sep-24 00:59:18: Found population proton\n",
      "28-Sep-24 00:59:20: Found population proton\n",
      "28-Sep-24 00:59:21: Found population proton\n",
      "28-Sep-24 00:59:22: Found population proton\n",
      "28-Sep-24 00:59:24: Found population proton\n",
      "28-Sep-24 00:59:25: Found population proton\n",
      "28-Sep-24 00:59:26: Found population proton\n",
      "28-Sep-24 00:59:28: Found population proton\n",
      "28-Sep-24 00:59:29: Found population proton\n",
      "28-Sep-24 00:59:30: Found population proton\n",
      "28-Sep-24 00:59:32: Found population proton\n",
      "28-Sep-24 00:59:33: Found population proton\n",
      "28-Sep-24 00:59:34: Found population proton\n",
      "28-Sep-24 00:59:35: Found population proton\n",
      "28-Sep-24 00:59:37: Found population proton\n",
      "28-Sep-24 00:59:38: Found population proton\n",
      "28-Sep-24 00:59:39: Found population proton\n",
      "28-Sep-24 00:59:41: Found population proton\n",
      "28-Sep-24 00:59:42: Found population proton\n",
      "28-Sep-24 00:59:43: Found population proton\n",
      "28-Sep-24 00:59:45: Found population proton\n",
      "28-Sep-24 00:59:46: Found population proton\n",
      "28-Sep-24 00:59:47: Found population proton\n",
      "28-Sep-24 00:59:49: Found population proton\n",
      "28-Sep-24 00:59:50: Found population proton\n",
      "28-Sep-24 00:59:51: Found population proton\n",
      "28-Sep-24 00:59:53: Found population proton\n",
      "28-Sep-24 00:59:54: Found population proton\n",
      "28-Sep-24 00:59:55: Found population proton\n",
      "28-Sep-24 00:59:57: Found population proton\n",
      "28-Sep-24 00:59:58: Found population proton\n",
      "28-Sep-24 00:59:59: Found population proton\n",
      "28-Sep-24 01:00:01: Found population proton\n",
      "28-Sep-24 01:00:02: Found population proton\n",
      "28-Sep-24 01:00:03: Found population proton\n",
      "28-Sep-24 01:00:05: Found population proton\n",
      "28-Sep-24 01:00:06: Found population proton\n",
      "28-Sep-24 01:00:07: Found population proton\n",
      "28-Sep-24 01:00:09: Found population proton\n",
      "28-Sep-24 01:00:10: Found population proton\n",
      "28-Sep-24 01:00:11: Found population proton\n",
      "28-Sep-24 01:00:13: Found population proton\n",
      "28-Sep-24 01:00:14: Found population proton\n",
      "28-Sep-24 01:00:15: Found population proton\n",
      "28-Sep-24 01:00:17: Found population proton\n",
      "28-Sep-24 01:00:18: Found population proton\n",
      "28-Sep-24 01:00:19: Found population proton\n",
      "28-Sep-24 01:00:21: Found population proton\n",
      "28-Sep-24 01:00:22: Found population proton\n",
      "28-Sep-24 01:00:23: Found population proton\n",
      "28-Sep-24 01:00:25: Found population proton\n",
      "28-Sep-24 01:00:26: Found population proton\n",
      "28-Sep-24 01:00:27: Found population proton\n",
      "28-Sep-24 01:00:29: Found population proton\n",
      "28-Sep-24 01:00:30: Found population proton\n",
      "28-Sep-24 01:00:31: Found population proton\n",
      "28-Sep-24 01:00:33: Found population proton\n",
      "28-Sep-24 01:00:34: Found population proton\n",
      "28-Sep-24 01:00:35: Found population proton\n",
      "28-Sep-24 01:00:37: Found population proton\n",
      "28-Sep-24 01:00:38: Found population proton\n",
      "28-Sep-24 01:00:39: Found population proton\n",
      "28-Sep-24 01:00:41: Found population proton\n",
      "28-Sep-24 01:00:42: Found population proton\n",
      "28-Sep-24 01:00:43: Found population proton\n",
      "28-Sep-24 01:00:45: Found population proton\n",
      "28-Sep-24 01:00:46: Found population proton\n",
      "28-Sep-24 01:00:47: Found population proton\n",
      "28-Sep-24 01:00:49: Found population proton\n",
      "28-Sep-24 01:00:50: Found population proton\n",
      "28-Sep-24 01:00:51: Found population proton\n",
      "28-Sep-24 01:00:52: Found population proton\n",
      "28-Sep-24 01:00:54: Found population proton\n",
      "28-Sep-24 01:00:55: Found population proton\n",
      "28-Sep-24 01:00:56: Found population proton\n",
      "28-Sep-24 01:00:58: Found population proton\n",
      "28-Sep-24 01:00:59: Found population proton\n",
      "28-Sep-24 01:01:00: Found population proton\n",
      "28-Sep-24 01:01:02: Found population proton\n",
      "28-Sep-24 01:01:03: Found population proton\n",
      "28-Sep-24 01:01:04: Found population proton\n",
      "28-Sep-24 01:01:06: Found population proton\n",
      "28-Sep-24 01:01:07: Found population proton\n",
      "28-Sep-24 01:01:08: Found population proton\n",
      "28-Sep-24 01:01:10: Found population proton\n",
      "28-Sep-24 01:01:11: Found population proton\n",
      "28-Sep-24 01:01:12: Found population proton\n",
      "28-Sep-24 01:01:14: Found population proton\n",
      "28-Sep-24 01:01:15: Found population proton\n",
      "28-Sep-24 01:01:16: Found population proton\n",
      "28-Sep-24 01:01:18: Found population proton\n",
      "28-Sep-24 01:01:19: Found population proton\n",
      "28-Sep-24 01:01:20: Found population proton\n",
      "28-Sep-24 01:01:22: Found population proton\n",
      "28-Sep-24 01:01:23: Found population proton\n",
      "28-Sep-24 01:01:24: Found population proton\n",
      "28-Sep-24 01:01:26: Found population proton\n",
      "28-Sep-24 01:01:27: Found population proton\n",
      "28-Sep-24 01:01:28: Found population proton\n",
      "28-Sep-24 01:01:30: Found population proton\n",
      "28-Sep-24 01:01:31: Found population proton\n",
      "28-Sep-24 01:01:32: Found population proton\n",
      "28-Sep-24 01:01:34: Found population proton\n",
      "28-Sep-24 01:01:35: Found population proton\n",
      "28-Sep-24 01:01:36: Found population proton\n",
      "28-Sep-24 01:01:38: Found population proton\n",
      "28-Sep-24 01:01:39: Found population proton\n",
      "28-Sep-24 01:01:41: Found population proton\n",
      "28-Sep-24 01:01:42: Found population proton\n",
      "28-Sep-24 01:01:43: Found population proton\n",
      "28-Sep-24 01:01:45: Found population proton\n",
      "28-Sep-24 01:01:46: Found population proton\n",
      "28-Sep-24 01:01:47: Found population proton\n",
      "28-Sep-24 01:01:49: Found population proton\n",
      "28-Sep-24 01:01:50: Found population proton\n",
      "28-Sep-24 01:01:51: Found population proton\n",
      "28-Sep-24 01:01:53: Found population proton\n",
      "28-Sep-24 01:01:54: Found population proton\n"
     ]
    },
    {
     "name": "stdout",
     "output_type": "stream",
     "text": [
      "variable ig_E_north not sortable by Cell ID!\n",
      "variable ig_E_north not sortable by Cell ID!\n",
      "variable ig_E_north not sortable by Cell ID!\n",
      "variable ig_E_north not sortable by Cell ID!\n",
      "variable ig_E_north not sortable by Cell ID!\n",
      "variable ig_E_north not sortable by Cell ID!\n",
      "variable ig_E_north not sortable by Cell ID!\n",
      "variable ig_E_north not sortable by Cell ID!\n",
      "variable ig_E_north not sortable by Cell ID!\n",
      "variable ig_E_north not sortable by Cell ID!\n",
      "variable ig_E_north not sortable by Cell ID!\n",
      "variable ig_E_north not sortable by Cell ID!\n",
      "variable ig_E_north not sortable by Cell ID!\n",
      "variable ig_E_north not sortable by Cell ID!\n",
      "variable ig_E_north not sortable by Cell ID!\n",
      "variable ig_E_north not sortable by Cell ID!\n",
      "variable ig_E_north not sortable by Cell ID!\n",
      "variable ig_E_north not sortable by Cell ID!\n",
      "variable ig_E_north not sortable by Cell ID!\n",
      "variable ig_E_north not sortable by Cell ID!\n",
      "variable ig_E_north not sortable by Cell ID!\n",
      "variable ig_E_north not sortable by Cell ID!\n",
      "variable ig_E_north not sortable by Cell ID!\n",
      "variable ig_E_north not sortable by Cell ID!\n",
      "variable ig_E_north not sortable by Cell ID!\n",
      "variable ig_E_north not sortable by Cell ID!\n",
      "variable ig_E_north not sortable by Cell ID!\n",
      "variable ig_E_north not sortable by Cell ID!\n",
      "variable ig_E_north not sortable by Cell ID!\n",
      "variable ig_E_north not sortable by Cell ID!\n",
      "variable ig_E_north not sortable by Cell ID!\n",
      "variable ig_E_north not sortable by Cell ID!\n",
      "variable ig_E_north not sortable by Cell ID!\n",
      "variable ig_E_north not sortable by Cell ID!\n",
      "variable ig_E_north not sortable by Cell ID!\n",
      "variable ig_E_north not sortable by Cell ID!\n",
      "variable ig_E_north not sortable by Cell ID!\n",
      "variable ig_E_north not sortable by Cell ID!\n",
      "variable ig_E_north not sortable by Cell ID!\n",
      "variable ig_E_north not sortable by Cell ID!\n",
      "variable ig_E_north not sortable by Cell ID!\n",
      "variable ig_E_north not sortable by Cell ID!\n",
      "variable ig_E_north not sortable by Cell ID!\n",
      "variable ig_E_north not sortable by Cell ID!\n",
      "variable ig_E_north not sortable by Cell ID!\n",
      "variable ig_E_north not sortable by Cell ID!\n",
      "variable ig_E_north not sortable by Cell ID!\n",
      "variable ig_E_north not sortable by Cell ID!\n",
      "variable ig_E_north not sortable by Cell ID!\n",
      "variable ig_E_north not sortable by Cell ID!\n",
      "variable ig_E_north not sortable by Cell ID!\n",
      "variable ig_E_north not sortable by Cell ID!\n",
      "variable ig_E_north not sortable by Cell ID!\n",
      "variable ig_E_north not sortable by Cell ID!\n",
      "variable ig_E_north not sortable by Cell ID!\n",
      "variable ig_E_north not sortable by Cell ID!\n",
      "variable ig_E_north not sortable by Cell ID!\n",
      "variable ig_E_north not sortable by Cell ID!\n",
      "variable ig_E_north not sortable by Cell ID!\n",
      "variable ig_E_north not sortable by Cell ID!\n",
      "variable ig_E_north not sortable by Cell ID!\n",
      "variable ig_E_north not sortable by Cell ID!\n",
      "variable ig_E_north not sortable by Cell ID!\n",
      "variable ig_E_north not sortable by Cell ID!\n",
      "variable ig_E_north not sortable by Cell ID!\n",
      "variable ig_E_north not sortable by Cell ID!\n",
      "variable ig_E_north not sortable by Cell ID!\n",
      "variable ig_E_north not sortable by Cell ID!\n",
      "variable ig_E_north not sortable by Cell ID!\n",
      "variable ig_E_north not sortable by Cell ID!\n",
      "variable ig_E_north not sortable by Cell ID!\n",
      "variable ig_E_north not sortable by Cell ID!\n",
      "variable ig_E_north not sortable by Cell ID!\n",
      "variable ig_E_north not sortable by Cell ID!\n",
      "variable ig_E_north not sortable by Cell ID!\n",
      "variable ig_E_north not sortable by Cell ID!\n",
      "variable ig_E_north not sortable by Cell ID!\n",
      "variable ig_E_north not sortable by Cell ID!\n",
      "variable ig_E_north not sortable by Cell ID!\n",
      "variable ig_E_north not sortable by Cell ID!\n",
      "variable ig_E_north not sortable by Cell ID!\n",
      "variable ig_E_north not sortable by Cell ID!\n",
      "variable ig_E_north not sortable by Cell ID!\n",
      "variable ig_E_north not sortable by Cell ID!\n",
      "variable ig_E_north not sortable by Cell ID!\n",
      "variable ig_E_north not sortable by Cell ID!\n",
      "variable ig_E_north not sortable by Cell ID!\n",
      "variable ig_E_north not sortable by Cell ID!\n",
      "variable ig_E_north not sortable by Cell ID!\n",
      "variable ig_E_north not sortable by Cell ID!\n",
      "variable ig_E_north not sortable by Cell ID!\n",
      "variable ig_E_north not sortable by Cell ID!\n",
      "variable ig_E_north not sortable by Cell ID!\n",
      "variable ig_E_north not sortable by Cell ID!\n",
      "variable ig_E_north not sortable by Cell ID!\n",
      "variable ig_E_north not sortable by Cell ID!\n",
      "variable ig_E_north not sortable by Cell ID!\n",
      "variable ig_E_north not sortable by Cell ID!\n",
      "variable ig_E_north not sortable by Cell ID!\n",
      "variable ig_E_north not sortable by Cell ID!\n",
      "variable ig_E_north not sortable by Cell ID!\n",
      "variable ig_E_north not sortable by Cell ID!\n",
      "variable ig_E_north not sortable by Cell ID!\n",
      "variable ig_E_north not sortable by Cell ID!\n",
      "variable ig_E_north not sortable by Cell ID!\n",
      "variable ig_E_north not sortable by Cell ID!\n",
      "variable ig_E_north not sortable by Cell ID!\n",
      "variable ig_E_north not sortable by Cell ID!\n",
      "variable ig_E_north not sortable by Cell ID!\n",
      "variable ig_E_north not sortable by Cell ID!\n",
      "variable ig_E_north not sortable by Cell ID!\n",
      "variable ig_E_north not sortable by Cell ID!\n",
      "variable ig_E_north not sortable by Cell ID!\n",
      "variable ig_E_north not sortable by Cell ID!\n",
      "variable ig_E_north not sortable by Cell ID!\n",
      "variable ig_E_north not sortable by Cell ID!\n",
      "variable ig_E_north not sortable by Cell ID!\n",
      "variable ig_E_north not sortable by Cell ID!\n",
      "variable ig_E_north not sortable by Cell ID!\n",
      "variable ig_E_north not sortable by Cell ID!\n",
      "variable ig_E_north not sortable by Cell ID!\n",
      "variable ig_E_north not sortable by Cell ID!\n",
      "variable ig_E_north not sortable by Cell ID!\n",
      "variable ig_E_north not sortable by Cell ID!\n",
      "variable ig_E_north not sortable by Cell ID!\n",
      "variable ig_E_north not sortable by Cell ID!\n",
      "variable ig_E_north not sortable by Cell ID!\n",
      "variable ig_E_north not sortable by Cell ID!\n",
      "variable ig_E_north not sortable by Cell ID!\n",
      "variable ig_E_north not sortable by Cell ID!\n",
      "variable ig_E_north not sortable by Cell ID!\n",
      "variable ig_E_north not sortable by Cell ID!\n",
      "variable ig_E_north not sortable by Cell ID!\n",
      "variable ig_E_north not sortable by Cell ID!\n",
      "variable ig_E_north not sortable by Cell ID!\n",
      "variable ig_E_north not sortable by Cell ID!\n",
      "variable ig_E_north not sortable by Cell ID!\n",
      "variable ig_E_north not sortable by Cell ID!\n",
      "variable ig_E_north not sortable by Cell ID!\n",
      "variable ig_E_north not sortable by Cell ID!\n",
      "variable ig_E_north not sortable by Cell ID!\n",
      "variable ig_E_north not sortable by Cell ID!\n",
      "variable ig_E_north not sortable by Cell ID!\n",
      "variable ig_E_north not sortable by Cell ID!\n",
      "variable ig_E_north not sortable by Cell ID!\n",
      "variable ig_E_north not sortable by Cell ID!\n",
      "variable ig_E_north not sortable by Cell ID!\n",
      "variable ig_E_north not sortable by Cell ID!\n",
      "variable ig_E_north not sortable by Cell ID!\n",
      "variable ig_E_north not sortable by Cell ID!\n",
      "variable ig_E_north not sortable by Cell ID!\n",
      "variable ig_E_north not sortable by Cell ID!\n",
      "variable ig_E_north not sortable by Cell ID!\n",
      "variable ig_E_north not sortable by Cell ID!\n",
      "variable ig_E_north not sortable by Cell ID!\n",
      "variable ig_E_north not sortable by Cell ID!\n",
      "variable ig_E_north not sortable by Cell ID!\n",
      "variable ig_E_north not sortable by Cell ID!\n",
      "variable ig_E_north not sortable by Cell ID!\n",
      "variable ig_E_north not sortable by Cell ID!\n",
      "variable ig_E_north not sortable by Cell ID!\n",
      "variable ig_E_north not sortable by Cell ID!\n",
      "variable ig_E_north not sortable by Cell ID!\n",
      "variable ig_E_north not sortable by Cell ID!\n",
      "variable ig_E_north not sortable by Cell ID!\n",
      "variable ig_E_north not sortable by Cell ID!\n",
      "variable ig_E_north not sortable by Cell ID!\n",
      "variable ig_E_north not sortable by Cell ID!\n",
      "variable ig_E_north not sortable by Cell ID!\n",
      "variable ig_E_north not sortable by Cell ID!\n",
      "variable ig_E_north not sortable by Cell ID!\n",
      "variable ig_E_north not sortable by Cell ID!\n",
      "variable ig_E_north not sortable by Cell ID!\n",
      "variable ig_E_north not sortable by Cell ID!\n",
      "variable ig_E_north not sortable by Cell ID!\n",
      "variable ig_E_north not sortable by Cell ID!\n",
      "variable ig_E_north not sortable by Cell ID!\n",
      "variable ig_E_north not sortable by Cell ID!\n",
      "variable ig_E_north not sortable by Cell ID!\n",
      "variable ig_E_north not sortable by Cell ID!\n",
      "variable ig_E_north not sortable by Cell ID!\n",
      "variable ig_E_north not sortable by Cell ID!\n",
      "variable ig_E_north not sortable by Cell ID!\n",
      "variable ig_E_north not sortable by Cell ID!\n",
      "variable ig_E_north not sortable by Cell ID!\n",
      "variable ig_E_north not sortable by Cell ID!\n",
      "variable ig_E_north not sortable by Cell ID!\n",
      "variable ig_E_north not sortable by Cell ID!\n",
      "variable ig_E_north not sortable by Cell ID!\n",
      "variable ig_E_north not sortable by Cell ID!\n",
      "variable ig_E_north not sortable by Cell ID!\n",
      "variable ig_E_north not sortable by Cell ID!\n",
      "variable ig_E_north not sortable by Cell ID!\n",
      "variable ig_E_north not sortable by Cell ID!\n",
      "variable ig_E_north not sortable by Cell ID!\n",
      "variable ig_E_north not sortable by Cell ID!\n",
      "variable ig_E_north not sortable by Cell ID!\n",
      "variable ig_E_north not sortable by Cell ID!\n",
      "variable ig_E_north not sortable by Cell ID!\n",
      "variable ig_E_north not sortable by Cell ID!\n",
      "variable ig_E_north not sortable by Cell ID!\n",
      "variable ig_E_north not sortable by Cell ID!\n",
      "variable ig_E_north not sortable by Cell ID!\n",
      "variable ig_E_north not sortable by Cell ID!\n",
      "variable ig_E_north not sortable by Cell ID!\n",
      "variable ig_E_north not sortable by Cell ID!\n",
      "variable ig_E_north not sortable by Cell ID!\n",
      "variable ig_E_north not sortable by Cell ID!\n",
      "variable ig_E_north not sortable by Cell ID!\n",
      "variable ig_E_north not sortable by Cell ID!\n",
      "variable ig_E_north not sortable by Cell ID!\n",
      "variable ig_E_north not sortable by Cell ID!\n",
      "variable ig_E_north not sortable by Cell ID!\n",
      "variable ig_E_north not sortable by Cell ID!\n",
      "variable ig_E_north not sortable by Cell ID!\n",
      "variable ig_E_north not sortable by Cell ID!\n",
      "variable ig_E_north not sortable by Cell ID!\n",
      "variable ig_E_north not sortable by Cell ID!\n",
      "variable ig_E_north not sortable by Cell ID!\n",
      "variable ig_E_north not sortable by Cell ID!\n",
      "variable ig_E_north not sortable by Cell ID!\n",
      "variable ig_E_north not sortable by Cell ID!\n",
      "variable ig_E_north not sortable by Cell ID!\n",
      "variable ig_E_north not sortable by Cell ID!\n",
      "variable ig_E_north not sortable by Cell ID!\n",
      "variable ig_E_north not sortable by Cell ID!\n",
      "variable ig_E_north not sortable by Cell ID!\n",
      "variable ig_E_north not sortable by Cell ID!\n",
      "variable ig_E_north not sortable by Cell ID!\n",
      "variable ig_E_north not sortable by Cell ID!\n",
      "variable ig_E_north not sortable by Cell ID!\n",
      "variable ig_E_north not sortable by Cell ID!\n",
      "variable ig_E_north not sortable by Cell ID!\n",
      "variable ig_E_north not sortable by Cell ID!\n",
      "variable ig_E_north not sortable by Cell ID!\n",
      "variable ig_E_north not sortable by Cell ID!\n",
      "variable ig_E_north not sortable by Cell ID!\n",
      "variable ig_E_north not sortable by Cell ID!\n",
      "variable ig_E_north not sortable by Cell ID!\n",
      "variable ig_E_north not sortable by Cell ID!\n",
      "variable ig_E_north not sortable by Cell ID!\n",
      "variable ig_E_north not sortable by Cell ID!\n",
      "variable ig_E_north not sortable by Cell ID!\n",
      "variable ig_E_north not sortable by Cell ID!\n",
      "variable ig_E_north not sortable by Cell ID!\n",
      "variable ig_E_north not sortable by Cell ID!\n",
      "variable ig_E_north not sortable by Cell ID!\n",
      "variable ig_E_north not sortable by Cell ID!\n",
      "variable ig_E_north not sortable by Cell ID!\n",
      "variable ig_E_north not sortable by Cell ID!\n",
      "variable ig_E_north not sortable by Cell ID!\n",
      "variable ig_E_north not sortable by Cell ID!\n",
      "variable ig_E_north not sortable by Cell ID!\n",
      "variable ig_E_north not sortable by Cell ID!\n",
      "variable ig_E_north not sortable by Cell ID!\n",
      "variable ig_E_north not sortable by Cell ID!\n",
      "variable ig_E_north not sortable by Cell ID!\n",
      "variable ig_E_north not sortable by Cell ID!\n",
      "variable ig_E_north not sortable by Cell ID!\n",
      "variable ig_E_north not sortable by Cell ID!\n",
      "variable ig_E_north not sortable by Cell ID!\n",
      "variable ig_E_north not sortable by Cell ID!\n",
      "variable ig_E_north not sortable by Cell ID!\n",
      "variable ig_E_north not sortable by Cell ID!\n",
      "variable ig_E_north not sortable by Cell ID!\n",
      "variable ig_E_north not sortable by Cell ID!\n",
      "variable ig_E_north not sortable by Cell ID!\n",
      "variable ig_E_north not sortable by Cell ID!\n",
      "variable ig_E_north not sortable by Cell ID!\n",
      "variable ig_E_north not sortable by Cell ID!\n",
      "variable ig_E_north not sortable by Cell ID!\n",
      "variable ig_E_north not sortable by Cell ID!\n",
      "variable ig_E_north not sortable by Cell ID!\n",
      "variable ig_E_north not sortable by Cell ID!\n",
      "variable ig_E_north not sortable by Cell ID!\n",
      "variable ig_E_north not sortable by Cell ID!\n",
      "variable ig_E_north not sortable by Cell ID!\n",
      "variable ig_E_north not sortable by Cell ID!\n",
      "variable ig_E_north not sortable by Cell ID!\n",
      "variable ig_E_north not sortable by Cell ID!\n",
      "variable ig_E_north not sortable by Cell ID!\n",
      "variable ig_E_north not sortable by Cell ID!\n",
      "variable ig_E_north not sortable by Cell ID!\n",
      "variable ig_E_north not sortable by Cell ID!\n",
      "variable ig_E_north not sortable by Cell ID!\n",
      "variable ig_E_north not sortable by Cell ID!\n",
      "variable ig_E_north not sortable by Cell ID!\n",
      "variable ig_E_north not sortable by Cell ID!\n",
      "variable ig_E_north not sortable by Cell ID!\n",
      "variable ig_E_north not sortable by Cell ID!\n",
      "variable ig_E_north not sortable by Cell ID!\n",
      "variable ig_E_north not sortable by Cell ID!\n",
      "variable ig_E_north not sortable by Cell ID!\n",
      "variable ig_E_north not sortable by Cell ID!\n",
      "variable ig_E_north not sortable by Cell ID!\n",
      "variable ig_E_north not sortable by Cell ID!\n",
      "variable ig_E_north not sortable by Cell ID!\n",
      "variable ig_E_north not sortable by Cell ID!\n",
      "variable ig_E_north not sortable by Cell ID!\n",
      "variable ig_E_north not sortable by Cell ID!\n",
      "variable ig_E_north not sortable by Cell ID!\n",
      "variable ig_E_north not sortable by Cell ID!\n",
      "variable ig_E_north not sortable by Cell ID!\n",
      "variable ig_E_north not sortable by Cell ID!\n",
      "variable ig_E_north not sortable by Cell ID!\n",
      "variable ig_E_north not sortable by Cell ID!\n",
      "variable ig_E_north not sortable by Cell ID!\n",
      "variable ig_E_north not sortable by Cell ID!\n",
      "variable ig_E_north not sortable by Cell ID!\n",
      "variable ig_E_north not sortable by Cell ID!\n",
      "variable ig_E_north not sortable by Cell ID!\n",
      "variable ig_E_north not sortable by Cell ID!\n",
      "variable ig_E_north not sortable by Cell ID!\n",
      "variable ig_E_north not sortable by Cell ID!\n",
      "variable ig_E_north not sortable by Cell ID!\n",
      "variable ig_E_north not sortable by Cell ID!\n",
      "variable ig_E_north not sortable by Cell ID!\n",
      "variable ig_E_north not sortable by Cell ID!\n",
      "variable ig_E_north not sortable by Cell ID!\n",
      "variable ig_E_north not sortable by Cell ID!\n",
      "variable ig_E_north not sortable by Cell ID!\n",
      "variable ig_E_north not sortable by Cell ID!\n",
      "variable ig_E_north not sortable by Cell ID!\n",
      "variable ig_E_north not sortable by Cell ID!\n",
      "variable ig_E_north not sortable by Cell ID!\n",
      "variable ig_E_north not sortable by Cell ID!\n",
      "variable ig_E_north not sortable by Cell ID!\n",
      "variable ig_E_north not sortable by Cell ID!\n",
      "variable ig_E_north not sortable by Cell ID!\n",
      "variable ig_E_north not sortable by Cell ID!\n",
      "variable ig_E_north not sortable by Cell ID!\n",
      "variable ig_E_north not sortable by Cell ID!\n",
      "variable ig_E_north not sortable by Cell ID!\n",
      "variable ig_E_north not sortable by Cell ID!\n",
      "variable ig_E_north not sortable by Cell ID!\n",
      "variable ig_E_north not sortable by Cell ID!\n",
      "variable ig_E_north not sortable by Cell ID!\n",
      "variable ig_E_north not sortable by Cell ID!\n",
      "variable ig_E_north not sortable by Cell ID!\n",
      "variable ig_E_north not sortable by Cell ID!\n",
      "variable ig_E_north not sortable by Cell ID!\n",
      "variable ig_E_north not sortable by Cell ID!\n",
      "variable ig_E_north not sortable by Cell ID!\n",
      "variable ig_E_north not sortable by Cell ID!\n",
      "variable ig_E_north not sortable by Cell ID!\n",
      "variable ig_E_north not sortable by Cell ID!\n",
      "variable ig_E_north not sortable by Cell ID!\n",
      "variable ig_E_north not sortable by Cell ID!\n",
      "variable ig_E_north not sortable by Cell ID!\n",
      "variable ig_E_north not sortable by Cell ID!\n",
      "variable ig_E_north not sortable by Cell ID!\n",
      "variable ig_E_north not sortable by Cell ID!\n",
      "variable ig_E_north not sortable by Cell ID!\n",
      "variable ig_E_north not sortable by Cell ID!\n",
      "variable ig_E_north not sortable by Cell ID!\n",
      "variable ig_E_north not sortable by Cell ID!\n",
      "variable ig_E_north not sortable by Cell ID!\n",
      "variable ig_E_north not sortable by Cell ID!\n",
      "variable ig_E_north not sortable by Cell ID!\n",
      "variable ig_E_north not sortable by Cell ID!\n",
      "variable ig_E_north not sortable by Cell ID!\n",
      "variable ig_E_north not sortable by Cell ID!\n",
      "variable ig_E_north not sortable by Cell ID!\n",
      "variable ig_E_north not sortable by Cell ID!\n",
      "variable ig_E_north not sortable by Cell ID!\n",
      "variable ig_E_north not sortable by Cell ID!\n",
      "variable ig_E_north not sortable by Cell ID!\n",
      "variable ig_E_north not sortable by Cell ID!\n",
      "variable ig_E_north not sortable by Cell ID!\n",
      "variable ig_E_north not sortable by Cell ID!\n",
      "variable ig_E_north not sortable by Cell ID!\n",
      "variable ig_E_north not sortable by Cell ID!\n",
      "variable ig_E_north not sortable by Cell ID!\n",
      "variable ig_E_north not sortable by Cell ID!\n",
      "variable ig_E_north not sortable by Cell ID!\n",
      "variable ig_E_north not sortable by Cell ID!\n",
      "variable ig_E_north not sortable by Cell ID!\n",
      "variable ig_E_north not sortable by Cell ID!\n",
      "variable ig_E_north not sortable by Cell ID!\n",
      "variable ig_E_north not sortable by Cell ID!\n",
      "variable ig_E_north not sortable by Cell ID!\n",
      "variable ig_E_north not sortable by Cell ID!\n",
      "variable ig_E_north not sortable by Cell ID!\n",
      "variable ig_E_north not sortable by Cell ID!\n",
      "variable ig_E_north not sortable by Cell ID!\n",
      "variable ig_E_north not sortable by Cell ID!\n",
      "variable ig_E_north not sortable by Cell ID!\n",
      "variable ig_E_north not sortable by Cell ID!\n",
      "variable ig_E_north not sortable by Cell ID!\n",
      "variable ig_E_north not sortable by Cell ID!\n",
      "variable ig_E_north not sortable by Cell ID!\n",
      "variable ig_E_north not sortable by Cell ID!\n",
      "variable ig_E_north not sortable by Cell ID!\n",
      "variable ig_E_north not sortable by Cell ID!\n",
      "variable ig_E_north not sortable by Cell ID!\n",
      "variable ig_E_north not sortable by Cell ID!\n",
      "variable ig_E_north not sortable by Cell ID!\n",
      "variable ig_E_north not sortable by Cell ID!\n",
      "variable ig_E_north not sortable by Cell ID!\n",
      "variable ig_E_north not sortable by Cell ID!\n",
      "variable ig_E_north not sortable by Cell ID!\n",
      "variable ig_E_north not sortable by Cell ID!\n",
      "variable ig_E_north not sortable by Cell ID!\n",
      "variable ig_E_north not sortable by Cell ID!\n",
      "variable ig_E_north not sortable by Cell ID!\n",
      "variable ig_E_north not sortable by Cell ID!\n",
      "variable ig_E_north not sortable by Cell ID!\n",
      "variable ig_E_north not sortable by Cell ID!\n",
      "variable ig_E_north not sortable by Cell ID!\n",
      "variable ig_E_north not sortable by Cell ID!\n",
      "variable ig_E_north not sortable by Cell ID!\n",
      "variable ig_E_north not sortable by Cell ID!\n",
      "variable ig_E_north not sortable by Cell ID!\n",
      "variable ig_E_north not sortable by Cell ID!\n",
      "variable ig_E_north not sortable by Cell ID!\n",
      "variable ig_E_north not sortable by Cell ID!\n",
      "variable ig_E_north not sortable by Cell ID!\n",
      "variable ig_E_north not sortable by Cell ID!\n",
      "variable ig_E_north not sortable by Cell ID!\n",
      "variable ig_E_north not sortable by Cell ID!\n",
      "variable ig_E_north not sortable by Cell ID!\n",
      "variable ig_E_north not sortable by Cell ID!\n",
      "variable ig_E_north not sortable by Cell ID!\n",
      "variable ig_E_north not sortable by Cell ID!\n",
      "variable ig_E_north not sortable by Cell ID!\n",
      "variable ig_E_north not sortable by Cell ID!\n",
      "variable ig_E_north not sortable by Cell ID!\n",
      "variable ig_E_north not sortable by Cell ID!\n",
      "variable ig_E_north not sortable by Cell ID!\n",
      "variable ig_E_north not sortable by Cell ID!\n",
      "variable ig_E_north not sortable by Cell ID!\n",
      "variable ig_E_north not sortable by Cell ID!\n",
      "variable ig_E_north not sortable by Cell ID!\n",
      "variable ig_E_north not sortable by Cell ID!\n",
      "variable ig_E_north not sortable by Cell ID!\n",
      "variable ig_E_north not sortable by Cell ID!\n",
      "variable ig_E_north not sortable by Cell ID!\n",
      "variable ig_E_north not sortable by Cell ID!\n",
      "variable ig_E_north not sortable by Cell ID!\n",
      "variable ig_E_north not sortable by Cell ID!\n",
      "variable ig_E_north not sortable by Cell ID!\n",
      "variable ig_E_north not sortable by Cell ID!\n",
      "variable ig_E_north not sortable by Cell ID!\n",
      "variable ig_E_north not sortable by Cell ID!\n",
      "variable ig_E_north not sortable by Cell ID!\n",
      "variable ig_E_north not sortable by Cell ID!\n",
      "variable ig_E_north not sortable by Cell ID!\n",
      "variable ig_E_north not sortable by Cell ID!\n",
      "variable ig_E_north not sortable by Cell ID!\n",
      "variable ig_E_north not sortable by Cell ID!\n",
      "variable ig_E_north not sortable by Cell ID!\n",
      "variable ig_E_north not sortable by Cell ID!\n",
      "variable ig_E_north not sortable by Cell ID!\n",
      "variable ig_E_north not sortable by Cell ID!\n",
      "variable ig_E_north not sortable by Cell ID!\n",
      "variable ig_E_north not sortable by Cell ID!\n",
      "variable ig_E_north not sortable by Cell ID!\n",
      "variable ig_E_north not sortable by Cell ID!\n",
      "variable ig_E_north not sortable by Cell ID!\n",
      "variable ig_E_north not sortable by Cell ID!\n",
      "variable ig_E_north not sortable by Cell ID!\n",
      "variable ig_E_north not sortable by Cell ID!\n",
      "variable ig_E_north not sortable by Cell ID!\n",
      "variable ig_E_north not sortable by Cell ID!\n",
      "variable ig_E_north not sortable by Cell ID!\n",
      "variable ig_E_north not sortable by Cell ID!\n",
      "variable ig_E_north not sortable by Cell ID!\n",
      "variable ig_E_north not sortable by Cell ID!\n",
      "variable ig_E_north not sortable by Cell ID!\n",
      "variable ig_E_north not sortable by Cell ID!\n",
      "variable ig_E_north not sortable by Cell ID!\n",
      "variable ig_E_north not sortable by Cell ID!\n",
      "variable ig_E_north not sortable by Cell ID!\n",
      "variable ig_E_north not sortable by Cell ID!\n",
      "variable ig_E_north not sortable by Cell ID!\n",
      "variable ig_E_north not sortable by Cell ID!\n",
      "variable ig_E_north not sortable by Cell ID!\n",
      "variable ig_E_north not sortable by Cell ID!\n",
      "variable ig_E_north not sortable by Cell ID!\n",
      "variable ig_E_north not sortable by Cell ID!\n",
      "variable ig_E_north not sortable by Cell ID!\n",
      "variable ig_E_north not sortable by Cell ID!\n",
      "variable ig_E_north not sortable by Cell ID!\n",
      "variable ig_E_north not sortable by Cell ID!\n",
      "variable ig_E_north not sortable by Cell ID!\n",
      "variable ig_E_north not sortable by Cell ID!\n",
      "variable ig_E_north not sortable by Cell ID!\n",
      "variable ig_E_north not sortable by Cell ID!\n",
      "variable ig_E_north not sortable by Cell ID!\n",
      "variable ig_E_north not sortable by Cell ID!\n",
      "variable ig_E_north not sortable by Cell ID!\n",
      "variable ig_E_north not sortable by Cell ID!\n",
      "variable ig_E_north not sortable by Cell ID!\n",
      "variable ig_E_north not sortable by Cell ID!\n",
      "variable ig_E_north not sortable by Cell ID!\n",
      "variable ig_E_north not sortable by Cell ID!\n",
      "variable ig_E_north not sortable by Cell ID!\n",
      "variable ig_E_north not sortable by Cell ID!\n",
      "variable ig_E_north not sortable by Cell ID!\n",
      "variable ig_E_east not sortable by Cell ID!\n",
      "variable ig_E_east not sortable by Cell ID!\n",
      "variable ig_E_east not sortable by Cell ID!\n",
      "variable ig_E_east not sortable by Cell ID!\n",
      "variable ig_E_east not sortable by Cell ID!\n",
      "variable ig_E_east not sortable by Cell ID!\n",
      "variable ig_E_east not sortable by Cell ID!\n",
      "variable ig_E_east not sortable by Cell ID!\n",
      "variable ig_E_east not sortable by Cell ID!\n",
      "variable ig_E_east not sortable by Cell ID!\n",
      "variable ig_E_east not sortable by Cell ID!\n",
      "variable ig_E_east not sortable by Cell ID!\n",
      "variable ig_E_east not sortable by Cell ID!\n",
      "variable ig_E_east not sortable by Cell ID!\n",
      "variable ig_E_east not sortable by Cell ID!\n",
      "variable ig_E_east not sortable by Cell ID!\n",
      "variable ig_E_east not sortable by Cell ID!\n",
      "variable ig_E_east not sortable by Cell ID!\n",
      "variable ig_E_east not sortable by Cell ID!\n",
      "variable ig_E_east not sortable by Cell ID!\n",
      "variable ig_E_east not sortable by Cell ID!\n",
      "variable ig_E_east not sortable by Cell ID!\n",
      "variable ig_E_east not sortable by Cell ID!\n",
      "variable ig_E_east not sortable by Cell ID!\n",
      "variable ig_E_east not sortable by Cell ID!\n",
      "variable ig_E_east not sortable by Cell ID!\n",
      "variable ig_E_east not sortable by Cell ID!\n",
      "variable ig_E_east not sortable by Cell ID!\n",
      "variable ig_E_east not sortable by Cell ID!\n",
      "variable ig_E_east not sortable by Cell ID!\n",
      "variable ig_E_east not sortable by Cell ID!\n",
      "variable ig_E_east not sortable by Cell ID!\n",
      "variable ig_E_east not sortable by Cell ID!\n",
      "variable ig_E_east not sortable by Cell ID!\n",
      "variable ig_E_east not sortable by Cell ID!\n",
      "variable ig_E_east not sortable by Cell ID!\n",
      "variable ig_E_east not sortable by Cell ID!\n",
      "variable ig_E_east not sortable by Cell ID!\n",
      "variable ig_E_east not sortable by Cell ID!\n",
      "variable ig_E_east not sortable by Cell ID!\n",
      "variable ig_E_east not sortable by Cell ID!\n",
      "variable ig_E_east not sortable by Cell ID!\n",
      "variable ig_E_east not sortable by Cell ID!\n",
      "variable ig_E_east not sortable by Cell ID!\n",
      "variable ig_E_east not sortable by Cell ID!\n",
      "variable ig_E_east not sortable by Cell ID!\n",
      "variable ig_E_east not sortable by Cell ID!\n",
      "variable ig_E_east not sortable by Cell ID!\n",
      "variable ig_E_east not sortable by Cell ID!\n",
      "variable ig_E_east not sortable by Cell ID!\n",
      "variable ig_E_east not sortable by Cell ID!\n",
      "variable ig_E_east not sortable by Cell ID!\n",
      "variable ig_E_east not sortable by Cell ID!\n",
      "variable ig_E_east not sortable by Cell ID!\n",
      "variable ig_E_east not sortable by Cell ID!\n",
      "variable ig_E_east not sortable by Cell ID!\n",
      "variable ig_E_east not sortable by Cell ID!\n",
      "variable ig_E_east not sortable by Cell ID!\n",
      "variable ig_E_east not sortable by Cell ID!\n",
      "variable ig_E_east not sortable by Cell ID!\n",
      "variable ig_E_east not sortable by Cell ID!\n",
      "variable ig_E_east not sortable by Cell ID!\n",
      "variable ig_E_east not sortable by Cell ID!\n",
      "variable ig_E_east not sortable by Cell ID!\n",
      "variable ig_E_east not sortable by Cell ID!\n",
      "variable ig_E_east not sortable by Cell ID!\n",
      "variable ig_E_east not sortable by Cell ID!\n",
      "variable ig_E_east not sortable by Cell ID!\n",
      "variable ig_E_east not sortable by Cell ID!\n",
      "variable ig_E_east not sortable by Cell ID!\n",
      "variable ig_E_east not sortable by Cell ID!\n",
      "variable ig_E_east not sortable by Cell ID!\n",
      "variable ig_E_east not sortable by Cell ID!\n",
      "variable ig_E_east not sortable by Cell ID!\n",
      "variable ig_E_east not sortable by Cell ID!\n",
      "variable ig_E_east not sortable by Cell ID!\n",
      "variable ig_E_east not sortable by Cell ID!\n",
      "variable ig_E_east not sortable by Cell ID!\n",
      "variable ig_E_east not sortable by Cell ID!\n",
      "variable ig_E_east not sortable by Cell ID!\n",
      "variable ig_E_east not sortable by Cell ID!\n",
      "variable ig_E_east not sortable by Cell ID!\n",
      "variable ig_E_east not sortable by Cell ID!\n",
      "variable ig_E_east not sortable by Cell ID!\n",
      "variable ig_E_east not sortable by Cell ID!\n",
      "variable ig_E_east not sortable by Cell ID!\n",
      "variable ig_E_east not sortable by Cell ID!\n",
      "variable ig_E_east not sortable by Cell ID!\n",
      "variable ig_E_east not sortable by Cell ID!\n",
      "variable ig_E_east not sortable by Cell ID!\n",
      "variable ig_E_east not sortable by Cell ID!\n",
      "variable ig_E_east not sortable by Cell ID!\n",
      "variable ig_E_east not sortable by Cell ID!\n",
      "variable ig_E_east not sortable by Cell ID!\n",
      "variable ig_E_east not sortable by Cell ID!\n",
      "variable ig_E_east not sortable by Cell ID!\n",
      "variable ig_E_east not sortable by Cell ID!\n",
      "variable ig_E_east not sortable by Cell ID!\n",
      "variable ig_E_east not sortable by Cell ID!\n",
      "variable ig_E_east not sortable by Cell ID!\n",
      "variable ig_E_east not sortable by Cell ID!\n",
      "variable ig_E_east not sortable by Cell ID!\n",
      "variable ig_E_east not sortable by Cell ID!\n",
      "variable ig_E_east not sortable by Cell ID!\n",
      "variable ig_E_east not sortable by Cell ID!\n",
      "variable ig_E_east not sortable by Cell ID!\n",
      "variable ig_E_east not sortable by Cell ID!\n",
      "variable ig_E_east not sortable by Cell ID!\n",
      "variable ig_E_east not sortable by Cell ID!\n",
      "variable ig_E_east not sortable by Cell ID!\n",
      "variable ig_E_east not sortable by Cell ID!\n",
      "variable ig_E_east not sortable by Cell ID!\n",
      "variable ig_E_east not sortable by Cell ID!\n",
      "variable ig_E_east not sortable by Cell ID!\n",
      "variable ig_E_east not sortable by Cell ID!\n",
      "variable ig_E_east not sortable by Cell ID!\n",
      "variable ig_E_east not sortable by Cell ID!\n",
      "variable ig_E_east not sortable by Cell ID!\n",
      "variable ig_E_east not sortable by Cell ID!\n",
      "variable ig_E_east not sortable by Cell ID!\n",
      "variable ig_E_east not sortable by Cell ID!\n",
      "variable ig_E_east not sortable by Cell ID!\n",
      "variable ig_E_east not sortable by Cell ID!\n",
      "variable ig_E_east not sortable by Cell ID!\n",
      "variable ig_E_east not sortable by Cell ID!\n",
      "variable ig_E_east not sortable by Cell ID!\n",
      "variable ig_E_east not sortable by Cell ID!\n",
      "variable ig_E_east not sortable by Cell ID!\n",
      "variable ig_E_east not sortable by Cell ID!\n",
      "variable ig_E_east not sortable by Cell ID!\n",
      "variable ig_E_east not sortable by Cell ID!\n",
      "variable ig_E_east not sortable by Cell ID!\n",
      "variable ig_E_east not sortable by Cell ID!\n",
      "variable ig_E_east not sortable by Cell ID!\n",
      "variable ig_E_east not sortable by Cell ID!\n",
      "variable ig_E_east not sortable by Cell ID!\n",
      "variable ig_E_east not sortable by Cell ID!\n",
      "variable ig_E_east not sortable by Cell ID!\n",
      "variable ig_E_east not sortable by Cell ID!\n",
      "variable ig_E_east not sortable by Cell ID!\n",
      "variable ig_E_east not sortable by Cell ID!\n",
      "variable ig_E_east not sortable by Cell ID!\n",
      "variable ig_E_east not sortable by Cell ID!\n",
      "variable ig_E_east not sortable by Cell ID!\n",
      "variable ig_E_east not sortable by Cell ID!\n",
      "variable ig_E_east not sortable by Cell ID!\n",
      "variable ig_E_east not sortable by Cell ID!\n",
      "variable ig_E_east not sortable by Cell ID!\n",
      "variable ig_E_east not sortable by Cell ID!\n",
      "variable ig_E_east not sortable by Cell ID!\n",
      "variable ig_E_east not sortable by Cell ID!\n",
      "variable ig_E_east not sortable by Cell ID!\n",
      "variable ig_E_east not sortable by Cell ID!\n",
      "variable ig_E_east not sortable by Cell ID!\n",
      "variable ig_E_east not sortable by Cell ID!\n",
      "variable ig_E_east not sortable by Cell ID!\n",
      "variable ig_E_east not sortable by Cell ID!\n",
      "variable ig_E_east not sortable by Cell ID!\n",
      "variable ig_E_east not sortable by Cell ID!\n",
      "variable ig_E_east not sortable by Cell ID!\n",
      "variable ig_E_east not sortable by Cell ID!\n",
      "variable ig_E_east not sortable by Cell ID!\n",
      "variable ig_E_east not sortable by Cell ID!\n",
      "variable ig_E_east not sortable by Cell ID!\n",
      "variable ig_E_east not sortable by Cell ID!\n",
      "variable ig_E_east not sortable by Cell ID!\n",
      "variable ig_E_east not sortable by Cell ID!\n",
      "variable ig_E_east not sortable by Cell ID!\n",
      "variable ig_E_east not sortable by Cell ID!\n",
      "variable ig_E_east not sortable by Cell ID!\n",
      "variable ig_E_east not sortable by Cell ID!\n",
      "variable ig_E_east not sortable by Cell ID!\n",
      "variable ig_E_east not sortable by Cell ID!\n",
      "variable ig_E_east not sortable by Cell ID!\n",
      "variable ig_E_east not sortable by Cell ID!\n",
      "variable ig_E_east not sortable by Cell ID!\n",
      "variable ig_E_east not sortable by Cell ID!\n",
      "variable ig_E_east not sortable by Cell ID!\n",
      "variable ig_E_east not sortable by Cell ID!\n",
      "variable ig_E_east not sortable by Cell ID!\n",
      "variable ig_E_east not sortable by Cell ID!\n",
      "variable ig_E_east not sortable by Cell ID!\n",
      "variable ig_E_east not sortable by Cell ID!\n",
      "variable ig_E_east not sortable by Cell ID!\n",
      "variable ig_E_east not sortable by Cell ID!\n",
      "variable ig_E_east not sortable by Cell ID!\n",
      "variable ig_E_east not sortable by Cell ID!\n",
      "variable ig_E_east not sortable by Cell ID!\n",
      "variable ig_E_east not sortable by Cell ID!\n",
      "variable ig_E_east not sortable by Cell ID!\n",
      "variable ig_E_east not sortable by Cell ID!\n",
      "variable ig_E_east not sortable by Cell ID!\n",
      "variable ig_E_east not sortable by Cell ID!\n",
      "variable ig_E_east not sortable by Cell ID!\n",
      "variable ig_E_east not sortable by Cell ID!\n",
      "variable ig_E_east not sortable by Cell ID!\n",
      "variable ig_E_east not sortable by Cell ID!\n",
      "variable ig_E_east not sortable by Cell ID!\n",
      "variable ig_E_east not sortable by Cell ID!\n",
      "variable ig_E_east not sortable by Cell ID!\n",
      "variable ig_E_east not sortable by Cell ID!\n",
      "variable ig_E_east not sortable by Cell ID!\n",
      "variable ig_E_east not sortable by Cell ID!\n",
      "variable ig_E_east not sortable by Cell ID!\n",
      "variable ig_E_east not sortable by Cell ID!\n",
      "variable ig_E_east not sortable by Cell ID!\n",
      "variable ig_E_east not sortable by Cell ID!\n",
      "variable ig_E_east not sortable by Cell ID!\n",
      "variable ig_E_east not sortable by Cell ID!\n",
      "variable ig_E_east not sortable by Cell ID!\n",
      "variable ig_E_east not sortable by Cell ID!\n",
      "variable ig_E_east not sortable by Cell ID!\n",
      "variable ig_E_east not sortable by Cell ID!\n",
      "variable ig_E_east not sortable by Cell ID!\n",
      "variable ig_E_east not sortable by Cell ID!\n",
      "variable ig_E_east not sortable by Cell ID!\n",
      "variable ig_E_east not sortable by Cell ID!\n",
      "variable ig_E_east not sortable by Cell ID!\n",
      "variable ig_E_east not sortable by Cell ID!\n",
      "variable ig_E_east not sortable by Cell ID!\n",
      "variable ig_E_east not sortable by Cell ID!\n",
      "variable ig_E_east not sortable by Cell ID!\n",
      "variable ig_E_east not sortable by Cell ID!\n",
      "variable ig_E_east not sortable by Cell ID!\n",
      "variable ig_E_east not sortable by Cell ID!\n",
      "variable ig_E_east not sortable by Cell ID!\n",
      "variable ig_E_east not sortable by Cell ID!\n",
      "variable ig_E_east not sortable by Cell ID!\n",
      "variable ig_E_east not sortable by Cell ID!\n",
      "variable ig_E_east not sortable by Cell ID!\n",
      "variable ig_E_east not sortable by Cell ID!\n",
      "variable ig_E_east not sortable by Cell ID!\n",
      "variable ig_E_east not sortable by Cell ID!\n",
      "variable ig_E_east not sortable by Cell ID!\n",
      "variable ig_E_east not sortable by Cell ID!\n",
      "variable ig_E_east not sortable by Cell ID!\n",
      "variable ig_E_east not sortable by Cell ID!\n",
      "variable ig_E_east not sortable by Cell ID!\n",
      "variable ig_E_east not sortable by Cell ID!\n",
      "variable ig_E_east not sortable by Cell ID!\n",
      "variable ig_E_east not sortable by Cell ID!\n",
      "variable ig_E_east not sortable by Cell ID!\n",
      "variable ig_E_east not sortable by Cell ID!\n",
      "variable ig_E_east not sortable by Cell ID!\n",
      "variable ig_E_east not sortable by Cell ID!\n",
      "variable ig_E_east not sortable by Cell ID!\n",
      "variable ig_E_east not sortable by Cell ID!\n",
      "variable ig_E_east not sortable by Cell ID!\n",
      "variable ig_E_east not sortable by Cell ID!\n",
      "variable ig_E_east not sortable by Cell ID!\n",
      "variable ig_E_east not sortable by Cell ID!\n",
      "variable ig_E_east not sortable by Cell ID!\n",
      "variable ig_E_east not sortable by Cell ID!\n",
      "variable ig_E_east not sortable by Cell ID!\n",
      "variable ig_E_east not sortable by Cell ID!\n",
      "variable ig_E_east not sortable by Cell ID!\n",
      "variable ig_E_east not sortable by Cell ID!\n",
      "variable ig_E_east not sortable by Cell ID!\n",
      "variable ig_E_east not sortable by Cell ID!\n",
      "variable ig_E_east not sortable by Cell ID!\n",
      "variable ig_E_east not sortable by Cell ID!\n",
      "variable ig_E_east not sortable by Cell ID!\n",
      "variable ig_E_east not sortable by Cell ID!\n",
      "variable ig_E_east not sortable by Cell ID!\n",
      "variable ig_E_east not sortable by Cell ID!\n",
      "variable ig_E_east not sortable by Cell ID!\n",
      "variable ig_E_east not sortable by Cell ID!\n",
      "variable ig_E_east not sortable by Cell ID!\n",
      "variable ig_E_east not sortable by Cell ID!\n",
      "variable ig_E_east not sortable by Cell ID!\n",
      "variable ig_E_east not sortable by Cell ID!\n",
      "variable ig_E_east not sortable by Cell ID!\n",
      "variable ig_E_east not sortable by Cell ID!\n",
      "variable ig_E_east not sortable by Cell ID!\n",
      "variable ig_E_east not sortable by Cell ID!\n",
      "variable ig_E_east not sortable by Cell ID!\n",
      "variable ig_E_east not sortable by Cell ID!\n",
      "variable ig_E_east not sortable by Cell ID!\n",
      "variable ig_E_east not sortable by Cell ID!\n",
      "variable ig_E_east not sortable by Cell ID!\n",
      "variable ig_E_east not sortable by Cell ID!\n",
      "variable ig_E_east not sortable by Cell ID!\n",
      "variable ig_E_east not sortable by Cell ID!\n",
      "variable ig_E_east not sortable by Cell ID!\n",
      "variable ig_E_east not sortable by Cell ID!\n",
      "variable ig_E_east not sortable by Cell ID!\n",
      "variable ig_E_east not sortable by Cell ID!\n",
      "variable ig_E_east not sortable by Cell ID!\n",
      "variable ig_E_east not sortable by Cell ID!\n",
      "variable ig_E_east not sortable by Cell ID!\n",
      "variable ig_E_east not sortable by Cell ID!\n",
      "variable ig_E_east not sortable by Cell ID!\n",
      "variable ig_E_east not sortable by Cell ID!\n",
      "variable ig_E_east not sortable by Cell ID!\n",
      "variable ig_E_east not sortable by Cell ID!\n",
      "variable ig_E_east not sortable by Cell ID!\n",
      "variable ig_E_east not sortable by Cell ID!\n",
      "variable ig_E_east not sortable by Cell ID!\n",
      "variable ig_E_east not sortable by Cell ID!\n",
      "variable ig_E_east not sortable by Cell ID!\n",
      "variable ig_E_east not sortable by Cell ID!\n",
      "variable ig_E_east not sortable by Cell ID!\n",
      "variable ig_E_east not sortable by Cell ID!\n",
      "variable ig_E_east not sortable by Cell ID!\n",
      "variable ig_E_east not sortable by Cell ID!\n",
      "variable ig_E_east not sortable by Cell ID!\n",
      "variable ig_E_east not sortable by Cell ID!\n",
      "variable ig_E_east not sortable by Cell ID!\n",
      "variable ig_E_east not sortable by Cell ID!\n",
      "variable ig_E_east not sortable by Cell ID!\n",
      "variable ig_E_east not sortable by Cell ID!\n",
      "variable ig_E_east not sortable by Cell ID!\n",
      "variable ig_E_east not sortable by Cell ID!\n",
      "variable ig_E_east not sortable by Cell ID!\n",
      "variable ig_E_east not sortable by Cell ID!\n",
      "variable ig_E_east not sortable by Cell ID!\n",
      "variable ig_E_east not sortable by Cell ID!\n",
      "variable ig_E_east not sortable by Cell ID!\n",
      "variable ig_E_east not sortable by Cell ID!\n",
      "variable ig_E_east not sortable by Cell ID!\n",
      "variable ig_E_east not sortable by Cell ID!\n",
      "variable ig_E_east not sortable by Cell ID!\n",
      "variable ig_E_east not sortable by Cell ID!\n",
      "variable ig_E_east not sortable by Cell ID!\n",
      "variable ig_E_east not sortable by Cell ID!\n",
      "variable ig_E_east not sortable by Cell ID!\n",
      "variable ig_E_east not sortable by Cell ID!\n",
      "variable ig_E_east not sortable by Cell ID!\n",
      "variable ig_E_east not sortable by Cell ID!\n",
      "variable ig_E_east not sortable by Cell ID!\n",
      "variable ig_E_east not sortable by Cell ID!\n",
      "variable ig_E_east not sortable by Cell ID!\n",
      "variable ig_E_east not sortable by Cell ID!\n",
      "variable ig_E_east not sortable by Cell ID!\n",
      "variable ig_E_east not sortable by Cell ID!\n",
      "variable ig_E_east not sortable by Cell ID!\n",
      "variable ig_E_east not sortable by Cell ID!\n",
      "variable ig_E_east not sortable by Cell ID!\n",
      "variable ig_E_east not sortable by Cell ID!\n",
      "variable ig_E_east not sortable by Cell ID!\n",
      "variable ig_E_east not sortable by Cell ID!\n",
      "variable ig_E_east not sortable by Cell ID!\n",
      "variable ig_E_east not sortable by Cell ID!\n",
      "variable ig_E_east not sortable by Cell ID!\n",
      "variable ig_E_east not sortable by Cell ID!\n",
      "variable ig_E_east not sortable by Cell ID!\n",
      "variable ig_E_east not sortable by Cell ID!\n",
      "variable ig_E_east not sortable by Cell ID!\n",
      "variable ig_E_east not sortable by Cell ID!\n",
      "variable ig_E_east not sortable by Cell ID!\n",
      "variable ig_E_east not sortable by Cell ID!\n",
      "variable ig_E_east not sortable by Cell ID!\n",
      "variable ig_E_east not sortable by Cell ID!\n",
      "variable ig_E_east not sortable by Cell ID!\n",
      "variable ig_E_east not sortable by Cell ID!\n",
      "variable ig_E_east not sortable by Cell ID!\n",
      "variable ig_E_east not sortable by Cell ID!\n",
      "variable ig_E_east not sortable by Cell ID!\n",
      "variable ig_E_east not sortable by Cell ID!\n",
      "variable ig_E_east not sortable by Cell ID!\n",
      "variable ig_E_east not sortable by Cell ID!\n",
      "variable ig_E_east not sortable by Cell ID!\n",
      "variable ig_E_east not sortable by Cell ID!\n",
      "variable ig_E_east not sortable by Cell ID!\n",
      "variable ig_E_east not sortable by Cell ID!\n",
      "variable ig_E_east not sortable by Cell ID!\n",
      "variable ig_E_east not sortable by Cell ID!\n",
      "variable ig_E_east not sortable by Cell ID!\n",
      "variable ig_E_east not sortable by Cell ID!\n",
      "variable ig_E_east not sortable by Cell ID!\n",
      "variable ig_E_east not sortable by Cell ID!\n",
      "variable ig_E_east not sortable by Cell ID!\n",
      "variable ig_E_east not sortable by Cell ID!\n",
      "variable ig_E_east not sortable by Cell ID!\n",
      "variable ig_E_east not sortable by Cell ID!\n",
      "variable ig_E_east not sortable by Cell ID!\n",
      "variable ig_E_east not sortable by Cell ID!\n",
      "variable ig_E_east not sortable by Cell ID!\n",
      "variable ig_E_east not sortable by Cell ID!\n",
      "variable ig_E_east not sortable by Cell ID!\n",
      "variable ig_E_east not sortable by Cell ID!\n",
      "variable ig_E_east not sortable by Cell ID!\n",
      "variable ig_E_east not sortable by Cell ID!\n",
      "variable ig_E_east not sortable by Cell ID!\n",
      "variable ig_E_east not sortable by Cell ID!\n",
      "variable ig_E_east not sortable by Cell ID!\n",
      "variable ig_E_east not sortable by Cell ID!\n",
      "variable ig_E_east not sortable by Cell ID!\n",
      "variable ig_E_east not sortable by Cell ID!\n",
      "variable ig_E_east not sortable by Cell ID!\n",
      "variable ig_E_east not sortable by Cell ID!\n",
      "variable ig_E_east not sortable by Cell ID!\n",
      "variable ig_E_east not sortable by Cell ID!\n",
      "variable ig_E_east not sortable by Cell ID!\n",
      "variable ig_E_east not sortable by Cell ID!\n",
      "variable ig_E_east not sortable by Cell ID!\n",
      "variable ig_E_east not sortable by Cell ID!\n",
      "variable ig_E_east not sortable by Cell ID!\n",
      "variable ig_E_east not sortable by Cell ID!\n",
      "variable ig_E_east not sortable by Cell ID!\n",
      "variable ig_E_east not sortable by Cell ID!\n",
      "variable ig_E_east not sortable by Cell ID!\n",
      "variable ig_E_east not sortable by Cell ID!\n",
      "variable ig_E_east not sortable by Cell ID!\n",
      "variable ig_E_east not sortable by Cell ID!\n",
      "variable ig_E_east not sortable by Cell ID!\n",
      "variable ig_E_east not sortable by Cell ID!\n",
      "variable ig_E_east not sortable by Cell ID!\n",
      "variable ig_E_east not sortable by Cell ID!\n",
      "variable ig_E_east not sortable by Cell ID!\n",
      "variable ig_E_east not sortable by Cell ID!\n",
      "variable ig_E_east not sortable by Cell ID!\n",
      "variable ig_E_east not sortable by Cell ID!\n",
      "variable ig_E_east not sortable by Cell ID!\n",
      "variable ig_E_east not sortable by Cell ID!\n",
      "variable ig_E_east not sortable by Cell ID!\n",
      "variable ig_E_east not sortable by Cell ID!\n",
      "variable ig_E_east not sortable by Cell ID!\n",
      "variable ig_E_east not sortable by Cell ID!\n",
      "variable ig_E_east not sortable by Cell ID!\n",
      "variable ig_E_east not sortable by Cell ID!\n",
      "variable ig_E_east not sortable by Cell ID!\n",
      "variable ig_E_east not sortable by Cell ID!\n",
      "variable ig_E_east not sortable by Cell ID!\n",
      "variable ig_E_east not sortable by Cell ID!\n",
      "variable ig_E_east not sortable by Cell ID!\n",
      "variable ig_E_east not sortable by Cell ID!\n",
      "variable ig_E_east not sortable by Cell ID!\n",
      "variable ig_E_east not sortable by Cell ID!\n",
      "variable ig_E_east not sortable by Cell ID!\n",
      "variable ig_E_east not sortable by Cell ID!\n",
      "variable ig_E_east not sortable by Cell ID!\n",
      "variable ig_E_east not sortable by Cell ID!\n",
      "variable ig_E_east not sortable by Cell ID!\n",
      "variable ig_E_east not sortable by Cell ID!\n",
      "variable ig_E_east not sortable by Cell ID!\n",
      "variable ig_E_east not sortable by Cell ID!\n",
      "variable ig_E_east not sortable by Cell ID!\n",
      "variable ig_E_east not sortable by Cell ID!\n",
      "variable ig_E_east not sortable by Cell ID!\n",
      "variable ig_E_east not sortable by Cell ID!\n",
      "variable ig_E_east not sortable by Cell ID!\n",
      "variable ig_E_east not sortable by Cell ID!\n",
      "variable ig_E_east not sortable by Cell ID!\n",
      "variable ig_E_east not sortable by Cell ID!\n",
      "variable ig_E_east not sortable by Cell ID!\n",
      "variable ig_E_east not sortable by Cell ID!\n",
      "variable ig_E_east not sortable by Cell ID!\n",
      "variable ig_E_east not sortable by Cell ID!\n",
      "variable ig_E_east not sortable by Cell ID!\n",
      "variable ig_E_east not sortable by Cell ID!\n",
      "variable ig_E_east not sortable by Cell ID!\n",
      "variable ig_E_east not sortable by Cell ID!\n",
      "variable ig_E_east not sortable by Cell ID!\n",
      "variable ig_E_east not sortable by Cell ID!\n",
      "variable ig_E_east not sortable by Cell ID!\n",
      "variable ig_E_east not sortable by Cell ID!\n",
      "variable ig_E_east not sortable by Cell ID!\n",
      "variable ig_E_east not sortable by Cell ID!\n",
      "variable ig_E_east not sortable by Cell ID!\n",
      "variable ig_E_east not sortable by Cell ID!\n",
      "variable ig_E_east not sortable by Cell ID!\n",
      "variable ig_E_east not sortable by Cell ID!\n",
      "variable ig_E_east not sortable by Cell ID!\n",
      "variable ig_E_east not sortable by Cell ID!\n",
      "variable ig_E_east not sortable by Cell ID!\n",
      "variable ig_E_east not sortable by Cell ID!\n",
      "variable ig_E_east not sortable by Cell ID!\n",
      "variable ig_E_east not sortable by Cell ID!\n",
      "variable ig_E_east not sortable by Cell ID!\n",
      "variable ig_E_east not sortable by Cell ID!\n",
      "variable ig_E_east not sortable by Cell ID!\n",
      "variable ig_E_east not sortable by Cell ID!\n",
      "variable ig_E_east not sortable by Cell ID!\n",
      "variable ig_E_east not sortable by Cell ID!\n",
      "variable ig_E_east not sortable by Cell ID!\n",
      "variable ig_E_east not sortable by Cell ID!\n",
      "variable ig_E_east not sortable by Cell ID!\n",
      "variable ig_E_east not sortable by Cell ID!\n",
      "variable ig_E_east not sortable by Cell ID!\n",
      "variable ig_E_east not sortable by Cell ID!\n",
      "variable ig_E_east not sortable by Cell ID!\n",
      "variable ig_E_east not sortable by Cell ID!\n",
      "variable ig_E_east not sortable by Cell ID!\n",
      "variable ig_E_east not sortable by Cell ID!\n",
      "variable ig_E_east not sortable by Cell ID!\n",
      "variable ig_E_east not sortable by Cell ID!\n",
      "variable ig_E_east not sortable by Cell ID!\n",
      "variable ig_E_east not sortable by Cell ID!\n",
      "variable ig_E_east not sortable by Cell ID!\n",
      "variable ig_E_east not sortable by Cell ID!\n",
      "variable ig_E_east not sortable by Cell ID!\n",
      "variable ig_E_east not sortable by Cell ID!\n",
      "variable ig_E_east not sortable by Cell ID!\n",
      "variable ig_E_east not sortable by Cell ID!\n",
      "variable ig_E_east not sortable by Cell ID!\n",
      "variable ig_E_east not sortable by Cell ID!\n",
      "variable ig_E_east not sortable by Cell ID!\n",
      "variable ig_E_east not sortable by Cell ID!\n"
     ]
    },
    {
     "name": "stderr",
     "output_type": "stream",
     "text": [
      "28-Sep-24 01:11:13: Found population proton\n"
     ]
    }
   ],
   "source": [
    "\n",
    "# before running: \n",
    "# mkdir /wrk-vakka/users/horakons/carrington/plots/FHA/mp_io_coupling\n",
    "\n",
    "import os\n",
    "#os.environ['PATH'] = \"/wrk-vakka/group/spacephysics/proj/appl/tex-basic/texlive/2023/bin/x86_64-linux:\" + os.environ['PATH']\n",
    "print(os.environ[\"PATH\"])\n",
    "\n",
    "import matplotlib\n",
    "#matplotlib.use('TkAgg')\n",
    "%matplotlib inline\n",
    "import matplotlib.pyplot as plt\n",
    "import numpy as np\n",
    "import ftest as ft\n",
    "import pytools as pt\n",
    "#from numba import jit\n",
    "from myutils import cartesian_to_spherical, spherical_to_cartesian, mkdir_path, timer, timeseries, get_vlsvfile_fullpath\n",
    "import scipy\n",
    "import statsmodels.api as sm\n",
    "\n",
    "\n",
    "global R_EARTH\n",
    "R_EARTH = 6371000.\n",
    "run = \"FHA\"  # FHA, FIA, EGL\n",
    "\n",
    "'''\n",
    "if run == \"FIA\":\n",
    "    dir = \"/wrk-vakka/group/spacephysics/vlasiator/3D/FIA/bulk_sidecars/ig_B\"\n",
    "elif run == \"FHA\":\n",
    "    dir = \"/wrk-vakka/group/spacephysics/vlasiator/3D/FHA/bulk1_sidecars/ig_B\"\n",
    "elif run == \"EGL\":\n",
    "    dir = \"/wrk-vakka/group/spacephysics/vlasiator/3D/EGL/sidecars/ig_B\"\n",
    "f = ft.f(\"/wrk-vakka/group/spacephysics/vlasiator/3D/FHA/bulk1_sidecars/ig_B/ionosphere_B_sidecar_FHA.0000784.vlsv\")\n",
    "'''\n",
    "\n",
    "global START\n",
    "global STOP\n",
    "START = 1100       # FHA: 501-1612 (probably need > 1100? for connection coordinates)\n",
    "STOP = 1598  #1350 #1598 #1612 (XO sidecars only exist for t<=1598 if kernel crashes ask for more memory in jupyter_server.sh)\n",
    "#only available after t~1100s in FHA: 'vg_connection', 'vg_connection_coordinates_fw', 'vg_j_parallel',\n",
    "#dct = timeseries(run, ['vg_connection_coordinates_fw', 'ig_fac', 'vg_beta_star', 'ig_upmappednodecoords', 'proton/vg_pressure', 'proton/vg_precipitationdifferentialflux'], START, STOP) \n",
    "dct = timeseries(run, [ 'ig_fac', 'vg_beta_star', 'ig_upmappednodecoords', 'proton/vg_pressure', \n",
    "                 'CellID', 'vg_coordinates'],  START, STOP) \n",
    "                 #'proton/vg_precipitationdifferentialflux']\n",
    "dct_E_sidecar = timeseries(run, ['ig_E_north', 'ig_E_east'], START, STOP, filestem = '/wrk-vakka/users/horakons/carrington/data/FHA/GIC/ionosphere_gic_FHA_')\n",
    "dct_XO_sidecar = timeseries(run, ['vg_lmn_neutral_line_distance', 'vg_dBNdL'], START, STOP, filestem='/wrk-vakka/group/spacephysics/vlasiator/3D/FHA/bulk1_sidecars/pysidecar_sdf_bulk1.')\n",
    "\n",
    "\n",
    "#vg_fac_ts = dct['vg_j_parallel']\n",
    "ig_fac_ts = dct['ig_fac']\n",
    "vg_beta_star_ts = dct['vg_beta_star']\n",
    "vg_pressure_ts = dct['proton/vg_pressure']\n",
    "#vg_precipitation_ts = dct['proton/vg_precipitationdifferentialflux']\n",
    "ig_upmappednodecoords_ts = dct['ig_upmappednodecoords']                         # -3e-16 to 3e-16 \n",
    "ig_E_north_ts = dct_E_sidecar['ig_E_north']\n",
    "ig_E_east_ts = dct_E_sidecar['ig_E_east']\n",
    "vg_lmn_nld_ts = dct_XO_sidecar['vg_lmn_neutral_line_distance']   # <0.2 to find XO lines (what are the units?)\n",
    "vg_dBNdL_ts = dct_XO_sidecar['vg_dBNdL']                         # -3e-16 to 3e-16 \n",
    "cellid_ts = dct['CellID']                         # -3e-16 to 3e-16 \n",
    "\n",
    "#>>> fw = f.read_parameter('vg_connection_coordinates_fw')\n",
    "#Error: variable vg_connection_coordinates_fw/PARAMETER//pass not found in .vlsv file or in data reducers!\n",
    "\n",
    "f = ft.f(get_vlsvfile_fullpath(run, STOP))\n",
    "#vg_coordinates = f.read_variable(\"vg_coordinates\")\n",
    "vg_coordinates = dct['vg_coordinates'][0,:,:]\n",
    "vg_r, vg_theta, vg_phi = cartesian_to_spherical(vg_coordinates[:,0], vg_coordinates[:,1], vg_coordinates[:,2])\n",
    "\n",
    "#ig_coordinates = dct_E_sidecar['ig_r']   # this is locations of triangular elements (barycenters), NOT the same as node locations\n",
    "ig_coordinates = f.get_ionosphere_node_coords()  # node locations (element corners): shape (21568, 3)\n",
    "ig_r, ig_theta, ig_phi = cartesian_to_spherical(ig_coordinates[:,0], ig_coordinates[:,1], ig_coordinates[:,2])\n",
    "\n"
   ]
  },
  {
   "cell_type": "code",
   "execution_count": 34,
   "metadata": {},
   "outputs": [],
   "source": [
    "# Fasil used a function like this to catch FTEs... not sure if I'll need it\n",
    "\n",
    "def radial_line(theta, phi, r_arr, theta_arr, phi_arr,  delta = 2., r_range = [8*R_EARTH, 15*R_EARTH]):\n",
    "    '''\n",
    "        select all cells that \"intersect\" a radial line.\n",
    "\n",
    "        Inputs:\n",
    "            theta, phi: scalars specifying the radial line in spherical coordinates [degrees]\n",
    "            theta_arr, phi_arr, r_arr: 1D arrays of cell locations in the grid \n",
    "\n",
    "        Returns:\n",
    "            1D array of indices corresponding with the cells on the line\n",
    "\n",
    "         indices where theta_arr and phi_arr are within delta of thet specified theta, phi\n",
    "            AND r_arr is in r_range\n",
    "    '''\n",
    "    index = np.where( (np.abs(theta_arr - theta) < delta) & (np.abs(phi_arr-phi) < delta) \n",
    "                       & (r_arr > r_range[0]) & (r_arr < r_range[1]))[0]\n",
    "    #print(index.size, ' points')\n",
    "    #print(r_arr[index] / R_EARTH)\n",
    "    return index\n",
    "\n",
    "ind_line = radial_line(45., 0., vg_r, vg_theta*180./np.pi, vg_phi*180./np.pi, delta = 2., r_range = [8*R_EARTH, 9*R_EARTH]) \n"
   ]
  },
  {
   "cell_type": "code",
   "execution_count": 35,
   "metadata": {},
   "outputs": [],
   "source": [
    "# Select cells that map along the B-field to the point ig_testcoord\n",
    "def calc_mindist_ind(array_2d, vec):\n",
    "    # vec is 1D, N elements. Here, N=3 for 3D space\n",
    "    # array_2d is [:, N]\n",
    "    d = array_2d - vec\n",
    "    d1 = np.linalg.norm( d, axis =1)\n",
    "    return np.argmin(d1)\n",
    "\n",
    "\n",
    "def vg_test_point_index(ig_testcoord, ind_vg, fw, ig_coordinates, vg_r, vg_theta, vg_coordinates, vg_lmn_nld_ts, vg_beta_star_ts, nld):\n",
    "    # returns\n",
    "    # ind_mindist: an index in the vg_grid that is near a null (X- or O-) point at some time\n",
    "    #   connected along a field line to the point ig_testcoord\n",
    "    #   steps:\n",
    "    #   1. START with a list of inner magnetospheric indices, ind_vg, that are connected to ig_testcoord\n",
    "    #   2. select the coordinate with the largest r from among those indexed by ind_vg, call it thiscoord\n",
    "    #   3. from all times, from all null points on the SW side of the magnetopause, find the one that is nearest to thiscoord\n",
    "    #   the index from (3) is returned as ind_mindist\n",
    "\n",
    "    # from a given position, find the nearest neutral line position from all times\n",
    "    this_vg_ind = ind_vg[-1] # use the point on the field line with largest vg_r\n",
    "    thiscoord = vg_coordinates[this_vg_ind, :]\n",
    "    ind_mindist = 0 # dummy\n",
    "    mindist = R_EARTH * 1e6   # dummy\n",
    "    for i in range(STOP - START + 1):\n",
    "        # from all times, from all null points on the SW side of the magnetopause, find the one that is nearest to thiscoord\n",
    "        ind_nl = np.where( (vg_lmn_nld_ts[i, :] < nld) & (vg_r > min_nl_radius) & (vg_beta_star_ts[i, :] > 1) & (vg_coordinates[:,0] > 9*R_EARTH))[0]   # check all times for neutral lines   \n",
    "        d_nl = vg_coordinates[ind_nl, :] - thiscoord\n",
    "        d1_nl = np.linalg.norm( d_nl, axis =1)\n",
    "        i_nl = np.argmin(d1_nl)\n",
    "        mindist_nl = d1_nl[i_nl]\n",
    "        if mindist_nl < mindist:\n",
    "            mindist = mindist_nl\n",
    "            ind_mindist = ind_nl[i_nl]\n",
    "            print(ind_mindist)\n",
    "    return ind_mindist\n",
    "\n"
   ]
  },
  {
   "cell_type": "code",
   "execution_count": 36,
   "metadata": {},
   "outputs": [],
   "source": [
    "def calc_XO_FTE(ind_vg_plot, vg_coordinates, vg_lmn_nld_ts, vg_dBNdL_ts, nld=0.2, r_range=None, cleanup = False, nulls = 'XO'):\n",
    "    # find nominal times when FTE (X or O line) passes through cell indexed by ind_vg_plot\n",
    "    # nld: keyword setting the maximum distance to the nearest neutral line \n",
    "    # r_range = [r_min, r_max] or None\n",
    "    # nulls: = 'XO', 'X', or 'O' \n",
    "    XO = np.zeros(vg_dBNdL_ts.shape[0])\n",
    "    if r_range is None:\n",
    "        ind_FTE_tmp = np.where(vg_lmn_nld_ts[:, ind_vg_plot] < nld)[0]\n",
    "        # XO\n",
    "        XO[ind_FTE_tmp] = np.sign(vg_dBNdL_ts[ind_FTE_tmp, ind_vg_plot])\n",
    "    else:   # count as an FTE if *any* FTE on a radial line segment in [r_min, r_max]\n",
    "        r, theta, phi = cartesian_to_spherical(vg_coordinates[:, 0], vg_coordinates[:, 1], vg_coordinates[:, 2])\n",
    "        vg_inds = radial_line(theta[ind_vg_plot]*180./np.pi, phi[ind_vg_plot]*180./np.pi, r, theta*180./np.pi, phi*180./np.pi, delta = 2., r_range = r_range)\n",
    "        #print(vg_inds.size)\n",
    "        for vg_i in vg_inds:\n",
    "            i_temp = np.where(vg_lmn_nld_ts[:, vg_i] < nld)[0]\n",
    "            XO[i_temp] = np.sign(vg_dBNdL_ts[i_temp, vg_i])   # note, this is quite a klug, because and X and O null point could exist simultaneously on the same radial line\n",
    "    if cleanup:     # handle duplicates that are at nearby times (count only the first in a series)\n",
    "        dt = 30     # seconds (make this a keyword?)\n",
    "        test = 0\n",
    "        testind = 0\n",
    "        for i, pm1 in enumerate(XO):\n",
    "            if (pm1 != 0):\n",
    "                if (pm1 == test) & (i-testind <= dt):\n",
    "                    XO[i] = 0 # suppress duplicates that are at nearby times\n",
    "                else:\n",
    "                    test = pm1\n",
    "                    testind = i\n",
    "    if nulls == 'X':\n",
    "        XO[XO < 0] = 0  # only count Xs\n",
    "    elif nulls == 'O':\n",
    "        XO[XO > 0] = 0  # only keep Os\n",
    "    ind_FTE = np.where((XO != 0))[0]    \n",
    "    # else do nothing (code finds Xs and Os by default)          \n",
    "    return XO, ind_FTE\n",
    "\n",
    "\n",
    "def plot_2vars(time, plot_var1, plot_var2, ylim1=None, ylim2=None, ylabel1='', ylabel2 = '', label1='', label2='', ccf = True):\n",
    "    fig,ax1 = plt.subplots()\n",
    "    ax2=ax1.twinx()\n",
    "    # first plot\n",
    "    ax1.plot(time, plot_var1, color = \"C0\", label = label1)\n",
    "    ax1.set_ylabel(ylabel1,color=\"C0\",fontsize=18)\n",
    "    ax1.set_ylim([ylim1[0], ylim1[1]])\n",
    "    # make a plot with different y-axis using second axis object\n",
    "    ax2.plot(time, plot_var2, color = \"C1\", label = label2)\n",
    "    ax2.set_ylabel(ylabel2, color=\"C1\",fontsize=18)\n",
    "    ax2.set_ylim([ylim2[0], ylim2[1]])\n",
    "    ax1.legend(loc = 'upper center', framealpha = 1)\n",
    "    ax2.legend(loc = 'lower center', framealpha = 1)\n",
    "    if ccf: \n",
    "        this_ccf = sm.tsa.stattools.ccf(plot_var1, plot_var2, adjusted=False)\n",
    "    plt.title('ccf = {}'.format(np.nanmax(np.abs(this_ccf))))\n",
    "    plt.tight_layout()\n",
    "    return fig, ax1, ax2\n",
    "\n"
   ]
  },
  {
   "cell_type": "code",
   "execution_count": 37,
   "metadata": {},
   "outputs": [
    {
     "name": "stdout",
     "output_type": "stream",
     "text": [
      "[242521 242521 242521 242521 242521 242521 242521 242521 242521 242521\n",
      " 242521 242521 242521 242521 242521 242521 242521 242521 242521 242521\n",
      " 242521 242521 242521 242521 242521 242521 242521 242521 242521 242521\n",
      " 242521 242521 242521 242521 242521 242521 242521 242521 242521 242521\n",
      " 242521 242521 242521 242521 242521 242521 242521 242521 242521 242521\n",
      " 242521 242521 242521 242521 242521 242521 242521 242521 242521 242521\n",
      " 242521 242521 242521 242521 242521 242521 242521 242521 242521 242521\n",
      " 242521 242521 242521 242521 242521 242521 242521 242521 242521 242521\n",
      " 242521 242521 242521 242521 242521 242521 242521 242521 242521 242521\n",
      " 242521 242521 242521 242521 242521 242521 242521 242521 242521 242521\n",
      " 242521 242521 242521 242521 242521 242521 242521 242521 242521 242521\n",
      " 242521 242521 242521 242521 242521 242521 242521 242521 242521 242521\n",
      " 242521 242521 242521 242521 242521 242521 242521 242521 242521 242521\n",
      " 242521 242521 242521 242521 242521 242521 242521 242521 242521 242521\n",
      " 242521 242521 242521 242521 242521 242521 242521 242521 242521 242521\n",
      " 242521 242521 242521 242521 242521 242521 242521 242521 242521 242521\n",
      " 242521 242521 242521 242521 242521 242521 242521 242521 242521 242521\n",
      " 242521 242521 242521 242521 242521 242521 242521 242521 242521 242521\n",
      " 242521 242521 242521 242521 242521 242521 242521 242521 242521 242521\n",
      " 242521 242521 242521 242521 242521 242521 242521 242521 242521 242521\n",
      " 242521 242521 242521 242521 242521 242521 242521 242521 242521 242521\n",
      " 242521 242521 242521 242521 242521 242521 242521 242521 242521 242521\n",
      " 242521 242521 242521 242521 242521 242521 242521 242521 242521 242521\n",
      " 242521 242521 242521 242521 242521 242521 242521 242521 242521 242521\n",
      " 242521 242521 242521 242521 242521 242521 242521 242521 242521 242521\n",
      " 242521 242521 242521 242521 242521 242521 242521 242521 242521 242521\n",
      " 242521 242521 242521 242521 242521 242521 242521 242521 242521 242521\n",
      " 242521 242521 242521 242521 242521 242521 242521 242521 242521 242521\n",
      " 242521 242521 242521 242521 242521 242521 242521 242521 242521 242521\n",
      " 242521 242521 242521 242521 242521 242521 242521 242521 242521 242521\n",
      " 242521 242521 242521 242521 242521 242521 242521 242521 242521 242521\n",
      " 242521 242521 242521 242521 242521 242521 242521 242521 242521 242521\n",
      " 242521 242521 242521 242521 242521 242521 242521 242521 242521 242521\n",
      " 242521 242521 242521 242521 242521 242521 242521 242521 242521 242521\n",
      " 242521 242521 242521 242521 242521 242521 242521 242521 242521 242521\n",
      " 242521 242521 242521 242521 242521 242521 242521 242521 242521 242521\n",
      " 242521 242521 242521 242521 242521 242521 242521 242521 242521 242521\n",
      " 242521 242521 242521 242521 242521 242521 242521 242521 242521 242521\n",
      " 242521 242521 242521 242521 242521 242521 242521 242521 242521 242521\n",
      " 242521 242521 242521 242521 242521 242521 242521 242521 242521 242521\n",
      " 242521 242521 242521 242521 242521 242521 242521 242521 242521 242521\n",
      " 242521 242521 242521 242521 242521 242521 242521 242521 242521 242521\n",
      " 242521 242521 242521 242521 242521 242521 242521 242521 242521 242521\n",
      " 242521 242521 242521 242521 242521 242521 242521 242521 242521 242521\n",
      " 242521 242521 242521 242521 242521 242521 242521 242521 242521 242521\n",
      " 242521 242521 242521 242521 242521 242521 242521 242521 242521 242521\n",
      " 242521 242521 242521 242521 242521 242521 242521 242521 242521 242521\n",
      " 242521 242521 242521 242521 242521 242521 242521 242521 242521 242521\n",
      " 242521 242521 242521 242521 242521 242521 242521 242521 242521 242521\n",
      " 242521 242521 242521 242521 242521 242521 242521 242521 242521]\n",
      "/wrk-vakka/users/horakons/carrington/plots/FHA/mp_io_coupling/mp_io_FHA_vg_0_cid_242521_ig_8.png\n",
      "[ 0.12413408 -0.04533355  1.00709383]\n",
      "[  0.62784492  10.67336368 -32.02009104]\n"
     ]
    }
   ],
   "source": [
    "##fw = dct['vg_connection_coordinates_fw']   # shape (nfiles, 4012332, 3)\n",
    "#fw = np.repeat(f.read_variable('vg_connection_coordinates_fw')[None, :, :], STOP-START+1, axis = 0)\n",
    "\n",
    "nld = 0.2   # can't catch further FTEs by increasing nld, becuase this proxy uses a linear approximation of the magnetic field (linear term in Taylor expansion) to estimate the location of nulls\n",
    "\n",
    "### Pick the ionospheric point (index ind_ig_plot), and a magnetospheric point (index ind_vg_plot)\n",
    "\n",
    "##############\n",
    "'''\n",
    "\n",
    "# APPROACH 1: pick an ionospheric point and find a magnetospheric point that is near its field line, \n",
    "# that also contains a null point at some time\n",
    "\n",
    "# choose a point 'ig_testcoord' on the ionosphere (sphere at 1RE)\n",
    "latitude = 80. * np.pi / 180.\n",
    "theta = np.pi/2. - latitude\n",
    "phi = 15. * np.pi / 180.\n",
    "ig_testcoord = np.array(spherical_to_cartesian(R_EARTH, theta , phi ))\n",
    "\n",
    "# Select cells that map along the B-field to the point ig_testcoord\n",
    "#d_ig = ig_coordinates - ig_testcoord\n",
    "#d1_ig = np.linalg.norm( d_ig, axis =1)\n",
    "#ind_ig_plot = np.argmin(d1_ig)\n",
    "ind_ig_plot = calc_mindist_ind(ig_coordinates, ig_testcoord)\n",
    "\n",
    "#print(ig_coordinates[0, ind_ig_plot, :])\n",
    "print(ig_coordinates[ind_ig_plot, :])\n",
    "print(ig_testcoord)\n",
    "\n",
    "# ind_vg: the indices of the vg_ grid that downmap to nearby (distance<delta_x) \n",
    "#         to a location ig_testcoord in the ionosphere.\n",
    "#         also these vg_ grid locations are restricted in radius and to northern hemisphere (colatitude theta)\n",
    "fw_test = fw[0,:,:]\n",
    "d = fw_test - ig_testcoord\n",
    "d1 = np.linalg.norm( d, axis =1)\n",
    "delta_x = 2e5  # in meters,  1.2e5\n",
    "min_nl_radius = 9* R_EARTH\n",
    "ind_vg = np.where((d1 < delta_x) & (vg_r > 5.2*R_EARTH) & (vg_r < min_nl_radius) & (vg_theta < np.pi/2))[0]\n",
    "# sort ind_vg by radius\n",
    "i_temp = np.argsort(vg_r[ind_vg])\n",
    "ind_vg = ind_vg[i_temp]\n",
    "\n",
    "# ind_vg_plot is an index in the vg_grid, that is ~connected along a field line to the point ig_testcoord\n",
    "ind_vg_plot = vg_test_point_index(ig_testcoord, ind_vg, fw, ig_coordinates, vg_r, vg_theta, vg_coordinates, vg_lmn_nld_ts, vg_beta_star_ts, nld)\n",
    "\n",
    "\n",
    "\n",
    "##############\n",
    "\n",
    "# APPROACH 2: pick the magnetospheric point, and find where it maps down to the ionosphere\n",
    "# PICK a point in the magnetosphere, to make time series of FTEs\n",
    "\n",
    "dct_cellid_to_vg_index = f.get_cellid_locations()\n",
    "#vg_testcoord = np.array([10.444467116622194, 1.15696123057604772, 2.2595824831266675])*R_EARTH  # location of an FTE in FHA run, t=1125s (verified in visit)\n",
    "vg_testcoord = np.array([6.762015382200596, 0.31392246115209543, 8.203107832365406]) * R_EARTH  # cusp FTE, t=1420s\n",
    "#vg_testcoord = np.array([9.5, 0.86, 3.69]) * R_EARTH  # cusp FTE, t=1420s\n",
    "#vg_testcoord = np.array([10.67562392089154, 0.15696123057604772, 0.5280897818238895]) * R_EARTH # equatorial FTE t=1420s\n",
    "cellid_testcoord = f.get_cellid(vg_testcoord)\n",
    "ind_vg_plot = dct_cellid_to_vg_index[cellid_testcoord]\n",
    "print(vg_coordinates[ind_vg_plot, :]/R_EARTH)  # ~matches (as expected)\n",
    "\n",
    "ig_testcoords = fw[:,ind_vg_plot,:]   # where magnetospheric point maps to, all times\n",
    "ig_radius = np.linalg.norm(ig_testcoords, axis = -1)\n",
    "ind_temp = np.where(ig_radius < 1.5 *R_EARTH)[0]  # only consider points that map to the ionosphere\n",
    "ig_testcoord = ig_testcoords[ind_temp[0],:]       # pick first point, arbitrarily\n",
    "\n",
    "ind_ig_plot = ind_temp[calc_mindist_ind(ig_coordinates[ind_temp,:], ig_testcoord)]\n",
    "\n",
    "'''\n",
    "\n",
    "##############\n",
    "\n",
    "# APPROACH 3: Hard code both the ig and vg test coordinates\n",
    "\n",
    "ind_ig_plot = 8       # ig index for plots I shared in meeting ~15.3. found with np.argmin(np.abs(ig_ccfs - 0.10897546723564523))\n",
    "ig_testcoord = ig_coordinates[ind_ig_plot, :]\n",
    "\n",
    "#ig_testcoord = np.array([0.19, 0.05, 0.9884331034521254])*R_EARTH\n",
    "#ind_ig_plot = calc_mindist_ind(ig_coordinates, ig_testcoord)\n",
    "\n",
    "vg_testcoord = vg_coordinates[242520,:]\n",
    "#vg_testcoord = np.array([9.5, 0.86, 3.69])*R_EARTH\n",
    "ind_vg_plot = calc_mindist_ind(vg_coordinates, vg_testcoord)\n",
    "\n",
    "\n",
    "##############\n",
    "\n",
    "\n",
    "# PLOT magnetospheric XO proxies overlaid on mapped ionospheric variables\n",
    "#ind_plot_list = ind_vg[-2:-1]    # ind_vg\n",
    "ind_plot_list = [ind_vg_plot]\n",
    "time = np.arange(START, STOP+1)\n",
    "for i, i_vg in enumerate(ind_plot_list):\n",
    "    print(cellid_ts[:,i_vg])\n",
    "    cid = cellid_ts[0,i_vg]\n",
    "    # vg XO proxy (-1 to 1) vs. ig FACs\n",
    "    ylim2 = [-4e-7, 4e-7]\n",
    "    #XO, ind_FTE = calc_XO_FTE(i_vg, vg_coordinates, vg_lmn_nld_ts, vg_dBNdL_ts, nld = nld, r_range = [vg_r[i_vg]-R_EARTH, vg_r[i_vg]+R_EARTH], cleanup=True, nulls = 'O')\n",
    "    XO, ind_FTE = calc_XO_FTE(i_vg, vg_coordinates, vg_lmn_nld_ts, vg_dBNdL_ts, nld = nld, r_range = None, cleanup=True, nulls = 'O')\n",
    "    #print(ind_FTE)\n",
    "    fig, ax1, ax2 = plot_2vars(time, vg_pressure_ts[:,i_vg], ig_fac_ts[:, ind_ig_plot], ylim1=[None, None], ylim2=ylim2, \n",
    "                               ylabel1=r'Thermal Pressure [Pa]', ylabel2 = r'ig_fac $[A/m^2]$', \n",
    "                               label1= 'M-sphere {} RE'.format(np.array2string(vg_coordinates[i_vg, :] / R_EARTH, precision = 2)), \n",
    "                               label2='I-sphere {} RE'.format(np.array2string(ig_testcoord / R_EARTH, precision=2)))\n",
    "#    fig, ax1, ax2 = plot_2vars(time, XO, ig_fac_ts[:, ind_ig_plot], ylim1=[-1.5, 1.5], ylim2=ylim2, \n",
    "#                               ylabel1=r'sign($dB_N/dL$) [X=1, O=-1]', ylabel2 = r'ig_fac $[A/m^2]$', \n",
    "#                               label1= 'M-sphere {} RE'.format(np.array2string(vg_coordinates[i_vg, :] / R_EARTH, precision = 2)), \n",
    "#                               label2='I-sphere {} RE'.format(np.array2string(ig_testcoord / R_EARTH, precision=2)))\n",
    "    for i_FTE in ind_FTE:       # XO lines (vertical markers)\n",
    "        ax2.plot([START + i_FTE, START + i_FTE], ylim2, linestyle ='--', color = 'C2')\n",
    "    filename = '/wrk-vakka/users/horakons/carrington/plots/FHA/mp_io_coupling/mp_io_{}_vg_{}_cid_{}_ig_{}.png'.format(run, i, cid, ind_ig_plot)\n",
    "    print(filename)\n",
    "    plt.savefig(filename)\n",
    "    plt.close()\n",
    "\n",
    "\n",
    "print(ig_testcoord / R_EARTH)\n",
    "print(vg_testcoord / R_EARTH)\n",
    "\n"
   ]
  },
  {
   "cell_type": "code",
   "execution_count": 38,
   "metadata": {},
   "outputs": [
    {
     "data": {
      "text/plain": [
       "\"\\n# PLOT magnetospheric XO proxies overlaid on mapped ionospheric variables\\n#ind_plot_list = ind_vg[-2:-1]    # ind_vg\\nind_plot_list = [ind_vg_plot]\\ntime = np.arange(START, STOP+1)\\nfor i, i_vg in enumerate(ind_plot_list):\\n    # vg XO proxy (-1 to 1) vs. ig FACs\\n    ylim2 = [-4e-7, 4e-7]\\n    XO, ind_FTE = calc_XO_FTE(i_vg, vg_coordinates, vg_lmn_nld_ts, vg_dBNdL_ts, nld = nld, r_range = [vg_r[i_vg]-R_EARTH, vg_r[i_vg]+R_EARTH], cleanup=True, nulls = 'O')\\n    #print(ind_FTE)\\n    dnf_bin = 4\\n    fig, ax1, ax2 = plot_2vars(time, vg_pressure_ts[:,i_vg], vg_precipitation_ts [:, i_vg, dnf_bin], ylim1=[None, None], ylim2=ylim2, \\n                               ylabel1=r'Thermal Pressure [Pa]', ylabel2 = 'DNF {} eV '.format(f.read_parameter('proton_PrecipitationCentreEnergy{}'.format(dnf_bin))) + '[SI units]', \\n                               label1= 'M-sphere {} RE'.format(np.array2string(vg_coordinates[i_vg, :] / R_EARTH, precision = 2)), \\n                               label2= 'M-sphere {} RE'.format(np.array2string(vg_coordinates[i_vg, :] / R_EARTH, precision = 2)))\\n    for i_FTE in ind_FTE:       # XO lines (vertical markers)\\n        ax2.plot([START + i_FTE, START + i_FTE], ylim2, linestyle ='--', color = 'C2')\\n    filename = '/wrk-vakka/users/horakons/carrington/plots/FHA/mp_io_coupling/mp_mp_{}_vg_{}.png'.format(run, i)\\n    plt.savefig(filename)\\n    plt.close()\\n\""
      ]
     },
     "execution_count": 38,
     "metadata": {},
     "output_type": "execute_result"
    }
   ],
   "source": [
    "'''\n",
    "# PLOT magnetospheric XO proxies overlaid on mapped ionospheric variables\n",
    "#ind_plot_list = ind_vg[-2:-1]    # ind_vg\n",
    "ind_plot_list = [ind_vg_plot]\n",
    "time = np.arange(START, STOP+1)\n",
    "for i, i_vg in enumerate(ind_plot_list):\n",
    "    # vg XO proxy (-1 to 1) vs. ig FACs\n",
    "    ylim2 = [-4e-7, 4e-7]\n",
    "    XO, ind_FTE = calc_XO_FTE(i_vg, vg_coordinates, vg_lmn_nld_ts, vg_dBNdL_ts, nld = nld, r_range = [vg_r[i_vg]-R_EARTH, vg_r[i_vg]+R_EARTH], cleanup=True, nulls = 'O')\n",
    "    #print(ind_FTE)\n",
    "    dnf_bin = 4\n",
    "    fig, ax1, ax2 = plot_2vars(time, vg_pressure_ts[:,i_vg], vg_precipitation_ts [:, i_vg, dnf_bin], ylim1=[None, None], ylim2=ylim2, \n",
    "                               ylabel1=r'Thermal Pressure [Pa]', ylabel2 = 'DNF {} eV '.format(f.read_parameter('proton_PrecipitationCentreEnergy{}'.format(dnf_bin))) + '[SI units]', \n",
    "                               label1= 'M-sphere {} RE'.format(np.array2string(vg_coordinates[i_vg, :] / R_EARTH, precision = 2)), \n",
    "                               label2= 'M-sphere {} RE'.format(np.array2string(vg_coordinates[i_vg, :] / R_EARTH, precision = 2)))\n",
    "    for i_FTE in ind_FTE:       # XO lines (vertical markers)\n",
    "        ax2.plot([START + i_FTE, START + i_FTE], ylim2, linestyle ='--', color = 'C2')\n",
    "    filename = '/wrk-vakka/users/horakons/carrington/plots/FHA/mp_io_coupling/mp_mp_{}_vg_{}.png'.format(run, i)\n",
    "    plt.savefig(filename)\n",
    "    plt.close()\n",
    "'''\n",
    "\n"
   ]
  },
  {
   "cell_type": "code",
   "execution_count": 39,
   "metadata": {},
   "outputs": [],
   "source": [
    "\n",
    "# test ionosphere. Does mapping change with time? Answer, not really\n",
    "\n",
    "plt.plot(time, ig_upmappednodecoords_ts[:, ind_ig_plot, 0]/R_EARTH, label = 'x')\n",
    "plt.plot(time, ig_upmappednodecoords_ts[:, ind_ig_plot, 1]/R_EARTH, label = 'y')\n",
    "plt.plot(time, ig_upmappednodecoords_ts[:, ind_ig_plot, 2]/R_EARTH, label = 'z')\n",
    "plt.ylabel('Upmapped coordinate [R_E]')\n",
    "plt.xlabel('time')\n",
    "plt.title('Upmapping from {}'.format(np.array(ig_testcoord)/R_EARTH))\n",
    "plt.legend()\n",
    "plt.savefig('/wrk-vakka/users/horakons/carrington/plots/FHA/mp_io_coupling/ionosphere_upmappedcoords_{}.png'.format(run))   # make this mp_io_coupling/ directory\n",
    "plt.close()\n"
   ]
  },
  {
   "cell_type": "code",
   "execution_count": 40,
   "metadata": {},
   "outputs": [
    {
     "name": "stderr",
     "output_type": "stream",
     "text": [
      "28-Sep-24 01:11:15: /proj/horakons/conda/myconda/lib/python3.8/site-packages/statsmodels/tsa/stattools.py:1119: RuntimeWarning: invalid value encountered in divide\n",
      "  return cvf / (np.std(x) * np.std(y))\n",
      "\n"
     ]
    }
   ],
   "source": [
    "import statsmodels.api as sm\n",
    "\n",
    "#calculate cross correlation\n",
    "ccf = sm.tsa.stattools.ccf(XO,  ig_fac_ts[:, ind_ig_plot], adjusted=False)\n"
   ]
  },
  {
   "cell_type": "code",
   "execution_count": 41,
   "metadata": {},
   "outputs": [
    {
     "data": {
      "text/plain": [
       "[<matplotlib.lines.Line2D at 0x7f1a705f5340>]"
      ]
     },
     "execution_count": 41,
     "metadata": {},
     "output_type": "execute_result"
    },
    {
     "data": {
      "image/png": "[encoded data removed]",
      "text/plain": [
       "<Figure size 640x480 with 1 Axes>"
      ]
     },
     "metadata": {},
     "output_type": "display_data"
    }
   ],
   "source": [
    "plt.plot(ccf)"
   ]
  },
  {
   "cell_type": "code",
   "execution_count": 42,
   "metadata": {},
   "outputs": [
    {
     "name": "stderr",
     "output_type": "stream",
     "text": [
      "28-Sep-24 01:11:15: /wrk-vakka/users/horakons/tmp/ipykernel_658904/3920447336.py:20: RuntimeWarning: All-NaN slice encountered\n",
      "  ccf_temp = np.nanmax(np.abs(ccf))\n",
      "\n"
     ]
    },
    {
     "name": "stdout",
     "output_type": "stream",
     "text": [
      "1434790 0.0\n",
      "1442166 0.07881771813445798\n",
      "1442482 0.08002305438639937\n",
      "1444464 0.08912788596356581\n",
      "1460922 0.09139140108883168\n",
      "1466255 0.0979514616724702\n",
      "1471776 0.09810551962906157\n",
      "1483505 0.09929022405732088\n",
      "1510272 0.09996209536282451\n",
      "1517256 0.12370815243467288\n",
      "1518628 0.12440473209100153\n",
      "1557174 0.12783148202174743\n",
      "1592959 0.12907098474646592\n",
      "1602139 0.13022265182258713\n",
      "2293532 0.13286000307433085\n",
      "3419723 0.1483192746468438\n",
      "3946710 0.14863213297933822\n",
      "3949167 0.1510233184708392\n",
      "3951610 0.15677988429274065\n"
     ]
    },
    {
     "data": {
      "text/plain": [
       "0.15806385168310827"
      ]
     },
     "execution_count": 42,
     "metadata": {},
     "output_type": "execute_result"
    }
   ],
   "source": [
    "ig_fac_ts_diff = np.diff(ig_fac_ts[:, ind_ig_plot], prepend=ig_fac_ts[0, ind_ig_plot])   # d(FAC)/dt, \n",
    "#ind_mpause = np.where((vg_coordinates[:,0] > 0) & (vg_r > 8*R_EARTH) & (vg_r < 12*R_EARTH))[0]\n",
    "ind_mpause = np.where((vg_coordinates[:,0] > 0) & (vg_r > 8*R_EARTH) & (vg_r < 17*R_EARTH))[0]\n",
    "ind_mpause = ind_mpause.tolist()\n",
    "ind_mpause.append(242520) \n",
    "ind_mpause = np.array(ind_mpause )\n",
    "ccf_max = 0.\n",
    "\n",
    "# loop through magnetopause points (in vg grid), to see which are most correlated with the ig test point\n",
    "vg_ccfs = np.zeros([vg_coordinates.shape[0]])\n",
    "\n",
    "for i, i_m in enumerate(ind_mpause):\n",
    "    #XO, ind_FTE = calc_XO_FTE(i_m, vg_coordinates, vg_lmn_nld_ts, vg_dBNdL_ts, nld = nld, r_range = [vg_r[i_m]-R_EARTH, vg_r[i_m]+R_EARTH], cleanup=True, nulls = 'O')  # TOO SLOW\n",
    "    XO, ind_FTE = calc_XO_FTE(i_m, vg_coordinates, vg_lmn_nld_ts, vg_dBNdL_ts, nld = nld, r_range = None, cleanup=True, nulls = 'O')\n",
    "    #print(i)\n",
    "    #calculate cross correlation\n",
    "    cid = cellid_ts[0,i_m]\n",
    "    ccf = sm.tsa.stattools.ccf(XO,  ig_fac_ts[:, ind_ig_plot], adjusted=False)\n",
    "    #ccf = sm.tsa.stattools.ccf(XO,  ig_fac_ts_diff, adjusted=False)\n",
    "    ccf_temp = np.nanmax(np.abs(ccf))\n",
    "    vg_ccfs[i_m] = ccf_temp\n",
    "    if (ccf_temp > ccf_max) and len(np.where(XO <0)[0]) >= 3:\n",
    "        print(i_m, ccf_max)\n",
    "        ccf_max = np.nanmax([ccf_max, ccf_temp])\n",
    "        #ylim2 = [-1e-8, 1e-8]   # for d/dt(FAC)\n",
    "        #fig, ax1, ax2 = plot_2vars(time, XO, ig_fac_ts_diff, ylim1=[-1.5, 1.5], ylim2=ylim2, \n",
    "        #                           ylabel1=r'sign($dB_N/dL$) [X=1, O=-1]', ylabel2 = r'd/dt ig_fac $[A/m^2/s]$', \n",
    "        ylim2 = [-2e-7, 2e-7]   # for FAC\n",
    "        fig, ax1, ax2 = plot_2vars(time, XO, ig_fac_ts[:, ind_ig_plot], ylim1=[-1.5, 1.5], ylim2=ylim2, \n",
    "                                   ylabel1=r'sign($dB_N/dL$) [X=1, O=-1]', ylabel2 = r'ig_fac $[A/m^2]$', \n",
    "        #ylim2 = [-2e-5, 2e-5]   # for E-field\n",
    "        #fig, ax1, ax2 = plot_2vars(time, XO, ig_E_east_ts[:, ind_ig_plot], ylim1=[-1.5, 1.5], ylim2=ylim2, \n",
    "        #                           ylabel1=r'sign($dB_N/dL$) [X=1, O=-1]', ylabel2 = r'E_north $[V/m]$', \n",
    "                                   label1= 'M-sphere {} RE'.format(np.array2string(vg_coordinates[i_m, :] / R_EARTH, precision = 2)), \n",
    "                                   label2= 'I-sphere {} RE'.format(np.array2string(ig_testcoord / R_EARTH, precision=2)))\n",
    "        for i_FTE in ind_FTE:   # XO lines (vertical markers)\n",
    "            ax2.plot([START + i_FTE, START + i_FTE], ylim2, linestyle ='--', color = 'C2')\n",
    "        plt.savefig('/wrk-vakka/users/horakons/carrington/plots/FHA/mp_io_coupling/mp_io_{}_vg_{}_cid_{}.png'.format(run, i_m, cid))\n",
    "        plt.close()\n",
    "\n",
    "ccf_max\n",
    "#ind_mpause.size"
   ]
  },
  {
   "cell_type": "code",
   "execution_count": 43,
   "metadata": {},
   "outputs": [
    {
     "name": "stderr",
     "output_type": "stream",
     "text": [
      "28-Sep-24 01:13:40: /wrk-vakka/users/horakons/tmp/ipykernel_658904/121408283.py:35: RuntimeWarning: All-NaN slice encountered\n",
      "  ccf_temp = np.nanmax(np.abs(ccf))\n",
      "\n"
     ]
    },
    {
     "name": "stdout",
     "output_type": "stream",
     "text": [
      "2221098 0.0\n",
      "2221467 0.07103617025193931\n",
      "2222949 0.08669481621199612\n",
      "2226114 0.08985512414920542\n",
      "2242826 0.09511518793624525\n",
      "2243945 0.10596649656441716\n",
      "2243947 0.10684294729269664\n",
      "2256069 0.1097175673067999\n",
      "2290674 0.11348546574070868\n",
      "2291044 0.1165250879926276\n",
      "2293532 0.12168320824460295\n",
      "3946710 0.1483192746468438\n",
      "3949167 0.1510233184708392\n",
      "3951610 0.15677988429274065\n",
      "2853126 0.15806385168310827\n",
      "2878241 0.15806385168310827\n",
      "2908482 0.15806385168310827\n",
      "2979093 0.15806385168310827\n",
      "3564828 0.15806385168310827\n",
      "3607436 0.15806385168310827\n",
      "3650044 0.15806385168310827\n",
      "3650577 0.15806385168310827\n",
      "3735526 0.161721407284595\n",
      "1584121 0.161721407284595\n",
      "1513863 0.161721407284595\n",
      "1528846 0.16584522770252433\n",
      "1531584 0.16584522770252433\n",
      "1544005 0.16907481096579113\n",
      "1584121 0.16907481096579113\n",
      "1595651 0.17602296790827016\n",
      "1711903 0.17602296790827016\n",
      "1782971 0.17602296790827016\n",
      "3071695 0.17602296790827016\n",
      "3073775 0.17602296790827016\n",
      "3085504 0.17685269589685904\n",
      "1549082 0.17685269589685904\n",
      "1557174 0.17685269589685904\n",
      "1573558 0.17685269589685904\n",
      "1633592 0.17685269589685904\n",
      "1643437 0.17685269589685904\n",
      "2724103 0.17685269589685904\n",
      "2754990 0.17685269589685904\n",
      "2798601 0.17685269589685904\n",
      "2799582 0.17685269589685904\n",
      "2808823 0.17685269589685904\n",
      "3954086 0.17685269589685904\n",
      "3954121 0.17685269589685904\n",
      "3958781 0.17685269589685904\n",
      "3961077 0.17685269589685904\n",
      "3979459 0.17685269589685904\n",
      "3987494 0.17685269589685904\n",
      "3989120 0.17685269589685904\n",
      "3989149 0.17685269589685904\n",
      "3989178 0.17685269589685904\n",
      "3992354 0.17685269589685904\n",
      "3992414 0.17685269589685904\n",
      "3951040 0.17685269589685904\n",
      "2443961 0.17685269589685904\n",
      "2853126 0.17685269589685904\n",
      "2870099 0.17685269589685904\n",
      "2978641 0.17685269589685904\n",
      "3705887 0.17685269589685904\n",
      "3908509 0.17685269589685904\n",
      "2768583 0.17685269589685904\n",
      "2788250 0.17685269589685904\n",
      "2853126 0.17685269589685904\n",
      "2878241 0.17685269589685904\n",
      "3991841 0.17685269589685904\n",
      "3994905 0.17685269589685904\n",
      "3994923 0.17685269589685904\n",
      "3999049 0.18295400079531454\n",
      "2603338 0.18295400079531454\n",
      "2807615 0.18295400079531454\n",
      "2861372 0.18295400079531454\n",
      "2869179 0.18295400079531454\n",
      "2869281 0.18295400079531454\n",
      "2869282 0.18295400079531454\n",
      "2869798 0.18295400079531454\n",
      "2869899 0.18295400079531454\n",
      "2877739 0.18295400079531454\n",
      "2878637 0.18295400079531454\n",
      "2944468 0.18295400079531454\n",
      "2963123 0.18295400079531454\n",
      "3994923 0.18295400079531454\n",
      "4003531 0.18295400079531454\n",
      "1572845 0.18295400079531454\n",
      "1581641 0.18295400079531454\n",
      "1590684 0.18295400079531454\n",
      "1592959 0.18295400079531454\n",
      "1599635 0.18295400079531454\n",
      "1611469 0.18295400079531454\n",
      "3063320 0.18295400079531454\n",
      "3065563 0.18295400079531454\n",
      "3065581 0.18295400079531454\n",
      "3067844 0.18295400079531454\n",
      "1521018 0.18295400079531454\n",
      "1578963 0.18295400079531454\n",
      "1584121 0.18295400079531454\n",
      "1611469 0.18295400079531454\n",
      "3041492 0.18295400079531454\n",
      "3043260 0.18295400079531454\n",
      "3047235 0.18295400079531454\n",
      "3049670 0.18295400079531454\n",
      "3049696 0.18295400079531454\n",
      "3051698 0.18295400079531454\n",
      "3053589 0.18295400079531454\n",
      "3053615 0.18295400079531454\n",
      "3053641 0.18295400079531454\n",
      "3053667 0.18295400079531454\n",
      "3053693 0.18295400079531454\n",
      "3053719 0.18295400079531454\n",
      "3055571 0.18295400079531454\n",
      "3055597 0.18295400079531454\n",
      "3055623 0.18295400079531454\n",
      "3055649 0.18295400079531454\n",
      "3055675 0.18295400079531454\n",
      "3055701 0.18295400079531454\n",
      "3055727 0.18295400079531454\n",
      "3057619 0.18295400079531454\n",
      "3057645 0.18295400079531454\n",
      "3057671 0.18295400079531454\n",
      "3057697 0.18295400079531454\n",
      "3057723 0.18295400079531454\n",
      "3057749 0.18295400079531454\n",
      "3057775 0.18295400079531454\n",
      "3059769 0.18295400079531454\n",
      "3059821 0.18295400079531454\n",
      "3059978 0.18295400079531454\n",
      "3060006 0.18295400079531454\n",
      "3060034 0.18295400079531454\n",
      "3061941 0.18295400079531454\n",
      "3062176 0.18295400079531454\n",
      "3062230 0.18295400079531454\n",
      "3139663 0.18295400079531454\n",
      "1444603 0.18295400079531454\n",
      "1468337 0.18295400079531454\n",
      "1502158 0.18295400079531454\n",
      "1598612 0.18295400079531454\n",
      "1598715 0.18295400079531454\n",
      "1598818 0.18295400079531454\n",
      "1611469 0.18295400079531454\n",
      "1617075 0.18295400079531454\n",
      "1617180 0.18295400079531454\n",
      "1711903 0.18295400079531454\n",
      "1781490 0.18295400079531454\n",
      "1782971 0.18295400079531454\n",
      "1920676 0.18295400079531454\n",
      "1921058 0.18295400079531454\n",
      "3065563 0.18295400079531454\n",
      "3077612 0.18295400079531454\n",
      "3080044 0.18295400079531454\n",
      "3080052 0.18295400079531454\n",
      "3080063 0.18295400079531454\n",
      "3082484 0.18295400079531454\n",
      "3082492 0.18295400079531454\n",
      "3082493 0.18295400079531454\n",
      "3082503 0.18295400079531454\n",
      "3082514 0.18295400079531454\n",
      "3082527 0.18295400079531454\n",
      "3083829 0.18295400079531454\n",
      "3083859 0.18295400079531454\n",
      "3084980 0.18295400079531454\n",
      "3084999 0.18295400079531454\n",
      "3085000 0.18295400079531454\n",
      "3085010 0.18295400079531454\n",
      "3085023 0.18295400079531454\n",
      "3086325 0.18295400079531454\n",
      "3086355 0.18295400079531454\n",
      "3086385 0.18295400079531454\n",
      "3063320 0.18295400079531454\n",
      "3065581 0.18295400079531454\n",
      "2121274 0.18295400079531454\n",
      "2152258 0.18295400079531454\n",
      "1446562 0.18295400079531454\n",
      "1502158 0.18295400079531454\n",
      "1540557 0.18295400079531454\n",
      "1548604 0.18295400079531454\n",
      "1556785 0.18295400079531454\n",
      "1573860 0.18295400079531454\n",
      "1592959 0.18295400079531454\n",
      "1595651 0.18295400079531454\n",
      "1611469 0.18295400079531454\n",
      "1647756 0.19280307994484\n",
      "1650124 0.19280307994484\n",
      "1659851 0.19280307994484\n",
      "1711903 0.19280307994484\n",
      "1736996 0.19280307994484\n",
      "1737363 0.19280307994484\n",
      "1737364 0.19280307994484\n",
      "1781490 0.19280307994484\n",
      "1781491 0.19821117630410823\n",
      "1781859 0.19821117630410823\n",
      "1782229 0.19821117630410823\n",
      "1782598 0.19821117630410823\n",
      "1782970 0.19821117630410823\n",
      "1782971 0.19821117630410823\n",
      "1826351 0.19821117630410823\n",
      "1826721 0.19821117630410823\n",
      "1826722 0.19821117630410823\n",
      "1827091 0.19821117630410823\n",
      "1827463 0.19821117630410823\n",
      "1872361 0.19821117630410823\n",
      "1872735 0.19821117630410823\n",
      "1904069 0.19821117630410823\n",
      "2106272 0.19821117630410823\n",
      "3031244 0.19821117630410823\n",
      "3054861 0.19821117630410823\n",
      "3056742 0.19821117630410823\n",
      "3061468 0.19821117630410823\n",
      "3063629 0.19821117630410823\n",
      "3063682 0.19821117630410823\n",
      "3072558 0.19821117630410823\n",
      "3078100 0.19821117630410823\n",
      "3316826 0.19821117630410823\n",
      "3351523 0.19821117630410823\n",
      "3351787 0.19821117630410823\n",
      "3352054 0.19821117630410823\n",
      "3393075 0.19821117630410823\n",
      "3393337 0.19821117630410823\n",
      "3393338 0.19821117630410823\n",
      "3393602 0.19821117630410823\n",
      "3394131 0.19821117630410823\n",
      "3435160 0.19821117630410823\n",
      "3435420 0.19821117630410823\n",
      "3435946 0.19821117630410823\n",
      "2067778 0.19821117630410823\n",
      "1781490 0.19821117630410823\n",
      "3122395 0.19821117630410823\n",
      "3206719 0.19821117630410823\n",
      "3208810 0.19821117630410823\n",
      "3335034 0.19821117630410823\n",
      "3506775 0.19821117630410823\n",
      "3952399 0.19821117630410823\n",
      "2818200 0.19821117630410823\n",
      "2827362 0.19821117630410823\n",
      "2836545 0.19821117630410823\n",
      "2853994 0.19821117630410823\n",
      "3989178 0.19821117630410823\n",
      "2843462 0.19821117630410823\n",
      "2849618 0.19821117630410823\n",
      "3941740 0.19821117630410823\n",
      "2622086 0.19821117630410823\n",
      "2622465 0.19821117630410823\n",
      "2666182 0.19821117630410823\n",
      "2995810 0.19821117630410823\n",
      "2823814 0.19821117630410823\n",
      "2832977 0.19821117630410823\n",
      "2833079 0.19821117630410823\n",
      "2833080 0.19821117630410823\n",
      "2841926 0.19821117630410823\n",
      "2842132 0.19821117630410823\n",
      "2850863 0.19821117630410823\n",
      "2850967 0.19821117630410823\n",
      "2850968 0.19821117630410823\n",
      "2851071 0.19821117630410823\n",
      "2851072 0.19821117630410823\n",
      "2851175 0.19821117630410823\n",
      "2851592 0.19821117630410823\n",
      "2859854 0.19821117630410823\n",
      "2859955 0.19821117630410823\n",
      "2860056 0.19821117630410823\n",
      "2860460 0.19821117630410823\n",
      "2860561 0.19821117630410823\n",
      "2869077 0.19821117630410823\n",
      "2529690 0.19821117630410823\n",
      "2603338 0.19821117630410823\n",
      "2788250 0.19821117630410823\n",
      "2799248 0.19821117630410823\n",
      "2849618 0.19821117630410823\n",
      "2853126 0.19821117630410823\n",
      "2878241 0.19821117630410823\n",
      "2887496 0.19821117630410823\n",
      "2894101 0.19821117630410823\n",
      "2895258 0.19821117630410823\n",
      "2908482 0.19821117630410823\n",
      "2945785 0.19821117630410823\n",
      "2968960 0.19821117630410823\n",
      "2976612 0.19821117630410823\n",
      "2979093 0.19821117630410823\n",
      "2989941 0.19821117630410823\n",
      "3564828 0.19821117630410823\n",
      "3565361 0.19821117630410823\n",
      "3565630 0.19821117630410823\n",
      "3607436 0.19821117630410823\n",
      "3650044 0.19821117630410823\n",
      "3650577 0.19821117630410823\n",
      "3749056 0.19821117630410823\n",
      "3836180 0.19821117630410823\n",
      "3947231 0.19821117630410823\n",
      "3949585 0.19821117630410823\n",
      "3950600 0.19821117630410823\n",
      "3966258 0.19821117630410823\n",
      "3969323 0.19821117630410823\n",
      "3980224 0.19821117630410823\n",
      "3982071 0.19821117630410823\n",
      "3989501 0.19821117630410823\n",
      "3994418 0.19821117630410823\n",
      "3994438 0.19821117630410823\n",
      "3994458 0.19821117630410823\n",
      "3995837 0.19821117630410823\n",
      "3995857 0.19821117630410823\n",
      "3995877 0.19821117630410823\n",
      "3995897 0.19821117630410823\n",
      "3998752 0.19821117630410823\n",
      "3999753 0.19821117630410823\n",
      "4003494 0.19821117630410823\n",
      "4003628 0.19821117630410823\n",
      "2788250 0.19821117630410823\n",
      "2798098 0.19821117630410823\n",
      "2851591 0.19821117630410823\n",
      "2851695 0.19821117630410823\n",
      "2860560 0.19821117630410823\n",
      "2860661 0.19821117630410823\n",
      "2869281 0.19821117630410823\n",
      "3994923 0.19821117630410823\n",
      "2691946 0.19821117630410823\n",
      "2708729 0.19821117630410823\n",
      "2708829 0.19821117630410823\n",
      "2708930 0.19821117630410823\n",
      "2709030 0.19821117630410823\n",
      "2720032 0.19821117630410823\n",
      "2808567 0.19821117630410823\n",
      "2816973 0.19821117630410823\n",
      "2817174 0.19821117630410823\n",
      "2845126 0.19821117630410823\n",
      "2845217 0.19821117630410823\n",
      "2845479 0.19821117630410823\n",
      "2854083 0.19821117630410823\n",
      "2854174 0.19821117630410823\n",
      "2854263 0.19821117630410823\n",
      "2859346 0.19821117630410823\n",
      "2859448 0.19821117630410823\n",
      "2861172 0.19821117630410823\n",
      "2868260 0.19821117630410823\n",
      "2869179 0.19821117630410823\n",
      "2869282 0.19821117630410823\n",
      "2869385 0.19821117630410823\n",
      "2870099 0.19821117630410823\n",
      "2877019 0.19821117630410823\n",
      "2877534 0.19821117630410823\n",
      "2877739 0.19821117630410823\n",
      "2877839 0.19821117630410823\n",
      "2878239 0.19821117630410823\n",
      "2925416 0.19821117630410823\n",
      "3944800 0.19821117630410823\n",
      "3947258 0.19821117630410823\n",
      "3954872 0.19821117630410823\n",
      "3954956 0.19821117630410823\n",
      "3955012 0.19821117630410823\n",
      "3957372 0.19821117630410823\n",
      "3957400 0.19821117630410823\n",
      "3957428 0.19821117630410823\n",
      "3957456 0.19821117630410823\n",
      "3961096 0.19821117630410823\n",
      "3963353 0.19821117630410823\n",
      "3965593 0.19821117630410823\n",
      "2241817 0.19821117630410823\n",
      "2276421 0.19821117630410823\n",
      "2312781 0.19821117630410823\n",
      "2861372 0.19821117630410823\n",
      "2877739 0.19821117630410823\n",
      "2877839 0.19821117630410823\n",
      "2925416 0.19821117630410823\n",
      "2932525 0.19821117630410823\n",
      "2932608 0.19821117630410823\n",
      "2932691 0.19821117630410823\n",
      "2939110 0.19821117630410823\n",
      "2939193 0.19821117630410823\n",
      "2939274 0.19821117630410823\n",
      "2945701 0.19821117630410823\n",
      "2945784 0.19821117630410823\n",
      "2945945 0.19821117630410823\n",
      "2946024 0.19821117630410823\n",
      "2951938 0.19821117630410823\n",
      "2952170 0.19821117630410823\n",
      "2952245 0.19821117630410823\n",
      "2969546 0.19821117630410823\n",
      "3942297 0.19821117630410823\n",
      "3947231 0.19821117630410823\n",
      "3963353 0.19821117630410823\n",
      "3969704 0.19821117630410823\n",
      "2399362 0.19821117630410823\n",
      "2399743 0.19821117630410823\n",
      "2599548 0.19821117630410823\n",
      "2688537 0.19821117630410823\n",
      "2718968 0.19821117630410823\n",
      "2719068 0.19821117630410823\n",
      "2788250 0.19821117630410823\n",
      "2807913 0.19821117630410823\n",
      "2808567 0.19821117630410823\n",
      "2812528 0.19821117630410823\n",
      "2817469 0.19821117630410823\n",
      "2818026 0.19821117630410823\n",
      "2821865 0.19821117630410823\n",
      "2826827 0.19821117630410823\n",
      "2826920 0.19821117630410823\n",
      "2827187 0.19821117630410823\n",
      "2835724 0.19821117630410823\n",
      "2836010 0.19821117630410823\n",
      "2836103 0.19821117630410823\n",
      "2836283 0.19821117630410823\n",
      "2836370 0.19821117630410823\n",
      "2845126 0.19821117630410823\n",
      "2845217 0.19821117630410823\n",
      "2854083 0.19821117630410823\n",
      "2854174 0.19821117630410823\n",
      "2854263 0.19821117630410823\n",
      "2859448 0.19821117630410823\n",
      "2861070 0.19821117630410823\n",
      "2862974 0.19821117630410823\n",
      "2869179 0.19821117630410823\n",
      "2869282 0.19821117630410823\n",
      "2869385 0.19821117630410823\n",
      "2869488 0.19821117630410823\n",
      "2869591 0.19821117630410823\n",
      "2869798 0.19821117630410823\n",
      "2870199 0.19821117630410823\n",
      "2877839 0.19821117630410823\n",
      "2878239 0.19821117630410823\n",
      "2885925 0.19821117630410823\n",
      "2918335 0.19821117630410823\n",
      "2925500 0.19821117630410823\n",
      "2932263 0.19821117630410823\n",
      "2944468 0.19821117630410823\n",
      "2979093 0.19821117630410823\n",
      "3544596 0.19821117630410823\n",
      "3545407 0.19821117630410823\n",
      "3650577 0.19821117630410823\n",
      "3944800 0.19821117630410823\n",
      "3946737 0.19821117630410823\n",
      "3949194 0.19821117630410823\n",
      "3980224 0.19821117630410823\n",
      "3982071 0.19821117630410823\n",
      "3983908 0.19821117630410823\n",
      "3992500 0.19821117630410823\n",
      "3994015 0.19821117630410823\n",
      "3994923 0.19821117630410823\n",
      "2845479 0.19821117630410823\n",
      "2854351 0.19821117630410823\n",
      "2860258 0.19821117630410823\n",
      "2860359 0.19821117630410823\n",
      "2860662 0.19821117630410823\n",
      "2860865 0.19821117630410823\n",
      "2364014 0.19821117630410823\n",
      "2399362 0.19821117630410823\n",
      "2399743 0.19821117630410823\n",
      "2870099 0.19821117630410823\n",
      "3941577 0.19821117630410823\n",
      "3944042 0.19821117630410823\n",
      "1521018 0.19821117630410823\n",
      "1536314 0.19821117630410823\n",
      "1556983 0.19821117630410823\n",
      "1584121 0.19821117630410823\n",
      "1611469 0.19821117630410823\n",
      "3049670 0.19821117630410823\n",
      "3049696 0.19821117630410823\n",
      "3049722 0.19821117630410823\n",
      "3049748 0.19821117630410823\n",
      "3049772 0.19821117630410823\n",
      "3051698 0.19821117630410823\n",
      "3051724 0.19821117630410823\n",
      "3051750 0.19821117630410823\n",
      "3051776 0.19821117630410823\n",
      "3051802 0.19821117630410823\n",
      "3051828 0.19821117630410823\n",
      "3053589 0.19821117630410823\n",
      "3053615 0.19821117630410823\n",
      "3053641 0.19821117630410823\n",
      "3053667 0.19821117630410823\n",
      "3053693 0.19821117630410823\n",
      "3053719 0.19821117630410823\n",
      "3053745 0.19821117630410823\n",
      "3053771 0.19821117630410823\n",
      "3055571 0.19821117630410823\n",
      "3055597 0.19821117630410823\n",
      "3055623 0.19821117630410823\n",
      "3055649 0.19821117630410823\n",
      "3055675 0.19821117630410823\n",
      "3055701 0.19821117630410823\n",
      "3055727 0.19821117630410823\n",
      "3055857 0.19821117630410823\n",
      "3055883 0.19821117630410823\n",
      "3055909 0.19821117630410823\n",
      "3057619 0.19821117630410823\n",
      "3057645 0.19821117630410823\n",
      "3057671 0.19821117630410823\n",
      "3057697 0.19821117630410823\n",
      "3057723 0.19821117630410823\n",
      "3057749 0.19821117630410823\n",
      "3057775 0.19821117630410823\n",
      "3059769 0.19821117630410823\n",
      "3059978 0.19821117630410823\n",
      "3060034 0.19821117630410823\n",
      "3060062 0.19821117630410823\n",
      "3060090 0.19821117630410823\n",
      "3060118 0.19821117630410823\n",
      "3061941 0.19821117630410823\n",
      "3062230 0.19821117630410823\n",
      "3063320 0.19821117630410823\n",
      "3065581 0.19821117630410823\n",
      "1589756 0.19821117630410823\n",
      "1598818 0.19821117630410823\n",
      "1598920 0.19821117630410823\n",
      "1607888 0.19821117630410823\n",
      "1607991 0.19821117630410823\n",
      "1608092 0.19821117630410823\n",
      "1608093 0.19821117630410823\n",
      "3027022 0.19821117630410823\n",
      "3028309 0.19821117630410823\n",
      "3029636 0.19821117630410823\n",
      "3083889 0.19821117630410823\n",
      "1438548 0.19821117630410823\n",
      "1468337 0.19821117630410823\n",
      "1502158 0.19821117630410823\n",
      "1573760 0.19821117630410823\n",
      "1584121 0.19821117630410823\n",
      "1611469 0.19821117630410823\n",
      "1781490 0.19821117630410823\n",
      "2083413 0.19821117630410823\n",
      "2083783 0.19821117630410823\n",
      "2117655 0.19821117630410823\n",
      "3065563 0.19821117630410823\n",
      "3080044 0.19821117630410823\n",
      "3082484 0.19821117630410823\n",
      "3082493 0.19821117630410823\n",
      "3083859 0.19821117630410823\n",
      "3084980 0.19821117630410823\n",
      "3084999 0.19821117630410823\n",
      "3085000 0.19821117630410823\n",
      "3085010 0.19821117630410823\n",
      "3086385 0.19821117630410823\n",
      "3086469 0.19821117630410823\n",
      "3394396 0.19821117630410823\n",
      "3437004 0.19821117630410823\n",
      "1502158 0.19821117630410823\n",
      "1589756 0.19821117630410823\n",
      "1589859 0.19821117630410823\n",
      "1598818 0.19821117630410823\n",
      "1598920 0.19821117630410823\n",
      "1607888 0.19821117630410823\n",
      "1611469 0.19821117630410823\n",
      "1629979 0.19821117630410823\n",
      "1781490 0.19821117630410823\n",
      "1782971 0.19821117630410823\n",
      "2083413 0.19821117630410823\n",
      "3063320 0.19821117630410823\n",
      "3065563 0.19821117630410823\n",
      "3436475 0.19821117630410823\n",
      "1502158 0.19821117630410823\n",
      "1531584 0.19821117630410823\n",
      "1544005 0.19821117630410823\n",
      "1584121 0.19821117630410823\n",
      "1592959 0.19821117630410823\n",
      "1711819 0.19821117630410823\n",
      "1711903 0.19821117630410823\n",
      "1782971 0.19821117630410823\n",
      "3038859 0.19821117630410823\n",
      "1444603 0.19821117630410823\n",
      "1468337 0.19821117630410823\n",
      "1502158 0.19821117630410823\n",
      "1525718 0.19821117630410823\n",
      "1544005 0.19821117630410823\n",
      "1573760 0.19821117630410823\n",
      "1592959 0.19821117630410823\n",
      "1598612 0.19821117630410823\n",
      "1617075 0.19821117630410823\n",
      "1640587 0.19821117630410823\n",
      "1711903 0.19821117630410823\n",
      "1737364 0.19821117630410823\n",
      "1781490 0.19821117630410823\n",
      "1782971 0.19821117630410823\n",
      "1920676 0.19821117630410823\n",
      "1921058 0.19821117630410823\n",
      "2087945 0.19821117630410823\n",
      "3025378 0.19821117630410823\n",
      "3026667 0.19821117630410823\n",
      "3029268 0.19821117630410823\n",
      "3029288 0.19821117630410823\n",
      "3030661 0.19821117630410823\n",
      "3030681 0.19821117630410823\n",
      "3032569 0.19821117630410823\n",
      "3034084 0.19821117630410823\n",
      "3035625 0.19821117630410823\n",
      "3037202 0.19821117630410823\n",
      "3037281 0.19821117630410823\n",
      "3038859 0.19821117630410823\n",
      "3038898 0.19821117630410823\n",
      "3038918 0.19821117630410823\n",
      "3040623 0.19821117630410823\n",
      "3044244 0.19821117630410823\n",
      "3063629 0.19821117630410823\n",
      "3065563 0.19821117630410823\n",
      "3065564 0.19821117630410823\n",
      "3067844 0.19821117630410823\n",
      "3080044 0.19821117630410823\n",
      "3082484 0.19821117630410823\n",
      "3082492 0.19821117630410823\n",
      "3082493 0.19821117630410823\n",
      "3082503 0.19821117630410823\n",
      "3082514 0.19821117630410823\n",
      "3082527 0.19821117630410823\n",
      "3083829 0.19821117630410823\n",
      "3083859 0.19821117630410823\n",
      "3083917 0.19821117630410823\n",
      "3084980 0.19821117630410823\n",
      "3084999 0.19821117630410823\n",
      "3085000 0.19821117630410823\n",
      "3085010 0.19821117630410823\n",
      "3085023 0.19821117630410823\n",
      "3086355 0.19821117630410823\n",
      "3086385 0.19821117630410823\n",
      "3086469 0.19821117630410823\n",
      "3098192 0.19821117630410823\n",
      "3206719 0.19821117630410823\n",
      "3208810 0.19821117630410823\n",
      "3073775 0.19821117630410823\n",
      "1630432 0.19821117630410823\n",
      "1781490 0.19821117630410823\n",
      "1654467 0.19821117630410823\n",
      "3030802 0.19821117630410823\n",
      "3031586 0.19821117630410823\n",
      "3033047 0.19821117630410823\n",
      "3054099 0.19821117630410823\n",
      "3084275 0.19821117630410823\n",
      "1502158 0.19821117630410823\n",
      "1611469 0.19821117630410823\n",
      "1711903 0.19821117630410823\n",
      "1737364 0.19821117630410823\n",
      "1781490 0.19821117630410823\n",
      "1782229 0.19821117630410823\n",
      "1782971 0.19821117630410823\n",
      "3065563 0.19821117630410823\n",
      "1737364 0.19821117630410823\n",
      "1782229 0.19821117630410823\n",
      "1584121 0.19821117630410823\n",
      "1595651 0.19821117630410823\n",
      "1611469 0.19821117630410823\n",
      "1669266 0.19821117630410823\n",
      "1711903 0.19821117630410823\n",
      "1781490 0.19821117630410823\n",
      "1782971 0.19821117630410823\n",
      "3061400 0.19821117630410823\n",
      "3065563 0.19821117630410823\n",
      "3203225 0.19821117630410823\n",
      "1518227 0.19821117630410823\n",
      "1595651 0.19821117630410823\n",
      "1611469 0.19821117630410823\n",
      "3065563 0.19821117630410823\n",
      "1556686 0.19821117630410823\n",
      "1588020 0.19821117630410823\n",
      "1597061 0.19821117630410823\n",
      "1605098 0.19821117630410823\n",
      "1606349 0.19821117630410823\n",
      "1611469 0.19821117630410823\n",
      "1614438 0.19821117630410823\n",
      "1615017 0.19821117630410823\n",
      "1615525 0.19821117630410823\n",
      "1625295 0.19821117630410823\n",
      "1633497 0.19821117630410823\n",
      "1642348 0.19821117630410823\n",
      "1642430 0.19821117630410823\n",
      "1651932 0.19821117630410823\n",
      "1652016 0.19821117630410823\n",
      "1652102 0.19821117630410823\n",
      "1661879 0.19821117630410823\n",
      "1781490 0.19821117630410823\n",
      "3065563 0.19821117630410823\n",
      "3206719 0.19821117630410823\n",
      "3208810 0.19821117630410823\n",
      "1781490 0.19821117630410823\n",
      "3072558 0.19821117630410823\n",
      "1611469 0.19821117630410823\n",
      "2049174 0.19821117630410823\n",
      "3352321 0.19821117630410823\n",
      "3393867 0.19821117630410823\n",
      "1486423 0.19821117630410823\n",
      "1502158 0.19821117630410823\n",
      "1548604 0.19821117630410823\n",
      "1556785 0.19821117630410823\n",
      "1611469 0.19821117630410823\n",
      "1711903 0.19821117630410823\n",
      "1737364 0.19821117630410823\n",
      "1781490 0.19821117630410823\n",
      "1782229 0.19821117630410823\n",
      "1782971 0.19821117630410823\n",
      "1872361 0.19821117630410823\n",
      "3065581 0.19821117630410823\n",
      "3072558 0.19821117630410823\n",
      "3265251 0.19821117630410823\n",
      "3307859 0.19821117630410823\n",
      "3308121 0.19821117630410823\n",
      "3308386 0.19821117630410823\n",
      "3308651 0.19821117630410823\n",
      "3308915 0.19821117630410823\n",
      "1438291 0.19821117630410823\n",
      "1578961 0.19821117630410823\n",
      "1587725 0.19821117630410823\n",
      "1596661 0.19821117630410823\n",
      "1596760 0.19821117630410823\n",
      "1605945 0.19821117630410823\n",
      "1606046 0.19821117630410823\n",
      "1611469 0.19821117630410823\n",
      "1640587 0.19821117630410823\n",
      "1729241 0.19821117630410823\n",
      "2067778 0.19821117630410823\n",
      "3063823 0.19821117630410823\n",
      "3068430 0.19821117630410823\n",
      "3087334 0.19821117630410823\n",
      "3122395 0.19821117630410823\n",
      "3123175 0.19821117630410823\n",
      "3164939 0.19821117630410823\n",
      "3206719 0.19821117630410823\n",
      "3208810 0.19821117630410823\n",
      "2816973 0.19821117630410823\n",
      "2845479 0.19821117630410823\n",
      "2860258 0.19821117630410823\n",
      "2860359 0.19821117630410823\n",
      "2860662 0.19821117630410823\n",
      "2860865 0.19821117630410823\n",
      "2987832 0.19821117630410823\n",
      "3778130 0.19821117630410823\n",
      "3976285 0.19821117630410823\n",
      "3978252 0.19821117630410823\n",
      "3980193 0.19821117630410823\n",
      "3997755 0.19821117630410823\n",
      "3999114 0.19821117630410823\n",
      "3999159 0.19821117630410823\n",
      "4000375 0.19821117630410823\n",
      "4001590 0.19821117630410823\n",
      "2313523 0.19821117630410823\n",
      "2788250 0.19821117630410823\n",
      "2814392 0.19821117630410823\n",
      "2816973 0.19821117630410823\n",
      "2852618 0.19821117630410823\n",
      "2852721 0.19821117630410823\n",
      "2861372 0.19821117630410823\n",
      "2945186 0.19821117630410823\n",
      "3533775 0.19821117630410823\n",
      "3563769 0.19821117630410823\n",
      "3606377 0.19821117630410823\n",
      "3880682 0.19821117630410823\n",
      "3942428 0.19821117630410823\n",
      "3945099 0.19821117630410823\n",
      "3994923 0.19821117630410823\n",
      "2530062 0.19821117630410823\n",
      "2812739 0.19821117630410823\n",
      "2968236 0.19821117630410823\n",
      "3953667 0.19821117630410823\n",
      "3953702 0.19821117630410823\n",
      "3956018 0.19821117630410823\n",
      "3956085 0.19821117630410823\n",
      "3956331 0.19821117630410823\n",
      "3958412 0.19821117630410823\n",
      "3958430 0.19821117630410823\n",
      "3958460 0.19821117630410823\n",
      "3960681 0.19821117630410823\n",
      "3960716 0.19821117630410823\n",
      "3960733 0.19821117630410823\n",
      "3960749 0.19821117630410823\n",
      "3960778 0.19821117630410823\n",
      "3962943 0.19821117630410823\n",
      "3962961 0.19821117630410823\n",
      "3963028 0.19821117630410823\n",
      "3963044 0.19821117630410823\n",
      "3963098 0.19821117630410823\n",
      "3965175 0.19821117630410823\n",
      "3965241 0.19821117630410823\n",
      "3984191 0.19821117630410823\n",
      "3984866 0.19821117630410823\n",
      "2748829 0.19821117630410823\n",
      "2754473 0.19821117630410823\n",
      "2783835 0.19821117630410823\n",
      "2788250 0.19821117630410823\n",
      "2860256 0.19821117630410823\n",
      "2860357 0.19821117630410823\n",
      "2860358 0.19821117630410823\n",
      "2860458 0.19821117630410823\n",
      "3777598 0.19821117630410823\n",
      "3803955 0.19821117630410823\n",
      "3993438 0.19821117630410823\n",
      "3994923 0.19821117630410823\n",
      "3996309 0.19821117630410823\n",
      "3996327 0.19821117630410823\n",
      "3997671 0.19821117630410823\n",
      "3997688 0.19821117630410823\n",
      "3997706 0.19821117630410823\n",
      "2513146 0.19821117630410823\n",
      "2529690 0.19821117630410823\n",
      "2580246 0.19821117630410823\n",
      "2603338 0.19821117630410823\n",
      "2647076 0.19821117630410823\n",
      "2667702 0.19821117630410823\n",
      "2689674 0.19821117630410823\n",
      "2690054 0.19821117630410823\n",
      "2690435 0.19821117630410823\n",
      "2690814 0.19821117630410823\n",
      "2691946 0.19821117630410823\n",
      "2708930 0.19821117630410823\n",
      "2709030 0.19821117630410823\n",
      "2709129 0.19821117630410823\n",
      "2709228 0.19821117630410823\n",
      "2709327 0.19821117630410823\n",
      "2709424 0.19821117630410823\n",
      "2709519 0.19821117630410823\n",
      "2713789 0.19821117630410823\n",
      "2719468 0.19821117630410823\n",
      "2719758 0.19821117630410823\n",
      "2719851 0.19821117630410823\n",
      "2719942 0.19821117630410823\n",
      "2720032 0.19821117630410823\n",
      "2723484 0.19821117630410823\n",
      "2723585 0.19821117630410823\n",
      "2729374 0.19821117630410823\n",
      "2729475 0.19821117630410823\n",
      "2729574 0.19821117630410823\n",
      "2730147 0.19821117630410823\n",
      "2739668 0.19821117630410823\n",
      "2739767 0.19821117630410823\n",
      "2739866 0.19821117630410823\n",
      "2739965 0.19821117630410823\n",
      "2740062 0.19821117630410823\n",
      "2740157 0.19821117630410823\n",
      "2749929 0.19821117630410823\n",
      "2750024 0.19821117630410823\n",
      "2750119 0.19821117630410823\n",
      "2750214 0.19821117630410823\n",
      "2760128 0.19821117630410823\n",
      "2760223 0.19821117630410823\n",
      "2760316 0.19821117630410823\n",
      "2768583 0.19821117630410823\n",
      "2770322 0.19821117630410823\n",
      "2772429 0.19821117630410823\n",
      "2778252 0.19821117630410823\n",
      "2779920 0.19821117630410823\n",
      "2784656 0.19821117630410823\n",
      "2788250 0.19821117630410823\n",
      "2794278 0.19821117630410823\n",
      "2794381 0.19821117630410823\n",
      "2797895 0.19821117630410823\n",
      "2803827 0.19821117630410823\n",
      "2803930 0.19821117630410823\n",
      "2806804 0.19821117630410823\n",
      "2807008 0.19821117630410823\n",
      "2807412 0.19821117630410823\n",
      "2816870 0.19821117630410823\n",
      "2817174 0.19821117630410823\n",
      "2832253 0.19821117630410823\n",
      "2835230 0.19821117630410823\n",
      "2842337 0.19821117630410823\n",
      "2843462 0.19821117630410823\n",
      "2853126 0.19821117630410823\n",
      "2859651 0.19821117630410823\n",
      "2859752 0.19821117630410823\n",
      "2859853 0.19821117630410823\n",
      "2860055 0.19821117630410823\n",
      "2860156 0.19821117630410823\n",
      "2860256 0.19821117630410823\n",
      "2860257 0.19821117630410823\n",
      "2860357 0.19821117630410823\n",
      "2860458 0.19821117630410823\n",
      "2868567 0.19821117630410823\n",
      "2877019 0.19821117630410823\n",
      "2878241 0.19821117630410823\n",
      "2878637 0.19821117630410823\n",
      "2890581 0.19821117630410823\n",
      "2895441 0.19821117630410823\n",
      "2895622 0.19821117630410823\n",
      "2898566 0.19821117630410823\n",
      "2898814 0.19821117630410823\n",
      "2944468 0.19821117630410823\n",
      "2955228 0.19821117630410823\n",
      "2978870 0.19821117630410823\n",
      "2987832 0.19821117630410823\n",
      "2995228 0.19821117630410823\n",
      "2995294 0.19821117630410823\n",
      "3520899 0.19821117630410823\n",
      "3521691 0.19821117630410823\n",
      "3625416 0.19821117630410823\n",
      "3626249 0.19821117630410823\n",
      "3668857 0.19821117630410823\n",
      "3735526 0.19821117630410823\n",
      "3778130 0.19821117630410823\n",
      "3925160 0.19821117630410823\n",
      "3942765 0.19821117630410823\n",
      "3944677 0.19821117630410823\n",
      "3945353 0.19821117630410823\n",
      "3945465 0.19821117630410823\n",
      "3946723 0.19821117630410823\n",
      "3946766 0.19821117630410823\n",
      "3947232 0.19821117630410823\n",
      "3947258 0.19821117630410823\n",
      "3949155 0.19821117630410823\n",
      "3949686 0.19821117630410823\n",
      "3951558 0.19821117630410823\n",
      "3951583 0.19821117630410823\n",
      "3953950 0.19821117630410823\n",
      "3953971 0.19821117630410823\n",
      "3954546 0.19821117630410823\n",
      "3954872 0.19821117630410823\n",
      "3954956 0.19821117630410823\n",
      "3956320 0.19821117630410823\n",
      "3956932 0.19821117630410823\n",
      "3957037 0.19821117630410823\n",
      "3957372 0.19821117630410823\n",
      "3957400 0.19821117630410823\n",
      "3957428 0.19821117630410823\n",
      "3957456 0.19821117630410823\n",
      "3959443 0.19821117630410823\n",
      "3959469 0.19821117630410823\n",
      "3960563 0.19821117630410823\n",
      "3961803 0.19821117630410823\n",
      "3963266 0.19821117630410823\n",
      "3964167 0.19821117630410823\n",
      "3964195 0.19821117630410823\n",
      "3964223 0.19821117630410823\n",
      "3964656 0.19821117630410823\n",
      "3965593 0.19821117630410823\n",
      "3966802 0.19821117630410823\n",
      "3968926 0.19821117630410823\n",
      "3969857 0.19821117630410823\n",
      "3972005 0.19821117630410823\n",
      "3972030 0.19821117630410823\n",
      "3972057 0.19821117630410823\n",
      "3974114 0.19821117630410823\n",
      "3977610 0.19821117630410823\n",
      "3980771 0.19821117630410823\n",
      "3981501 0.19821117630410823\n",
      "3983321 0.19821117630410823\n",
      "3983343 0.19821117630410823\n",
      "3983404 0.19821117630410823\n",
      "3985172 0.19821117630410823\n",
      "3985192 0.19821117630410823\n",
      "3985211 0.19821117630410823\n",
      "3985231 0.19821117630410823\n",
      "3986916 0.19821117630410823\n",
      "3986995 0.19821117630410823\n",
      "3988647 0.19821117630410823\n",
      "3988704 0.19821117630410823\n",
      "3990322 0.19821117630410823\n",
      "3990342 0.19821117630410823\n",
      "3991841 0.19821117630410823\n",
      "3991915 0.19821117630410823\n",
      "3991933 0.19821117630410823\n",
      "3993457 0.19821117630410823\n",
      "3993475 0.19821117630410823\n",
      "3993492 0.19821117630410823\n",
      "3993542 0.19821117630410823\n",
      "3993558 0.19821117630410823\n",
      "3994905 0.19821117630410823\n",
      "3994923 0.19821117630410823\n",
      "3994942 0.19821117630410823\n",
      "3994960 0.19821117630410823\n",
      "3994974 0.19821117630410823\n",
      "3995021 0.19821117630410823\n",
      "3995035 0.19821117630410823\n",
      "3996381 0.19821117630410823\n",
      "3996399 0.19821117630410823\n",
      "3997755 0.19821117630410823\n",
      "3999049 0.19821117630410823\n",
      "3999114 0.19821117630410823\n",
      "4000375 0.19821117630410823\n",
      "4001590 0.19821117630410823\n",
      "3941651 0.19821117630410823\n",
      "2852721 0.19821117630410823\n",
      "2601065 0.19821117630410823\n",
      "2807412 0.19821117630410823\n",
      "2807814 0.19821117630410823\n",
      "2816666 0.19821117630410823\n",
      "2816870 0.19821117630410823\n",
      "2816973 0.19821117630410823\n",
      "2817273 0.19821117630410823\n",
      "2826637 0.19821117630410823\n",
      "2835528 0.19821117630410823\n",
      "2835820 0.19821117630410823\n",
      "2835915 0.19821117630410823\n",
      "2836010 0.19821117630410823\n",
      "2843767 0.19821117630410823\n",
      "2843870 0.19821117630410823\n",
      "2844944 0.19821117630410823\n",
      "2845035 0.19821117630410823\n",
      "2845126 0.19821117630410823\n",
      "2852619 0.19821117630410823\n",
      "2852722 0.19821117630410823\n",
      "2861373 0.19821117630410823\n",
      "2925327 0.19821117630410823\n",
      "3944800 0.19821117630410823\n",
      "1438548 0.19821117630410823\n",
      "1502158 0.19821117630410823\n",
      "1589859 0.19821117630410823\n",
      "1611469 0.19821117630410823\n",
      "1628580 0.19821117630410823\n",
      "1638131 0.19821117630410823\n",
      "1659854 0.19821117630410823\n",
      "1711903 0.19821117630410823\n",
      "1737363 0.19821117630410823\n",
      "1737364 0.19821117630410823\n",
      "1781490 0.19821117630410823\n",
      "1831999 0.19821117630410823\n",
      "1961463 0.19821117630410823\n",
      "2083413 0.19821117630410823\n",
      "3032622 0.19821117630410823\n",
      "3063320 0.19821117630410823\n",
      "3065563 0.19821117630410823\n",
      "3072558 0.19821117630410823\n",
      "3436475 0.19821117630410823\n",
      "3477768 0.19821117630410823\n",
      "1572845 0.19821117630410823\n",
      "1581641 0.19821117630410823\n",
      "1581849 0.19821117630410823\n",
      "1581954 0.19821117630410823\n",
      "1582057 0.19821117630410823\n",
      "1590479 0.19821117630410823\n",
      "1590582 0.19821117630410823\n",
      "1590892 0.19821117630410823\n",
      "1590995 0.19821117630410823\n",
      "1591094 0.19821117630410823\n",
      "1592959 0.19821117630410823\n",
      "1599738 0.19821117630410823\n",
      "1599944 0.19821117630410823\n",
      "1600047 0.19821117630410823\n",
      "1644972 0.19821117630410823\n",
      "3022316 0.19821117630410823\n",
      "3022412 0.19821117630410823\n",
      "3023500 0.19821117630410823\n",
      "3023516 0.19821117630410823\n",
      "3023532 0.19821117630410823\n",
      "3023548 0.19821117630410823\n",
      "3024510 0.19821117630410823\n",
      "3024589 0.19821117630410823\n",
      "3024605 0.19821117630410823\n",
      "3024621 0.19821117630410823\n",
      "3025738 0.19821117630410823\n",
      "3025756 0.19821117630410823\n",
      "3025774 0.19821117630410823\n",
      "3025790 0.19821117630410823\n",
      "3026955 0.19821117630410823\n",
      "3026973 0.19821117630410823\n",
      "3026991 0.19821117630410823\n",
      "3028238 0.19821117630410823\n",
      "3028256 0.19821117630410823\n",
      "3028309 0.19821117630410823\n",
      "3029565 0.19821117630410823\n",
      "3029583 0.19821117630410823\n",
      "3029636 0.19821117630410823\n",
      "3031000 0.19821117630410823\n",
      "3031020 0.19821117630410823\n",
      "3031059 0.19821117630410823\n",
      "3032462 0.19821117630410823\n",
      "3032482 0.19821117630410823\n",
      "3033967 0.19821117630410823\n",
      "3037184 0.19821117630410823\n",
      "3082065 0.19821117630410823\n",
      "3084545 0.19821117630410823\n",
      "3084567 0.19821117630410823\n",
      "3154315 0.19821117630410823\n",
      "3181150 0.19821117630410823\n",
      "3197157 0.19821117630410823\n",
      "3240011 0.19821117630410823\n",
      "3267641 0.19821117630410823\n",
      "3030420 0.19821117630410823\n",
      "3181150 0.19821117630410823\n",
      "1584121 0.19821117630410823\n",
      "1593139 0.19821117630410823\n",
      "1718821 0.19821117630410823\n",
      "3037223 0.19821117630410823\n",
      "3041431 0.19821117630410823\n",
      "3043280 0.19821117630410823\n",
      "3043915 0.19821117630410823\n",
      "3047051 0.19821117630410823\n",
      "3047738 0.19821117630410823\n",
      "3049058 0.19821117630410823\n",
      "3049080 0.19821117630410823\n",
      "3051115 0.19821117630410823\n",
      "3067692 0.19821117630410823\n",
      "3067753 0.19821117630410823\n",
      "3070050 0.19821117630410823\n",
      "3071219 0.19821117630410823\n",
      "3072430 0.19821117630410823\n",
      "3289759 0.19821117630410823\n",
      "3454706 0.19821117630410823\n",
      "3454984 0.19821117630410823\n",
      "3497314 0.19821117630410823\n",
      "3497869 0.19821117630410823\n",
      "3397084 0.19821117630410823\n",
      "3397629 0.19821117630410823\n",
      "3398174 0.19821117630410823\n",
      "3439692 0.19821117630410823\n",
      "3440237 0.19821117630410823\n",
      "3440509 0.19821117630410823\n",
      "3441330 0.19821117630410823\n",
      "1502158 0.19821117630410823\n",
      "1711903 0.19821117630410823\n",
      "1737364 0.19821117630410823\n",
      "1782229 0.19821117630410823\n",
      "1782971 0.19821117630410823\n",
      "3038859 0.19821117630410823\n",
      "3063320 0.19821117630410823\n",
      "1466104 0.19821117630410823\n",
      "1583938 0.19821117630410823\n",
      "1584029 0.19821117630410823\n",
      "1589756 0.19821117630410823\n",
      "1589859 0.19821117630410823\n",
      "1598715 0.19821117630410823\n",
      "1598818 0.19821117630410823\n",
      "1598920 0.19821117630410823\n",
      "1607684 0.19821117630410823\n",
      "1607786 0.19821117630410823\n",
      "1607888 0.19821117630410823\n",
      "1609004 0.19821117630410823\n",
      "1616971 0.19821117630410823\n",
      "1649352 0.19821117630410823\n",
      "1689446 0.19821117630410823\n",
      "1831999 0.19821117630410823\n",
      "2083413 0.19821117630410823\n",
      "2083783 0.19821117630410823\n",
      "2084154 0.19821117630410823\n",
      "2084525 0.19821117630410823\n",
      "2084899 0.19821117630410823\n",
      "3066623 0.19821117630410823\n",
      "3066651 0.19821117630410823\n",
      "3078053 0.19821117630410823\n",
      "3080767 0.19821117630410823\n",
      "3327993 0.19821117630410823\n",
      "3394396 0.19821117630410823\n",
      "3436475 0.19821117630410823\n",
      "3437004 0.19821117630410823\n",
      "3464166 0.19821117630410823\n",
      "1489193 0.19821117630410823\n",
      "1605652 0.19821117630410823\n",
      "1606045 0.19821117630410823\n",
      "1606146 0.19821117630410823\n",
      "1606246 0.19821117630410823\n",
      "1615016 0.19821117630410823\n",
      "1615318 0.19821117630410823\n",
      "1615421 0.19821117630410823\n",
      "1624477 0.19821117630410823\n",
      "1624882 0.19821117630410823\n",
      "1625090 0.19821117630410823\n",
      "1630433 0.19821117630410823\n",
      "1630762 0.19821117630410823\n",
      "1634403 0.19821117630410823\n",
      "1640097 0.19821117630410823\n",
      "1640264 0.19821117630410823\n",
      "1640265 0.19821117630410823\n",
      "1649711 0.19821117630410823\n",
      "1653643 0.19821117630410823\n",
      "1659335 0.19821117630410823\n",
      "1662234 0.19821117630410823\n",
      "1730183 0.19821117630410823\n",
      "2048068 0.19821117630410823\n",
      "2070301 0.19821117630410823\n",
      "2082674 0.19821117630410823\n",
      "2083042 0.19821117630410823\n",
      "2083412 0.19821117630410823\n",
      "2105157 0.19821117630410823\n",
      "2139514 0.19821117630410823\n",
      "2139762 0.19821117630410823\n",
      "2140134 0.19821117630410823\n",
      "2140504 0.19821117630410823\n",
      "2140874 0.19821117630410823\n",
      "2174118 0.19821117630410823\n",
      "2174365 0.19821117630410823\n",
      "2174366 0.19821117630410823\n",
      "2174738 0.19821117630410823\n",
      "3054633 0.19821117630410823\n",
      "3054645 0.19821117630410823\n",
      "3058909 0.19821117630410823\n",
      "3059403 0.19821117630410823\n",
      "3079877 0.19821117630410823\n",
      "3083007 0.19821117630410823\n",
      "3145388 0.19821117630410823\n",
      "3203225 0.19821117630410823\n",
      "3289490 0.19821117630410823\n",
      "3483117 0.19821117630410823\n",
      "1544005 0.19821117630410823\n",
      "1438291 0.19821117630410823\n",
      "1446427 0.19821117630410823\n",
      "1510272 0.19821117630410823\n",
      "1611469 0.19821117630410823\n",
      "1781490 0.19821117630410823\n",
      "1787120 0.19821117630410823\n",
      "2037425 0.19821117630410823\n",
      "2049174 0.19821117630410823\n",
      "2083041 0.19821117630410823\n",
      "2083411 0.19821117630410823\n",
      "2083413 0.19821117630410823\n",
      "2083782 0.19821117630410823\n",
      "2083783 0.19821117630410823\n",
      "3075238 0.19821117630410823\n",
      "3075756 0.19821117630410823\n",
      "3122395 0.19821117630410823\n",
      "3206719 0.19821117630410823\n",
      "3208810 0.19821117630410823\n",
      "3243336 0.19821117630410823\n",
      "3251386 0.19821117630410823\n",
      "3352054 0.19821117630410823\n",
      "3352321 0.19821117630410823\n",
      "3353936 0.19821117630410823\n",
      "3393338 0.19821117630410823\n",
      "3393867 0.19821117630410823\n",
      "3394396 0.19821117630410823\n",
      "3436475 0.19821117630410823\n",
      "3437004 0.19821117630410823\n",
      "1548989 0.19821117630410823\n",
      "1624882 0.19821117630410823\n",
      "1653643 0.19821117630410823\n",
      "1544005 0.19821117630410823\n",
      "1549082 0.19821117630410823\n",
      "1556686 0.19821117630410823\n",
      "1557174 0.19821117630410823\n",
      "1557363 0.19821117630410823\n",
      "1573455 0.19821117630410823\n",
      "1573558 0.19821117630410823\n",
      "1611469 0.19821117630410823\n",
      "1640587 0.19821117630410823\n",
      "2067778 0.19821117630410823\n",
      "3075238 0.19821117630410823\n",
      "3122395 0.19821117630410823\n",
      "3164939 0.19821117630410823\n",
      "3206719 0.19821117630410823\n",
      "3208810 0.19821117630410823\n",
      "2833079 0.19821117630410823\n",
      "2842132 0.19821117630410823\n",
      "2843462 0.19821117630410823\n",
      "2850863 0.19821117630410823\n",
      "2850967 0.19821117630410823\n",
      "2850968 0.19821117630410823\n",
      "2851071 0.19821117630410823\n",
      "2851072 0.19821117630410823\n",
      "2851175 0.19821117630410823\n",
      "2859854 0.19821117630410823\n",
      "2859955 0.19821117630410823\n",
      "2860056 0.19821117630410823\n",
      "3945213 0.19821117630410823\n",
      "3994923 0.19821117630410823\n",
      "2242578 0.19821117630410823\n",
      "2395600 0.19821117630410823\n",
      "2395972 0.19821117630410823\n",
      "2440200 0.19821117630410823\n",
      "2443961 0.19821117630410823\n",
      "2484396 0.19821117630410823\n",
      "2484768 0.19821117630410823\n",
      "2529690 0.19821117630410823\n",
      "2555783 0.19821117630410823\n",
      "2574195 0.19821117630410823\n",
      "2603338 0.19821117630410823\n",
      "2619076 0.19821117630410823\n",
      "2669608 0.19821117630410823\n",
      "2703367 0.19821117630410823\n",
      "2708729 0.19821117630410823\n",
      "2723585 0.19821117630410823\n",
      "2730056 0.19821117630410823\n",
      "2748829 0.19821117630410823\n",
      "2749535 0.19821117630410823\n",
      "2749634 0.19821117630410823\n",
      "2760316 0.19821117630410823\n",
      "2788250 0.19821117630410823\n",
      "2807913 0.19821117630410823\n",
      "2818200 0.19821117630410823\n",
      "2832253 0.19821117630410823\n",
      "2833079 0.19821117630410823\n",
      "2842132 0.19821117630410823\n",
      "2843462 0.19821117630410823\n",
      "2844945 0.19821117630410823\n",
      "2850759 0.19821117630410823\n",
      "2850863 0.19821117630410823\n",
      "2850967 0.19821117630410823\n",
      "2850968 0.19821117630410823\n",
      "2851071 0.19821117630410823\n",
      "2851072 0.19821117630410823\n",
      "2853126 0.19821117630410823\n",
      "2853902 0.19821117630410823\n",
      "2853903 0.19821117630410823\n",
      "2859346 0.19821117630410823\n",
      "2859448 0.19821117630410823\n",
      "2859449 0.19821117630410823\n",
      "2859550 0.19821117630410823\n",
      "2859651 0.19821117630410823\n",
      "2859752 0.19821117630410823\n",
      "2859753 0.19821117630410823\n",
      "2859853 0.19821117630410823\n",
      "2859854 0.19821117630410823\n",
      "2860156 0.19821117630410823\n",
      "2860256 0.19821117630410823\n",
      "2860257 0.19821117630410823\n",
      "2861274 0.19821117630410823\n",
      "2868260 0.19821117630410823\n",
      "2868363 0.19821117630410823\n",
      "2868465 0.19821117630410823\n",
      "2868466 0.19821117630410823\n",
      "2868567 0.19821117630410823\n",
      "2870397 0.19821117630410823\n",
      "2876813 0.19821117630410823\n",
      "2877534 0.19821117630410823\n",
      "2877739 0.19821117630410823\n",
      "2877740 0.19821117630410823\n",
      "2878238 0.19821117630410823\n",
      "2878241 0.19821117630410823\n",
      "2878637 0.19821117630410823\n",
      "2886426 0.19821117630410823\n",
      "2887118 0.19821117630410823\n",
      "2894101 0.19821117630410823\n",
      "2908482 0.19821117630410823\n",
      "2909729 0.19821117630410823\n",
      "2925416 0.19821117630410823\n",
      "2932264 0.19821117630410823\n",
      "2932438 0.19821117630410823\n",
      "2932525 0.19821117630410823\n",
      "2939110 0.19821117630410823\n",
      "2945010 0.19821117630410823\n",
      "2945186 0.19821117630410823\n",
      "2945785 0.19821117630410823\n",
      "2968960 0.19821117630410823\n",
      "2976612 0.19821117630410823\n",
      "2978641 0.19821117630410823\n",
      "2979093 0.19821117630410823\n",
      "2983250 0.19821117630410823\n",
      "2986073 0.19821117630410823\n",
      "2989941 0.19821117630410823\n",
      "3535455 0.19821117630410823\n",
      "3535735 0.19821117630410823\n",
      "3536015 0.19821117630410823\n",
      "3563770 0.19821117630410823\n",
      "3564828 0.19821117630410823\n",
      "3576663 0.19821117630410823\n",
      "3577223 0.19821117630410823\n",
      "3577503 0.19821117630410823\n",
      "3577783 0.19821117630410823\n",
      "3578063 0.19821117630410823\n",
      "3581697 0.19821117630410823\n",
      "3606377 0.19821117630410823\n",
      "3607436 0.19821117630410823\n",
      "3610125 0.19821117630410823\n",
      "3621792 0.19821117630410823\n",
      "3622072 0.19821117630410823\n",
      "3624027 0.19821117630410823\n",
      "3624304 0.19821117630410823\n",
      "3634077 0.19821117630410823\n",
      "3634598 0.19821117630410823\n",
      "3648199 0.19821117630410823\n",
      "3650044 0.19821117630410823\n",
      "3650577 0.19821117630410823\n",
      "3664120 0.19821117630410823\n",
      "3664400 0.19821117630410823\n",
      "3677466 0.19821117630410823\n",
      "3705887 0.19821117630410823\n",
      "3706728 0.19821117630410823\n",
      "3745695 0.19821117630410823\n",
      "3749056 0.19821117630410823\n",
      "3791647 0.19821117630410823\n",
      "3797760 0.19821117630410823\n",
      "3823401 0.19821117630410823\n",
      "3827800 0.19821117630410823\n",
      "3843063 0.19821117630410823\n",
      "3868703 0.19821117630410823\n",
      "3870642 0.19821117630410823\n",
      "3885619 0.19821117630410823\n",
      "3908509 0.19821117630410823\n",
      "3912907 0.19821117630410823\n",
      "3939608 0.19821117630410823\n",
      "3942059 0.19821117630410823\n",
      "3945353 0.19821117630410823\n",
      "3945381 0.19821117630410823\n",
      "3945409 0.19821117630410823\n",
      "3945437 0.19821117630410823\n",
      "3947231 0.19821117630410823\n",
      "3949585 0.19821117630410823\n",
      "3950600 0.19821117630410823\n",
      "3950710 0.19821117630410823\n",
      "3951557 0.19821117630410823\n",
      "3952456 0.19821117630410823\n",
      "3954872 0.19821117630410823\n",
      "3959416 0.19821117630410823\n",
      "3959442 0.19821117630410823\n",
      "3959443 0.19821117630410823\n",
      "3959469 0.19821117630410823\n",
      "3961096 0.19821117630410823\n",
      "3961592 0.19821117630410823\n",
      "3961774 0.19821117630410823\n",
      "3961803 0.19821117630410823\n",
      "3963353 0.19821117630410823\n",
      "3964167 0.19821117630410823\n",
      "3964195 0.19821117630410823\n",
      "3964223 0.19821117630410823\n",
      "3965489 0.19821117630410823\n",
      "3965502 0.19821117630410823\n",
      "3965544 0.19821117630410823\n",
      "3965577 0.19821117630410823\n",
      "3965593 0.19821117630410823\n",
      "3966258 0.19821117630410823\n",
      "3967104 0.19821117630410823\n",
      "3967684 0.19821117630410823\n",
      "3967694 0.19821117630410823\n",
      "3967705 0.19821117630410823\n",
      "3967774 0.19821117630410823\n",
      "3968510 0.19821117630410823\n",
      "3968588 0.19821117630410823\n",
      "3968926 0.19821117630410823\n",
      "3969252 0.19821117630410823\n",
      "3969323 0.19821117630410823\n",
      "3973720 0.19821117630410823\n",
      "3974923 0.19821117630410823\n",
      "3977756 0.19821117630410823\n",
      "3980224 0.19821117630410823\n",
      "3981637 0.19821117630410823\n",
      "3982071 0.19821117630410823\n",
      "3983518 0.19821117630410823\n",
      "3984412 0.19821117630410823\n",
      "3985251 0.19821117630410823\n",
      "3987105 0.19821117630410823\n",
      "3987136 0.19821117630410823\n",
      "3987167 0.19821117630410823\n",
      "3987194 0.19821117630410823\n",
      "3988286 0.19821117630410823\n",
      "3988722 0.19821117630410823\n",
      "3988833 0.19821117630410823\n",
      "3989766 0.19821117630410823\n",
      "3989810 0.19821117630410823\n",
      "3990395 0.19821117630410823\n",
      "3990475 0.19821117630410823\n",
      "3991197 0.19821117630410823\n",
      "3991241 0.19821117630410823\n",
      "3992000 0.19821117630410823\n",
      "3992031 0.19821117630410823\n",
      "3993575 0.19821117630410823\n",
      "3993604 0.19821117630410823\n",
      "3994923 0.19821117630410823\n",
      "3995077 0.19821117630410823\n",
      "3996462 0.19821117630410823\n",
      "3996489 0.19821117630410823\n",
      "3997868 0.19821117630410823\n",
      "3999753 0.19821117630410823\n",
      "4003628 0.19821117630410823\n",
      "2788250 0.19821117630410823\n",
      "2852721 0.19821117630410823\n",
      "3836180 0.19821117630410823\n",
      "3994923 0.19821117630410823\n",
      "2788250 0.19821117630410823\n",
      "3607436 0.19821117630410823\n",
      "3650044 0.19821117630410823\n",
      "3749056 0.19821117630410823\n",
      "3966258 0.19821117630410823\n",
      "3994923 0.19821117630410823\n",
      "2241817 0.19821117630410823\n",
      "2276421 0.19821117630410823\n",
      "2276675 0.19821117630410823\n",
      "2691946 0.19821117630410823\n",
      "2708930 0.19821117630410823\n",
      "2720032 0.19821117630410823\n",
      "2808478 0.19821117630410823\n",
      "2817937 0.19821117630410823\n",
      "2826542 0.19821117630410823\n",
      "2877019 0.19821117630410823\n",
      "2877839 0.19821117630410823\n",
      "2886426 0.19821117630410823\n",
      "2963123 0.19821117630410823\n",
      "3626249 0.19821117630410823\n",
      "3947258 0.19821117630410823\n",
      "3956429 0.19821117630410823\n",
      "3957372 0.19821117630410823\n",
      "3957400 0.19821117630410823\n",
      "3957428 0.19821117630410823\n",
      "3961096 0.19821117630410823\n",
      "3963353 0.19821117630410823\n",
      "3965593 0.19821117630410823\n",
      "2241817 0.19821117630410823\n",
      "2276421 0.19821117630410823\n",
      "2276675 0.19821117630410823\n",
      "2312534 0.19821117630410823\n",
      "2312781 0.19821117630410823\n",
      "2740342 0.19821117630410823\n",
      "2877739 0.19821117630410823\n",
      "2878238 0.19821117630410823\n",
      "2886426 0.19821117630410823\n",
      "2932608 0.19821117630410823\n",
      "2932691 0.19821117630410823\n",
      "2939193 0.19821117630410823\n",
      "2939274 0.19821117630410823\n",
      "2945784 0.19821117630410823\n",
      "2952170 0.19821117630410823\n",
      "2952245 0.19821117630410823\n",
      "2963123 0.19821117630410823\n",
      "3956429 0.19821117630410823\n",
      "3961096 0.19821117630410823\n",
      "3963353 0.19821117630410823\n",
      "2241817 0.19821117630410823\n",
      "2276421 0.19821117630410823\n",
      "2276675 0.19821117630410823\n",
      "2312534 0.19821117630410823\n",
      "2312781 0.19821117630410823\n",
      "2708729 0.19821117630410823\n",
      "2861372 0.19821117630410823\n",
      "2861571 0.19821117630410823\n",
      "2869281 0.19821117630410823\n",
      "2876813 0.19821117630410823\n",
      "2877019 0.19821117630410823\n",
      "2877739 0.19821117630410823\n",
      "2877839 0.19821117630410823\n",
      "2886426 0.19821117630410823\n",
      "2925416 0.19821117630410823\n",
      "2932525 0.19821117630410823\n",
      "2932608 0.19821117630410823\n",
      "2939110 0.19821117630410823\n",
      "2939193 0.19821117630410823\n",
      "2963123 0.19821117630410823\n",
      "3947231 0.19821117630410823\n",
      "3947258 0.19821117630410823\n",
      "3956429 0.19821117630410823\n",
      "3957400 0.19821117630410823\n",
      "3957428 0.19821117630410823\n",
      "3957456 0.19821117630410823\n",
      "3961096 0.19821117630410823\n",
      "3963353 0.19821117630410823\n",
      "3969704 0.19821117630410823\n",
      "2987832 0.19821117630410823\n",
      "3778130 0.19821117630410823\n",
      "2241817 0.19821117630410823\n",
      "2276421 0.19821117630410823\n",
      "2276675 0.19821117630410823\n",
      "2399362 0.19821117630410823\n",
      "2399743 0.19821117630410823\n",
      "2807913 0.19821117630410823\n",
      "2826920 0.19821117630410823\n",
      "2853126 0.19821117630410823\n",
      "2859346 0.19821117630410823\n",
      "2859448 0.19821117630410823\n",
      "2861172 0.19821117630410823\n",
      "2861273 0.19821117630410823\n",
      "2861373 0.19821117630410823\n",
      "2869179 0.19821117630410823\n",
      "2869282 0.19821117630410823\n",
      "2869385 0.19821117630410823\n",
      "2869798 0.19821117630410823\n",
      "2869900 0.19821117630410823\n",
      "2869999 0.19821117630410823\n",
      "2870099 0.19821117630410823\n",
      "2877739 0.19821117630410823\n",
      "2877740 0.19821117630410823\n",
      "2877839 0.19821117630410823\n",
      "2878239 0.19821117630410823\n",
      "2878538 0.19821117630410823\n",
      "2885925 0.19821117630410823\n",
      "2908482 0.19821117630410823\n",
      "2987832 0.19821117630410823\n",
      "3544597 0.19821117630410823\n",
      "3546482 0.19821117630410823\n",
      "3564828 0.19821117630410823\n",
      "3650577 0.19821117630410823\n",
      "3662439 0.19821117630410823\n",
      "3735526 0.19821117630410823\n",
      "3778130 0.19821117630410823\n",
      "3778665 0.19821117630410823\n",
      "3802636 0.19821117630410823\n",
      "3973507 0.19821117630410823\n",
      "3980224 0.19821117630410823\n",
      "3982071 0.19821117630410823\n",
      "3997842 0.19821117630410823\n",
      "2256069 0.19821117630410823\n",
      "2326761 0.19821117630410823\n",
      "2329925 0.19821117630410823\n",
      "2364014 0.19821117630410823\n",
      "2399362 0.19821117630410823\n",
      "2399743 0.19821117630410823\n",
      "2400890 0.19821117630410823\n",
      "2558057 0.19821117630410823\n",
      "2599548 0.19821117630410823\n",
      "2688537 0.19821117630410823\n",
      "2708729 0.19821117630410823\n",
      "2718968 0.19821117630410823\n",
      "2719068 0.19821117630410823\n",
      "2807913 0.19821117630410823\n",
      "2808200 0.19821117630410823\n",
      "2808567 0.19821117630410823\n",
      "2812528 0.19821117630410823\n",
      "2817469 0.19821117630410823\n",
      "2817564 0.19821117630410823\n",
      "2817938 0.19821117630410823\n",
      "2818027 0.19821117630410823\n",
      "2820473 0.19821117630410823\n",
      "2821865 0.19821117630410823\n",
      "2822068 0.19821117630410823\n",
      "2822276 0.19821117630410823\n",
      "2826827 0.19821117630410823\n",
      "2826920 0.19821117630410823\n",
      "2827011 0.19821117630410823\n",
      "2827100 0.19821117630410823\n",
      "2827187 0.19821117630410823\n",
      "2836103 0.19821117630410823\n",
      "2836283 0.19821117630410823\n",
      "2836370 0.19821117630410823\n",
      "2845217 0.19821117630410823\n",
      "2854174 0.19821117630410823\n",
      "2854263 0.19821117630410823\n",
      "2859346 0.19821117630410823\n",
      "2859448 0.19821117630410823\n",
      "2861070 0.19821117630410823\n",
      "2861172 0.19821117630410823\n",
      "2861173 0.19821117630410823\n",
      "2861273 0.19821117630410823\n",
      "2861274 0.19821117630410823\n",
      "2869179 0.19821117630410823\n",
      "2869180 0.19821117630410823\n",
      "2869282 0.19821117630410823\n",
      "2869385 0.19821117630410823\n",
      "2869488 0.19821117630410823\n",
      "2869591 0.19821117630410823\n",
      "2869695 0.19821117630410823\n",
      "2869798 0.19821117630410823\n",
      "2869900 0.19821117630410823\n",
      "2869999 0.19821117630410823\n",
      "2870099 0.19821117630410823\n",
      "2870199 0.19821117630410823\n",
      "2877638 0.19821117630410823\n",
      "2877739 0.19821117630410823\n",
      "2877740 0.19821117630410823\n",
      "2877839 0.19821117630410823\n",
      "2878139 0.19821117630410823\n",
      "2878239 0.19821117630410823\n",
      "2878339 0.19821117630410823\n",
      "2878439 0.19821117630410823\n",
      "2878538 0.19821117630410823\n",
      "2885925 0.19821117630410823\n",
      "2894101 0.19821117630410823\n",
      "2895622 0.19821117630410823\n",
      "2908482 0.19821117630410823\n",
      "2908671 0.19821117630410823\n",
      "2909729 0.19821117630410823\n",
      "2911100 0.19821117630410823\n",
      "2918335 0.19821117630410823\n",
      "2925500 0.19821117630410823\n",
      "2925667 0.19821117630410823\n",
      "2932263 0.19821117630410823\n",
      "2932438 0.19821117630410823\n",
      "2944468 0.19821117630410823\n",
      "2979093 0.19821117630410823\n",
      "2981297 0.19821117630410823\n",
      "3544596 0.19821117630410823\n",
      "3544597 0.19821117630410823\n",
      "3545407 0.19821117630410823\n",
      "3564828 0.19821117630410823\n",
      "3607436 0.19821117630410823\n",
      "3650044 0.19821117630410823\n",
      "3650577 0.19821117630410823\n",
      "3662439 0.19821117630410823\n",
      "3662719 0.19821117630410823\n",
      "3749056 0.19821117630410823\n",
      "3778665 0.19821117630410823\n",
      "3791647 0.19821117630410823\n",
      "3802636 0.19821117630410823\n",
      "3939608 0.19821117630410823\n",
      "3941577 0.19821117630410823\n",
      "3942652 0.19821117630410823\n",
      "3944042 0.19821117630410823\n",
      "3944800 0.19821117630410823\n",
      "3945184 0.19821117630410823\n",
      "3946737 0.19821117630410823\n",
      "3947391 0.19821117630410823\n",
      "3947784 0.19821117630410823\n",
      "3949194 0.19821117630410823\n",
      "3949843 0.19821117630410823\n",
      "3954158 0.19821117630410823\n",
      "3980224 0.19821117630410823\n",
      "3982071 0.19821117630410823\n",
      "3988286 0.19821117630410823\n",
      "3997842 0.19821117630410823\n",
      "1584121 0.19821117630410823\n",
      "1556686 0.19821117630410823\n",
      "1598818 0.19821117630410823\n",
      "1598920 0.19821117630410823\n",
      "1607888 0.19821117630410823\n",
      "1607991 0.19821117630410823\n",
      "1608093 0.19821117630410823\n",
      "3027022 0.19821117630410823\n",
      "3028309 0.19821117630410823\n",
      "3029636 0.19821117630410823\n",
      "1502158 0.19821117630410823\n",
      "1589756 0.19821117630410823\n",
      "1589859 0.19821117630410823\n",
      "1589860 0.19821117630410823\n",
      "1598612 0.19821117630410823\n",
      "1598715 0.19821117630410823\n",
      "1598818 0.19821117630410823\n",
      "1598920 0.19821117630410823\n",
      "1607888 0.19821117630410823\n",
      "1607991 0.19821117630410823\n",
      "1608093 0.19821117630410823\n",
      "3038859 0.19821117630410823\n",
      "3065563 0.19821117630410823\n",
      "1502158 0.19821117630410823\n",
      "1589859 0.19821117630410823\n",
      "1831999 0.19821117630410823\n",
      "3038859 0.19821117630410823\n",
      "3065563 0.19821117630410823\n",
      "3203225 0.19821117630410823\n",
      "1502158 0.19821117630410823\n",
      "1711903 0.19821117630410823\n",
      "1782971 0.19821117630410823\n",
      "3038859 0.19821117630410823\n",
      "1544005 0.19821117630410823\n",
      "1711903 0.19821117630410823\n",
      "1782971 0.19821117630410823\n",
      "1502158 0.19821117630410823\n",
      "1711903 0.19821117630410823\n",
      "1781490 0.19821117630410823\n",
      "1782971 0.19821117630410823\n",
      "3065563 0.19821117630410823\n",
      "1595651 0.19821117630410823\n",
      "1611469 0.19821117630410823\n",
      "1781490 0.19821117630410823\n",
      "3063629 0.19821117630410823\n",
      "3333441 0.19821117630410823\n",
      "1654467 0.19821117630410823\n",
      "3030802 0.19821117630410823\n",
      "2223571 0.19821117630410823\n",
      "2242071 0.19821117630410823\n",
      "2310007 0.19821117630410823\n",
      "2313523 0.19821117630410823\n",
      "2313894 0.19821117630410823\n",
      "2314630 0.19821117630410823\n",
      "2349241 0.19821117630410823\n",
      "2623992 0.19821117630410823\n",
      "2719270 0.19821117630410823\n",
      "2789052 0.19821117630410823\n",
      "2789147 0.19821117630410823\n",
      "2798699 0.19821117630410823\n",
      "2807913 0.19821117630410823\n",
      "2845392 0.19821117630410823\n",
      "2853126 0.19821117630410823\n",
      "2861172 0.19821117630410823\n",
      "2861273 0.19821117630410823\n",
      "2861373 0.19821117630410823\n",
      "2869798 0.19821117630410823\n",
      "2869899 0.19821117630410823\n",
      "2869999 0.19821117630410823\n",
      "2870099 0.19821117630410823\n",
      "2877739 0.19821117630410823\n",
      "2877740 0.19821117630410823\n",
      "2877839 0.19821117630410823\n",
      "2878239 0.19821117630410823\n",
      "2885925 0.19821117630410823\n",
      "2908482 0.19821117630410823\n",
      "2925416 0.19821117630410823\n",
      "2932525 0.19821117630410823\n",
      "2939193 0.19821117630410823\n",
      "2945186 0.19821117630410823\n",
      "2945701 0.19821117630410823\n",
      "2951938 0.19821117630410823\n",
      "2981297 0.19821117630410823\n",
      "3525181 0.19821117630410823\n",
      "3525453 0.19821117630410823\n",
      "3564828 0.19821117630410823\n",
      "3566976 0.19821117630410823\n",
      "3567517 0.19821117630410823\n",
      "3606377 0.19821117630410823\n",
      "3609043 0.19821117630410823\n",
      "3609584 0.19821117630410823\n",
      "3650577 0.19821117630410823\n",
      "3651114 0.19821117630410823\n",
      "3662439 0.19821117630410823\n",
      "3664400 0.19821117630410823\n",
      "3694259 0.19821117630410823\n",
      "3749056 0.19821117630410823\n",
      "3820973 0.19821117630410823\n",
      "3843873 0.19821117630410823\n",
      "3844410 0.19821117630410823\n",
      "3844945 0.19821117630410823\n",
      "3863274 0.19821117630410823\n",
      "3888295 0.19821117630410823\n",
      "3888557 0.19821117630410823\n",
      "3911524 0.19821117630410823\n",
      "3939282 0.19821117630410823\n",
      "3939307 0.19821117630410823\n",
      "3939608 0.19821117630410823\n",
      "3942297 0.19821117630410823\n",
      "3944265 0.19821117630410823\n",
      "3944606 0.19821117630410823\n",
      "3950180 0.19821117630410823\n",
      "3956641 0.19821117630410823\n",
      "3956756 0.19821117630410823\n",
      "3973085 0.19821117630410823\n",
      "3980224 0.19821117630410823\n",
      "3982071 0.19821117630410823\n",
      "3983908 0.19821117630410823\n",
      "3987465 0.19821117630410823\n",
      "3989108 0.19821117630410823\n",
      "3989135 0.19821117630410823\n",
      "3997842 0.19821117630410823\n",
      "2276421 0.19821117630410823\n",
      "2276675 0.19821117630410823\n",
      "2312284 0.19821117630410823\n",
      "2729374 0.19821117630410823\n",
      "2803827 0.19821117630410823\n",
      "2816973 0.19821117630410823\n",
      "2845479 0.19821117630410823\n",
      "2860258 0.19821117630410823\n",
      "2860359 0.19821117630410823\n",
      "2860662 0.19821117630410823\n",
      "2860865 0.19821117630410823\n",
      "2861372 0.19821117630410823\n",
      "2861571 0.19821117630410823\n",
      "2963123 0.19821117630410823\n",
      "2987832 0.19821117630410823\n",
      "3735526 0.19821117630410823\n",
      "3778130 0.19821117630410823\n",
      "3939272 0.19821117630410823\n",
      "3944518 0.19821117630410823\n",
      "3944931 0.19821117630410823\n",
      "3946993 0.19821117630410823\n",
      "3949488 0.19821117630410823\n",
      "3954815 0.19821117630410823\n",
      "3959551 0.19821117630410823\n",
      "3976285 0.19821117630410823\n",
      "3978252 0.19821117630410823\n",
      "3980193 0.19821117630410823\n",
      "3994923 0.19821117630410823\n",
      "3997755 0.19821117630410823\n",
      "3999114 0.19821117630410823\n",
      "3999159 0.19821117630410823\n",
      "4000375 0.19821117630410823\n",
      "4001590 0.19821117630410823\n",
      "2293532 0.19821117630410823\n",
      "2293786 0.19821117630410823\n",
      "2713278 0.19821117630410823\n",
      "2754888 0.19821117630410823\n",
      "2843462 0.19821117630410823\n",
      "2870099 0.19821117630410823\n",
      "2908482 0.19821117630410823\n",
      "2918507 0.19821117630410823\n",
      "2945186 0.19821117630410823\n",
      "3525181 0.19821117630410823\n",
      "3566976 0.19821117630410823\n",
      "3609043 0.19821117630410823\n",
      "3609584 0.19821117630410823\n",
      "3650577 0.19821117630410823\n",
      "3694259 0.19821117630410823\n",
      "3939282 0.19821117630410823\n",
      "3939307 0.19821117630410823\n",
      "3941866 0.19821117630410823\n",
      "3944265 0.19821117630410823\n",
      "3945297 0.19821117630410823\n",
      "3947841 0.19821117630410823\n",
      "3947869 0.19821117630410823\n",
      "3950180 0.19821117630410823\n",
      "3956641 0.19821117630410823\n",
      "3983908 0.19821117630410823\n",
      "3987465 0.19821117630410823\n",
      "3989108 0.19821117630410823\n",
      "3989135 0.19821117630410823\n",
      "2778860 0.19821117630410823\n",
      "2788250 0.19821117630410823\n",
      "2788554 0.19821117630410823\n",
      "2818282 0.19821117630410823\n",
      "2987832 0.19821117630410823\n",
      "3735526 0.19821117630410823\n",
      "3778130 0.19821117630410823\n",
      "3939261 0.19821117630410823\n",
      "3939272 0.19821117630410823\n",
      "3944518 0.19821117630410823\n",
      "3946993 0.19821117630410823\n",
      "3948688 0.19821117630410823\n",
      "3949488 0.19821117630410823\n",
      "3959971 0.19821117630410823\n",
      "3981791 0.19821117630410823\n",
      "3981816 0.19821117630410823\n",
      "3994923 0.19821117630410823\n",
      "2749733 0.19821117630410823\n",
      "2760316 0.19821117630410823\n",
      "2788250 0.19821117630410823\n",
      "2789238 0.19821117630410823\n",
      "2853903 0.19821117630410823\n",
      "2887117 0.19821117630410823\n",
      "3971518 0.19821117630410823\n",
      "3994923 0.19821117630410823\n",
      "3999049 0.19821117630410823\n",
      "2749733 0.19821117630410823\n",
      "2789238 0.19821117630410823\n",
      "2887117 0.19821117630410823\n",
      "2529690 0.19821117630410823\n",
      "2744587 0.19821117630410823\n",
      "2764590 0.19821117630410823\n",
      "3978136 0.19821117630410823\n",
      "3978176 0.19821117630410823\n",
      "3980104 0.19821117630410823\n",
      "3981988 0.19821117630410823\n",
      "3983628 0.19821117630410823\n",
      "3983844 0.19821117630410823\n",
      "3987440 0.19821117630410823\n",
      "3996327 0.19821117630410823\n",
      "2713378 0.19821117630410823\n",
      "2723484 0.19821117630410823\n",
      "2748829 0.19821117630410823\n",
      "2749033 0.19821117630410823\n",
      "2860256 0.19821117630410823\n",
      "2860357 0.19821117630410823\n",
      "2860458 0.19821117630410823\n"
     ]
    },
    {
     "ename": "",
     "evalue": "",
     "output_type": "error",
     "traceback": [
      "\u001b[1;31mFailed to connect to the remote Jupyter Server 'http://127.0.0.1:50003/'. Verify the server is running and reachable."
     ]
    }
   ],
   "source": [
    "#Loop through magnetopause and ionosphere points\n",
    "\n",
    "ig_theta_deg = ig_theta * 180. / np.pi\n",
    "ig_phi_deg = ig_phi * 180. / np.pi\n",
    "\n",
    "# Coordinate of interest (ig_)\n",
    "# trace field lines starting from ionospheric coordinates theta, phi\n",
    "#dayside aurora\n",
    "\n",
    "ind = np.where( (np.abs(ig_phi_deg) < 30) &\n",
    "                (np.abs(90 - ig_theta_deg) > 77) &\n",
    "                (np.abs(90 - ig_theta_deg) < 83) )[0]\n",
    "\n",
    "\n",
    "ig_fac_ts_diff = np.diff(ig_fac_ts[:, ind_ig_plot], prepend=ig_fac_ts[0, ind_ig_plot])   # d(FAC)/dt, \n",
    "#ind_mpause = np.where((vg_coordinates[:,0] > 0) & (vg_r > 8*R_EARTH) & (vg_r < 12*R_EARTH))[0]\n",
    "ind_mpause = np.where((vg_coordinates[:,0] > 0) & (vg_r > 8*R_EARTH) & (vg_r < 17*R_EARTH))[0]\n",
    "ind_mpause = ind_mpause.tolist()\n",
    "ind_mpause.append(242520) \n",
    "ind_mpause = np.array(ind_mpause )\n",
    "ccf_max = 0.\n",
    "\n",
    "# loop through magnetopause points (in vg grid), to see which are most correlated with the ig test point\n",
    "vg_ccfs = np.zeros([vg_coordinates.shape[0]])\n",
    "\n",
    "for ind_ig_plot in enumerate(ind):\n",
    "    print(i_m,', ',i,'/',ind.size,', ', ccf_max)\n",
    "    for i, i_m in enumerate(ind_mpause):\n",
    "        #XO, ind_FTE = calc_XO_FTE(i_m, vg_coordinates, vg_lmn_nld_ts, vg_dBNdL_ts, nld = nld, r_range = [vg_r[i_m]-R_EARTH, vg_r[i_m]+R_EARTH], cleanup=True, nulls = 'O')  # TOO SLOW\n",
    "        XO, ind_FTE = calc_XO_FTE(i_m, vg_coordinates, vg_lmn_nld_ts, vg_dBNdL_ts, nld = nld, r_range = None, cleanup=True, nulls = 'O')\n",
    "        #print(i)\n",
    "        #calculate cross correlation\n",
    "        cid = cellid_ts[0,i_m]\n",
    "        ccf = sm.tsa.stattools.ccf(XO,  ig_fac_ts[:, ind_ig_plot], adjusted=False)\n",
    "        #ccf = sm.tsa.stattools.ccf(XO,  ig_fac_ts_diff, adjusted=False)\n",
    "        ccf_temp = np.nanmax(np.abs(ccf))\n",
    "        vg_ccfs[i_m] = ccf_temp\n",
    "        if ((ccf_temp > ccf_max) or (ccf_temp > 0.15)) and len(np.where(XO <0)[0]) >= 3 and (vg_coordinates[i_m, 2] * ig_coordinates[ind_ig_plot, 2] > 0):\n",
    "            #print(i_m, ccf_max)\n",
    "            ccf_max = np.nanmax([ccf_max, ccf_temp])\n",
    "            #ylim2 = [-1e-8, 1e-8]   # for d/dt(FAC)\n",
    "            #fig, ax1, ax2 = plot_2vars(time, XO, ig_fac_ts_diff, ylim1=[-1.5, 1.5], ylim2=ylim2, \n",
    "            #                           ylabel1=r'sign($dB_N/dL$) [X=1, O=-1]', ylabel2 = r'd/dt ig_fac $[A/m^2/s]$', \n",
    "            ylim2 = [-2e-7, 2e-7]   # for FAC\n",
    "            fig, ax1, ax2 = plot_2vars(time, XO, ig_fac_ts[:, ind_ig_plot], ylim1=[-1.5, 1.5], ylim2=ylim2, \n",
    "                                       ylabel1=r'sign($dB_N/dL$) [X=1, O=-1]', ylabel2 = r'ig_fac $[A/m^2]$', \n",
    "            #ylim2 = [-2e-5, 2e-5]   # for E-field\n",
    "            #fig, ax1, ax2 = plot_2vars(time, XO, ig_E_east_ts[:, ind_ig_plot], ylim1=[-1.5, 1.5], ylim2=ylim2, \n",
    "            #                           ylabel1=r'sign($dB_N/dL$) [X=1, O=-1]', ylabel2 = r'E_north $[V/m]$', \n",
    "                                       label1= 'M-sphere {} RE'.format(np.array2string(vg_coordinates[i_m, :] / R_EARTH, precision = 2)), \n",
    "                                       label2= 'I-sphere {} RE'.format(np.array2string(ig_coordinates[ind_ig_plot, :] / R_EARTH, precision=2)))\n",
    "            for i_FTE in ind_FTE:   # XO lines (vertical markers)\n",
    "                ax2.plot([START + i_FTE, START + i_FTE], ylim2, linestyle ='--', color = 'C2')\n",
    "            plt.savefig('/wrk-vakka/users/horakons/carrington/plots/FHA/mp_io_coupling/mp_io_{}_vg_{}_ig_{}_cid_{}.png'.format(run, i_m, ind_ig_plot, cid))\n",
    "            plt.close()\n",
    "\n",
    "ccf_max\n",
    "#ind_mpause.size\n"
   ]
  },
  {
   "cell_type": "code",
   "execution_count": null,
   "metadata": {},
   "outputs": [],
   "source": [
    "\n",
    "\n",
    "# loop through ionosphere points (in ig grid), to see which are most correlated with the vg test point\n",
    "ig_n = ig_coordinates.shape[0]\n",
    "ig_ccfs = np.zeros(ig_n)\n",
    "#XO, ind_FTE = calc_XO_FTE(ind_vg_plot, vg_coordinates, vg_lmn_nld_ts, vg_dBNdL_ts, nld = nld, r_range = [vg_r[ind_vg_plot]-R_EARTH, vg_r[ind_vg_plot]+R_EARTH], cleanup=True, nulls = 'O')\n",
    "XO, ind_FTE = calc_XO_FTE(ind_vg_plot, vg_coordinates, vg_lmn_nld_ts, vg_dBNdL_ts, nld = nld, r_range = None, cleanup=True, nulls = 'O')\n",
    "\n",
    "\n",
    "ccf_max = 0.\n",
    "\n",
    "\n",
    "for i_i in range(ig_n):\n",
    "    #calculate cross correlation\n",
    "    ig_fac_ts_diff = np.diff(ig_fac_ts[:, i_i], prepend=ig_fac_ts[0, i_i])   # d(FAC)/dt, \n",
    "    #ccf = sm.tsa.stattools.ccf(XO,  ig_fac_ts_diff, adjusted=False)\n",
    "    ccf = sm.tsa.stattools.ccf(XO,  ig_fac_ts[:, i_i], adjusted=False)\n",
    "    ccf_temp = np.nanmax(np.abs(ccf))\n",
    "    ig_ccfs[i_i] = ccf_temp\n",
    "    if ccf_temp > ccf_max:\n",
    "        ccf_max = np.nanmax([ccf_max, ccf_temp])\n",
    "        print(i_i, ccf_max)\n",
    "        ylim2 = [-1e-7, 1e-7]\n",
    "        fig, ax1, ax2 = plot_2vars(time, XO, ig_fac_ts[:, i_i], ylim1=[-1.5, 1.5], ylim2=ylim2, \n",
    "                                   ylabel1=r'sign($dB_N/dL$) [X=1, O=-1]', ylabel2 = r'ig_fac $[A/m^2]$', \n",
    "        #fig, ax1, ax2 = plot_2vars(time, XO, ig_fac_ts_diff, ylim1=[-1.5, 1.5], ylim2=ylim2, \n",
    "        #                           ylabel1=r'sign($dB_N/dL$) [X=1, O=-1]', ylabel2 = r'ig_fac $[A/m^2]$', \n",
    "        #ylim2 = [-2e-7, 2e-7]   # for FAC\n",
    "        #fig, ax1, ax2 = plot_2vars(time, XO, ig_fac_ts[:, ind_ig_plot], ylim1=[-1.5, 1.5], ylim2=ylim2, \n",
    "        #                            ylabel1=r'sign($dB_N/dL$) [X=1, O=-1]', ylabel2 = r'ig_fac $[A/m^2]$', \n",
    "        #ylim2 = [-2e-5, 2e-5]   # for E-field\n",
    "        #fig, ax1, ax2 = plot_2vars(time, XO, ig_E_east_ts[:, ind_ig_plot], ylim1=[-1.5, 1.5], ylim2=ylim2, \n",
    "        #                            ylabel1=r'sign($dB_N/dL$) [X=1, O=-1]', ylabel2 = r'E_north $[V/m]$', \n",
    "                                    label1= 'M-sphere {} RE'.format(np.array2string(vg_testcoord / R_EARTH), precision = 2), \n",
    "                                    label2= 'I-sphere {} RE'.format(np.array2string(ig_coordinates[i_i, :] / R_EARTH), precision=2))\n",
    "        for i_FTE in ind_FTE:   # XO lines (vertical markers)\n",
    "            ax2.plot([START + i_FTE, START + i_FTE], ylim2, linestyle ='--', color = 'C2')\n",
    "        plt.savefig('/wrk-vakka/users/horakons/carrington/plots/FHA/mp_io_coupling/mp_io_{}_ig_{}.png'.format(run, i_i))\n",
    "        plt.close()\n",
    "\n",
    "ccf_max\n"
   ]
  },
  {
   "cell_type": "code",
   "execution_count": null,
   "metadata": {},
   "outputs": [],
   "source": [
    "vg_coordinates.shape"
   ]
  },
  {
   "cell_type": "code",
   "execution_count": 13,
   "metadata": {},
   "outputs": [],
   "source": [
    "#fw[0,242520,:] / R_EARTH"
   ]
  },
  {
   "cell_type": "code",
   "execution_count": null,
   "metadata": {},
   "outputs": [],
   "source": [
    "242520 in ind_mpause"
   ]
  },
  {
   "cell_type": "code",
   "execution_count": null,
   "metadata": {},
   "outputs": [],
   "source": [
    "np.linalg.norm(vg_coordinates[242520,:]/R_EARTH)"
   ]
  },
  {
   "cell_type": "code",
   "execution_count": null,
   "metadata": {},
   "outputs": [],
   "source": [
    "ig_ccfs.shape\n",
    "i = np.argmin(np.abs(ig_ccfs - 0.10897546723564523))\n",
    "ig_ccfs[i]\n",
    "ig_coordinates[i]/R_EARTH\n",
    "#fw[7, 2425420,:]/R_EARTH\n",
    "#np.arctan(1.007 / 0.123) * 180 / np.pi\n"
   ]
  },
  {
   "cell_type": "code",
   "execution_count": 17,
   "metadata": {},
   "outputs": [],
   "source": [
    "n_ig = ig_fac_ts.shape[1]\n",
    "ig_ig_ccfs = np.zeros(n_ig)\n",
    "for i in range(n_ig):\n",
    "    ig_ig_ccfs[i] = np.nanmax(np.abs(sm.tsa.stattools.ccf(ig_fac_ts[:, i],  ig_fac_ts[:, ind_ig_plot], adjusted=False)))\n",
    "\n"
   ]
  },
  {
   "cell_type": "code",
   "execution_count": null,
   "metadata": {},
   "outputs": [],
   "source": [
    "ig_coordinates.shape\n",
    "ig_r, ig_theta, ig_phi = cartesian_to_spherical(ig_coordinates[:,0], ig_coordinates[:,1], ig_coordinates[:,2])\n",
    "plt.scatter(ig_phi, ig_theta)"
   ]
  },
  {
   "cell_type": "code",
   "execution_count": null,
   "metadata": {},
   "outputs": [],
   "source": [
    "import matplotlib.pyplot as plt\n",
    "import numpy as np\n",
    "from scipy.interpolate import griddata\n",
    "\n",
    "# data coordinates and values\n",
    "x = ig_phi*180 /np.pi\n",
    "y = ig_theta*180 / np.pi\n",
    "z = ig_ig_ccfs\n",
    "\n",
    "dphi = 0.2\n",
    "dtheta = 0.2\n",
    "# target grid to interpolate to\n",
    "xi = np.arange(-180,180,dphi)\n",
    "yi = np.arange(0,180,dtheta)\n",
    "xi,yi = np.meshgrid(xi,yi)\n",
    "\n",
    "# set mask\n",
    "#mask = (xi > 0.5) & (xi < 0.6) & (yi > 0.5) & (yi < 0.6)\n",
    "\n",
    "# interpolate\n",
    "zi = griddata((x,y),z,(xi,yi),method='linear')\n",
    "\n",
    "# mask out the field\n",
    "#zi[mask] = np.nan\n",
    "\n",
    "# plot\n",
    "fig = plt.figure()\n",
    "ax = fig.add_subplot(111)\n",
    "plt.contourf(xi,yi,zi,np.arange(0,1.01,0.01), cmap='plasma')\n",
    "#plt.plot(x,y,'k.')\n",
    "plt.xlabel(r'$\\phi$',fontsize=16)\n",
    "plt.ylabel(r'$\\theta$',fontsize=16)\n",
    "#plt.savefig('interpolated.png',dpi=100)\n",
    "#plt.close(fig)"
   ]
  },
  {
   "cell_type": "code",
   "execution_count": null,
   "metadata": {},
   "outputs": [],
   "source": [
    "import numpy as np\n",
    "import matplotlib.pyplot as plt\n",
    "import mpl_toolkits.mplot3d.axes3d as axes3d\n",
    "from matplotlib import cm\n",
    "\n",
    "#theta, phi = np.linspace(0, 2 * np.pi, 40), np.linspace(0, np.pi, 40)\n",
    "#THETA, PHI = np.meshgrid(theta, phi)\n",
    "deg2rad = np.pi/180.\n",
    "R = yi*0 + R_EARTH\n",
    "X = R * np.sin(yi*deg2rad) * np.cos(xi*deg2rad)\n",
    "Y = R * np.sin(yi*deg2rad) * np.sin(xi*deg2rad)\n",
    "Z = R * np.cos(yi*deg2rad)\n",
    "fig = plt.figure()\n",
    "ax = fig.add_subplot(1,1,1, projection='3d')\n",
    "\n",
    "norm = matplotlib.colors.Normalize(vmin=0, vmax=1)\n",
    "#ax.plot_surface(X, Y, Z, facecolors=plt.cm.jet(norm(zi)))\n",
    "m = cm.ScalarMappable(cmap=plt.cm.plasma, norm=norm)\n",
    "m.set_array([])\n",
    "plt.colorbar(m)\n",
    "\n",
    "ax.set_xlabel(r'x [$R_E$]')\n",
    "ax.set_ylabel(r'y [$R_E$]')\n",
    "ax.set_zlabel(r'z [$R_E$]')\n",
    "\n",
    "ax.view_init(elev=80., azim=20)\n",
    "plot = ax.plot_surface(\n",
    "    X, Y, Z, rstride=1, cstride=1, cmap=plt.get_cmap('plasma'),\n",
    "    linewidth=0, antialiased=False, alpha=0.5, facecolors=plt.cm.plasma(norm(zi)))\n",
    "\n",
    "plt.show()"
   ]
  },
  {
   "cell_type": "code",
   "execution_count": null,
   "metadata": {},
   "outputs": [],
   "source": [
    "import matplotlib.pyplot as plt\n",
    "import numpy as np\n",
    "\n",
    "# setting up 'polar' projection and plotting\n",
    "ax = plt.subplot(111, projection='polar')\n",
    "#ax1.set_xticklabels(list(np.arange(18, 24, 3)) + list(np.arange(0, 18, 3)))\n",
    "ax.set_xticks(list(np.arange(0, 2*np.pi, np.pi / 4)))\n",
    "ax.set_xticklabels(list(np.arange(6, 24, 3)) + list(np.arange(0, 6, 3)))\n",
    "\n",
    "i_thetamax = int(30./dtheta)\n",
    "# plot northern polar cap (rotate by ninety-degrees so noon is at the top)\n",
    "plt.pcolor(xi[0:i_thetamax,:]*deg2rad+ np.pi/2, yi[0:i_thetamax,:], zi[0:i_thetamax,:], cmap='plasma')\n",
    "\n",
    "# overplot single point\n",
    "plt.scatter(ig_phi[ind_ig_plot]+np.pi/2., ig_theta[ind_ig_plot]*180/np.pi, color = 'black')\n",
    "\n",
    "plt.show()"
   ]
  },
  {
   "cell_type": "code",
   "execution_count": null,
   "metadata": {},
   "outputs": [],
   "source": [
    "plt.plot(plt.cm.jet(norm(zi)).flatten())"
   ]
  },
  {
   "cell_type": "code",
   "execution_count": null,
   "metadata": {},
   "outputs": [],
   "source": [
    "xi.shape"
   ]
  },
  {
   "cell_type": "code",
   "execution_count": null,
   "metadata": {},
   "outputs": [],
   "source": []
  },
  {
   "cell_type": "code",
   "execution_count": null,
   "metadata": {},
   "outputs": [],
   "source": [
    "ind_mpause = np.where((vg_coordinates[:,0] > 0) & (vg_r > 8*R_EARTH) & (vg_r < 17*R_EARTH))[0]\n",
    "ind_mpause.size"
   ]
  },
  {
   "cell_type": "code",
   "execution_count": null,
   "metadata": {},
   "outputs": [],
   "source": [
    "ind_mpause.tolist()"
   ]
  },
  {
   "cell_type": "code",
   "execution_count": 2,
   "metadata": {},
   "outputs": [],
   "source": []
  },
  {
   "cell_type": "code",
   "execution_count": null,
   "metadata": {},
   "outputs": [],
   "source": [
    "3"
   ]
  },
  {
   "cell_type": "code",
   "execution_count": null,
   "metadata": {},
   "outputs": [],
   "source": [
    "dct_XO_sidecar['CellID']"
   ]
  },
  {
   "cell_type": "code",
   "execution_count": null,
   "metadata": {},
   "outputs": [],
   "source": [
    "print(np.min(vg_coordinates_ts[0,:,:]-vg_coordinates_ts[1,:,:]) )"
   ]
  },
  {
   "cell_type": "code",
   "execution_count": null,
   "metadata": {},
   "outputs": [],
   "source": []
  }
 ],
 "metadata": {
  "kernelspec": {
   "display_name": "myconda",
   "language": "python",
   "name": "myconda"
  }
 },
 "nbformat": 4,
 "nbformat_minor": 2
}
